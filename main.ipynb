{
 "cells": [
  {
   "cell_type": "markdown",
   "metadata": {},
   "source": [
    "## Project Workflow: Global Shark Attacks Data Analysis\n",
    "\n",
    "### 1. Data Load\n",
    "\n",
    "- 1.1. Import necessary libraries.\n",
    "- 1.2. Load the dataset.\n",
    "\n",
    "### 2. Data Exploration\n",
    "\n",
    "- 2.1. Check the shape of the dataset, Duplicate Rows Number, Duplicate Rows Number.\n",
    "- 2.2. Assess data quality: identify missing values and % of missing values.\n",
    "- 2.3. Indentify the structure of the dataset (numerical vs. categorical data).\n",
    "\n",
    "### 3. Data Cleaning\n",
    "\n",
    "#### 3.1. Standardize Column Names\n",
    "\n",
    "- 3.1.1. Remove leading and trailing spaces and underscores.\n",
    "- 3.1.2. Replace non-alphanumeric characters with underscores.\n",
    "- 3.1.3. Convert column names to lowercase.\n",
    "\n",
    "#### 3.2. Dealing with Duplicates\n",
    "\n",
    "- 3.2.1. Identify duplicate entries.\n",
    "- 3.2.2. Remove duplicates.\n",
    "\n",
    "#### 3.3. Correcting Data Types\n",
    "\n",
    "- 3.3.1. Ensure columns have the correct data types.\n",
    "- 3.3.2. Parse dates: Convert strings to datetime objects.\n",
    "- 3.3.3.Parse time from col 'time' and aggregate results in bins 'Morning', 'Day', 'Evening', 'Night'\n",
    "\n",
    "#### 3.4. Handling Missing Values\n",
    "\n",
    "- 3.4.1. Identify missing data.\n",
    "- 3.4.2. Delete rows that have 99.99% missing data, and irrelevant cols: 'href_formula','href', 'unnamed_11', 'pdf', 'case_number','case_number_1','original_order'\n",
    "- 3.4.3. Delete rows with missing data, keep rows with at least threshold = 8 non-missing values\n",
    "- 3.4.4. Impute missing values in numerical columns by replacing with the mean, median, or mode\n",
    "- 3.4.5. replace NaN with the last valid observation\n",
    "- 3.4.6. Impute missing values in categorical columns by replacing with the most frequent value (mode) and `'Unknown'`.\n",
    "\n",
    "#### 3.5. Values Correction: Correcting Typos, Handling Synonyms, Standardizing Formats (countries, states, cities etc.)\n",
    "\n",
    "- 3.5.1. Values correction in 'activity' col\n",
    "- 3.5.2. correction typos in the col 'type'\n",
    "- 3.5.3. Format spelling in col col 'country'\n",
    "- 3.5.4. Format spelling in col 'state'\n",
    "- 3.5.5. Values correction in the col 'sex'\n",
    "- 3.5.6. Insert col 'Fatal_status' with extracted data from col 'injury'\n",
    "- 3.5.7. Values correction in the col 'injury', insert col 'injury_type'\n",
    "- 3.5.8. Values correction in the col 'species'\n",
    "\n",
    "#### 3.6. Handling Outliers\n",
    "\n",
    "- 3.6.1. Identify outliers using methods like box plots\n",
    "- 3.6.2. Cap outliers by replacing them with a cap value(95th or 99th percentile)\n",
    "- 3.6.3. Remove outliers if they are errors or irrelevant.\n",
    "\n",
    "### 4. Visualizations\n",
    "\n",
    "- 4.1. Attacks number by year (line graph)\n",
    "- 4.2. Attacks number per Activity (bar chart)\n",
    "- 4.3. Attacks number per Countries/States (bar chart)\n",
    "- 4.4. Attacks counts per Months (bar chart)\n",
    "- 4.5. Victims by 'age_group' (make bins, bar chart)\n",
    "- 4.6. Attacks by time of the day (pie chart)\n",
    "- 4.7. Victims by 'sex' (staked bar chart)\n",
    "- 4.8. Fatality status (pie chart)\n"
   ]
  },
  {
   "cell_type": "markdown",
   "metadata": {},
   "source": [
    "---\n"
   ]
  },
  {
   "cell_type": "markdown",
   "metadata": {},
   "source": [
    "### 1. Data Load\n",
    "\n",
    "#### 1.1. Import necessary libraries.\n"
   ]
  },
  {
   "cell_type": "code",
   "execution_count": 45,
   "metadata": {},
   "outputs": [],
   "source": [
    "import pandas as pd\n",
    "import xlrd  # import csv/excel file\n",
    "import re  # regex\n",
    "import matplotlib.pyplot as plt  # for box plot outliers\n",
    "import plotly.express as px  # for visualizations\n",
    "import seaborn as sns  # for visualizations"
   ]
  },
  {
   "cell_type": "markdown",
   "metadata": {},
   "source": [
    "#### 1.2. Load the dataset.\n"
   ]
  },
  {
   "cell_type": "code",
   "execution_count": 46,
   "metadata": {},
   "outputs": [
    {
     "data": {
      "text/html": [
       "<div>\n",
       "<style scoped>\n",
       "    .dataframe tbody tr th:only-of-type {\n",
       "        vertical-align: middle;\n",
       "    }\n",
       "\n",
       "    .dataframe tbody tr th {\n",
       "        vertical-align: top;\n",
       "    }\n",
       "\n",
       "    .dataframe thead th {\n",
       "        text-align: right;\n",
       "    }\n",
       "</style>\n",
       "<table border=\"1\" class=\"dataframe\">\n",
       "  <thead>\n",
       "    <tr style=\"text-align: right;\">\n",
       "      <th></th>\n",
       "      <th>Date</th>\n",
       "      <th>Year</th>\n",
       "      <th>Type</th>\n",
       "      <th>Country</th>\n",
       "      <th>State</th>\n",
       "      <th>Location</th>\n",
       "      <th>Activity</th>\n",
       "      <th>Name</th>\n",
       "      <th>Sex</th>\n",
       "      <th>Age</th>\n",
       "      <th>...</th>\n",
       "      <th>Unnamed: 11</th>\n",
       "      <th>Time</th>\n",
       "      <th>Species</th>\n",
       "      <th>Source</th>\n",
       "      <th>pdf</th>\n",
       "      <th>href formula</th>\n",
       "      <th>href</th>\n",
       "      <th>Case Number</th>\n",
       "      <th>Case Number.1</th>\n",
       "      <th>original order</th>\n",
       "    </tr>\n",
       "  </thead>\n",
       "  <tbody>\n",
       "    <tr>\n",
       "      <th>0</th>\n",
       "      <td>15-Mar-24</td>\n",
       "      <td>2024.0</td>\n",
       "      <td>Unprovoked</td>\n",
       "      <td>AUSTRALIA</td>\n",
       "      <td>Queensland</td>\n",
       "      <td>Bargara Beach</td>\n",
       "      <td>Swimming</td>\n",
       "      <td>Brooklyn Sauer</td>\n",
       "      <td>F</td>\n",
       "      <td>13</td>\n",
       "      <td>...</td>\n",
       "      <td>NaN</td>\n",
       "      <td>16h00</td>\n",
       "      <td>Tiger shark</td>\n",
       "      <td>Yahoo News, 3/15/2024</td>\n",
       "      <td>NaN</td>\n",
       "      <td>NaN</td>\n",
       "      <td>NaN</td>\n",
       "      <td>NaN</td>\n",
       "      <td>NaN</td>\n",
       "      <td>NaN</td>\n",
       "    </tr>\n",
       "    <tr>\n",
       "      <th>1</th>\n",
       "      <td>04-Mar-24</td>\n",
       "      <td>2024.0</td>\n",
       "      <td>Unprovoked</td>\n",
       "      <td>USA</td>\n",
       "      <td>Hawaii</td>\n",
       "      <td>Old Man's, Waikiki</td>\n",
       "      <td>Surfing</td>\n",
       "      <td>Matthew White</td>\n",
       "      <td>M</td>\n",
       "      <td>NaN</td>\n",
       "      <td>...</td>\n",
       "      <td>N</td>\n",
       "      <td>NaN</td>\n",
       "      <td>Tiger shark 8'</td>\n",
       "      <td>Surfer, 3/6/2024F</td>\n",
       "      <td>NaN</td>\n",
       "      <td>NaN</td>\n",
       "      <td>NaN</td>\n",
       "      <td>NaN</td>\n",
       "      <td>NaN</td>\n",
       "      <td>NaN</td>\n",
       "    </tr>\n",
       "    <tr>\n",
       "      <th>2</th>\n",
       "      <td>02-Mar-24</td>\n",
       "      <td>2024.0</td>\n",
       "      <td>Unprovoked</td>\n",
       "      <td>USA</td>\n",
       "      <td>Hawaii</td>\n",
       "      <td>Rainbows, Oahu</td>\n",
       "      <td>Swimming</td>\n",
       "      <td>NaN</td>\n",
       "      <td>F</td>\n",
       "      <td>11</td>\n",
       "      <td>...</td>\n",
       "      <td>N</td>\n",
       "      <td>13h30</td>\n",
       "      <td>3' to 4' shark</td>\n",
       "      <td>Hawaii News Now, 3/4/2024</td>\n",
       "      <td>NaN</td>\n",
       "      <td>NaN</td>\n",
       "      <td>NaN</td>\n",
       "      <td>NaN</td>\n",
       "      <td>NaN</td>\n",
       "      <td>NaN</td>\n",
       "    </tr>\n",
       "    <tr>\n",
       "      <th>3</th>\n",
       "      <td>25-Feb-24</td>\n",
       "      <td>2024.0</td>\n",
       "      <td>Unprovoked</td>\n",
       "      <td>AUSTRALIA</td>\n",
       "      <td>Western Australia</td>\n",
       "      <td>Sandlnd Island, Jurian Bay</td>\n",
       "      <td>NaN</td>\n",
       "      <td>female</td>\n",
       "      <td>F</td>\n",
       "      <td>46</td>\n",
       "      <td>...</td>\n",
       "      <td>N</td>\n",
       "      <td>11h30</td>\n",
       "      <td>Tiger shark</td>\n",
       "      <td>WA Today, 2/26/2024</td>\n",
       "      <td>NaN</td>\n",
       "      <td>NaN</td>\n",
       "      <td>NaN</td>\n",
       "      <td>NaN</td>\n",
       "      <td>NaN</td>\n",
       "      <td>NaN</td>\n",
       "    </tr>\n",
       "    <tr>\n",
       "      <th>4</th>\n",
       "      <td>14-Feb-24</td>\n",
       "      <td>2024.0</td>\n",
       "      <td>Unprovoked</td>\n",
       "      <td>INDIA</td>\n",
       "      <td>Maharashtra</td>\n",
       "      <td>Vaitarna River, Palghar District</td>\n",
       "      <td>Fishing</td>\n",
       "      <td>Vicky Suresh Govari</td>\n",
       "      <td>M</td>\n",
       "      <td>32</td>\n",
       "      <td>...</td>\n",
       "      <td>N</td>\n",
       "      <td>NaN</td>\n",
       "      <td>Bull shark, 7'</td>\n",
       "      <td>Times of India, 2/14/2024</td>\n",
       "      <td>NaN</td>\n",
       "      <td>NaN</td>\n",
       "      <td>NaN</td>\n",
       "      <td>NaN</td>\n",
       "      <td>NaN</td>\n",
       "      <td>NaN</td>\n",
       "    </tr>\n",
       "  </tbody>\n",
       "</table>\n",
       "<p>5 rows × 21 columns</p>\n",
       "</div>"
      ],
      "text/plain": [
       "        Date    Year        Type    Country              State  \\\n",
       "0  15-Mar-24  2024.0  Unprovoked  AUSTRALIA         Queensland   \n",
       "1  04-Mar-24  2024.0  Unprovoked        USA             Hawaii   \n",
       "2  02-Mar-24  2024.0  Unprovoked        USA             Hawaii   \n",
       "3  25-Feb-24  2024.0  Unprovoked  AUSTRALIA  Western Australia   \n",
       "4  14-Feb-24  2024.0  Unprovoked      INDIA        Maharashtra   \n",
       "\n",
       "                           Location  Activity                 Name Sex  Age  \\\n",
       "0                     Bargara Beach  Swimming       Brooklyn Sauer   F   13   \n",
       "1                Old Man's, Waikiki   Surfing        Matthew White   M  NaN   \n",
       "2                    Rainbows, Oahu  Swimming                  NaN   F   11   \n",
       "3        Sandlnd Island, Jurian Bay       NaN               female   F   46   \n",
       "4  Vaitarna River, Palghar District   Fishing  Vicky Suresh Govari   M   32   \n",
       "\n",
       "   ... Unnamed: 11   Time        Species                      Source  pdf  \\\n",
       "0  ...         NaN  16h00     Tiger shark      Yahoo News, 3/15/2024  NaN   \n",
       "1  ...           N    NaN  Tiger shark 8'          Surfer, 3/6/2024F  NaN   \n",
       "2  ...           N  13h30  3' to 4' shark  Hawaii News Now, 3/4/2024  NaN   \n",
       "3  ...           N  11h30     Tiger shark        WA Today, 2/26/2024  NaN   \n",
       "4  ...           N    NaN  Bull shark, 7'  Times of India, 2/14/2024  NaN   \n",
       "\n",
       "  href formula href Case Number Case Number.1 original order  \n",
       "0          NaN  NaN         NaN           NaN            NaN  \n",
       "1          NaN  NaN         NaN           NaN            NaN  \n",
       "2          NaN  NaN         NaN           NaN            NaN  \n",
       "3          NaN  NaN         NaN           NaN            NaN  \n",
       "4          NaN  NaN         NaN           NaN            NaN  \n",
       "\n",
       "[5 rows x 21 columns]"
      ]
     },
     "execution_count": 46,
     "metadata": {},
     "output_type": "execute_result"
    }
   ],
   "source": [
    "# import dataset\n",
    "df = pd.read_csv('../eda_sharks_project/data/raw_data/GSAF5.csv')\n",
    "df.head()"
   ]
  },
  {
   "cell_type": "markdown",
   "metadata": {},
   "source": [
    "### 2. Data Exploration\n",
    "\n",
    "#### 2.1. Check the shape of the dataset, Duplicate Rows Number, Duplicate Rows Number.\n"
   ]
  },
  {
   "cell_type": "code",
   "execution_count": 47,
   "metadata": {},
   "outputs": [
    {
     "name": "stdout",
     "output_type": "stream",
     "text": [
      "\n",
      "Shape of the DataFrame:\n",
      "\n",
      "(6969, 21)\n",
      "\n",
      "Duplicate Rows Number:\n",
      "\n",
      "24\n",
      "\n",
      "Summary Statistics:\n",
      "\n",
      "              Year  original order\n",
      "count  6942.000000     6799.000000\n",
      "mean   1934.403342     3401.152081\n",
      "std     272.920956     1963.076319\n",
      "min       0.000000        2.000000\n",
      "25%    1947.000000     1701.500000\n",
      "50%    1985.000000     3401.000000\n",
      "75%    2009.000000     5100.500000\n",
      "max    2024.000000     6802.000000\n"
     ]
    }
   ],
   "source": [
    "# 2.1. Perform initial data check:\n",
    "def initial_data_checking(df):\n",
    "    # Print the shape of the DataFrame (number of rows and columns)\n",
    "    print(\"\\nShape of the DataFrame:\\n\")\n",
    "    print(df.shape)\n",
    "\n",
    "    # Print the count of duplicate rows\n",
    "    print(\"\\nDuplicate Rows Number:\\n\")\n",
    "    print(df.duplicated().sum())\n",
    "\n",
    "    # Print summary statistics for numerical columns\n",
    "    print(\"\\nSummary Statistics:\\n\")\n",
    "    print(df.describe())\n",
    "\n",
    "\n",
    "initial_data_checking(df)"
   ]
  },
  {
   "cell_type": "markdown",
   "metadata": {},
   "source": [
    "#### 2.2. Assess data quality: identify missing values and % of missing values.\n"
   ]
  },
  {
   "cell_type": "code",
   "execution_count": 48,
   "metadata": {},
   "outputs": [
    {
     "data": {
      "text/html": [
       "<div>\n",
       "<style scoped>\n",
       "    .dataframe tbody tr th:only-of-type {\n",
       "        vertical-align: middle;\n",
       "    }\n",
       "\n",
       "    .dataframe tbody tr th {\n",
       "        vertical-align: top;\n",
       "    }\n",
       "\n",
       "    .dataframe thead th {\n",
       "        text-align: right;\n",
       "    }\n",
       "</style>\n",
       "<table border=\"1\" class=\"dataframe\">\n",
       "  <thead>\n",
       "    <tr style=\"text-align: right;\">\n",
       "      <th></th>\n",
       "      <th>non-Null_count</th>\n",
       "      <th>dtype</th>\n",
       "      <th>unique_values</th>\n",
       "      <th>%_unique</th>\n",
       "      <th>missing_values</th>\n",
       "      <th>%_missing</th>\n",
       "    </tr>\n",
       "  </thead>\n",
       "  <tbody>\n",
       "    <tr>\n",
       "      <th>Date</th>\n",
       "      <td>6944</td>\n",
       "      <td>object</td>\n",
       "      <td>5912</td>\n",
       "      <td>84.83%</td>\n",
       "      <td>25</td>\n",
       "      <td>0.36%</td>\n",
       "    </tr>\n",
       "    <tr>\n",
       "      <th>Year</th>\n",
       "      <td>6942</td>\n",
       "      <td>float64</td>\n",
       "      <td>259</td>\n",
       "      <td>3.72%</td>\n",
       "      <td>27</td>\n",
       "      <td>0.39%</td>\n",
       "    </tr>\n",
       "    <tr>\n",
       "      <th>Type</th>\n",
       "      <td>6926</td>\n",
       "      <td>object</td>\n",
       "      <td>12</td>\n",
       "      <td>0.17%</td>\n",
       "      <td>43</td>\n",
       "      <td>0.62%</td>\n",
       "    </tr>\n",
       "    <tr>\n",
       "      <th>Country</th>\n",
       "      <td>6894</td>\n",
       "      <td>object</td>\n",
       "      <td>225</td>\n",
       "      <td>3.23%</td>\n",
       "      <td>75</td>\n",
       "      <td>1.08%</td>\n",
       "    </tr>\n",
       "    <tr>\n",
       "      <th>State</th>\n",
       "      <td>6462</td>\n",
       "      <td>object</td>\n",
       "      <td>902</td>\n",
       "      <td>12.94%</td>\n",
       "      <td>507</td>\n",
       "      <td>7.28%</td>\n",
       "    </tr>\n",
       "    <tr>\n",
       "      <th>Location</th>\n",
       "      <td>6379</td>\n",
       "      <td>object</td>\n",
       "      <td>4514</td>\n",
       "      <td>64.77%</td>\n",
       "      <td>590</td>\n",
       "      <td>8.47%</td>\n",
       "    </tr>\n",
       "    <tr>\n",
       "      <th>Activity</th>\n",
       "      <td>6358</td>\n",
       "      <td>object</td>\n",
       "      <td>1587</td>\n",
       "      <td>22.77%</td>\n",
       "      <td>611</td>\n",
       "      <td>8.77%</td>\n",
       "    </tr>\n",
       "    <tr>\n",
       "      <th>Name</th>\n",
       "      <td>6724</td>\n",
       "      <td>object</td>\n",
       "      <td>5683</td>\n",
       "      <td>81.55%</td>\n",
       "      <td>245</td>\n",
       "      <td>3.52%</td>\n",
       "    </tr>\n",
       "    <tr>\n",
       "      <th>Sex</th>\n",
       "      <td>6365</td>\n",
       "      <td>object</td>\n",
       "      <td>8</td>\n",
       "      <td>0.11%</td>\n",
       "      <td>604</td>\n",
       "      <td>8.67%</td>\n",
       "    </tr>\n",
       "    <tr>\n",
       "      <th>Age</th>\n",
       "      <td>3950</td>\n",
       "      <td>object</td>\n",
       "      <td>163</td>\n",
       "      <td>2.34%</td>\n",
       "      <td>3019</td>\n",
       "      <td>43.32%</td>\n",
       "    </tr>\n",
       "    <tr>\n",
       "      <th>Injury</th>\n",
       "      <td>6909</td>\n",
       "      <td>object</td>\n",
       "      <td>4079</td>\n",
       "      <td>58.53%</td>\n",
       "      <td>60</td>\n",
       "      <td>0.86%</td>\n",
       "    </tr>\n",
       "    <tr>\n",
       "      <th>Unnamed: 11</th>\n",
       "      <td>6382</td>\n",
       "      <td>object</td>\n",
       "      <td>12</td>\n",
       "      <td>0.17%</td>\n",
       "      <td>587</td>\n",
       "      <td>8.42%</td>\n",
       "    </tr>\n",
       "    <tr>\n",
       "      <th>Time</th>\n",
       "      <td>3418</td>\n",
       "      <td>object</td>\n",
       "      <td>410</td>\n",
       "      <td>5.88%</td>\n",
       "      <td>3551</td>\n",
       "      <td>50.95%</td>\n",
       "    </tr>\n",
       "    <tr>\n",
       "      <th>Species</th>\n",
       "      <td>3812</td>\n",
       "      <td>object</td>\n",
       "      <td>1675</td>\n",
       "      <td>24.04%</td>\n",
       "      <td>3157</td>\n",
       "      <td>45.3%</td>\n",
       "    </tr>\n",
       "    <tr>\n",
       "      <th>Source</th>\n",
       "      <td>6925</td>\n",
       "      <td>object</td>\n",
       "      <td>5302</td>\n",
       "      <td>76.08%</td>\n",
       "      <td>44</td>\n",
       "      <td>0.63%</td>\n",
       "    </tr>\n",
       "    <tr>\n",
       "      <th>pdf</th>\n",
       "      <td>6799</td>\n",
       "      <td>object</td>\n",
       "      <td>6789</td>\n",
       "      <td>97.42%</td>\n",
       "      <td>170</td>\n",
       "      <td>2.44%</td>\n",
       "    </tr>\n",
       "    <tr>\n",
       "      <th>href formula</th>\n",
       "      <td>6819</td>\n",
       "      <td>object</td>\n",
       "      <td>6785</td>\n",
       "      <td>97.36%</td>\n",
       "      <td>150</td>\n",
       "      <td>2.15%</td>\n",
       "    </tr>\n",
       "    <tr>\n",
       "      <th>href</th>\n",
       "      <td>6796</td>\n",
       "      <td>object</td>\n",
       "      <td>6776</td>\n",
       "      <td>97.23%</td>\n",
       "      <td>173</td>\n",
       "      <td>2.48%</td>\n",
       "    </tr>\n",
       "    <tr>\n",
       "      <th>Case Number</th>\n",
       "      <td>6798</td>\n",
       "      <td>object</td>\n",
       "      <td>6777</td>\n",
       "      <td>97.24%</td>\n",
       "      <td>171</td>\n",
       "      <td>2.45%</td>\n",
       "    </tr>\n",
       "    <tr>\n",
       "      <th>Case Number.1</th>\n",
       "      <td>6797</td>\n",
       "      <td>object</td>\n",
       "      <td>6775</td>\n",
       "      <td>97.22%</td>\n",
       "      <td>172</td>\n",
       "      <td>2.47%</td>\n",
       "    </tr>\n",
       "    <tr>\n",
       "      <th>original order</th>\n",
       "      <td>6799</td>\n",
       "      <td>float64</td>\n",
       "      <td>6797</td>\n",
       "      <td>97.53%</td>\n",
       "      <td>170</td>\n",
       "      <td>2.44%</td>\n",
       "    </tr>\n",
       "  </tbody>\n",
       "</table>\n",
       "</div>"
      ],
      "text/plain": [
       "                non-Null_count    dtype  unique_values %_unique  \\\n",
       "Date                      6944   object           5912   84.83%   \n",
       "Year                      6942  float64            259    3.72%   \n",
       "Type                      6926   object             12    0.17%   \n",
       "Country                   6894   object            225    3.23%   \n",
       "State                     6462   object            902   12.94%   \n",
       "Location                  6379   object           4514   64.77%   \n",
       "Activity                  6358   object           1587   22.77%   \n",
       "Name                      6724   object           5683   81.55%   \n",
       "Sex                       6365   object              8    0.11%   \n",
       "Age                       3950   object            163    2.34%   \n",
       "Injury                    6909   object           4079   58.53%   \n",
       "Unnamed: 11               6382   object             12    0.17%   \n",
       "Time                      3418   object            410    5.88%   \n",
       "Species                   3812   object           1675   24.04%   \n",
       "Source                    6925   object           5302   76.08%   \n",
       "pdf                       6799   object           6789   97.42%   \n",
       "href formula              6819   object           6785   97.36%   \n",
       "href                      6796   object           6776   97.23%   \n",
       "Case Number               6798   object           6777   97.24%   \n",
       "Case Number.1             6797   object           6775   97.22%   \n",
       "original order            6799  float64           6797   97.53%   \n",
       "\n",
       "                missing_values %_missing  \n",
       "Date                        25     0.36%  \n",
       "Year                        27     0.39%  \n",
       "Type                        43     0.62%  \n",
       "Country                     75     1.08%  \n",
       "State                      507     7.28%  \n",
       "Location                   590     8.47%  \n",
       "Activity                   611     8.77%  \n",
       "Name                       245     3.52%  \n",
       "Sex                        604     8.67%  \n",
       "Age                       3019    43.32%  \n",
       "Injury                      60     0.86%  \n",
       "Unnamed: 11                587     8.42%  \n",
       "Time                      3551    50.95%  \n",
       "Species                   3157     45.3%  \n",
       "Source                      44     0.63%  \n",
       "pdf                        170     2.44%  \n",
       "href formula               150     2.15%  \n",
       "href                       173     2.48%  \n",
       "Case Number                171     2.45%  \n",
       "Case Number.1              172     2.47%  \n",
       "original order             170     2.44%  "
      ]
     },
     "execution_count": 48,
     "metadata": {},
     "output_type": "execute_result"
    }
   ],
   "source": [
    "# 2.2. Assess data quality: identify missing values and % of missing values\n",
    "def unique_and_missing_values_dtype(df):\n",
    "    # Non-null counts and data types\n",
    "    non_null_counts = df.notnull().sum()\n",
    "    dtypes = df.dtypes\n",
    "\n",
    "    # Count of unique values\n",
    "    unique_count = df.nunique()\n",
    "\n",
    "    # Percentage of unique values\n",
    "    unique_percentage = (df.nunique() / len(df)) * 100\n",
    "\n",
    "    # Count of missing values\n",
    "    missing_count = df.isnull().sum()\n",
    "\n",
    "    # Percentage of missing values\n",
    "    missing_percentage = df.isnull().mean() * 100\n",
    "\n",
    "    # Combine into a DataFrame\n",
    "    summary = pd.DataFrame({\n",
    "        'non-Null_count': non_null_counts,\n",
    "        'dtype': dtypes,\n",
    "        'unique_values': unique_count,\n",
    "        '%_unique': unique_percentage.round(2).astype(str) + '%',\n",
    "        'missing_values': missing_count,\n",
    "        '%_missing': missing_percentage.round(2).astype(str) + '%'\n",
    "    })\n",
    "\n",
    "    return summary\n",
    "\n",
    "\n",
    "unique_and_missing_values_dtype(df)"
   ]
  },
  {
   "cell_type": "markdown",
   "metadata": {},
   "source": [
    "#### 2.3. Indentify the structure of the dataset (numerical vs. categorical data).\n"
   ]
  },
  {
   "cell_type": "code",
   "execution_count": 49,
   "metadata": {},
   "outputs": [
    {
     "name": "stdout",
     "output_type": "stream",
     "text": [
      "\n",
      "categorical_cols:\n",
      "\n",
      "Index(['Date', 'Type', 'Country', 'State', 'Location', 'Activity', 'Name',\n",
      "       'Sex', 'Age', 'Injury', 'Unnamed: 11', 'Time', 'Species ', 'Source',\n",
      "       'pdf', 'href formula', 'href', 'Case Number', 'Case Number.1'],\n",
      "      dtype='object')\n",
      "\n",
      "numerical_cols:\n",
      "\n",
      "Index(['Year', 'original order'], dtype='object')\n"
     ]
    }
   ],
   "source": [
    "# 2.3.1. Indentify the structure of the dataset (numerical vs. categorical data).. Separate categorical and numerical columns:\n",
    "def separate_columns(df):\n",
    "    categorical_cols = df.select_dtypes(include=['object', 'category']).columns\n",
    "    numerical_cols = df.select_dtypes(include=['number']).columns\n",
    "    print(\"\\ncategorical_cols:\\n\")\n",
    "    print(categorical_cols)\n",
    "    print(\"\\nnumerical_cols:\\n\")\n",
    "    print(numerical_cols)\n",
    "\n",
    "\n",
    "separate_columns(df)"
   ]
  },
  {
   "cell_type": "code",
   "execution_count": 50,
   "metadata": {},
   "outputs": [
    {
     "name": "stdout",
     "output_type": "stream",
     "text": [
      "\n",
      "Numerical Columns Analysis:\n"
     ]
    },
    {
     "data": {
      "text/html": [
       "<div>\n",
       "<style scoped>\n",
       "    .dataframe tbody tr th:only-of-type {\n",
       "        vertical-align: middle;\n",
       "    }\n",
       "\n",
       "    .dataframe tbody tr th {\n",
       "        vertical-align: top;\n",
       "    }\n",
       "\n",
       "    .dataframe thead th {\n",
       "        text-align: right;\n",
       "    }\n",
       "</style>\n",
       "<table border=\"1\" class=\"dataframe\">\n",
       "  <thead>\n",
       "    <tr style=\"text-align: right;\">\n",
       "      <th></th>\n",
       "      <th>Year</th>\n",
       "      <th>original order</th>\n",
       "    </tr>\n",
       "  </thead>\n",
       "  <tbody>\n",
       "    <tr>\n",
       "      <th>count</th>\n",
       "      <td>6942.000000</td>\n",
       "      <td>6799.000000</td>\n",
       "    </tr>\n",
       "    <tr>\n",
       "      <th>mean</th>\n",
       "      <td>1934.403342</td>\n",
       "      <td>3401.152081</td>\n",
       "    </tr>\n",
       "    <tr>\n",
       "      <th>std</th>\n",
       "      <td>272.920956</td>\n",
       "      <td>1963.076319</td>\n",
       "    </tr>\n",
       "    <tr>\n",
       "      <th>min</th>\n",
       "      <td>0.000000</td>\n",
       "      <td>2.000000</td>\n",
       "    </tr>\n",
       "    <tr>\n",
       "      <th>25%</th>\n",
       "      <td>1947.000000</td>\n",
       "      <td>1701.500000</td>\n",
       "    </tr>\n",
       "    <tr>\n",
       "      <th>50%</th>\n",
       "      <td>1985.000000</td>\n",
       "      <td>3401.000000</td>\n",
       "    </tr>\n",
       "    <tr>\n",
       "      <th>75%</th>\n",
       "      <td>2009.000000</td>\n",
       "      <td>5100.500000</td>\n",
       "    </tr>\n",
       "    <tr>\n",
       "      <th>max</th>\n",
       "      <td>2024.000000</td>\n",
       "      <td>6802.000000</td>\n",
       "    </tr>\n",
       "  </tbody>\n",
       "</table>\n",
       "</div>"
      ],
      "text/plain": [
       "              Year  original order\n",
       "count  6942.000000     6799.000000\n",
       "mean   1934.403342     3401.152081\n",
       "std     272.920956     1963.076319\n",
       "min       0.000000        2.000000\n",
       "25%    1947.000000     1701.500000\n",
       "50%    1985.000000     3401.000000\n",
       "75%    2009.000000     5100.500000\n",
       "max    2024.000000     6802.000000"
      ]
     },
     "execution_count": 50,
     "metadata": {},
     "output_type": "execute_result"
    }
   ],
   "source": [
    "# 2.3.2. Detailed Analysis of Numerical Data:\n",
    "def analyze_numerical(df):\n",
    "    # Select numerical columns\n",
    "    numerical_cols = df.select_dtypes(include=['number']).columns\n",
    "    # Perform descriptive analysis on numerical columns\n",
    "    numerical_desc = df[numerical_cols].describe()\n",
    "    # Display the resulting DataFrame\n",
    "    print(\"\\nNumerical Columns Analysis:\")\n",
    "    return numerical_desc\n",
    "\n",
    "\n",
    "analyze_numerical(df)"
   ]
  },
  {
   "cell_type": "code",
   "execution_count": 51,
   "metadata": {},
   "outputs": [
    {
     "name": "stdout",
     "output_type": "stream",
     "text": [
      "\n",
      "Categorical Columns Analysis:\n"
     ]
    },
    {
     "data": {
      "text/html": [
       "<div>\n",
       "<style scoped>\n",
       "    .dataframe tbody tr th:only-of-type {\n",
       "        vertical-align: middle;\n",
       "    }\n",
       "\n",
       "    .dataframe tbody tr th {\n",
       "        vertical-align: top;\n",
       "    }\n",
       "\n",
       "    .dataframe thead th {\n",
       "        text-align: right;\n",
       "    }\n",
       "</style>\n",
       "<table border=\"1\" class=\"dataframe\">\n",
       "  <thead>\n",
       "    <tr style=\"text-align: right;\">\n",
       "      <th></th>\n",
       "      <th>Date</th>\n",
       "      <th>Type</th>\n",
       "      <th>Country</th>\n",
       "      <th>State</th>\n",
       "      <th>Location</th>\n",
       "      <th>Activity</th>\n",
       "      <th>Name</th>\n",
       "      <th>Sex</th>\n",
       "      <th>Age</th>\n",
       "      <th>Injury</th>\n",
       "      <th>Unnamed: 11</th>\n",
       "      <th>Time</th>\n",
       "      <th>Species</th>\n",
       "      <th>Source</th>\n",
       "      <th>pdf</th>\n",
       "      <th>href formula</th>\n",
       "      <th>href</th>\n",
       "      <th>Case Number</th>\n",
       "      <th>Case Number.1</th>\n",
       "    </tr>\n",
       "  </thead>\n",
       "  <tbody>\n",
       "    <tr>\n",
       "      <th>count</th>\n",
       "      <td>6944</td>\n",
       "      <td>6926</td>\n",
       "      <td>6894</td>\n",
       "      <td>6462</td>\n",
       "      <td>6379</td>\n",
       "      <td>6358</td>\n",
       "      <td>6724</td>\n",
       "      <td>6365</td>\n",
       "      <td>3950</td>\n",
       "      <td>6909</td>\n",
       "      <td>6382</td>\n",
       "      <td>3418</td>\n",
       "      <td>3812</td>\n",
       "      <td>6925</td>\n",
       "      <td>6799</td>\n",
       "      <td>6819</td>\n",
       "      <td>6796</td>\n",
       "      <td>6798</td>\n",
       "      <td>6797</td>\n",
       "    </tr>\n",
       "    <tr>\n",
       "      <th>unique</th>\n",
       "      <td>5912</td>\n",
       "      <td>12</td>\n",
       "      <td>225</td>\n",
       "      <td>902</td>\n",
       "      <td>4514</td>\n",
       "      <td>1587</td>\n",
       "      <td>5683</td>\n",
       "      <td>8</td>\n",
       "      <td>163</td>\n",
       "      <td>4079</td>\n",
       "      <td>12</td>\n",
       "      <td>410</td>\n",
       "      <td>1675</td>\n",
       "      <td>5302</td>\n",
       "      <td>6789</td>\n",
       "      <td>6785</td>\n",
       "      <td>6776</td>\n",
       "      <td>6777</td>\n",
       "      <td>6775</td>\n",
       "    </tr>\n",
       "    <tr>\n",
       "      <th>top</th>\n",
       "      <td>1957</td>\n",
       "      <td>Unprovoked</td>\n",
       "      <td>USA</td>\n",
       "      <td>Florida</td>\n",
       "      <td>New Smyrna Beach, Volusia County</td>\n",
       "      <td>Surfing</td>\n",
       "      <td>male</td>\n",
       "      <td>M</td>\n",
       "      <td>17</td>\n",
       "      <td>FATAL</td>\n",
       "      <td>N</td>\n",
       "      <td>Afternoon</td>\n",
       "      <td>White shark</td>\n",
       "      <td>K. McMurray, TrackingSharks.com</td>\n",
       "      <td>1906.09.27.R.a&amp;b-Munich-Swede.pdf</td>\n",
       "      <td>http://sharkattackfile.net/spreadsheets/pdf_di...</td>\n",
       "      <td>http://sharkattackfile.net/spreadsheets/pdf_di...</td>\n",
       "      <td>1907.10.16.R</td>\n",
       "      <td>1907.10.16.R</td>\n",
       "    </tr>\n",
       "    <tr>\n",
       "      <th>freq</th>\n",
       "      <td>11</td>\n",
       "      <td>5107</td>\n",
       "      <td>2538</td>\n",
       "      <td>1178</td>\n",
       "      <td>191</td>\n",
       "      <td>1121</td>\n",
       "      <td>680</td>\n",
       "      <td>5578</td>\n",
       "      <td>173</td>\n",
       "      <td>863</td>\n",
       "      <td>4832</td>\n",
       "      <td>215</td>\n",
       "      <td>194</td>\n",
       "      <td>131</td>\n",
       "      <td>2</td>\n",
       "      <td>25</td>\n",
       "      <td>4</td>\n",
       "      <td>2</td>\n",
       "      <td>2</td>\n",
       "    </tr>\n",
       "  </tbody>\n",
       "</table>\n",
       "</div>"
      ],
      "text/plain": [
       "        Date        Type Country    State                          Location  \\\n",
       "count   6944        6926    6894     6462                              6379   \n",
       "unique  5912          12     225      902                              4514   \n",
       "top     1957  Unprovoked     USA  Florida  New Smyrna Beach, Volusia County   \n",
       "freq      11        5107    2538     1178                               191   \n",
       "\n",
       "       Activity  Name   Sex   Age Injury Unnamed: 11       Time     Species   \\\n",
       "count      6358  6724  6365  3950   6909        6382       3418         3812   \n",
       "unique     1587  5683     8   163   4079          12        410         1675   \n",
       "top     Surfing  male     M    17  FATAL           N  Afternoon  White shark   \n",
       "freq       1121   680  5578   173    863        4832        215          194   \n",
       "\n",
       "                                 Source                                pdf  \\\n",
       "count                              6925                               6799   \n",
       "unique                             5302                               6789   \n",
       "top     K. McMurray, TrackingSharks.com  1906.09.27.R.a&b-Munich-Swede.pdf   \n",
       "freq                                131                                  2   \n",
       "\n",
       "                                             href formula  \\\n",
       "count                                                6819   \n",
       "unique                                               6785   \n",
       "top     http://sharkattackfile.net/spreadsheets/pdf_di...   \n",
       "freq                                                   25   \n",
       "\n",
       "                                                     href   Case Number  \\\n",
       "count                                                6796          6798   \n",
       "unique                                               6776          6777   \n",
       "top     http://sharkattackfile.net/spreadsheets/pdf_di...  1907.10.16.R   \n",
       "freq                                                    4             2   \n",
       "\n",
       "       Case Number.1  \n",
       "count           6797  \n",
       "unique          6775  \n",
       "top     1907.10.16.R  \n",
       "freq               2  "
      ]
     },
     "execution_count": 51,
     "metadata": {},
     "output_type": "execute_result"
    }
   ],
   "source": [
    "# 2.3.3. detailed analysis of categorical cols\n",
    "def analyze_categorical(df):\n",
    "    # Select categorical columns\n",
    "    categorical_cols = df.select_dtypes(include=['object', 'category']).columns\n",
    "    # Perform descriptive analysis on categorical columns\n",
    "    categorical_desc = df[categorical_cols].describe()\n",
    "    # Display the resulting DataFrame\n",
    "    print(\"\\nCategorical Columns Analysis:\")\n",
    "    return categorical_desc\n",
    "\n",
    "\n",
    "analyze_categorical(df)"
   ]
  },
  {
   "cell_type": "markdown",
   "metadata": {},
   "source": [
    "### 3. Data Cleaning\n",
    "\n",
    "#### 3.1. Standardize Column Names\n",
    "\n",
    "- Remove leading and trailing spaces and underscores.\n",
    "- Replace non-alphanumeric characters with underscores.\n",
    "- Convert column names to lowercase.\n"
   ]
  },
  {
   "cell_type": "code",
   "execution_count": 52,
   "metadata": {},
   "outputs": [
    {
     "data": {
      "text/plain": [
       "Index(['date', 'year', 'type', 'country', 'state', 'location', 'activity',\n",
       "       'name', 'sex', 'age', 'injury', 'unnamed_11', 'time', 'species',\n",
       "       'source', 'pdf', 'href_formula', 'href', 'case_number', 'case_number_1',\n",
       "       'original_order'],\n",
       "      dtype='object')"
      ]
     },
     "execution_count": 52,
     "metadata": {},
     "output_type": "execute_result"
    }
   ],
   "source": [
    "# 3.1. Standardize Column Names\n",
    "def format_column_titles(df):\n",
    "    # Define a function to clean a single column name\n",
    "    def clean_column(name):\n",
    "        name = name.strip()  # Remove leading and trailing spaces\n",
    "        # Replace non-alphanumeric characters with underscores\n",
    "        name = re.sub(r'[^0-9a-zA-Z]+', '_', name)\n",
    "        # Replace multiple underscores with a single underscore\n",
    "        name = re.sub(r'_+', '_', name)\n",
    "        name = name.lower()  # Convert to lowercase\n",
    "        return name.strip('_')  # Remove leading and trailing underscores\n",
    "\n",
    "    # Apply the clean_column function to all column names in the DataFrame\n",
    "    df.columns = [clean_column(col) for col in df.columns]\n",
    "    return df.columns\n",
    "\n",
    "\n",
    "format_column_titles(df)"
   ]
  },
  {
   "cell_type": "markdown",
   "metadata": {},
   "source": [
    "#### 3.2. Dealing with Duplicates\n",
    "\n",
    "- Identify duplicate entries.\n",
    "- Remove duplicates.\n"
   ]
  },
  {
   "cell_type": "code",
   "execution_count": 53,
   "metadata": {},
   "outputs": [
    {
     "data": {
      "text/html": [
       "<div>\n",
       "<style scoped>\n",
       "    .dataframe tbody tr th:only-of-type {\n",
       "        vertical-align: middle;\n",
       "    }\n",
       "\n",
       "    .dataframe tbody tr th {\n",
       "        vertical-align: top;\n",
       "    }\n",
       "\n",
       "    .dataframe thead th {\n",
       "        text-align: right;\n",
       "    }\n",
       "</style>\n",
       "<table border=\"1\" class=\"dataframe\">\n",
       "  <thead>\n",
       "    <tr style=\"text-align: right;\">\n",
       "      <th></th>\n",
       "      <th>date</th>\n",
       "      <th>year</th>\n",
       "      <th>type</th>\n",
       "      <th>country</th>\n",
       "      <th>state</th>\n",
       "      <th>location</th>\n",
       "      <th>activity</th>\n",
       "      <th>name</th>\n",
       "      <th>sex</th>\n",
       "      <th>age</th>\n",
       "      <th>...</th>\n",
       "      <th>unnamed_11</th>\n",
       "      <th>time</th>\n",
       "      <th>species</th>\n",
       "      <th>source</th>\n",
       "      <th>pdf</th>\n",
       "      <th>href_formula</th>\n",
       "      <th>href</th>\n",
       "      <th>case_number</th>\n",
       "      <th>case_number_1</th>\n",
       "      <th>original_order</th>\n",
       "    </tr>\n",
       "  </thead>\n",
       "  <tbody>\n",
       "    <tr>\n",
       "      <th>0</th>\n",
       "      <td>15-Mar-24</td>\n",
       "      <td>2024.0</td>\n",
       "      <td>Unprovoked</td>\n",
       "      <td>AUSTRALIA</td>\n",
       "      <td>Queensland</td>\n",
       "      <td>Bargara Beach</td>\n",
       "      <td>Swimming</td>\n",
       "      <td>Brooklyn Sauer</td>\n",
       "      <td>F</td>\n",
       "      <td>13</td>\n",
       "      <td>...</td>\n",
       "      <td>NaN</td>\n",
       "      <td>16h00</td>\n",
       "      <td>Tiger shark</td>\n",
       "      <td>Yahoo News, 3/15/2024</td>\n",
       "      <td>NaN</td>\n",
       "      <td>NaN</td>\n",
       "      <td>NaN</td>\n",
       "      <td>NaN</td>\n",
       "      <td>NaN</td>\n",
       "      <td>NaN</td>\n",
       "    </tr>\n",
       "    <tr>\n",
       "      <th>1</th>\n",
       "      <td>04-Mar-24</td>\n",
       "      <td>2024.0</td>\n",
       "      <td>Unprovoked</td>\n",
       "      <td>USA</td>\n",
       "      <td>Hawaii</td>\n",
       "      <td>Old Man's, Waikiki</td>\n",
       "      <td>Surfing</td>\n",
       "      <td>Matthew White</td>\n",
       "      <td>M</td>\n",
       "      <td>NaN</td>\n",
       "      <td>...</td>\n",
       "      <td>N</td>\n",
       "      <td>NaN</td>\n",
       "      <td>Tiger shark 8'</td>\n",
       "      <td>Surfer, 3/6/2024F</td>\n",
       "      <td>NaN</td>\n",
       "      <td>NaN</td>\n",
       "      <td>NaN</td>\n",
       "      <td>NaN</td>\n",
       "      <td>NaN</td>\n",
       "      <td>NaN</td>\n",
       "    </tr>\n",
       "    <tr>\n",
       "      <th>2</th>\n",
       "      <td>02-Mar-24</td>\n",
       "      <td>2024.0</td>\n",
       "      <td>Unprovoked</td>\n",
       "      <td>USA</td>\n",
       "      <td>Hawaii</td>\n",
       "      <td>Rainbows, Oahu</td>\n",
       "      <td>Swimming</td>\n",
       "      <td>NaN</td>\n",
       "      <td>F</td>\n",
       "      <td>11</td>\n",
       "      <td>...</td>\n",
       "      <td>N</td>\n",
       "      <td>13h30</td>\n",
       "      <td>3' to 4' shark</td>\n",
       "      <td>Hawaii News Now, 3/4/2024</td>\n",
       "      <td>NaN</td>\n",
       "      <td>NaN</td>\n",
       "      <td>NaN</td>\n",
       "      <td>NaN</td>\n",
       "      <td>NaN</td>\n",
       "      <td>NaN</td>\n",
       "    </tr>\n",
       "    <tr>\n",
       "      <th>3</th>\n",
       "      <td>25-Feb-24</td>\n",
       "      <td>2024.0</td>\n",
       "      <td>Unprovoked</td>\n",
       "      <td>AUSTRALIA</td>\n",
       "      <td>Western Australia</td>\n",
       "      <td>Sandlnd Island, Jurian Bay</td>\n",
       "      <td>NaN</td>\n",
       "      <td>female</td>\n",
       "      <td>F</td>\n",
       "      <td>46</td>\n",
       "      <td>...</td>\n",
       "      <td>N</td>\n",
       "      <td>11h30</td>\n",
       "      <td>Tiger shark</td>\n",
       "      <td>WA Today, 2/26/2024</td>\n",
       "      <td>NaN</td>\n",
       "      <td>NaN</td>\n",
       "      <td>NaN</td>\n",
       "      <td>NaN</td>\n",
       "      <td>NaN</td>\n",
       "      <td>NaN</td>\n",
       "    </tr>\n",
       "    <tr>\n",
       "      <th>4</th>\n",
       "      <td>14-Feb-24</td>\n",
       "      <td>2024.0</td>\n",
       "      <td>Unprovoked</td>\n",
       "      <td>INDIA</td>\n",
       "      <td>Maharashtra</td>\n",
       "      <td>Vaitarna River, Palghar District</td>\n",
       "      <td>Fishing</td>\n",
       "      <td>Vicky Suresh Govari</td>\n",
       "      <td>M</td>\n",
       "      <td>32</td>\n",
       "      <td>...</td>\n",
       "      <td>N</td>\n",
       "      <td>NaN</td>\n",
       "      <td>Bull shark, 7'</td>\n",
       "      <td>Times of India, 2/14/2024</td>\n",
       "      <td>NaN</td>\n",
       "      <td>NaN</td>\n",
       "      <td>NaN</td>\n",
       "      <td>NaN</td>\n",
       "      <td>NaN</td>\n",
       "      <td>NaN</td>\n",
       "    </tr>\n",
       "  </tbody>\n",
       "</table>\n",
       "<p>5 rows × 21 columns</p>\n",
       "</div>"
      ],
      "text/plain": [
       "        date    year        type    country              state  \\\n",
       "0  15-Mar-24  2024.0  Unprovoked  AUSTRALIA         Queensland   \n",
       "1  04-Mar-24  2024.0  Unprovoked        USA             Hawaii   \n",
       "2  02-Mar-24  2024.0  Unprovoked        USA             Hawaii   \n",
       "3  25-Feb-24  2024.0  Unprovoked  AUSTRALIA  Western Australia   \n",
       "4  14-Feb-24  2024.0  Unprovoked      INDIA        Maharashtra   \n",
       "\n",
       "                           location  activity                 name sex  age  \\\n",
       "0                     Bargara Beach  Swimming       Brooklyn Sauer   F   13   \n",
       "1                Old Man's, Waikiki   Surfing        Matthew White   M  NaN   \n",
       "2                    Rainbows, Oahu  Swimming                  NaN   F   11   \n",
       "3        Sandlnd Island, Jurian Bay       NaN               female   F   46   \n",
       "4  Vaitarna River, Palghar District   Fishing  Vicky Suresh Govari   M   32   \n",
       "\n",
       "   ... unnamed_11   time         species                     source  pdf  \\\n",
       "0  ...        NaN  16h00     Tiger shark      Yahoo News, 3/15/2024  NaN   \n",
       "1  ...          N    NaN  Tiger shark 8'          Surfer, 3/6/2024F  NaN   \n",
       "2  ...          N  13h30  3' to 4' shark  Hawaii News Now, 3/4/2024  NaN   \n",
       "3  ...          N  11h30     Tiger shark        WA Today, 2/26/2024  NaN   \n",
       "4  ...          N    NaN  Bull shark, 7'  Times of India, 2/14/2024  NaN   \n",
       "\n",
       "  href_formula href case_number case_number_1 original_order  \n",
       "0          NaN  NaN         NaN           NaN            NaN  \n",
       "1          NaN  NaN         NaN           NaN            NaN  \n",
       "2          NaN  NaN         NaN           NaN            NaN  \n",
       "3          NaN  NaN         NaN           NaN            NaN  \n",
       "4          NaN  NaN         NaN           NaN            NaN  \n",
       "\n",
       "[5 rows x 21 columns]"
      ]
     },
     "execution_count": 53,
     "metadata": {},
     "output_type": "execute_result"
    }
   ],
   "source": [
    "# 3.2. Dealing with Duplicates\n",
    "df = df.drop_duplicates()\n",
    "df.head()"
   ]
  },
  {
   "cell_type": "markdown",
   "metadata": {},
   "source": [
    "#### 3.3. Correcting Data Types\n",
    "\n",
    "#### 3.3.1. Ensure columns have the correct data types.\n"
   ]
  },
  {
   "cell_type": "code",
   "execution_count": 54,
   "metadata": {},
   "outputs": [
    {
     "name": "stderr",
     "output_type": "stream",
     "text": [
      "/var/folders/76/0pntsdld7bg_p5gzgms4gghw0000gn/T/ipykernel_48565/3656290466.py:14: FutureWarning:\n",
      "\n",
      "A value is trying to be set on a copy of a DataFrame or Series through chained assignment using an inplace method.\n",
      "The behavior will change in pandas 3.0. This inplace method will never work because the intermediate object on which we are setting values always behaves as a copy.\n",
      "\n",
      "For example, when doing 'df[col].method(value, inplace=True)', try using 'df.method({col: value}, inplace=True)' or df[col] = df[col].method(value) instead, to perform the operation inplace on the original object.\n",
      "\n",
      "\n",
      "\n",
      "/var/folders/76/0pntsdld7bg_p5gzgms4gghw0000gn/T/ipykernel_48565/3656290466.py:15: FutureWarning:\n",
      "\n",
      "A value is trying to be set on a copy of a DataFrame or Series through chained assignment using an inplace method.\n",
      "The behavior will change in pandas 3.0. This inplace method will never work because the intermediate object on which we are setting values always behaves as a copy.\n",
      "\n",
      "For example, when doing 'df[col].method(value, inplace=True)', try using 'df.method({col: value}, inplace=True)' or df[col] = df[col].method(value) instead, to perform the operation inplace on the original object.\n",
      "\n",
      "\n",
      "\n"
     ]
    },
    {
     "data": {
      "text/html": [
       "<div>\n",
       "<style scoped>\n",
       "    .dataframe tbody tr th:only-of-type {\n",
       "        vertical-align: middle;\n",
       "    }\n",
       "\n",
       "    .dataframe tbody tr th {\n",
       "        vertical-align: top;\n",
       "    }\n",
       "\n",
       "    .dataframe thead th {\n",
       "        text-align: right;\n",
       "    }\n",
       "</style>\n",
       "<table border=\"1\" class=\"dataframe\">\n",
       "  <thead>\n",
       "    <tr style=\"text-align: right;\">\n",
       "      <th></th>\n",
       "      <th>date</th>\n",
       "      <th>year</th>\n",
       "      <th>type</th>\n",
       "      <th>country</th>\n",
       "      <th>state</th>\n",
       "      <th>location</th>\n",
       "      <th>activity</th>\n",
       "      <th>name</th>\n",
       "      <th>sex</th>\n",
       "      <th>age</th>\n",
       "      <th>...</th>\n",
       "      <th>unnamed_11</th>\n",
       "      <th>time</th>\n",
       "      <th>species</th>\n",
       "      <th>source</th>\n",
       "      <th>pdf</th>\n",
       "      <th>href_formula</th>\n",
       "      <th>href</th>\n",
       "      <th>case_number</th>\n",
       "      <th>case_number_1</th>\n",
       "      <th>original_order</th>\n",
       "    </tr>\n",
       "  </thead>\n",
       "  <tbody>\n",
       "    <tr>\n",
       "      <th>0</th>\n",
       "      <td>15-Mar-24</td>\n",
       "      <td>2024.0</td>\n",
       "      <td>Unprovoked</td>\n",
       "      <td>AUSTRALIA</td>\n",
       "      <td>Queensland</td>\n",
       "      <td>Bargara Beach</td>\n",
       "      <td>Swimming</td>\n",
       "      <td>Brooklyn Sauer</td>\n",
       "      <td>F</td>\n",
       "      <td>13.000000</td>\n",
       "      <td>...</td>\n",
       "      <td>NaN</td>\n",
       "      <td>16h00</td>\n",
       "      <td>Tiger shark</td>\n",
       "      <td>Yahoo News, 3/15/2024</td>\n",
       "      <td>NaN</td>\n",
       "      <td>NaN</td>\n",
       "      <td>NaN</td>\n",
       "      <td>NaN</td>\n",
       "      <td>NaN</td>\n",
       "      <td>NaN</td>\n",
       "    </tr>\n",
       "    <tr>\n",
       "      <th>1</th>\n",
       "      <td>04-Mar-24</td>\n",
       "      <td>2024.0</td>\n",
       "      <td>Unprovoked</td>\n",
       "      <td>USA</td>\n",
       "      <td>Hawaii</td>\n",
       "      <td>Old Man's, Waikiki</td>\n",
       "      <td>Surfing</td>\n",
       "      <td>Matthew White</td>\n",
       "      <td>M</td>\n",
       "      <td>28.042954</td>\n",
       "      <td>...</td>\n",
       "      <td>N</td>\n",
       "      <td>NaN</td>\n",
       "      <td>Tiger shark 8'</td>\n",
       "      <td>Surfer, 3/6/2024F</td>\n",
       "      <td>NaN</td>\n",
       "      <td>NaN</td>\n",
       "      <td>NaN</td>\n",
       "      <td>NaN</td>\n",
       "      <td>NaN</td>\n",
       "      <td>NaN</td>\n",
       "    </tr>\n",
       "    <tr>\n",
       "      <th>2</th>\n",
       "      <td>02-Mar-24</td>\n",
       "      <td>2024.0</td>\n",
       "      <td>Unprovoked</td>\n",
       "      <td>USA</td>\n",
       "      <td>Hawaii</td>\n",
       "      <td>Rainbows, Oahu</td>\n",
       "      <td>Swimming</td>\n",
       "      <td>NaN</td>\n",
       "      <td>F</td>\n",
       "      <td>11.000000</td>\n",
       "      <td>...</td>\n",
       "      <td>N</td>\n",
       "      <td>13h30</td>\n",
       "      <td>3' to 4' shark</td>\n",
       "      <td>Hawaii News Now, 3/4/2024</td>\n",
       "      <td>NaN</td>\n",
       "      <td>NaN</td>\n",
       "      <td>NaN</td>\n",
       "      <td>NaN</td>\n",
       "      <td>NaN</td>\n",
       "      <td>NaN</td>\n",
       "    </tr>\n",
       "    <tr>\n",
       "      <th>3</th>\n",
       "      <td>25-Feb-24</td>\n",
       "      <td>2024.0</td>\n",
       "      <td>Unprovoked</td>\n",
       "      <td>AUSTRALIA</td>\n",
       "      <td>Western Australia</td>\n",
       "      <td>Sandlnd Island, Jurian Bay</td>\n",
       "      <td>NaN</td>\n",
       "      <td>female</td>\n",
       "      <td>F</td>\n",
       "      <td>46.000000</td>\n",
       "      <td>...</td>\n",
       "      <td>N</td>\n",
       "      <td>11h30</td>\n",
       "      <td>Tiger shark</td>\n",
       "      <td>WA Today, 2/26/2024</td>\n",
       "      <td>NaN</td>\n",
       "      <td>NaN</td>\n",
       "      <td>NaN</td>\n",
       "      <td>NaN</td>\n",
       "      <td>NaN</td>\n",
       "      <td>NaN</td>\n",
       "    </tr>\n",
       "    <tr>\n",
       "      <th>4</th>\n",
       "      <td>14-Feb-24</td>\n",
       "      <td>2024.0</td>\n",
       "      <td>Unprovoked</td>\n",
       "      <td>INDIA</td>\n",
       "      <td>Maharashtra</td>\n",
       "      <td>Vaitarna River, Palghar District</td>\n",
       "      <td>Fishing</td>\n",
       "      <td>Vicky Suresh Govari</td>\n",
       "      <td>M</td>\n",
       "      <td>32.000000</td>\n",
       "      <td>...</td>\n",
       "      <td>N</td>\n",
       "      <td>NaN</td>\n",
       "      <td>Bull shark, 7'</td>\n",
       "      <td>Times of India, 2/14/2024</td>\n",
       "      <td>NaN</td>\n",
       "      <td>NaN</td>\n",
       "      <td>NaN</td>\n",
       "      <td>NaN</td>\n",
       "      <td>NaN</td>\n",
       "      <td>NaN</td>\n",
       "    </tr>\n",
       "    <tr>\n",
       "      <th>...</th>\n",
       "      <td>...</td>\n",
       "      <td>...</td>\n",
       "      <td>...</td>\n",
       "      <td>...</td>\n",
       "      <td>...</td>\n",
       "      <td>...</td>\n",
       "      <td>...</td>\n",
       "      <td>...</td>\n",
       "      <td>...</td>\n",
       "      <td>...</td>\n",
       "      <td>...</td>\n",
       "      <td>...</td>\n",
       "      <td>...</td>\n",
       "      <td>...</td>\n",
       "      <td>...</td>\n",
       "      <td>...</td>\n",
       "      <td>...</td>\n",
       "      <td>...</td>\n",
       "      <td>...</td>\n",
       "      <td>...</td>\n",
       "      <td>...</td>\n",
       "    </tr>\n",
       "    <tr>\n",
       "      <th>6940</th>\n",
       "      <td>Before 1903</td>\n",
       "      <td>0.0</td>\n",
       "      <td>Unprovoked</td>\n",
       "      <td>AUSTRALIA</td>\n",
       "      <td>Western Australia</td>\n",
       "      <td>NaN</td>\n",
       "      <td>Pearl diving</td>\n",
       "      <td>Ahmun</td>\n",
       "      <td>M</td>\n",
       "      <td>28.042954</td>\n",
       "      <td>...</td>\n",
       "      <td>Y</td>\n",
       "      <td>NaN</td>\n",
       "      <td>NaN</td>\n",
       "      <td>H. Taunton; N. Bartlett,  pp. 233-234</td>\n",
       "      <td>ND-0004-Ahmun.pdf</td>\n",
       "      <td>http://sharkattackfile.net/spreadsheets/pdf_di...</td>\n",
       "      <td>http://sharkattackfile.net/spreadsheets/pdf_di...</td>\n",
       "      <td>ND.0004</td>\n",
       "      <td>ND.0004</td>\n",
       "      <td>5.0</td>\n",
       "    </tr>\n",
       "    <tr>\n",
       "      <th>6941</th>\n",
       "      <td>1900-1905</td>\n",
       "      <td>0.0</td>\n",
       "      <td>Unprovoked</td>\n",
       "      <td>USA</td>\n",
       "      <td>North Carolina</td>\n",
       "      <td>Ocracoke Inlet</td>\n",
       "      <td>Swimming</td>\n",
       "      <td>Coast Guard personnel</td>\n",
       "      <td>M</td>\n",
       "      <td>28.042954</td>\n",
       "      <td>...</td>\n",
       "      <td>Y</td>\n",
       "      <td>NaN</td>\n",
       "      <td>NaN</td>\n",
       "      <td>F. Schwartz, p.23; C. Creswell, GSAF</td>\n",
       "      <td>ND-0003-Ocracoke_1900-1905.pdf</td>\n",
       "      <td>http://sharkattackfile.net/spreadsheets/pdf_di...</td>\n",
       "      <td>http://sharkattackfile.net/spreadsheets/pdf_di...</td>\n",
       "      <td>ND.0003</td>\n",
       "      <td>ND.0003</td>\n",
       "      <td>4.0</td>\n",
       "    </tr>\n",
       "    <tr>\n",
       "      <th>6942</th>\n",
       "      <td>1883-1889</td>\n",
       "      <td>0.0</td>\n",
       "      <td>Unprovoked</td>\n",
       "      <td>PANAMA</td>\n",
       "      <td>NaN</td>\n",
       "      <td>Panama Bay 8ºN, 79ºW</td>\n",
       "      <td>NaN</td>\n",
       "      <td>Jules Patterson</td>\n",
       "      <td>M</td>\n",
       "      <td>28.042954</td>\n",
       "      <td>...</td>\n",
       "      <td>Y</td>\n",
       "      <td>NaN</td>\n",
       "      <td>NaN</td>\n",
       "      <td>The Sun, 10/20/1938</td>\n",
       "      <td>ND-0002-JulesPatterson.pdf</td>\n",
       "      <td>http://sharkattackfile.net/spreadsheets/pdf_di...</td>\n",
       "      <td>http://sharkattackfile.net/spreadsheets/pdf_di...</td>\n",
       "      <td>ND.0002</td>\n",
       "      <td>ND.0002</td>\n",
       "      <td>3.0</td>\n",
       "    </tr>\n",
       "    <tr>\n",
       "      <th>6943</th>\n",
       "      <td>1845-1853</td>\n",
       "      <td>0.0</td>\n",
       "      <td>Unprovoked</td>\n",
       "      <td>CEYLON (SRI LANKA)</td>\n",
       "      <td>Eastern Province</td>\n",
       "      <td>Below the English fort, Trincomalee</td>\n",
       "      <td>Swimming</td>\n",
       "      <td>male</td>\n",
       "      <td>M</td>\n",
       "      <td>15.000000</td>\n",
       "      <td>...</td>\n",
       "      <td>Y</td>\n",
       "      <td>NaN</td>\n",
       "      <td>NaN</td>\n",
       "      <td>S.W. Baker</td>\n",
       "      <td>ND-0001-Ceylon.pdf</td>\n",
       "      <td>http://sharkattackfile.net/spreadsheets/pdf_di...</td>\n",
       "      <td>http://sharkattackfile.net/spreadsheets/pdf_di...</td>\n",
       "      <td>ND.0001</td>\n",
       "      <td>ND.0001</td>\n",
       "      <td>2.0</td>\n",
       "    </tr>\n",
       "    <tr>\n",
       "      <th>6944</th>\n",
       "      <td>NaN</td>\n",
       "      <td>NaN</td>\n",
       "      <td>NaN</td>\n",
       "      <td>NaN</td>\n",
       "      <td>NaN</td>\n",
       "      <td>NaN</td>\n",
       "      <td>NaN</td>\n",
       "      <td>NaN</td>\n",
       "      <td>NaN</td>\n",
       "      <td>28.042954</td>\n",
       "      <td>...</td>\n",
       "      <td>NaN</td>\n",
       "      <td>NaN</td>\n",
       "      <td>NaN</td>\n",
       "      <td>NaN</td>\n",
       "      <td>NaN</td>\n",
       "      <td>http://sharkattackfile.net/spreadsheets/pdf_di...</td>\n",
       "      <td>NaN</td>\n",
       "      <td>NaN</td>\n",
       "      <td>NaN</td>\n",
       "      <td>NaN</td>\n",
       "    </tr>\n",
       "  </tbody>\n",
       "</table>\n",
       "<p>6945 rows × 21 columns</p>\n",
       "</div>"
      ],
      "text/plain": [
       "             date    year        type             country              state  \\\n",
       "0       15-Mar-24  2024.0  Unprovoked           AUSTRALIA         Queensland   \n",
       "1       04-Mar-24  2024.0  Unprovoked                 USA             Hawaii   \n",
       "2       02-Mar-24  2024.0  Unprovoked                 USA             Hawaii   \n",
       "3       25-Feb-24  2024.0  Unprovoked           AUSTRALIA  Western Australia   \n",
       "4       14-Feb-24  2024.0  Unprovoked               INDIA        Maharashtra   \n",
       "...           ...     ...         ...                 ...                ...   \n",
       "6940  Before 1903     0.0  Unprovoked           AUSTRALIA  Western Australia   \n",
       "6941    1900-1905     0.0  Unprovoked                 USA     North Carolina   \n",
       "6942    1883-1889     0.0  Unprovoked              PANAMA                NaN   \n",
       "6943    1845-1853     0.0  Unprovoked  CEYLON (SRI LANKA)   Eastern Province   \n",
       "6944          NaN     NaN         NaN                 NaN                NaN   \n",
       "\n",
       "                                 location      activity  \\\n",
       "0                           Bargara Beach      Swimming   \n",
       "1                      Old Man's, Waikiki       Surfing   \n",
       "2                          Rainbows, Oahu      Swimming   \n",
       "3              Sandlnd Island, Jurian Bay           NaN   \n",
       "4        Vaitarna River, Palghar District       Fishing   \n",
       "...                                   ...           ...   \n",
       "6940                                  NaN  Pearl diving   \n",
       "6941                       Ocracoke Inlet      Swimming   \n",
       "6942                 Panama Bay 8ºN, 79ºW           NaN   \n",
       "6943  Below the English fort, Trincomalee      Swimming   \n",
       "6944                                  NaN           NaN   \n",
       "\n",
       "                       name  sex        age  ... unnamed_11   time  \\\n",
       "0            Brooklyn Sauer    F  13.000000  ...        NaN  16h00   \n",
       "1             Matthew White    M  28.042954  ...          N    NaN   \n",
       "2                       NaN    F  11.000000  ...          N  13h30   \n",
       "3                    female    F  46.000000  ...          N  11h30   \n",
       "4       Vicky Suresh Govari    M  32.000000  ...          N    NaN   \n",
       "...                     ...  ...        ...  ...        ...    ...   \n",
       "6940                  Ahmun    M  28.042954  ...          Y    NaN   \n",
       "6941  Coast Guard personnel    M  28.042954  ...          Y    NaN   \n",
       "6942        Jules Patterson    M  28.042954  ...          Y    NaN   \n",
       "6943                   male    M  15.000000  ...          Y    NaN   \n",
       "6944                    NaN  NaN  28.042954  ...        NaN    NaN   \n",
       "\n",
       "             species                                 source  \\\n",
       "0        Tiger shark                  Yahoo News, 3/15/2024   \n",
       "1     Tiger shark 8'                      Surfer, 3/6/2024F   \n",
       "2     3' to 4' shark              Hawaii News Now, 3/4/2024   \n",
       "3        Tiger shark                    WA Today, 2/26/2024   \n",
       "4     Bull shark, 7'              Times of India, 2/14/2024   \n",
       "...              ...                                    ...   \n",
       "6940             NaN  H. Taunton; N. Bartlett,  pp. 233-234   \n",
       "6941             NaN   F. Schwartz, p.23; C. Creswell, GSAF   \n",
       "6942             NaN                    The Sun, 10/20/1938   \n",
       "6943             NaN                             S.W. Baker   \n",
       "6944             NaN                                    NaN   \n",
       "\n",
       "                                 pdf  \\\n",
       "0                                NaN   \n",
       "1                                NaN   \n",
       "2                                NaN   \n",
       "3                                NaN   \n",
       "4                                NaN   \n",
       "...                              ...   \n",
       "6940               ND-0004-Ahmun.pdf   \n",
       "6941  ND-0003-Ocracoke_1900-1905.pdf   \n",
       "6942      ND-0002-JulesPatterson.pdf   \n",
       "6943              ND-0001-Ceylon.pdf   \n",
       "6944                             NaN   \n",
       "\n",
       "                                           href_formula  \\\n",
       "0                                                   NaN   \n",
       "1                                                   NaN   \n",
       "2                                                   NaN   \n",
       "3                                                   NaN   \n",
       "4                                                   NaN   \n",
       "...                                                 ...   \n",
       "6940  http://sharkattackfile.net/spreadsheets/pdf_di...   \n",
       "6941  http://sharkattackfile.net/spreadsheets/pdf_di...   \n",
       "6942  http://sharkattackfile.net/spreadsheets/pdf_di...   \n",
       "6943  http://sharkattackfile.net/spreadsheets/pdf_di...   \n",
       "6944  http://sharkattackfile.net/spreadsheets/pdf_di...   \n",
       "\n",
       "                                                   href case_number  \\\n",
       "0                                                   NaN         NaN   \n",
       "1                                                   NaN         NaN   \n",
       "2                                                   NaN         NaN   \n",
       "3                                                   NaN         NaN   \n",
       "4                                                   NaN         NaN   \n",
       "...                                                 ...         ...   \n",
       "6940  http://sharkattackfile.net/spreadsheets/pdf_di...     ND.0004   \n",
       "6941  http://sharkattackfile.net/spreadsheets/pdf_di...     ND.0003   \n",
       "6942  http://sharkattackfile.net/spreadsheets/pdf_di...     ND.0002   \n",
       "6943  http://sharkattackfile.net/spreadsheets/pdf_di...     ND.0001   \n",
       "6944                                                NaN         NaN   \n",
       "\n",
       "     case_number_1 original_order  \n",
       "0              NaN            NaN  \n",
       "1              NaN            NaN  \n",
       "2              NaN            NaN  \n",
       "3              NaN            NaN  \n",
       "4              NaN            NaN  \n",
       "...            ...            ...  \n",
       "6940       ND.0004            5.0  \n",
       "6941       ND.0003            4.0  \n",
       "6942       ND.0002            3.0  \n",
       "6943       ND.0001            2.0  \n",
       "6944           NaN            NaN  \n",
       "\n",
       "[6945 rows x 21 columns]"
      ]
     },
     "execution_count": 54,
     "metadata": {},
     "output_type": "execute_result"
    }
   ],
   "source": [
    "# 3.3. Convert 'age' to numeric.  fills missing data (0 and NaN values) with the mode of the column before converting it to numeric\n",
    "df = pd.DataFrame(df)\n",
    "\n",
    "\n",
    "def convert_age(df, column):\n",
    "    if df is not None and column in df.columns:\n",
    "        # Convert the column to numeric, setting invalid parsing as NaN\n",
    "        df[column] = pd.to_numeric(df[column], errors='coerce')\n",
    "\n",
    "        # Calculate the mode of the column\n",
    "        col_mean = df[column].mean()\n",
    "\n",
    "        # Replace NaN and 0 values with the mode\n",
    "        df[column].fillna(col_mean, inplace=True)\n",
    "        df[column].replace(0, col_mean, inplace=True)\n",
    "\n",
    "        return df\n",
    "    else:\n",
    "        raise ValueError(\n",
    "            \"DataFrame is None or the specified column does not exist.\")\n",
    "\n",
    "\n",
    "# Convert the 'age' column\n",
    "df = convert_age(df, 'age')\n",
    "df"
   ]
  },
  {
   "cell_type": "code",
   "execution_count": 55,
   "metadata": {},
   "outputs": [
    {
     "name": "stderr",
     "output_type": "stream",
     "text": [
      "/var/folders/76/0pntsdld7bg_p5gzgms4gghw0000gn/T/ipykernel_48565/639078710.py:12: FutureWarning:\n",
      "\n",
      "Series.fillna with 'method' is deprecated and will raise in a future version. Use obj.ffill() or obj.bfill() instead.\n",
      "\n"
     ]
    },
    {
     "data": {
      "text/html": [
       "<div>\n",
       "<style scoped>\n",
       "    .dataframe tbody tr th:only-of-type {\n",
       "        vertical-align: middle;\n",
       "    }\n",
       "\n",
       "    .dataframe tbody tr th {\n",
       "        vertical-align: top;\n",
       "    }\n",
       "\n",
       "    .dataframe thead th {\n",
       "        text-align: right;\n",
       "    }\n",
       "</style>\n",
       "<table border=\"1\" class=\"dataframe\">\n",
       "  <thead>\n",
       "    <tr style=\"text-align: right;\">\n",
       "      <th></th>\n",
       "      <th>date</th>\n",
       "      <th>year</th>\n",
       "      <th>type</th>\n",
       "      <th>country</th>\n",
       "      <th>state</th>\n",
       "      <th>location</th>\n",
       "      <th>activity</th>\n",
       "      <th>name</th>\n",
       "      <th>sex</th>\n",
       "      <th>age</th>\n",
       "      <th>...</th>\n",
       "      <th>unnamed_11</th>\n",
       "      <th>time</th>\n",
       "      <th>species</th>\n",
       "      <th>source</th>\n",
       "      <th>pdf</th>\n",
       "      <th>href_formula</th>\n",
       "      <th>href</th>\n",
       "      <th>case_number</th>\n",
       "      <th>case_number_1</th>\n",
       "      <th>original_order</th>\n",
       "    </tr>\n",
       "  </thead>\n",
       "  <tbody>\n",
       "    <tr>\n",
       "      <th>0</th>\n",
       "      <td>15-Mar-24</td>\n",
       "      <td>2024</td>\n",
       "      <td>Unprovoked</td>\n",
       "      <td>AUSTRALIA</td>\n",
       "      <td>Queensland</td>\n",
       "      <td>Bargara Beach</td>\n",
       "      <td>Swimming</td>\n",
       "      <td>Brooklyn Sauer</td>\n",
       "      <td>F</td>\n",
       "      <td>13.000000</td>\n",
       "      <td>...</td>\n",
       "      <td>NaN</td>\n",
       "      <td>16h00</td>\n",
       "      <td>Tiger shark</td>\n",
       "      <td>Yahoo News, 3/15/2024</td>\n",
       "      <td>NaN</td>\n",
       "      <td>NaN</td>\n",
       "      <td>NaN</td>\n",
       "      <td>NaN</td>\n",
       "      <td>NaN</td>\n",
       "      <td>NaN</td>\n",
       "    </tr>\n",
       "    <tr>\n",
       "      <th>1</th>\n",
       "      <td>04-Mar-24</td>\n",
       "      <td>2024</td>\n",
       "      <td>Unprovoked</td>\n",
       "      <td>USA</td>\n",
       "      <td>Hawaii</td>\n",
       "      <td>Old Man's, Waikiki</td>\n",
       "      <td>Surfing</td>\n",
       "      <td>Matthew White</td>\n",
       "      <td>M</td>\n",
       "      <td>28.042954</td>\n",
       "      <td>...</td>\n",
       "      <td>N</td>\n",
       "      <td>NaN</td>\n",
       "      <td>Tiger shark 8'</td>\n",
       "      <td>Surfer, 3/6/2024F</td>\n",
       "      <td>NaN</td>\n",
       "      <td>NaN</td>\n",
       "      <td>NaN</td>\n",
       "      <td>NaN</td>\n",
       "      <td>NaN</td>\n",
       "      <td>NaN</td>\n",
       "    </tr>\n",
       "    <tr>\n",
       "      <th>2</th>\n",
       "      <td>02-Mar-24</td>\n",
       "      <td>2024</td>\n",
       "      <td>Unprovoked</td>\n",
       "      <td>USA</td>\n",
       "      <td>Hawaii</td>\n",
       "      <td>Rainbows, Oahu</td>\n",
       "      <td>Swimming</td>\n",
       "      <td>NaN</td>\n",
       "      <td>F</td>\n",
       "      <td>11.000000</td>\n",
       "      <td>...</td>\n",
       "      <td>N</td>\n",
       "      <td>13h30</td>\n",
       "      <td>3' to 4' shark</td>\n",
       "      <td>Hawaii News Now, 3/4/2024</td>\n",
       "      <td>NaN</td>\n",
       "      <td>NaN</td>\n",
       "      <td>NaN</td>\n",
       "      <td>NaN</td>\n",
       "      <td>NaN</td>\n",
       "      <td>NaN</td>\n",
       "    </tr>\n",
       "    <tr>\n",
       "      <th>3</th>\n",
       "      <td>25-Feb-24</td>\n",
       "      <td>2024</td>\n",
       "      <td>Unprovoked</td>\n",
       "      <td>AUSTRALIA</td>\n",
       "      <td>Western Australia</td>\n",
       "      <td>Sandlnd Island, Jurian Bay</td>\n",
       "      <td>NaN</td>\n",
       "      <td>female</td>\n",
       "      <td>F</td>\n",
       "      <td>46.000000</td>\n",
       "      <td>...</td>\n",
       "      <td>N</td>\n",
       "      <td>11h30</td>\n",
       "      <td>Tiger shark</td>\n",
       "      <td>WA Today, 2/26/2024</td>\n",
       "      <td>NaN</td>\n",
       "      <td>NaN</td>\n",
       "      <td>NaN</td>\n",
       "      <td>NaN</td>\n",
       "      <td>NaN</td>\n",
       "      <td>NaN</td>\n",
       "    </tr>\n",
       "    <tr>\n",
       "      <th>4</th>\n",
       "      <td>14-Feb-24</td>\n",
       "      <td>2024</td>\n",
       "      <td>Unprovoked</td>\n",
       "      <td>INDIA</td>\n",
       "      <td>Maharashtra</td>\n",
       "      <td>Vaitarna River, Palghar District</td>\n",
       "      <td>Fishing</td>\n",
       "      <td>Vicky Suresh Govari</td>\n",
       "      <td>M</td>\n",
       "      <td>32.000000</td>\n",
       "      <td>...</td>\n",
       "      <td>N</td>\n",
       "      <td>NaN</td>\n",
       "      <td>Bull shark, 7'</td>\n",
       "      <td>Times of India, 2/14/2024</td>\n",
       "      <td>NaN</td>\n",
       "      <td>NaN</td>\n",
       "      <td>NaN</td>\n",
       "      <td>NaN</td>\n",
       "      <td>NaN</td>\n",
       "      <td>NaN</td>\n",
       "    </tr>\n",
       "  </tbody>\n",
       "</table>\n",
       "<p>5 rows × 21 columns</p>\n",
       "</div>"
      ],
      "text/plain": [
       "        date  year        type    country              state  \\\n",
       "0  15-Mar-24  2024  Unprovoked  AUSTRALIA         Queensland   \n",
       "1  04-Mar-24  2024  Unprovoked        USA             Hawaii   \n",
       "2  02-Mar-24  2024  Unprovoked        USA             Hawaii   \n",
       "3  25-Feb-24  2024  Unprovoked  AUSTRALIA  Western Australia   \n",
       "4  14-Feb-24  2024  Unprovoked      INDIA        Maharashtra   \n",
       "\n",
       "                           location  activity                 name sex  \\\n",
       "0                     Bargara Beach  Swimming       Brooklyn Sauer   F   \n",
       "1                Old Man's, Waikiki   Surfing        Matthew White   M   \n",
       "2                    Rainbows, Oahu  Swimming                  NaN   F   \n",
       "3        Sandlnd Island, Jurian Bay       NaN               female   F   \n",
       "4  Vaitarna River, Palghar District   Fishing  Vicky Suresh Govari   M   \n",
       "\n",
       "         age  ... unnamed_11   time         species  \\\n",
       "0  13.000000  ...        NaN  16h00     Tiger shark   \n",
       "1  28.042954  ...          N    NaN  Tiger shark 8'   \n",
       "2  11.000000  ...          N  13h30  3' to 4' shark   \n",
       "3  46.000000  ...          N  11h30     Tiger shark   \n",
       "4  32.000000  ...          N    NaN  Bull shark, 7'   \n",
       "\n",
       "                      source  pdf href_formula href case_number case_number_1  \\\n",
       "0      Yahoo News, 3/15/2024  NaN          NaN  NaN         NaN           NaN   \n",
       "1          Surfer, 3/6/2024F  NaN          NaN  NaN         NaN           NaN   \n",
       "2  Hawaii News Now, 3/4/2024  NaN          NaN  NaN         NaN           NaN   \n",
       "3        WA Today, 2/26/2024  NaN          NaN  NaN         NaN           NaN   \n",
       "4  Times of India, 2/14/2024  NaN          NaN  NaN         NaN           NaN   \n",
       "\n",
       "  original_order  \n",
       "0            NaN  \n",
       "1            NaN  \n",
       "2            NaN  \n",
       "3            NaN  \n",
       "4            NaN  \n",
       "\n",
       "[5 rows x 21 columns]"
      ]
     },
     "execution_count": 55,
     "metadata": {},
     "output_type": "execute_result"
    }
   ],
   "source": [
    "# 3.4. Convert col 'year' to int\n",
    "def convert_year_column(df, column):\n",
    "    \"\"\"\n",
    "    This function fills NaN values in the specified 'year' column using forward fill,\n",
    "    converts the column to integer type, and returns the updated DataFrame along with the data type of the column.\n",
    "\n",
    "    :param df: pandas DataFrame\n",
    "    :param column: The name of the column to clean and convert\n",
    "    :return: Tuple containing the updated DataFrame and the data type of the column\n",
    "    \"\"\"\n",
    "    # Fill NaN values using forward fill method\n",
    "    df[column] = df[column].fillna(method='ffill')\n",
    "\n",
    "    # Convert the column to integer type\n",
    "    df[column] = df[column].astype(int)\n",
    "\n",
    "    # Return the updated DataFrame and the data type of the column\n",
    "    return df\n",
    "\n",
    "\n",
    "df = convert_year_column(df, 'year')\n",
    "df.head()"
   ]
  },
  {
   "cell_type": "markdown",
   "metadata": {},
   "source": [
    "#### 3.3.1. Parse dates. Date data will be extracted from col 'date'. Missing dates data can be extracted from column 'source' that typically includes the recorded date. After extracting date data from cols 'date' and 'source' , data will be combined to get a complete information about the date of accidents.\n"
   ]
  },
  {
   "cell_type": "code",
   "execution_count": 56,
   "metadata": {},
   "outputs": [
    {
     "data": {
      "text/html": [
       "<div>\n",
       "<style scoped>\n",
       "    .dataframe tbody tr th:only-of-type {\n",
       "        vertical-align: middle;\n",
       "    }\n",
       "\n",
       "    .dataframe tbody tr th {\n",
       "        vertical-align: top;\n",
       "    }\n",
       "\n",
       "    .dataframe thead th {\n",
       "        text-align: right;\n",
       "    }\n",
       "</style>\n",
       "<table border=\"1\" class=\"dataframe\">\n",
       "  <thead>\n",
       "    <tr style=\"text-align: right;\">\n",
       "      <th></th>\n",
       "      <th>year</th>\n",
       "      <th>type</th>\n",
       "      <th>country</th>\n",
       "      <th>state</th>\n",
       "      <th>location</th>\n",
       "      <th>activity</th>\n",
       "      <th>name</th>\n",
       "      <th>sex</th>\n",
       "      <th>age</th>\n",
       "      <th>injury</th>\n",
       "      <th>...</th>\n",
       "      <th>time</th>\n",
       "      <th>species</th>\n",
       "      <th>source</th>\n",
       "      <th>pdf</th>\n",
       "      <th>href_formula</th>\n",
       "      <th>href</th>\n",
       "      <th>case_number</th>\n",
       "      <th>case_number_1</th>\n",
       "      <th>original_order</th>\n",
       "      <th>date_cleaned</th>\n",
       "    </tr>\n",
       "  </thead>\n",
       "  <tbody>\n",
       "    <tr>\n",
       "      <th>0</th>\n",
       "      <td>2024</td>\n",
       "      <td>Unprovoked</td>\n",
       "      <td>AUSTRALIA</td>\n",
       "      <td>Queensland</td>\n",
       "      <td>Bargara Beach</td>\n",
       "      <td>Swimming</td>\n",
       "      <td>Brooklyn Sauer</td>\n",
       "      <td>F</td>\n",
       "      <td>13.000000</td>\n",
       "      <td>Minor injuries to back, abdomen and legs</td>\n",
       "      <td>...</td>\n",
       "      <td>16h00</td>\n",
       "      <td>Tiger shark</td>\n",
       "      <td>Yahoo News, 3/15/2024</td>\n",
       "      <td>NaN</td>\n",
       "      <td>NaN</td>\n",
       "      <td>NaN</td>\n",
       "      <td>NaN</td>\n",
       "      <td>NaN</td>\n",
       "      <td>NaN</td>\n",
       "      <td>NaT</td>\n",
       "    </tr>\n",
       "    <tr>\n",
       "      <th>1</th>\n",
       "      <td>2024</td>\n",
       "      <td>Unprovoked</td>\n",
       "      <td>USA</td>\n",
       "      <td>Hawaii</td>\n",
       "      <td>Old Man's, Waikiki</td>\n",
       "      <td>Surfing</td>\n",
       "      <td>Matthew White</td>\n",
       "      <td>M</td>\n",
       "      <td>28.042954</td>\n",
       "      <td>No injury, shark bit surfboard</td>\n",
       "      <td>...</td>\n",
       "      <td>NaN</td>\n",
       "      <td>Tiger shark 8'</td>\n",
       "      <td>Surfer, 3/6/2024F</td>\n",
       "      <td>NaN</td>\n",
       "      <td>NaN</td>\n",
       "      <td>NaN</td>\n",
       "      <td>NaN</td>\n",
       "      <td>NaN</td>\n",
       "      <td>NaN</td>\n",
       "      <td>NaT</td>\n",
       "    </tr>\n",
       "    <tr>\n",
       "      <th>2</th>\n",
       "      <td>2024</td>\n",
       "      <td>Unprovoked</td>\n",
       "      <td>USA</td>\n",
       "      <td>Hawaii</td>\n",
       "      <td>Rainbows, Oahu</td>\n",
       "      <td>Swimming</td>\n",
       "      <td>NaN</td>\n",
       "      <td>F</td>\n",
       "      <td>11.000000</td>\n",
       "      <td>Lacerations to left foot</td>\n",
       "      <td>...</td>\n",
       "      <td>13h30</td>\n",
       "      <td>3' to 4' shark</td>\n",
       "      <td>Hawaii News Now, 3/4/2024</td>\n",
       "      <td>NaN</td>\n",
       "      <td>NaN</td>\n",
       "      <td>NaN</td>\n",
       "      <td>NaN</td>\n",
       "      <td>NaN</td>\n",
       "      <td>NaN</td>\n",
       "      <td>NaT</td>\n",
       "    </tr>\n",
       "    <tr>\n",
       "      <th>3</th>\n",
       "      <td>2024</td>\n",
       "      <td>Unprovoked</td>\n",
       "      <td>AUSTRALIA</td>\n",
       "      <td>Western Australia</td>\n",
       "      <td>Sandlnd Island, Jurian Bay</td>\n",
       "      <td>NaN</td>\n",
       "      <td>female</td>\n",
       "      <td>F</td>\n",
       "      <td>46.000000</td>\n",
       "      <td>Leg bitten</td>\n",
       "      <td>...</td>\n",
       "      <td>11h30</td>\n",
       "      <td>Tiger shark</td>\n",
       "      <td>WA Today, 2/26/2024</td>\n",
       "      <td>NaN</td>\n",
       "      <td>NaN</td>\n",
       "      <td>NaN</td>\n",
       "      <td>NaN</td>\n",
       "      <td>NaN</td>\n",
       "      <td>NaN</td>\n",
       "      <td>NaT</td>\n",
       "    </tr>\n",
       "    <tr>\n",
       "      <th>4</th>\n",
       "      <td>2024</td>\n",
       "      <td>Unprovoked</td>\n",
       "      <td>INDIA</td>\n",
       "      <td>Maharashtra</td>\n",
       "      <td>Vaitarna River, Palghar District</td>\n",
       "      <td>Fishing</td>\n",
       "      <td>Vicky Suresh Govari</td>\n",
       "      <td>M</td>\n",
       "      <td>32.000000</td>\n",
       "      <td>Calf of lower left leg injured</td>\n",
       "      <td>...</td>\n",
       "      <td>NaN</td>\n",
       "      <td>Bull shark, 7'</td>\n",
       "      <td>Times of India, 2/14/2024</td>\n",
       "      <td>NaN</td>\n",
       "      <td>NaN</td>\n",
       "      <td>NaN</td>\n",
       "      <td>NaN</td>\n",
       "      <td>NaN</td>\n",
       "      <td>NaN</td>\n",
       "      <td>NaT</td>\n",
       "    </tr>\n",
       "  </tbody>\n",
       "</table>\n",
       "<p>5 rows × 21 columns</p>\n",
       "</div>"
      ],
      "text/plain": [
       "   year        type    country              state  \\\n",
       "0  2024  Unprovoked  AUSTRALIA         Queensland   \n",
       "1  2024  Unprovoked        USA             Hawaii   \n",
       "2  2024  Unprovoked        USA             Hawaii   \n",
       "3  2024  Unprovoked  AUSTRALIA  Western Australia   \n",
       "4  2024  Unprovoked      INDIA        Maharashtra   \n",
       "\n",
       "                           location  activity                 name sex  \\\n",
       "0                     Bargara Beach  Swimming       Brooklyn Sauer   F   \n",
       "1                Old Man's, Waikiki   Surfing        Matthew White   M   \n",
       "2                    Rainbows, Oahu  Swimming                  NaN   F   \n",
       "3        Sandlnd Island, Jurian Bay       NaN               female   F   \n",
       "4  Vaitarna River, Palghar District   Fishing  Vicky Suresh Govari   M   \n",
       "\n",
       "         age                                    injury  ...   time  \\\n",
       "0  13.000000  Minor injuries to back, abdomen and legs  ...  16h00   \n",
       "1  28.042954            No injury, shark bit surfboard  ...    NaN   \n",
       "2  11.000000                  Lacerations to left foot  ...  13h30   \n",
       "3  46.000000                                Leg bitten  ...  11h30   \n",
       "4  32.000000            Calf of lower left leg injured  ...    NaN   \n",
       "\n",
       "          species                     source  pdf href_formula href  \\\n",
       "0     Tiger shark      Yahoo News, 3/15/2024  NaN          NaN  NaN   \n",
       "1  Tiger shark 8'          Surfer, 3/6/2024F  NaN          NaN  NaN   \n",
       "2  3' to 4' shark  Hawaii News Now, 3/4/2024  NaN          NaN  NaN   \n",
       "3     Tiger shark        WA Today, 2/26/2024  NaN          NaN  NaN   \n",
       "4  Bull shark, 7'  Times of India, 2/14/2024  NaN          NaN  NaN   \n",
       "\n",
       "  case_number case_number_1 original_order  date_cleaned  \n",
       "0         NaN           NaN            NaN           NaT  \n",
       "1         NaN           NaN            NaN           NaT  \n",
       "2         NaN           NaN            NaN           NaT  \n",
       "3         NaN           NaN            NaN           NaT  \n",
       "4         NaN           NaN            NaN           NaT  \n",
       "\n",
       "[5 rows x 21 columns]"
      ]
     },
     "execution_count": 56,
     "metadata": {},
     "output_type": "execute_result"
    }
   ],
   "source": [
    "# 3.3.1. Parse dates from col 'date'\n",
    "def parse_dates_and_drop(df, date_column):\n",
    "    def parse_dates(date):\n",
    "        for fmt in (\"%d %b %Y\", \"%d-%b-%Y\"):\n",
    "            try:\n",
    "                return pd.to_datetime(date, format=fmt)\n",
    "            except ValueError:\n",
    "                continue\n",
    "        return pd.NaT\n",
    "    # Apply the parse_dates function to the specified date_column\n",
    "    df['date_cleaned'] = df[date_column].apply(parse_dates)\n",
    "    # Drop the old date column\n",
    "    df.drop(columns=[date_column], inplace=True)\n",
    "    return df\n",
    "\n",
    "\n",
    "df = parse_dates_and_drop(df, 'date')\n",
    "df.head()"
   ]
  },
  {
   "cell_type": "markdown",
   "metadata": {},
   "source": [
    "#### 3.3.2. Parse date from col 'source'\n"
   ]
  },
  {
   "cell_type": "code",
   "execution_count": 57,
   "metadata": {},
   "outputs": [
    {
     "data": {
      "text/html": [
       "<div>\n",
       "<style scoped>\n",
       "    .dataframe tbody tr th:only-of-type {\n",
       "        vertical-align: middle;\n",
       "    }\n",
       "\n",
       "    .dataframe tbody tr th {\n",
       "        vertical-align: top;\n",
       "    }\n",
       "\n",
       "    .dataframe thead th {\n",
       "        text-align: right;\n",
       "    }\n",
       "</style>\n",
       "<table border=\"1\" class=\"dataframe\">\n",
       "  <thead>\n",
       "    <tr style=\"text-align: right;\">\n",
       "      <th></th>\n",
       "      <th>year</th>\n",
       "      <th>type</th>\n",
       "      <th>country</th>\n",
       "      <th>state</th>\n",
       "      <th>location</th>\n",
       "      <th>activity</th>\n",
       "      <th>name</th>\n",
       "      <th>sex</th>\n",
       "      <th>age</th>\n",
       "      <th>injury</th>\n",
       "      <th>...</th>\n",
       "      <th>species</th>\n",
       "      <th>source</th>\n",
       "      <th>pdf</th>\n",
       "      <th>href_formula</th>\n",
       "      <th>href</th>\n",
       "      <th>case_number</th>\n",
       "      <th>case_number_1</th>\n",
       "      <th>original_order</th>\n",
       "      <th>date_cleaned</th>\n",
       "      <th>date_cleaned_source</th>\n",
       "    </tr>\n",
       "  </thead>\n",
       "  <tbody>\n",
       "    <tr>\n",
       "      <th>0</th>\n",
       "      <td>2024</td>\n",
       "      <td>Unprovoked</td>\n",
       "      <td>AUSTRALIA</td>\n",
       "      <td>Queensland</td>\n",
       "      <td>Bargara Beach</td>\n",
       "      <td>Swimming</td>\n",
       "      <td>Brooklyn Sauer</td>\n",
       "      <td>F</td>\n",
       "      <td>13.000000</td>\n",
       "      <td>Minor injuries to back, abdomen and legs</td>\n",
       "      <td>...</td>\n",
       "      <td>Tiger shark</td>\n",
       "      <td>Yahoo News, 3/15/2024</td>\n",
       "      <td>NaN</td>\n",
       "      <td>NaN</td>\n",
       "      <td>NaN</td>\n",
       "      <td>NaN</td>\n",
       "      <td>NaN</td>\n",
       "      <td>NaN</td>\n",
       "      <td>NaT</td>\n",
       "      <td>2024-03-15</td>\n",
       "    </tr>\n",
       "    <tr>\n",
       "      <th>1</th>\n",
       "      <td>2024</td>\n",
       "      <td>Unprovoked</td>\n",
       "      <td>USA</td>\n",
       "      <td>Hawaii</td>\n",
       "      <td>Old Man's, Waikiki</td>\n",
       "      <td>Surfing</td>\n",
       "      <td>Matthew White</td>\n",
       "      <td>M</td>\n",
       "      <td>28.042954</td>\n",
       "      <td>No injury, shark bit surfboard</td>\n",
       "      <td>...</td>\n",
       "      <td>Tiger shark 8'</td>\n",
       "      <td>Surfer, 3/6/2024F</td>\n",
       "      <td>NaN</td>\n",
       "      <td>NaN</td>\n",
       "      <td>NaN</td>\n",
       "      <td>NaN</td>\n",
       "      <td>NaN</td>\n",
       "      <td>NaN</td>\n",
       "      <td>NaT</td>\n",
       "      <td>2024-03-06</td>\n",
       "    </tr>\n",
       "    <tr>\n",
       "      <th>2</th>\n",
       "      <td>2024</td>\n",
       "      <td>Unprovoked</td>\n",
       "      <td>USA</td>\n",
       "      <td>Hawaii</td>\n",
       "      <td>Rainbows, Oahu</td>\n",
       "      <td>Swimming</td>\n",
       "      <td>NaN</td>\n",
       "      <td>F</td>\n",
       "      <td>11.000000</td>\n",
       "      <td>Lacerations to left foot</td>\n",
       "      <td>...</td>\n",
       "      <td>3' to 4' shark</td>\n",
       "      <td>Hawaii News Now, 3/4/2024</td>\n",
       "      <td>NaN</td>\n",
       "      <td>NaN</td>\n",
       "      <td>NaN</td>\n",
       "      <td>NaN</td>\n",
       "      <td>NaN</td>\n",
       "      <td>NaN</td>\n",
       "      <td>NaT</td>\n",
       "      <td>2024-03-04</td>\n",
       "    </tr>\n",
       "    <tr>\n",
       "      <th>3</th>\n",
       "      <td>2024</td>\n",
       "      <td>Unprovoked</td>\n",
       "      <td>AUSTRALIA</td>\n",
       "      <td>Western Australia</td>\n",
       "      <td>Sandlnd Island, Jurian Bay</td>\n",
       "      <td>NaN</td>\n",
       "      <td>female</td>\n",
       "      <td>F</td>\n",
       "      <td>46.000000</td>\n",
       "      <td>Leg bitten</td>\n",
       "      <td>...</td>\n",
       "      <td>Tiger shark</td>\n",
       "      <td>WA Today, 2/26/2024</td>\n",
       "      <td>NaN</td>\n",
       "      <td>NaN</td>\n",
       "      <td>NaN</td>\n",
       "      <td>NaN</td>\n",
       "      <td>NaN</td>\n",
       "      <td>NaN</td>\n",
       "      <td>NaT</td>\n",
       "      <td>2024-02-26</td>\n",
       "    </tr>\n",
       "    <tr>\n",
       "      <th>4</th>\n",
       "      <td>2024</td>\n",
       "      <td>Unprovoked</td>\n",
       "      <td>INDIA</td>\n",
       "      <td>Maharashtra</td>\n",
       "      <td>Vaitarna River, Palghar District</td>\n",
       "      <td>Fishing</td>\n",
       "      <td>Vicky Suresh Govari</td>\n",
       "      <td>M</td>\n",
       "      <td>32.000000</td>\n",
       "      <td>Calf of lower left leg injured</td>\n",
       "      <td>...</td>\n",
       "      <td>Bull shark, 7'</td>\n",
       "      <td>Times of India, 2/14/2024</td>\n",
       "      <td>NaN</td>\n",
       "      <td>NaN</td>\n",
       "      <td>NaN</td>\n",
       "      <td>NaN</td>\n",
       "      <td>NaN</td>\n",
       "      <td>NaN</td>\n",
       "      <td>NaT</td>\n",
       "      <td>2024-02-14</td>\n",
       "    </tr>\n",
       "  </tbody>\n",
       "</table>\n",
       "<p>5 rows × 22 columns</p>\n",
       "</div>"
      ],
      "text/plain": [
       "   year        type    country              state  \\\n",
       "0  2024  Unprovoked  AUSTRALIA         Queensland   \n",
       "1  2024  Unprovoked        USA             Hawaii   \n",
       "2  2024  Unprovoked        USA             Hawaii   \n",
       "3  2024  Unprovoked  AUSTRALIA  Western Australia   \n",
       "4  2024  Unprovoked      INDIA        Maharashtra   \n",
       "\n",
       "                           location  activity                 name sex  \\\n",
       "0                     Bargara Beach  Swimming       Brooklyn Sauer   F   \n",
       "1                Old Man's, Waikiki   Surfing        Matthew White   M   \n",
       "2                    Rainbows, Oahu  Swimming                  NaN   F   \n",
       "3        Sandlnd Island, Jurian Bay       NaN               female   F   \n",
       "4  Vaitarna River, Palghar District   Fishing  Vicky Suresh Govari   M   \n",
       "\n",
       "         age                                    injury  ...         species  \\\n",
       "0  13.000000  Minor injuries to back, abdomen and legs  ...     Tiger shark   \n",
       "1  28.042954            No injury, shark bit surfboard  ...  Tiger shark 8'   \n",
       "2  11.000000                  Lacerations to left foot  ...  3' to 4' shark   \n",
       "3  46.000000                                Leg bitten  ...     Tiger shark   \n",
       "4  32.000000            Calf of lower left leg injured  ...  Bull shark, 7'   \n",
       "\n",
       "                      source  pdf href_formula href case_number case_number_1  \\\n",
       "0      Yahoo News, 3/15/2024  NaN          NaN  NaN         NaN           NaN   \n",
       "1          Surfer, 3/6/2024F  NaN          NaN  NaN         NaN           NaN   \n",
       "2  Hawaii News Now, 3/4/2024  NaN          NaN  NaN         NaN           NaN   \n",
       "3        WA Today, 2/26/2024  NaN          NaN  NaN         NaN           NaN   \n",
       "4  Times of India, 2/14/2024  NaN          NaN  NaN         NaN           NaN   \n",
       "\n",
       "  original_order date_cleaned  date_cleaned_source  \n",
       "0            NaN          NaT           2024-03-15  \n",
       "1            NaN          NaT           2024-03-06  \n",
       "2            NaN          NaT           2024-03-04  \n",
       "3            NaN          NaT           2024-02-26  \n",
       "4            NaN          NaT           2024-02-14  \n",
       "\n",
       "[5 rows x 22 columns]"
      ]
     },
     "execution_count": 57,
     "metadata": {},
     "output_type": "execute_result"
    }
   ],
   "source": [
    "# 3.3.2. Parse dates from col 'source'\n",
    "def extract_and_parse_dates(df, date_column):\n",
    "    def parse_dates(date_str):\n",
    "        if isinstance(date_str, str):  # Ensure the input is a string\n",
    "            # Extract potential date part using regex\n",
    "            match = re.search(r'(\\d{1,2}[-/]\\d{1,2}[-/]\\d{4})', date_str)\n",
    "            if match:\n",
    "                date_str = match.group(0)\n",
    "                for fmt in (\"%d-%b-%Y\", \"%d/%b/%Y\", \"%m/%d/%Y\", \"%m-%d-%Y\"):\n",
    "                    try:\n",
    "                        return pd.to_datetime(date_str, format=fmt)\n",
    "                    except ValueError:\n",
    "                        continue\n",
    "        return pd.NaT\n",
    "\n",
    "    # Apply the parse_dates function to the specified date_column\n",
    "    df['date_cleaned_source'] = df[date_column].apply(parse_dates)\n",
    "\n",
    "    # Return the modified DataFrame\n",
    "    return df\n",
    "\n",
    "\n",
    "df = extract_and_parse_dates(df, 'source')\n",
    "df.head()"
   ]
  },
  {
   "cell_type": "code",
   "execution_count": 58,
   "metadata": {},
   "outputs": [
    {
     "data": {
      "text/html": [
       "<div>\n",
       "<style scoped>\n",
       "    .dataframe tbody tr th:only-of-type {\n",
       "        vertical-align: middle;\n",
       "    }\n",
       "\n",
       "    .dataframe tbody tr th {\n",
       "        vertical-align: top;\n",
       "    }\n",
       "\n",
       "    .dataframe thead th {\n",
       "        text-align: right;\n",
       "    }\n",
       "</style>\n",
       "<table border=\"1\" class=\"dataframe\">\n",
       "  <thead>\n",
       "    <tr style=\"text-align: right;\">\n",
       "      <th></th>\n",
       "      <th>year</th>\n",
       "      <th>type</th>\n",
       "      <th>country</th>\n",
       "      <th>state</th>\n",
       "      <th>location</th>\n",
       "      <th>activity</th>\n",
       "      <th>name</th>\n",
       "      <th>sex</th>\n",
       "      <th>age</th>\n",
       "      <th>injury</th>\n",
       "      <th>...</th>\n",
       "      <th>time</th>\n",
       "      <th>species</th>\n",
       "      <th>source</th>\n",
       "      <th>pdf</th>\n",
       "      <th>href_formula</th>\n",
       "      <th>href</th>\n",
       "      <th>case_number</th>\n",
       "      <th>case_number_1</th>\n",
       "      <th>original_order</th>\n",
       "      <th>correct_date</th>\n",
       "    </tr>\n",
       "  </thead>\n",
       "  <tbody>\n",
       "    <tr>\n",
       "      <th>0</th>\n",
       "      <td>2024</td>\n",
       "      <td>Unprovoked</td>\n",
       "      <td>AUSTRALIA</td>\n",
       "      <td>Queensland</td>\n",
       "      <td>Bargara Beach</td>\n",
       "      <td>Swimming</td>\n",
       "      <td>Brooklyn Sauer</td>\n",
       "      <td>F</td>\n",
       "      <td>13.000000</td>\n",
       "      <td>Minor injuries to back, abdomen and legs</td>\n",
       "      <td>...</td>\n",
       "      <td>16h00</td>\n",
       "      <td>Tiger shark</td>\n",
       "      <td>Yahoo News, 3/15/2024</td>\n",
       "      <td>NaN</td>\n",
       "      <td>NaN</td>\n",
       "      <td>NaN</td>\n",
       "      <td>NaN</td>\n",
       "      <td>NaN</td>\n",
       "      <td>NaN</td>\n",
       "      <td>2024-03-15</td>\n",
       "    </tr>\n",
       "    <tr>\n",
       "      <th>1</th>\n",
       "      <td>2024</td>\n",
       "      <td>Unprovoked</td>\n",
       "      <td>USA</td>\n",
       "      <td>Hawaii</td>\n",
       "      <td>Old Man's, Waikiki</td>\n",
       "      <td>Surfing</td>\n",
       "      <td>Matthew White</td>\n",
       "      <td>M</td>\n",
       "      <td>28.042954</td>\n",
       "      <td>No injury, shark bit surfboard</td>\n",
       "      <td>...</td>\n",
       "      <td>NaN</td>\n",
       "      <td>Tiger shark 8'</td>\n",
       "      <td>Surfer, 3/6/2024F</td>\n",
       "      <td>NaN</td>\n",
       "      <td>NaN</td>\n",
       "      <td>NaN</td>\n",
       "      <td>NaN</td>\n",
       "      <td>NaN</td>\n",
       "      <td>NaN</td>\n",
       "      <td>2024-03-06</td>\n",
       "    </tr>\n",
       "    <tr>\n",
       "      <th>2</th>\n",
       "      <td>2024</td>\n",
       "      <td>Unprovoked</td>\n",
       "      <td>USA</td>\n",
       "      <td>Hawaii</td>\n",
       "      <td>Rainbows, Oahu</td>\n",
       "      <td>Swimming</td>\n",
       "      <td>NaN</td>\n",
       "      <td>F</td>\n",
       "      <td>11.000000</td>\n",
       "      <td>Lacerations to left foot</td>\n",
       "      <td>...</td>\n",
       "      <td>13h30</td>\n",
       "      <td>3' to 4' shark</td>\n",
       "      <td>Hawaii News Now, 3/4/2024</td>\n",
       "      <td>NaN</td>\n",
       "      <td>NaN</td>\n",
       "      <td>NaN</td>\n",
       "      <td>NaN</td>\n",
       "      <td>NaN</td>\n",
       "      <td>NaN</td>\n",
       "      <td>2024-03-04</td>\n",
       "    </tr>\n",
       "    <tr>\n",
       "      <th>3</th>\n",
       "      <td>2024</td>\n",
       "      <td>Unprovoked</td>\n",
       "      <td>AUSTRALIA</td>\n",
       "      <td>Western Australia</td>\n",
       "      <td>Sandlnd Island, Jurian Bay</td>\n",
       "      <td>NaN</td>\n",
       "      <td>female</td>\n",
       "      <td>F</td>\n",
       "      <td>46.000000</td>\n",
       "      <td>Leg bitten</td>\n",
       "      <td>...</td>\n",
       "      <td>11h30</td>\n",
       "      <td>Tiger shark</td>\n",
       "      <td>WA Today, 2/26/2024</td>\n",
       "      <td>NaN</td>\n",
       "      <td>NaN</td>\n",
       "      <td>NaN</td>\n",
       "      <td>NaN</td>\n",
       "      <td>NaN</td>\n",
       "      <td>NaN</td>\n",
       "      <td>2024-02-26</td>\n",
       "    </tr>\n",
       "    <tr>\n",
       "      <th>4</th>\n",
       "      <td>2024</td>\n",
       "      <td>Unprovoked</td>\n",
       "      <td>INDIA</td>\n",
       "      <td>Maharashtra</td>\n",
       "      <td>Vaitarna River, Palghar District</td>\n",
       "      <td>Fishing</td>\n",
       "      <td>Vicky Suresh Govari</td>\n",
       "      <td>M</td>\n",
       "      <td>32.000000</td>\n",
       "      <td>Calf of lower left leg injured</td>\n",
       "      <td>...</td>\n",
       "      <td>NaN</td>\n",
       "      <td>Bull shark, 7'</td>\n",
       "      <td>Times of India, 2/14/2024</td>\n",
       "      <td>NaN</td>\n",
       "      <td>NaN</td>\n",
       "      <td>NaN</td>\n",
       "      <td>NaN</td>\n",
       "      <td>NaN</td>\n",
       "      <td>NaN</td>\n",
       "      <td>2024-02-14</td>\n",
       "    </tr>\n",
       "  </tbody>\n",
       "</table>\n",
       "<p>5 rows × 21 columns</p>\n",
       "</div>"
      ],
      "text/plain": [
       "   year        type    country              state  \\\n",
       "0  2024  Unprovoked  AUSTRALIA         Queensland   \n",
       "1  2024  Unprovoked        USA             Hawaii   \n",
       "2  2024  Unprovoked        USA             Hawaii   \n",
       "3  2024  Unprovoked  AUSTRALIA  Western Australia   \n",
       "4  2024  Unprovoked      INDIA        Maharashtra   \n",
       "\n",
       "                           location  activity                 name sex  \\\n",
       "0                     Bargara Beach  Swimming       Brooklyn Sauer   F   \n",
       "1                Old Man's, Waikiki   Surfing        Matthew White   M   \n",
       "2                    Rainbows, Oahu  Swimming                  NaN   F   \n",
       "3        Sandlnd Island, Jurian Bay       NaN               female   F   \n",
       "4  Vaitarna River, Palghar District   Fishing  Vicky Suresh Govari   M   \n",
       "\n",
       "         age                                    injury  ...   time  \\\n",
       "0  13.000000  Minor injuries to back, abdomen and legs  ...  16h00   \n",
       "1  28.042954            No injury, shark bit surfboard  ...    NaN   \n",
       "2  11.000000                  Lacerations to left foot  ...  13h30   \n",
       "3  46.000000                                Leg bitten  ...  11h30   \n",
       "4  32.000000            Calf of lower left leg injured  ...    NaN   \n",
       "\n",
       "          species                     source  pdf href_formula href  \\\n",
       "0     Tiger shark      Yahoo News, 3/15/2024  NaN          NaN  NaN   \n",
       "1  Tiger shark 8'          Surfer, 3/6/2024F  NaN          NaN  NaN   \n",
       "2  3' to 4' shark  Hawaii News Now, 3/4/2024  NaN          NaN  NaN   \n",
       "3     Tiger shark        WA Today, 2/26/2024  NaN          NaN  NaN   \n",
       "4  Bull shark, 7'  Times of India, 2/14/2024  NaN          NaN  NaN   \n",
       "\n",
       "  case_number case_number_1 original_order  correct_date  \n",
       "0         NaN           NaN            NaN    2024-03-15  \n",
       "1         NaN           NaN            NaN    2024-03-06  \n",
       "2         NaN           NaN            NaN    2024-03-04  \n",
       "3         NaN           NaN            NaN    2024-02-26  \n",
       "4         NaN           NaN            NaN    2024-02-14  \n",
       "\n",
       "[5 rows x 21 columns]"
      ]
     },
     "execution_count": 58,
     "metadata": {},
     "output_type": "execute_result"
    }
   ],
   "source": [
    "# 3.3.2a. Merge parsed dates to one column\n",
    "def merge_date_columns(df, col1, col2, merged_col_name='correct_date'):\n",
    "    \"\"\"\n",
    "    Merges two date columns by taking the first non-null occurrence from either column.\n",
    "\n",
    "    Parameters:\n",
    "    df (pd.DataFrame): The DataFrame containing the date columns.\n",
    "    col1 (str): The name of the first date column.\n",
    "    col2 (str): The name of the second date column.\n",
    "    merged_col_name (str): The name of the resulting merged date column (default is 'correct_date').\n",
    "\n",
    "    Returns:\n",
    "    pd.DataFrame: The DataFrame with the merged date column.\n",
    "    \"\"\"\n",
    "    # Merge columns by taking the first non-null occurrence\n",
    "    df[merged_col_name] = df[col1].combine_first(df[col2])\n",
    "    df = df.drop(columns=['date_cleaned', 'date_cleaned_source'])\n",
    "    return df\n",
    "\n",
    "\n",
    "df = merge_date_columns(df, 'date_cleaned', 'date_cleaned_source')\n",
    "df.head()"
   ]
  },
  {
   "cell_type": "markdown",
   "metadata": {},
   "source": [
    "#### 3.3.3.Parse time from col 'time' and aggregate results in bins 'Morning', 'Day', 'Evening', 'Night'\n"
   ]
  },
  {
   "cell_type": "code",
   "execution_count": 59,
   "metadata": {},
   "outputs": [
    {
     "data": {
      "text/html": [
       "<div>\n",
       "<style scoped>\n",
       "    .dataframe tbody tr th:only-of-type {\n",
       "        vertical-align: middle;\n",
       "    }\n",
       "\n",
       "    .dataframe tbody tr th {\n",
       "        vertical-align: top;\n",
       "    }\n",
       "\n",
       "    .dataframe thead th {\n",
       "        text-align: right;\n",
       "    }\n",
       "</style>\n",
       "<table border=\"1\" class=\"dataframe\">\n",
       "  <thead>\n",
       "    <tr style=\"text-align: right;\">\n",
       "      <th></th>\n",
       "      <th>year</th>\n",
       "      <th>type</th>\n",
       "      <th>country</th>\n",
       "      <th>state</th>\n",
       "      <th>location</th>\n",
       "      <th>activity</th>\n",
       "      <th>name</th>\n",
       "      <th>sex</th>\n",
       "      <th>age</th>\n",
       "      <th>injury</th>\n",
       "      <th>...</th>\n",
       "      <th>species</th>\n",
       "      <th>source</th>\n",
       "      <th>pdf</th>\n",
       "      <th>href_formula</th>\n",
       "      <th>href</th>\n",
       "      <th>case_number</th>\n",
       "      <th>case_number_1</th>\n",
       "      <th>original_order</th>\n",
       "      <th>correct_date</th>\n",
       "      <th>time_of_day</th>\n",
       "    </tr>\n",
       "  </thead>\n",
       "  <tbody>\n",
       "    <tr>\n",
       "      <th>0</th>\n",
       "      <td>2024</td>\n",
       "      <td>Unprovoked</td>\n",
       "      <td>AUSTRALIA</td>\n",
       "      <td>Queensland</td>\n",
       "      <td>Bargara Beach</td>\n",
       "      <td>Swimming</td>\n",
       "      <td>Brooklyn Sauer</td>\n",
       "      <td>F</td>\n",
       "      <td>13.000000</td>\n",
       "      <td>Minor injuries to back, abdomen and legs</td>\n",
       "      <td>...</td>\n",
       "      <td>Tiger shark</td>\n",
       "      <td>Yahoo News, 3/15/2024</td>\n",
       "      <td>NaN</td>\n",
       "      <td>NaN</td>\n",
       "      <td>NaN</td>\n",
       "      <td>NaN</td>\n",
       "      <td>NaN</td>\n",
       "      <td>NaN</td>\n",
       "      <td>2024-03-15</td>\n",
       "      <td>Day</td>\n",
       "    </tr>\n",
       "    <tr>\n",
       "      <th>1</th>\n",
       "      <td>2024</td>\n",
       "      <td>Unprovoked</td>\n",
       "      <td>USA</td>\n",
       "      <td>Hawaii</td>\n",
       "      <td>Old Man's, Waikiki</td>\n",
       "      <td>Surfing</td>\n",
       "      <td>Matthew White</td>\n",
       "      <td>M</td>\n",
       "      <td>28.042954</td>\n",
       "      <td>No injury, shark bit surfboard</td>\n",
       "      <td>...</td>\n",
       "      <td>Tiger shark 8'</td>\n",
       "      <td>Surfer, 3/6/2024F</td>\n",
       "      <td>NaN</td>\n",
       "      <td>NaN</td>\n",
       "      <td>NaN</td>\n",
       "      <td>NaN</td>\n",
       "      <td>NaN</td>\n",
       "      <td>NaN</td>\n",
       "      <td>2024-03-06</td>\n",
       "      <td>Unknown</td>\n",
       "    </tr>\n",
       "    <tr>\n",
       "      <th>2</th>\n",
       "      <td>2024</td>\n",
       "      <td>Unprovoked</td>\n",
       "      <td>USA</td>\n",
       "      <td>Hawaii</td>\n",
       "      <td>Rainbows, Oahu</td>\n",
       "      <td>Swimming</td>\n",
       "      <td>NaN</td>\n",
       "      <td>F</td>\n",
       "      <td>11.000000</td>\n",
       "      <td>Lacerations to left foot</td>\n",
       "      <td>...</td>\n",
       "      <td>3' to 4' shark</td>\n",
       "      <td>Hawaii News Now, 3/4/2024</td>\n",
       "      <td>NaN</td>\n",
       "      <td>NaN</td>\n",
       "      <td>NaN</td>\n",
       "      <td>NaN</td>\n",
       "      <td>NaN</td>\n",
       "      <td>NaN</td>\n",
       "      <td>2024-03-04</td>\n",
       "      <td>Day</td>\n",
       "    </tr>\n",
       "    <tr>\n",
       "      <th>3</th>\n",
       "      <td>2024</td>\n",
       "      <td>Unprovoked</td>\n",
       "      <td>AUSTRALIA</td>\n",
       "      <td>Western Australia</td>\n",
       "      <td>Sandlnd Island, Jurian Bay</td>\n",
       "      <td>NaN</td>\n",
       "      <td>female</td>\n",
       "      <td>F</td>\n",
       "      <td>46.000000</td>\n",
       "      <td>Leg bitten</td>\n",
       "      <td>...</td>\n",
       "      <td>Tiger shark</td>\n",
       "      <td>WA Today, 2/26/2024</td>\n",
       "      <td>NaN</td>\n",
       "      <td>NaN</td>\n",
       "      <td>NaN</td>\n",
       "      <td>NaN</td>\n",
       "      <td>NaN</td>\n",
       "      <td>NaN</td>\n",
       "      <td>2024-02-26</td>\n",
       "      <td>Morning</td>\n",
       "    </tr>\n",
       "    <tr>\n",
       "      <th>4</th>\n",
       "      <td>2024</td>\n",
       "      <td>Unprovoked</td>\n",
       "      <td>INDIA</td>\n",
       "      <td>Maharashtra</td>\n",
       "      <td>Vaitarna River, Palghar District</td>\n",
       "      <td>Fishing</td>\n",
       "      <td>Vicky Suresh Govari</td>\n",
       "      <td>M</td>\n",
       "      <td>32.000000</td>\n",
       "      <td>Calf of lower left leg injured</td>\n",
       "      <td>...</td>\n",
       "      <td>Bull shark, 7'</td>\n",
       "      <td>Times of India, 2/14/2024</td>\n",
       "      <td>NaN</td>\n",
       "      <td>NaN</td>\n",
       "      <td>NaN</td>\n",
       "      <td>NaN</td>\n",
       "      <td>NaN</td>\n",
       "      <td>NaN</td>\n",
       "      <td>2024-02-14</td>\n",
       "      <td>Unknown</td>\n",
       "    </tr>\n",
       "  </tbody>\n",
       "</table>\n",
       "<p>5 rows × 22 columns</p>\n",
       "</div>"
      ],
      "text/plain": [
       "   year        type    country              state  \\\n",
       "0  2024  Unprovoked  AUSTRALIA         Queensland   \n",
       "1  2024  Unprovoked        USA             Hawaii   \n",
       "2  2024  Unprovoked        USA             Hawaii   \n",
       "3  2024  Unprovoked  AUSTRALIA  Western Australia   \n",
       "4  2024  Unprovoked      INDIA        Maharashtra   \n",
       "\n",
       "                           location  activity                 name sex  \\\n",
       "0                     Bargara Beach  Swimming       Brooklyn Sauer   F   \n",
       "1                Old Man's, Waikiki   Surfing        Matthew White   M   \n",
       "2                    Rainbows, Oahu  Swimming                  NaN   F   \n",
       "3        Sandlnd Island, Jurian Bay       NaN               female   F   \n",
       "4  Vaitarna River, Palghar District   Fishing  Vicky Suresh Govari   M   \n",
       "\n",
       "         age                                    injury  ...         species  \\\n",
       "0  13.000000  Minor injuries to back, abdomen and legs  ...     Tiger shark   \n",
       "1  28.042954            No injury, shark bit surfboard  ...  Tiger shark 8'   \n",
       "2  11.000000                  Lacerations to left foot  ...  3' to 4' shark   \n",
       "3  46.000000                                Leg bitten  ...     Tiger shark   \n",
       "4  32.000000            Calf of lower left leg injured  ...  Bull shark, 7'   \n",
       "\n",
       "                      source  pdf href_formula href case_number case_number_1  \\\n",
       "0      Yahoo News, 3/15/2024  NaN          NaN  NaN         NaN           NaN   \n",
       "1          Surfer, 3/6/2024F  NaN          NaN  NaN         NaN           NaN   \n",
       "2  Hawaii News Now, 3/4/2024  NaN          NaN  NaN         NaN           NaN   \n",
       "3        WA Today, 2/26/2024  NaN          NaN  NaN         NaN           NaN   \n",
       "4  Times of India, 2/14/2024  NaN          NaN  NaN         NaN           NaN   \n",
       "\n",
       "  original_order correct_date  time_of_day  \n",
       "0            NaN   2024-03-15          Day  \n",
       "1            NaN   2024-03-06      Unknown  \n",
       "2            NaN   2024-03-04          Day  \n",
       "3            NaN   2024-02-26      Morning  \n",
       "4            NaN   2024-02-14      Unknown  \n",
       "\n",
       "[5 rows x 22 columns]"
      ]
     },
     "execution_count": 59,
     "metadata": {},
     "output_type": "execute_result"
    }
   ],
   "source": [
    "# 3.3.3. Parse time from col 'time' and aggregate results in bins  'Morning', 'Day', 'Evening', 'Night'\n",
    "def parse_and_bin_time(df, time_column):\n",
    "    # Define a function to convert time to hour or return predefined periods as they are\n",
    "    def convert_to_hour_or_bin(time_str):\n",
    "        # Check if time_str is one of the predefined periods\n",
    "        predefined_periods = ['Morning', 'Day', 'Evening', 'Night']\n",
    "        if time_str in predefined_periods:\n",
    "            return time_str\n",
    "        elif isinstance(time_str, str):  # Ensure the input is a string\n",
    "            # Regular expression to extract hour from time string\n",
    "            match = re.search(r'(\\d{1,2})h', time_str)\n",
    "            if match:\n",
    "                hour = int(match.group(1))\n",
    "                return bin_time(hour)\n",
    "        return 'Unknown'\n",
    "\n",
    "    # Define the binning logic for hours\n",
    "    def bin_time(hour):\n",
    "        if hour in [23, 24, 0, 1, 2, 3, 4]:\n",
    "            return 'Night'\n",
    "        elif hour in [5, 6, 7, 8, 9, 10, 11]:\n",
    "            return 'Morning'\n",
    "        elif hour in [12, 13, 14, 15, 16, 17]:\n",
    "            return 'Day'\n",
    "        elif hour in [18, 19, 20, 21, 22]:\n",
    "            return 'Evening'\n",
    "        else:\n",
    "            return 'Unknown'\n",
    "\n",
    "    # Apply the function to bin or preserve the time period\n",
    "    df['time_of_day'] = df[time_column].apply(convert_to_hour_or_bin)\n",
    "    return df\n",
    "\n",
    "\n",
    "df = parse_and_bin_time(df, 'time')\n",
    "df.head()"
   ]
  },
  {
   "cell_type": "markdown",
   "metadata": {},
   "source": [
    "#### 3.4. Handling Missing Values\n",
    "\n",
    "- 3.4.1. Identify missing data.\n",
    "- 3.4.2. Delete rows: Col 'Unnamed: 21' and 'Unnamed: 22' have 99.99% missing data, and irrelevant cols: 'href_formula','href', 'unnamed_11', 'pdf', 'case_number','case_number_1','original_order'- to drop\n",
    "- 3.4.3. Delete rows with missing data, keep rows with at least threshold = 8 non-missing values\n",
    "- 3.4.4. Impute missing values in numerical columns by replacing with the mean, median, or mode\n",
    "- 3.4.5. replace NaN with the last valid observation\n",
    "- 3.4.6. Impute missing values in categorical columns by replacing with the most frequent value (mode) and `'Unknown'`.\n"
   ]
  },
  {
   "cell_type": "markdown",
   "metadata": {},
   "source": [
    "#### 3.4.1. Identify missing data.\n"
   ]
  },
  {
   "cell_type": "code",
   "execution_count": 60,
   "metadata": {},
   "outputs": [
    {
     "data": {
      "text/html": [
       "<div>\n",
       "<style scoped>\n",
       "    .dataframe tbody tr th:only-of-type {\n",
       "        vertical-align: middle;\n",
       "    }\n",
       "\n",
       "    .dataframe tbody tr th {\n",
       "        vertical-align: top;\n",
       "    }\n",
       "\n",
       "    .dataframe thead th {\n",
       "        text-align: right;\n",
       "    }\n",
       "</style>\n",
       "<table border=\"1\" class=\"dataframe\">\n",
       "  <thead>\n",
       "    <tr style=\"text-align: right;\">\n",
       "      <th></th>\n",
       "      <th>non-Null_count</th>\n",
       "      <th>dtype</th>\n",
       "      <th>unique_values</th>\n",
       "      <th>%_unique</th>\n",
       "      <th>missing_values</th>\n",
       "      <th>%_missing</th>\n",
       "    </tr>\n",
       "  </thead>\n",
       "  <tbody>\n",
       "    <tr>\n",
       "      <th>year</th>\n",
       "      <td>6945</td>\n",
       "      <td>int64</td>\n",
       "      <td>259</td>\n",
       "      <td>3.73%</td>\n",
       "      <td>0</td>\n",
       "      <td>0.0%</td>\n",
       "    </tr>\n",
       "    <tr>\n",
       "      <th>type</th>\n",
       "      <td>6926</td>\n",
       "      <td>object</td>\n",
       "      <td>12</td>\n",
       "      <td>0.17%</td>\n",
       "      <td>19</td>\n",
       "      <td>0.27%</td>\n",
       "    </tr>\n",
       "    <tr>\n",
       "      <th>country</th>\n",
       "      <td>6894</td>\n",
       "      <td>object</td>\n",
       "      <td>225</td>\n",
       "      <td>3.24%</td>\n",
       "      <td>51</td>\n",
       "      <td>0.73%</td>\n",
       "    </tr>\n",
       "    <tr>\n",
       "      <th>state</th>\n",
       "      <td>6462</td>\n",
       "      <td>object</td>\n",
       "      <td>902</td>\n",
       "      <td>12.99%</td>\n",
       "      <td>483</td>\n",
       "      <td>6.95%</td>\n",
       "    </tr>\n",
       "    <tr>\n",
       "      <th>location</th>\n",
       "      <td>6379</td>\n",
       "      <td>object</td>\n",
       "      <td>4514</td>\n",
       "      <td>65.0%</td>\n",
       "      <td>566</td>\n",
       "      <td>8.15%</td>\n",
       "    </tr>\n",
       "    <tr>\n",
       "      <th>activity</th>\n",
       "      <td>6358</td>\n",
       "      <td>object</td>\n",
       "      <td>1587</td>\n",
       "      <td>22.85%</td>\n",
       "      <td>587</td>\n",
       "      <td>8.45%</td>\n",
       "    </tr>\n",
       "    <tr>\n",
       "      <th>name</th>\n",
       "      <td>6724</td>\n",
       "      <td>object</td>\n",
       "      <td>5683</td>\n",
       "      <td>81.83%</td>\n",
       "      <td>221</td>\n",
       "      <td>3.18%</td>\n",
       "    </tr>\n",
       "    <tr>\n",
       "      <th>sex</th>\n",
       "      <td>6365</td>\n",
       "      <td>object</td>\n",
       "      <td>8</td>\n",
       "      <td>0.12%</td>\n",
       "      <td>580</td>\n",
       "      <td>8.35%</td>\n",
       "    </tr>\n",
       "    <tr>\n",
       "      <th>age</th>\n",
       "      <td>6945</td>\n",
       "      <td>float64</td>\n",
       "      <td>82</td>\n",
       "      <td>1.18%</td>\n",
       "      <td>0</td>\n",
       "      <td>0.0%</td>\n",
       "    </tr>\n",
       "    <tr>\n",
       "      <th>injury</th>\n",
       "      <td>6909</td>\n",
       "      <td>object</td>\n",
       "      <td>4079</td>\n",
       "      <td>58.73%</td>\n",
       "      <td>36</td>\n",
       "      <td>0.52%</td>\n",
       "    </tr>\n",
       "    <tr>\n",
       "      <th>unnamed_11</th>\n",
       "      <td>6382</td>\n",
       "      <td>object</td>\n",
       "      <td>12</td>\n",
       "      <td>0.17%</td>\n",
       "      <td>563</td>\n",
       "      <td>8.11%</td>\n",
       "    </tr>\n",
       "    <tr>\n",
       "      <th>time</th>\n",
       "      <td>3418</td>\n",
       "      <td>object</td>\n",
       "      <td>410</td>\n",
       "      <td>5.9%</td>\n",
       "      <td>3527</td>\n",
       "      <td>50.78%</td>\n",
       "    </tr>\n",
       "    <tr>\n",
       "      <th>species</th>\n",
       "      <td>3812</td>\n",
       "      <td>object</td>\n",
       "      <td>1675</td>\n",
       "      <td>24.12%</td>\n",
       "      <td>3133</td>\n",
       "      <td>45.11%</td>\n",
       "    </tr>\n",
       "    <tr>\n",
       "      <th>source</th>\n",
       "      <td>6925</td>\n",
       "      <td>object</td>\n",
       "      <td>5302</td>\n",
       "      <td>76.34%</td>\n",
       "      <td>20</td>\n",
       "      <td>0.29%</td>\n",
       "    </tr>\n",
       "    <tr>\n",
       "      <th>pdf</th>\n",
       "      <td>6799</td>\n",
       "      <td>object</td>\n",
       "      <td>6789</td>\n",
       "      <td>97.75%</td>\n",
       "      <td>146</td>\n",
       "      <td>2.1%</td>\n",
       "    </tr>\n",
       "    <tr>\n",
       "      <th>href_formula</th>\n",
       "      <td>6795</td>\n",
       "      <td>object</td>\n",
       "      <td>6785</td>\n",
       "      <td>97.7%</td>\n",
       "      <td>150</td>\n",
       "      <td>2.16%</td>\n",
       "    </tr>\n",
       "    <tr>\n",
       "      <th>href</th>\n",
       "      <td>6796</td>\n",
       "      <td>object</td>\n",
       "      <td>6776</td>\n",
       "      <td>97.57%</td>\n",
       "      <td>149</td>\n",
       "      <td>2.15%</td>\n",
       "    </tr>\n",
       "    <tr>\n",
       "      <th>case_number</th>\n",
       "      <td>6798</td>\n",
       "      <td>object</td>\n",
       "      <td>6777</td>\n",
       "      <td>97.58%</td>\n",
       "      <td>147</td>\n",
       "      <td>2.12%</td>\n",
       "    </tr>\n",
       "    <tr>\n",
       "      <th>case_number_1</th>\n",
       "      <td>6797</td>\n",
       "      <td>object</td>\n",
       "      <td>6775</td>\n",
       "      <td>97.55%</td>\n",
       "      <td>148</td>\n",
       "      <td>2.13%</td>\n",
       "    </tr>\n",
       "    <tr>\n",
       "      <th>original_order</th>\n",
       "      <td>6799</td>\n",
       "      <td>float64</td>\n",
       "      <td>6797</td>\n",
       "      <td>97.87%</td>\n",
       "      <td>146</td>\n",
       "      <td>2.1%</td>\n",
       "    </tr>\n",
       "    <tr>\n",
       "      <th>correct_date</th>\n",
       "      <td>3366</td>\n",
       "      <td>datetime64[ns]</td>\n",
       "      <td>2982</td>\n",
       "      <td>42.94%</td>\n",
       "      <td>3579</td>\n",
       "      <td>51.53%</td>\n",
       "    </tr>\n",
       "    <tr>\n",
       "      <th>time_of_day</th>\n",
       "      <td>6945</td>\n",
       "      <td>object</td>\n",
       "      <td>5</td>\n",
       "      <td>0.07%</td>\n",
       "      <td>0</td>\n",
       "      <td>0.0%</td>\n",
       "    </tr>\n",
       "  </tbody>\n",
       "</table>\n",
       "</div>"
      ],
      "text/plain": [
       "                non-Null_count           dtype  unique_values %_unique  \\\n",
       "year                      6945           int64            259    3.73%   \n",
       "type                      6926          object             12    0.17%   \n",
       "country                   6894          object            225    3.24%   \n",
       "state                     6462          object            902   12.99%   \n",
       "location                  6379          object           4514    65.0%   \n",
       "activity                  6358          object           1587   22.85%   \n",
       "name                      6724          object           5683   81.83%   \n",
       "sex                       6365          object              8    0.12%   \n",
       "age                       6945         float64             82    1.18%   \n",
       "injury                    6909          object           4079   58.73%   \n",
       "unnamed_11                6382          object             12    0.17%   \n",
       "time                      3418          object            410     5.9%   \n",
       "species                   3812          object           1675   24.12%   \n",
       "source                    6925          object           5302   76.34%   \n",
       "pdf                       6799          object           6789   97.75%   \n",
       "href_formula              6795          object           6785    97.7%   \n",
       "href                      6796          object           6776   97.57%   \n",
       "case_number               6798          object           6777   97.58%   \n",
       "case_number_1             6797          object           6775   97.55%   \n",
       "original_order            6799         float64           6797   97.87%   \n",
       "correct_date              3366  datetime64[ns]           2982   42.94%   \n",
       "time_of_day               6945          object              5    0.07%   \n",
       "\n",
       "                missing_values %_missing  \n",
       "year                         0      0.0%  \n",
       "type                        19     0.27%  \n",
       "country                     51     0.73%  \n",
       "state                      483     6.95%  \n",
       "location                   566     8.15%  \n",
       "activity                   587     8.45%  \n",
       "name                       221     3.18%  \n",
       "sex                        580     8.35%  \n",
       "age                          0      0.0%  \n",
       "injury                      36     0.52%  \n",
       "unnamed_11                 563     8.11%  \n",
       "time                      3527    50.78%  \n",
       "species                   3133    45.11%  \n",
       "source                      20     0.29%  \n",
       "pdf                        146      2.1%  \n",
       "href_formula               150     2.16%  \n",
       "href                       149     2.15%  \n",
       "case_number                147     2.12%  \n",
       "case_number_1              148     2.13%  \n",
       "original_order             146      2.1%  \n",
       "correct_date              3579    51.53%  \n",
       "time_of_day                  0      0.0%  "
      ]
     },
     "execution_count": 60,
     "metadata": {},
     "output_type": "execute_result"
    }
   ],
   "source": [
    "# 3.4.1. Identify missing data.\n",
    "unique_and_missing_values_dtype(df)"
   ]
  },
  {
   "cell_type": "markdown",
   "metadata": {},
   "source": [
    "#### 3.4.2. Delete rows that have 99.99% missing data, and irrelevant cols: 'href_formula','href', 'unnamed_11', 'pdf', 'case_number','case_number_1','original_order'- to drop\n"
   ]
  },
  {
   "cell_type": "code",
   "execution_count": 61,
   "metadata": {},
   "outputs": [],
   "source": [
    "# 3.4.2. Delete rows that have 99.99% missing data, and irrelevant cols: 'href_formula','href', 'unnamed_11', 'pdf', 'case_number','case_number_1','original_order'- to drop\n",
    "df = df.drop(columns=['href_formula', 'href', 'unnamed_11',\n",
    "             'pdf', 'case_number', 'case_number_1', 'original_order'])"
   ]
  },
  {
   "cell_type": "markdown",
   "metadata": {},
   "source": [
    "#### 3.4.3. Delete rows with missing data, keep rows with at least threshold = 8 non-missing values\n"
   ]
  },
  {
   "cell_type": "code",
   "execution_count": 62,
   "metadata": {},
   "outputs": [
    {
     "data": {
      "text/html": [
       "<div>\n",
       "<style scoped>\n",
       "    .dataframe tbody tr th:only-of-type {\n",
       "        vertical-align: middle;\n",
       "    }\n",
       "\n",
       "    .dataframe tbody tr th {\n",
       "        vertical-align: top;\n",
       "    }\n",
       "\n",
       "    .dataframe thead th {\n",
       "        text-align: right;\n",
       "    }\n",
       "</style>\n",
       "<table border=\"1\" class=\"dataframe\">\n",
       "  <thead>\n",
       "    <tr style=\"text-align: right;\">\n",
       "      <th></th>\n",
       "      <th>year</th>\n",
       "      <th>type</th>\n",
       "      <th>country</th>\n",
       "      <th>state</th>\n",
       "      <th>location</th>\n",
       "      <th>activity</th>\n",
       "      <th>name</th>\n",
       "      <th>sex</th>\n",
       "      <th>age</th>\n",
       "      <th>injury</th>\n",
       "      <th>time</th>\n",
       "      <th>species</th>\n",
       "      <th>source</th>\n",
       "      <th>correct_date</th>\n",
       "      <th>time_of_day</th>\n",
       "    </tr>\n",
       "  </thead>\n",
       "  <tbody>\n",
       "    <tr>\n",
       "      <th>0</th>\n",
       "      <td>2024</td>\n",
       "      <td>Unprovoked</td>\n",
       "      <td>AUSTRALIA</td>\n",
       "      <td>Queensland</td>\n",
       "      <td>Bargara Beach</td>\n",
       "      <td>Swimming</td>\n",
       "      <td>Brooklyn Sauer</td>\n",
       "      <td>F</td>\n",
       "      <td>13.000000</td>\n",
       "      <td>Minor injuries to back, abdomen and legs</td>\n",
       "      <td>16h00</td>\n",
       "      <td>Tiger shark</td>\n",
       "      <td>Yahoo News, 3/15/2024</td>\n",
       "      <td>2024-03-15</td>\n",
       "      <td>Day</td>\n",
       "    </tr>\n",
       "    <tr>\n",
       "      <th>1</th>\n",
       "      <td>2024</td>\n",
       "      <td>Unprovoked</td>\n",
       "      <td>USA</td>\n",
       "      <td>Hawaii</td>\n",
       "      <td>Old Man's, Waikiki</td>\n",
       "      <td>Surfing</td>\n",
       "      <td>Matthew White</td>\n",
       "      <td>M</td>\n",
       "      <td>28.042954</td>\n",
       "      <td>No injury, shark bit surfboard</td>\n",
       "      <td>NaN</td>\n",
       "      <td>Tiger shark 8'</td>\n",
       "      <td>Surfer, 3/6/2024F</td>\n",
       "      <td>2024-03-06</td>\n",
       "      <td>Unknown</td>\n",
       "    </tr>\n",
       "    <tr>\n",
       "      <th>2</th>\n",
       "      <td>2024</td>\n",
       "      <td>Unprovoked</td>\n",
       "      <td>USA</td>\n",
       "      <td>Hawaii</td>\n",
       "      <td>Rainbows, Oahu</td>\n",
       "      <td>Swimming</td>\n",
       "      <td>NaN</td>\n",
       "      <td>F</td>\n",
       "      <td>11.000000</td>\n",
       "      <td>Lacerations to left foot</td>\n",
       "      <td>13h30</td>\n",
       "      <td>3' to 4' shark</td>\n",
       "      <td>Hawaii News Now, 3/4/2024</td>\n",
       "      <td>2024-03-04</td>\n",
       "      <td>Day</td>\n",
       "    </tr>\n",
       "    <tr>\n",
       "      <th>3</th>\n",
       "      <td>2024</td>\n",
       "      <td>Unprovoked</td>\n",
       "      <td>AUSTRALIA</td>\n",
       "      <td>Western Australia</td>\n",
       "      <td>Sandlnd Island, Jurian Bay</td>\n",
       "      <td>NaN</td>\n",
       "      <td>female</td>\n",
       "      <td>F</td>\n",
       "      <td>46.000000</td>\n",
       "      <td>Leg bitten</td>\n",
       "      <td>11h30</td>\n",
       "      <td>Tiger shark</td>\n",
       "      <td>WA Today, 2/26/2024</td>\n",
       "      <td>2024-02-26</td>\n",
       "      <td>Morning</td>\n",
       "    </tr>\n",
       "    <tr>\n",
       "      <th>4</th>\n",
       "      <td>2024</td>\n",
       "      <td>Unprovoked</td>\n",
       "      <td>INDIA</td>\n",
       "      <td>Maharashtra</td>\n",
       "      <td>Vaitarna River, Palghar District</td>\n",
       "      <td>Fishing</td>\n",
       "      <td>Vicky Suresh Govari</td>\n",
       "      <td>M</td>\n",
       "      <td>32.000000</td>\n",
       "      <td>Calf of lower left leg injured</td>\n",
       "      <td>NaN</td>\n",
       "      <td>Bull shark, 7'</td>\n",
       "      <td>Times of India, 2/14/2024</td>\n",
       "      <td>2024-02-14</td>\n",
       "      <td>Unknown</td>\n",
       "    </tr>\n",
       "  </tbody>\n",
       "</table>\n",
       "</div>"
      ],
      "text/plain": [
       "   year        type    country              state  \\\n",
       "0  2024  Unprovoked  AUSTRALIA         Queensland   \n",
       "1  2024  Unprovoked        USA             Hawaii   \n",
       "2  2024  Unprovoked        USA             Hawaii   \n",
       "3  2024  Unprovoked  AUSTRALIA  Western Australia   \n",
       "4  2024  Unprovoked      INDIA        Maharashtra   \n",
       "\n",
       "                           location  activity                 name sex  \\\n",
       "0                     Bargara Beach  Swimming       Brooklyn Sauer   F   \n",
       "1                Old Man's, Waikiki   Surfing        Matthew White   M   \n",
       "2                    Rainbows, Oahu  Swimming                  NaN   F   \n",
       "3        Sandlnd Island, Jurian Bay       NaN               female   F   \n",
       "4  Vaitarna River, Palghar District   Fishing  Vicky Suresh Govari   M   \n",
       "\n",
       "         age                                    injury   time         species  \\\n",
       "0  13.000000  Minor injuries to back, abdomen and legs  16h00     Tiger shark   \n",
       "1  28.042954            No injury, shark bit surfboard    NaN  Tiger shark 8'   \n",
       "2  11.000000                  Lacerations to left foot  13h30  3' to 4' shark   \n",
       "3  46.000000                                Leg bitten  11h30     Tiger shark   \n",
       "4  32.000000            Calf of lower left leg injured    NaN  Bull shark, 7'   \n",
       "\n",
       "                      source correct_date time_of_day  \n",
       "0      Yahoo News, 3/15/2024   2024-03-15         Day  \n",
       "1          Surfer, 3/6/2024F   2024-03-06     Unknown  \n",
       "2  Hawaii News Now, 3/4/2024   2024-03-04         Day  \n",
       "3        WA Today, 2/26/2024   2024-02-26     Morning  \n",
       "4  Times of India, 2/14/2024   2024-02-14     Unknown  "
      ]
     },
     "execution_count": 62,
     "metadata": {},
     "output_type": "execute_result"
    }
   ],
   "source": [
    "# 3.4.3. Delete rows with missing data, keep rows with at least threshold = 8 non-missing values\n",
    "def drop_rows_with_many_missing_values(df, threshold):\n",
    "    \"\"\"\n",
    "    Drops rows from the DataFrame that have less than a specified number of non-missing values.\n",
    "\n",
    "    :param df: pandas DataFrame\n",
    "    :param threshold: The minimum number of non-missing values required to keep a row\n",
    "    :return: DataFrame with rows having many missing values dropped\n",
    "    \"\"\"\n",
    "    # Drop rows with fewer non-NA values than the threshold\n",
    "    df_cleaned = df.dropna(thresh=threshold)\n",
    "    return df_cleaned\n",
    "\n",
    "\n",
    "df = drop_rows_with_many_missing_values(df, threshold=8)\n",
    "df.head()"
   ]
  },
  {
   "cell_type": "markdown",
   "metadata": {},
   "source": [
    "#### 3.4.4. Impute missing values in numerical columns by replacing with the mean, median, or mode.\n"
   ]
  },
  {
   "cell_type": "code",
   "execution_count": 63,
   "metadata": {},
   "outputs": [
    {
     "data": {
      "text/plain": [
       "array([13, 28, 11, 46, 32, 29, 10, 64, 62, 39, 22, 15, 16, 21, 66, 52, 20,\n",
       "       44, 26, 47, 55, 30, 59,  8, 50, 45, 34, 38, 37,  9, 19, 35, 65, 77,\n",
       "       60, 49, 42, 24, 73, 25, 18, 58, 67, 17, 14,  6, 41, 53, 68, 43, 40,\n",
       "       51, 31, 33, 56, 12, 36, 27, 57,  7, 71, 48, 54, 75, 61, 70, 23,  4,\n",
       "       63, 74, 69,  3, 82, 72,  5, 86, 84, 87,  1, 81, 78])"
      ]
     },
     "execution_count": 63,
     "metadata": {},
     "output_type": "execute_result"
    }
   ],
   "source": [
    "import pandas as pd\n",
    "\n",
    "\n",
    "def age_group(df, age_column='age'):\n",
    "    \"\"\"\n",
    "    This function fills missing values (NaN and 0) in the 'age' column with the mode,\n",
    "    and then adds an 'age_group' column based on the 'age' column.\n",
    "\n",
    "    Parameters:\n",
    "    df (pd.DataFrame): The DataFrame to modify.\n",
    "    age_column (str): The column name that contains age data. Default is 'age'.\n",
    "\n",
    "    Returns:\n",
    "    pd.DataFrame: The DataFrame with the filled 'age' column and new 'age_group' column.\n",
    "    \"\"\"\n",
    "\n",
    "    # Convert the age column to integer type\n",
    "    df[age_column] = df[age_column].astype(int)\n",
    "\n",
    "    # Define age bins and labels according to common age group definitions\n",
    "    bins = [0, 12, 18, 25, 35, 45, 55, 65, 75, 85, 100]\n",
    "    labels = ['0-12', '13-18', '19-25', '26-35', '36-45',\n",
    "              '46-55', '56-65', '66-75', '76-85', '86-100']\n",
    "\n",
    "    # Create the 'age_group' column using pd.cut\n",
    "    df['age_group'] = pd.cut(df[age_column], bins=bins,\n",
    "                             labels=labels, right=False)\n",
    "\n",
    "    return df\n",
    "\n",
    "\n",
    "# Assuming df is your DataFrame\n",
    "df = age_group(df)\n",
    "df.head()\n",
    "\n",
    "\n",
    "df = age_group(df)\n",
    "df.head()\n",
    "df['age'].unique()"
   ]
  },
  {
   "cell_type": "markdown",
   "metadata": {},
   "source": [
    "#### 3.4.5. replace NaN with the last valid observation ffill\n"
   ]
  },
  {
   "cell_type": "code",
   "execution_count": 64,
   "metadata": {},
   "outputs": [
    {
     "name": "stderr",
     "output_type": "stream",
     "text": [
      "/var/folders/76/0pntsdld7bg_p5gzgms4gghw0000gn/T/ipykernel_48565/2262330044.py:2: FutureWarning:\n",
      "\n",
      "Series.fillna with 'method' is deprecated and will raise in a future version. Use obj.ffill() or obj.bfill() instead.\n",
      "\n"
     ]
    }
   ],
   "source": [
    "# 3.4.5. replace NaN with the last valid observation ffill\n",
    "df['correct_date'] = df['correct_date'].fillna(method='ffill')"
   ]
  },
  {
   "cell_type": "markdown",
   "metadata": {},
   "source": [
    "#### 3.4.6. Impute missing values in categorical columns by replacing with the most frequent value (mode) and `'Unknown'`.\n"
   ]
  },
  {
   "cell_type": "code",
   "execution_count": 65,
   "metadata": {},
   "outputs": [
    {
     "data": {
      "text/html": [
       "<div>\n",
       "<style scoped>\n",
       "    .dataframe tbody tr th:only-of-type {\n",
       "        vertical-align: middle;\n",
       "    }\n",
       "\n",
       "    .dataframe tbody tr th {\n",
       "        vertical-align: top;\n",
       "    }\n",
       "\n",
       "    .dataframe thead th {\n",
       "        text-align: right;\n",
       "    }\n",
       "</style>\n",
       "<table border=\"1\" class=\"dataframe\">\n",
       "  <thead>\n",
       "    <tr style=\"text-align: right;\">\n",
       "      <th></th>\n",
       "      <th>year</th>\n",
       "      <th>type</th>\n",
       "      <th>country</th>\n",
       "      <th>state</th>\n",
       "      <th>location</th>\n",
       "      <th>activity</th>\n",
       "      <th>name</th>\n",
       "      <th>sex</th>\n",
       "      <th>age</th>\n",
       "      <th>injury</th>\n",
       "      <th>time</th>\n",
       "      <th>species</th>\n",
       "      <th>source</th>\n",
       "      <th>correct_date</th>\n",
       "      <th>time_of_day</th>\n",
       "      <th>age_group</th>\n",
       "    </tr>\n",
       "  </thead>\n",
       "  <tbody>\n",
       "    <tr>\n",
       "      <th>0</th>\n",
       "      <td>2024</td>\n",
       "      <td>Unprovoked</td>\n",
       "      <td>AUSTRALIA</td>\n",
       "      <td>Queensland</td>\n",
       "      <td>Bargara Beach</td>\n",
       "      <td>Swimming</td>\n",
       "      <td>Brooklyn Sauer</td>\n",
       "      <td>F</td>\n",
       "      <td>13</td>\n",
       "      <td>Minor injuries to back, abdomen and legs</td>\n",
       "      <td>16h00</td>\n",
       "      <td>Tiger shark</td>\n",
       "      <td>Yahoo News, 3/15/2024</td>\n",
       "      <td>2024-03-15</td>\n",
       "      <td>Day</td>\n",
       "      <td>13-18</td>\n",
       "    </tr>\n",
       "    <tr>\n",
       "      <th>1</th>\n",
       "      <td>2024</td>\n",
       "      <td>Unprovoked</td>\n",
       "      <td>USA</td>\n",
       "      <td>Hawaii</td>\n",
       "      <td>Old Man's, Waikiki</td>\n",
       "      <td>Surfing</td>\n",
       "      <td>Matthew White</td>\n",
       "      <td>M</td>\n",
       "      <td>28</td>\n",
       "      <td>No injury, shark bit surfboard</td>\n",
       "      <td>NaN</td>\n",
       "      <td>Tiger shark 8'</td>\n",
       "      <td>Surfer, 3/6/2024F</td>\n",
       "      <td>2024-03-06</td>\n",
       "      <td>Unknown</td>\n",
       "      <td>26-35</td>\n",
       "    </tr>\n",
       "    <tr>\n",
       "      <th>2</th>\n",
       "      <td>2024</td>\n",
       "      <td>Unprovoked</td>\n",
       "      <td>USA</td>\n",
       "      <td>Hawaii</td>\n",
       "      <td>Rainbows, Oahu</td>\n",
       "      <td>Swimming</td>\n",
       "      <td>NaN</td>\n",
       "      <td>F</td>\n",
       "      <td>11</td>\n",
       "      <td>Lacerations to left foot</td>\n",
       "      <td>13h30</td>\n",
       "      <td>3' to 4' shark</td>\n",
       "      <td>Hawaii News Now, 3/4/2024</td>\n",
       "      <td>2024-03-04</td>\n",
       "      <td>Day</td>\n",
       "      <td>0-12</td>\n",
       "    </tr>\n",
       "    <tr>\n",
       "      <th>3</th>\n",
       "      <td>2024</td>\n",
       "      <td>Unprovoked</td>\n",
       "      <td>AUSTRALIA</td>\n",
       "      <td>Western Australia</td>\n",
       "      <td>Sandlnd Island, Jurian Bay</td>\n",
       "      <td>Unidentified</td>\n",
       "      <td>female</td>\n",
       "      <td>F</td>\n",
       "      <td>46</td>\n",
       "      <td>Leg bitten</td>\n",
       "      <td>11h30</td>\n",
       "      <td>Tiger shark</td>\n",
       "      <td>WA Today, 2/26/2024</td>\n",
       "      <td>2024-02-26</td>\n",
       "      <td>Morning</td>\n",
       "      <td>46-55</td>\n",
       "    </tr>\n",
       "    <tr>\n",
       "      <th>4</th>\n",
       "      <td>2024</td>\n",
       "      <td>Unprovoked</td>\n",
       "      <td>INDIA</td>\n",
       "      <td>Maharashtra</td>\n",
       "      <td>Vaitarna River, Palghar District</td>\n",
       "      <td>Fishing</td>\n",
       "      <td>Vicky Suresh Govari</td>\n",
       "      <td>M</td>\n",
       "      <td>32</td>\n",
       "      <td>Calf of lower left leg injured</td>\n",
       "      <td>NaN</td>\n",
       "      <td>Bull shark, 7'</td>\n",
       "      <td>Times of India, 2/14/2024</td>\n",
       "      <td>2024-02-14</td>\n",
       "      <td>Unknown</td>\n",
       "      <td>26-35</td>\n",
       "    </tr>\n",
       "  </tbody>\n",
       "</table>\n",
       "</div>"
      ],
      "text/plain": [
       "   year        type    country              state  \\\n",
       "0  2024  Unprovoked  AUSTRALIA         Queensland   \n",
       "1  2024  Unprovoked        USA             Hawaii   \n",
       "2  2024  Unprovoked        USA             Hawaii   \n",
       "3  2024  Unprovoked  AUSTRALIA  Western Australia   \n",
       "4  2024  Unprovoked      INDIA        Maharashtra   \n",
       "\n",
       "                           location      activity                 name sex  \\\n",
       "0                     Bargara Beach      Swimming       Brooklyn Sauer   F   \n",
       "1                Old Man's, Waikiki       Surfing        Matthew White   M   \n",
       "2                    Rainbows, Oahu      Swimming                  NaN   F   \n",
       "3        Sandlnd Island, Jurian Bay  Unidentified               female   F   \n",
       "4  Vaitarna River, Palghar District       Fishing  Vicky Suresh Govari   M   \n",
       "\n",
       "   age                                    injury   time         species  \\\n",
       "0   13  Minor injuries to back, abdomen and legs  16h00     Tiger shark   \n",
       "1   28            No injury, shark bit surfboard    NaN  Tiger shark 8'   \n",
       "2   11                  Lacerations to left foot  13h30  3' to 4' shark   \n",
       "3   46                                Leg bitten  11h30     Tiger shark   \n",
       "4   32            Calf of lower left leg injured    NaN  Bull shark, 7'   \n",
       "\n",
       "                      source correct_date time_of_day age_group  \n",
       "0      Yahoo News, 3/15/2024   2024-03-15         Day     13-18  \n",
       "1          Surfer, 3/6/2024F   2024-03-06     Unknown     26-35  \n",
       "2  Hawaii News Now, 3/4/2024   2024-03-04         Day      0-12  \n",
       "3        WA Today, 2/26/2024   2024-02-26     Morning     46-55  \n",
       "4  Times of India, 2/14/2024   2024-02-14     Unknown     26-35  "
      ]
     },
     "execution_count": 65,
     "metadata": {},
     "output_type": "execute_result"
    }
   ],
   "source": [
    "# 3.4.6. Impute missing values in categorical columns by replacing with the most frequent value (mode) and  `'Unknown'`.\n",
    "def fill_missing_categorical_values(df):\n",
    "    # Fill missing values in 'country' column with 'Unknown'\n",
    "    df['country'] = df['country'].fillna('Unidentified')\n",
    "\n",
    "    # Fill missing values in 'activity' column with 'Unknown'\n",
    "    df['activity'] = df['activity'].fillna('Unidentified')\n",
    "\n",
    "    # Fill missing values in 'state' column with 'country unidentified state'\n",
    "    df['state'] = df['state'].fillna(df['country'] + ' unidentified state')\n",
    "\n",
    "    # Fill missing values in 'location' column with 'country unidentified location'\n",
    "    df['location'] = df['location'].fillna(\n",
    "        df['country'] + ' unidentified location')\n",
    "\n",
    "    # Fill missing values in 'sex' column with 'Unidentified'\n",
    "    df['sex'] = df['sex'].fillna('Unidentified')\n",
    "\n",
    "    # Fill missing values in 'injury' column with 'Unidentified'\n",
    "    df['injury'] = df['injury'].fillna('Unidentified')\n",
    "\n",
    "    # Fill missing values in 'species' column with 'Unidentified'\n",
    "    df['species'] = df['species'].fillna('unidentified')\n",
    "\n",
    "    return df\n",
    "\n",
    "\n",
    "df = fill_missing_categorical_values(df)\n",
    "df.head()"
   ]
  },
  {
   "cell_type": "markdown",
   "metadata": {},
   "source": [
    "#### 3.5. Data Correction: Correcting Typos, Handling Synonyms, Standardizing Formats (countries, states, cities etc.)\n",
    "\n",
    "- 3.5.1. Values correction in 'activity' col\n",
    "- 3.5.2. correction typos in the col 'type'\n",
    "- 3.5.3. Format spelling in col col 'country'\n",
    "- 3.5.4. Format spelling in col 'state'\n",
    "- 3.5.5. Values correction in the col 'sex'\n",
    "- 3.5.6. Insert col 'Fatal_status' with extracted data from col 'injury'\n",
    "- 3.5.7. Values correction in the col 'injury', insert col 'injury_type'\n",
    "- 3.5.8. Values correction in the col 'species'\n"
   ]
  },
  {
   "cell_type": "code",
   "execution_count": 66,
   "metadata": {},
   "outputs": [
    {
     "data": {
      "text/plain": [
       "array(['Swimming', 'Surfing', 'Unidentified', 'Fishing', 'Spearfishing',\n",
       "       'Free', 'Foil', 'Wading', 'Snorkeling', 'Paddle', 'Scuba', 'On',\n",
       "       'Kayak', 'Towing', 'Boogie', 'Freediving', 'Sitting', 'Watching',\n",
       "       'Standing', 'Filming', 'Kite', 'Jumped', 'Diving', 'Windsurfing',\n",
       "       'Kite-surfing', 'Surf-sking', 'Spearishing', 'Diving/shark',\n",
       "       'Surf', 'Shipwreck', 'Kayaking', 'Paddleboarding', 'Lobstering',\n",
       "       'Lifeguard', 'Scalloping', 'Playing', 'Feeding', 'Fihing',\n",
       "       'Surface', 'Floating', 'Wing', 'Swimmingq', 'Harassing',\n",
       "       'Squatting', 'Moving', 'Jackass', 'Canoeing', 'Parasailing',\n",
       "       'Baiting', 'Boggie', 'Stand', 'Tagging', 'Body', 'Fell',\n",
       "       'Foil-boarding', 'Sightseeing', 'Treading', 'Skimboarding',\n",
       "       'Stand-up', 'Swimming/', 'Body-surfing', 'Abalone', 'Picking',\n",
       "       'Paddling', 'Swimming/standing', 'Putting', 'Walking',\n",
       "       'Surf-skiing', 'Foilboarding', 'Cleaning', '2', 'Night', 'Sup',\n",
       "       'Touching', 'Attempting', 'Photo', 'Kakaying', 'Washing',\n",
       "       'Grabbing', 'Cage', 'Surfng', 'Teasing', 'Sea', 'Lobster',\n",
       "       'Photographing', 'Scallop', 'Hand', 'Transatlantic', 'Bodysurfing',\n",
       "       'Rowing', 'Shark', 'Petting', 'Kneeling', 'Kitesurfing', 'Sailing',\n",
       "       'Kiteboarding', 'Casting', 'Marathon', 'Longline', 'Wrangling',\n",
       "       'Fly', 'Dragging', 'Bathing', 'Bodyboarding', 'Crayfishing',\n",
       "       'Wade', 'Jumping', 'Jet', 'Wakeboarding', 'Rescuing', 'Measuring',\n",
       "       'Paddle-boarding', 'Paddle-surfing', 'Crawling', 'Air', 'Crabbing',\n",
       "       'Yacht', 'Sinking', 'Free-diving', 'Accidentally', 'Removing',\n",
       "       'The', 'Wading?', 'Murder', 'Reviving', 'Shrimping', 'Lifesaving',\n",
       "       'Competing', 'Holding', 'Crouching', 'Swept', 'Scurfing',\n",
       "       'Chumming', 'Spearfishing/', 'In', 'Boogie-boarding', 'Tandem',\n",
       "       'Five', 'Wade-fishing', 'Killing', 'Unknown', 'Collecting',\n",
       "       'Body-boarding', 'Capsized', 'Kite-boarding', 'Wreck', 'Hiking',\n",
       "       'Batin', 'Shipwrecked', 'Conducting', 'Canoe', 'Lying', 'Adrift',\n",
       "       'Splashing', 'Scientific', 'Cruising', 'Inflatable', 'Fishingat',\n",
       "       'Tech', 'Shell', 'Dived', 'Boeing', 'riding', 'Sleeping', 'Wind',\n",
       "       'Commercial', 'Hookah', 'Stamding', 'Riding', 'Oyster', nan,\n",
       "       'Fisherman', 'Zosimo', 'Preparing', 'Finning', 'Resting', 'Board',\n",
       "       'Observing', 'Skindiving', 'Sittting', 'Pêcheur', 'Onboard',\n",
       "       'Drift', 'Returning', 'Ferry', 'Vessel', 'Dropping', 'Boat', 'Nsb',\n",
       "       'Racing', 'Bottom', 'Investigating', 'During', 'Steinhart', '14',\n",
       "       'Water-skiing', 'Paddleskiing', 'Ran', 'Sailboarding',\n",
       "       'Inspecting', '16', 'Catching', 'Foundering', 'Exercising', 'Skin',\n",
       "       'Gaffing', 'Freedom', 'Murdered', 'Explosion', '40', 'Their',\n",
       "       'Pushed', 'Thrashing', '3,909-ton', '3.3', 'Being', 'Motor',\n",
       "       'Attempted', 'Surf-fishing', 'Netting', 'Hard', 'Sight-seeing',\n",
       "       'Leaving', 'Dynamite', 'Small', 'Clamming', 'Schooner', 'Pulling',\n",
       "       'Anti-sabotage', 'Beach', 'Vehicle', 'A', 'Hunting', 'Attacked',\n",
       "       'Overturned', 'Helping', 'Colombian', 'Hauling', 'Argentine',\n",
       "       'Sunbathing', 'Spearing', 'Arsinoe', 'Aircraft', 'Dangling',\n",
       "       'Bather', 'Searching', 'Greek', 'Testing', '63', 'Seining',\n",
       "       'Washed', 'S.s', 'Abandoning', 'Overcome', 'When', 'U.s', 'Rolled',\n",
       "       'Escaping', '25-foot', 'Gathering', 'Survived', 'Attaching', 'Net',\n",
       "       'Checking', 'Cargo', 'Pacific', 'Ocean', 'Taking', 'Light',\n",
       "       'Chasing', 'Ejected', 'R5d', 'Speared', 'S2f-1', 'Portuguese',\n",
       "       'Setting', 'Spear', 'Ship', '17', 'Trailing', 'National',\n",
       "       'Gigging', 'Columbian', 'Lifeboat', 'Working', 'Slapped',\n",
       "       'climbing', 'Placed', 'Air/sea', 'M.v', '3', 'Helmet',\n",
       "       'Dynamiting', 'Climbing', 'Line', 'Longling', 'Boating', 'flying',\n",
       "       'Crossing', 'American', 'Tuna', 'Closed', 'Grabbed', 'Pearl',\n",
       "       'Aircaft', 'Royal', 'Retrieving', 'Landing', 'Went', 'Bitten',\n",
       "       'Jerked', 'Goggle-diving', 'Suicide', 'Defecating', 'Bending',\n",
       "       'No', 'Examining', 'Leicester', 'Bringing', 'C47', 'Underwater',\n",
       "       '90', 'Uss', 'Parachuted', 'Japanese', 'B-24', 'Flying', 'S2n',\n",
       "       'Hospital', 'Known', 'Dog', 'U-177', 'Thrown', 'Anti-aircraft',\n",
       "       'Dutch', 'His', 'Sculling', 'Plane', 'H.m.s', 'Esso', 'Captured',\n",
       "       'Ditched', 'Days', 'Torpedoed', 'Hmas', 'British', 'German', 'Ss',\n",
       "       'Seine', 'Slipped', 'Male', 'Dress', 'Bathing/swimming',\n",
       "       'Scooping', 'She', 'Hardhat', 'Sponge', 'Tzenny', 'Two',\n",
       "       'Pleasure', 'Refused', '12', 'Trochus', 'Among', 'Diving?', 'Put',\n",
       "       'Disappeared', 'Taken', 'Hurricane', 'Launching', 'Watercraft',\n",
       "       'Italian', 'Feeling', 'Inebriated', 'Had', 'Dry', 'After',\n",
       "       'Dismantling', 'Seaplane', 'Hoisting', 'Harpooned', 'swimming',\n",
       "       'Knocked', 'Cutter', 'Steamer', 'Stuffing', 'Clinging', 'Copra',\n",
       "       '3-masted', '1446-ton', 'Reported', '', 'Native', 'Reached', 'Row',\n",
       "       'Shooting', 'Human', 'Harpooning', 'Lost', \"Ship's\", '13', 'Loss',\n",
       "       'Angling', 'boat', 'crossing', 'Hms', 'Fleeing', 'Probabable',\n",
       "       'Oystering', 'He', 'Yachting', 'Restraining', 'Traveling',\n",
       "       'Salvaging', 'Fleet', 'Burning', 'Painting', 'Boarding', 'Coming',\n",
       "       'Reaching', 'Trying', 'Deserting', 'Gloucester', '43-ton', 'Hilo',\n",
       "       'Hooking', 'Hbm', 'Conch', 'Dropped', 'Man', 'Swmming',\n",
       "       'Ascending', 'Net-fishing', 'Fishing?', 'Yachtsman', 'Lashing',\n",
       "       'Carrying', 'Spent', 'Wooden', 'Crew', '4'], dtype=object)"
      ]
     },
     "execution_count": 66,
     "metadata": {},
     "output_type": "execute_result"
    }
   ],
   "source": [
    "# 3.5.1. Values correction in 'activity' col. Extract first word, capitalize it, and remove trailing spaces and other signs:\n",
    "df['activity'] = df['activity'].str.split(\n",
    ").str[0].str.capitalize().str.strip(' ,.:;\\'\"()')\n",
    "df['activity'].unique()"
   ]
  },
  {
   "cell_type": "code",
   "execution_count": 67,
   "metadata": {},
   "outputs": [
    {
     "data": {
      "text/plain": [
       "array(['Unprovoked', 'Provoked', 'Unidentified', 'Watercraft',\n",
       "       'Sea Disaster', 'Invalid', 'Under investigation', 'Boat'],\n",
       "      dtype=object)"
      ]
     },
     "execution_count": 67,
     "metadata": {},
     "output_type": "execute_result"
    }
   ],
   "source": [
    "# 3.5.2. correction typos in the col 'type':\n",
    "def correct_values(df, column):\n",
    "    # Define a function to clean and categorize the values in the specified column\n",
    "    def clean_value(value):\n",
    "        # Define the values to be categorized as 'Unknown'\n",
    "        unknown_values = ['Unconfirmed', 'Unverified',\n",
    "                          'Under_investigation', 'Questionable', '?', '', None]\n",
    "\n",
    "        if pd.isna(value) or value.strip() in unknown_values:\n",
    "            return 'Unidentified'  # Replace specified values with 'Unknown'\n",
    "\n",
    "        value = value.strip()  # Remove leading and trailing spaces\n",
    "\n",
    "        return value.strip('_')  # Remove leading and trailing underscores\n",
    "\n",
    "    # Apply the clean_value function to the specified column\n",
    "    df[column] = df[column].apply(clean_value)\n",
    "    return df\n",
    "\n",
    "\n",
    "df = correct_values(df, 'type')\n",
    "df['type'].unique()"
   ]
  },
  {
   "cell_type": "code",
   "execution_count": 68,
   "metadata": {},
   "outputs": [
    {
     "data": {
      "text/plain": [
       "array(['Australia', 'Usa', 'India', 'Trinidad', 'Bahamas', 'South Africa',\n",
       "       'Mexico', 'New Zealand', 'Egypt', 'Belize', 'Philippines',\n",
       "       'Coral Sea', 'Spain', 'Portugal', 'Samoa', 'Colombia', 'Ecuador',\n",
       "       'French Polynesia', 'New Caledonia', 'Turks And Caicos', 'Cuba',\n",
       "       'Brazil', 'Seychelles', 'Argentina', 'Fiji', 'Maldives', 'England',\n",
       "       'Japan', 'Indonesia', 'Jamaica', 'Thailand', 'Columbia',\n",
       "       'Costa Rica', 'British Overseas Territory', 'Canada', 'Jordan',\n",
       "       'St Kitts', 'St Martin', 'Papua New Guinea', 'Reunion Island',\n",
       "       'Israel', 'China', 'Ireland', 'Italy', 'Malaysia', 'Libya',\n",
       "       'Unidentified', 'Mauritius', 'Solomon Islands',\n",
       "       'St Helena, British Overseas Territory', 'Comoros', 'Reunion',\n",
       "       'United Kingdom', 'United Arab Emirates', 'Cape Verde',\n",
       "       'Dominican Republic', 'Cayman Islands', 'Aruba', 'Mozambique',\n",
       "       'Puerto Rico', 'Atlantic Ocean', 'Greece', 'St. Martin', 'France',\n",
       "       'Kiribati', 'Diego Garcia', 'Taiwan', 'Palestinian Territories',\n",
       "       'Guam', 'Nigeria', 'Tonga', 'Scotland', 'Croatia', 'Saudi Arabia',\n",
       "       'Chile', 'Antigua', 'Kenya', 'Russia', 'Turks', 'Azores',\n",
       "       'South Korea', 'Malta', 'Vietnam', 'Madagascar', 'Panama',\n",
       "       'Somalia', 'Nevis', 'British Virgin Islands', 'Norway', 'Senegal',\n",
       "       'Yemen', 'Gulf Of Aden', 'Sierra Leone', 'St. Maartin',\n",
       "       'Grand Cayman', 'Liberia', 'Vanuatu', 'Honduras', 'Venezuela',\n",
       "       'Sri Lanka', 'Uruguay', 'Micronesia', 'Caribbean Sea', 'Okinawa',\n",
       "       'Tanzania', 'Marshall Islands', 'Northern Arabian Sea',\n",
       "       'Hong Kong', 'El Salvador', 'Angola', 'Bermuda', 'Montenegro',\n",
       "       'Iran', 'Tunisia', 'Namibia', 'North Atlantic Ocean',\n",
       "       'South China Sea', 'Bangladesh', 'Palau', 'Western Samoa',\n",
       "       'Pacific Ocean', 'British Isles', 'Grenada', 'Iraq', 'Turkey',\n",
       "       'Singapore', 'New Britain', 'Sudan', 'Johnston Island',\n",
       "       'South Pacific Ocean', 'New Guinea', 'Red Sea',\n",
       "       'North Pacific Ocean', 'Federated States Of Micronesia',\n",
       "       'Mid Atlantic Ocean', 'Admiralty Islands', 'British West Indies',\n",
       "       'South Atlantic Ocean', 'Persian Gulf', 'North Sea', 'Nicaragua',\n",
       "       'Maldive Islands', 'American Samoa', 'Andaman', 'Gabon', 'Mayotte',\n",
       "       'The Balkans', 'Martinique', 'Indian Ocean', 'Guatemala',\n",
       "       'Netherlands Antilles', 'Northern Mariana Islands', 'Java',\n",
       "       'Central Pacific', 'Southwest Pacific Ocean', 'Bay Of Bengal',\n",
       "       'Mid-Pacifc Ocean', 'Slovenia', 'Curacao', 'Iceland', 'Barbados',\n",
       "       'Monaco', 'Guyana', 'Haiti', 'San Domingo', 'Kuwait',\n",
       "       'Falkland Islands', 'Crete', 'Cyprus', 'West Indies', 'Burma',\n",
       "       'Lebanon', 'Paraguay', 'British New Guinea', 'Ceylon', 'Ocean',\n",
       "       'Georgia', 'Syria', 'Tuvalu', 'Guinea', 'Andaman Islands',\n",
       "       'Equatorial Guinea', 'Cook Islands', 'Tobago', 'Peru', 'Africa',\n",
       "       'Algeria', 'Coast Of Africa', 'Tasman Sea', 'Ghana', 'Greenland',\n",
       "       'Mediterranean Sea', 'Sweden', 'Roatan', 'Djibouti', 'Bahrein',\n",
       "       'Korea', 'Asia'], dtype=object)"
      ]
     },
     "execution_count": 68,
     "metadata": {},
     "output_type": "execute_result"
    }
   ],
   "source": [
    "# 3.5.3. Format spelling in col col 'country':\n",
    "def clean_and_capitalize_column(df, column):\n",
    "    def clean_and_capitalize(text):\n",
    "        if pd.isna(text):\n",
    "            return text  # If the value is NaN, return as is\n",
    "\n",
    "        # Remove text after '/', '?', and '('\n",
    "        text = re.split(r'[/?(]', text)[0]\n",
    "\n",
    "        # Handle cases with 'Between' and '&'\n",
    "        if 'Between' in text:\n",
    "            text = text.split('Between')[-1].strip().split()[0]\n",
    "        if '&' in text:\n",
    "            text = text.split('&')[0].strip()\n",
    "\n",
    "        # Remove trailing characters like ')', and trim whitespace\n",
    "        text = text.strip().rstrip(')')\n",
    "\n",
    "        # Capitalize every word in the string\n",
    "        text = text.title()\n",
    "\n",
    "        return text\n",
    "\n",
    "    # Apply the cleaning and capitalization logic to the specified column\n",
    "    df[column] = df[column].apply(clean_and_capitalize)\n",
    "    return df\n",
    "\n",
    "\n",
    "df = clean_and_capitalize_column(df, 'country')\n",
    "df['country'].unique()"
   ]
  },
  {
   "cell_type": "code",
   "execution_count": 69,
   "metadata": {},
   "outputs": [
    {
     "data": {
      "text/plain": [
       "array(['Queensland', 'Hawaii', 'Western Australia', 'Maharashtra',\n",
       "       'Trinidad Unidentified State', 'New  South Wales',\n",
       "       'Paradise Island', 'South Australia', 'Eastern Cape Province',\n",
       "       'Sonora', 'New South Wales', 'South Island', 'Guerrero',\n",
       "       'New Providence   Isoad', 'Jalisco', 'Grand  Bahama Island',\n",
       "       'Florida', 'Westerm Australia', 'North Island', 'Southern Red Sea',\n",
       "       'Quintana Roo', 'Belize District', 'California', 'South Carolina',\n",
       "       'South Sinai', 'Bolinao', 'Coral Sea Unidentified State',\n",
       "       'North Carolina', 'Valencia', 'Norte', \"Savai'I Island\",\n",
       "       'New York', 'San Andrés Island', 'Galapagos Islands',\n",
       "       'Red Sea Protectorate', 'Freeport', 'Tahiti', 'Poum',\n",
       "       'Providenciales Island', 'Lucayan Lucayan Archipelago',\n",
       "       'New Jersey', 'Mayabeque', 'Easten Cape Province', 'Artemisa',\n",
       "       'Pernambuco', 'Praslin Island', 'South Province', 'Patagonia',\n",
       "       'Taveuni Island', 'Gulf Of California', 'Vaavu Atoll', 'Knz',\n",
       "       'New South Ales', 'Samoa', 'Texas', 'Louisiana',\n",
       "       'Bahamas Unidentified State', 'Mississippi', 'Western  Australia',\n",
       "       'Victoria', 'Western Cape Province', 'Cornwall', 'Noirth Carolina',\n",
       "       'Okinawa', 'Bali', 'Hurghada, Red Sea Governorate',\n",
       "       'Jamaica Unidentified State', 'Ambergris Cay',\n",
       "       'Maldives Unidentified State', 'Bora Bora', 'Georgia', 'Phuket',\n",
       "       'Australia Unidentified State', 'Alabama', 'Kzn',\n",
       "       'Isla De San Andres', 'Guanacoste', 'Kwazulu-Natal', 'São Paulo.',\n",
       "       'Egypt Unidentified State', 'Turks And Caicos', 'Nova Scotia',\n",
       "       'Maryland', 'Chanthaburi Province', 'Bahamas', 'Galapagos',\n",
       "       'Aqaba', 'West Sussex', 'Nouville', 'Ambergris Key',\n",
       "       'Westmoreland Parish', 'New Caledonia Unidentified State',\n",
       "       'Marquesas', 'Loyalty Islands', 'Maui', 'The Narrows', 'Raa Atoll',\n",
       "       'St Martin Unidentified State', 'Oregon', 'Grand Bahama Island',\n",
       "       'Franklin County, Florida', 'Virgin Islands', 'Tasmania',\n",
       "       'Tuamotu Islands', 'Maine', 'Exumas', 'Delaware', 'Abaco Islands',\n",
       "       'Muang District Of Satun Province,', 'Canary Islands',\n",
       "       'Vanua Levu', 'Southland', 'Phang Nga Province', 'Praslin',\n",
       "       'Central Province', 'Reunion Island Unidentified State', 'Holquin',\n",
       "       'Israel Unidentified State', 'Moorea', 'Baja', 'Saint-Gilles',\n",
       "       'Guam', 'Northern Territory', 'Cayman Islands',\n",
       "       'Fiji Unidentified State', 'Rhode Island', 'Chatham Islands',\n",
       "       'Quinta Roo', 'Lucayan Archipelago', 'Bélep Islands', 'Noumea',\n",
       "       'Fernando De Noronha', 'Liaoning Province', 'Upolo',\n",
       "       'St. Marys Parish', 'Massachusetts', 'County Cork',\n",
       "       'Chieti, Province', 'Guizhou Province',\n",
       "       'San Andres And Providencia Archipelago', 'The Exuma Cays',\n",
       "       'Colima', 'Hua Hin', 'Cocos Island', 'Alifu Alifu Atoll',\n",
       "       'New Providence', 'Alagoas', 'Boi Island, Victoria',\n",
       "       'French Polynesia Unidentified State', 'Sepang',\n",
       "       'Libya Unidentified State', 'Unidentified Unidentified State',\n",
       "       'Holquin Province', 'Pamplemousses', 'Upolu Island',\n",
       "       'Solomon Islands Unidentified State', 'Shizuoka Prefecture',\n",
       "       'Castellón', 'New Providence District',\n",
       "       '40 Miles Off Grand Bahama Island', 'Ascension Island', 'Majorca',\n",
       "       'Washington', 'Tabasco', 'Anjouan', 'Reunion Unidentified State',\n",
       "       'Ibiza Island', 'South Devon', 'Sharjah,', 'Baja California Sur',\n",
       "       'Saint-Leu', 'Luzon Island', 'Tamaulipas', 'Saint-Andre', 'Bimini',\n",
       "       'Tuamotos', 'Mexico Unidentified State', 'North Province',\n",
       "       'New Providence Island', 'Alicante Province', 'Hong Kong',\n",
       "       'Kochi Prefecture', 'Isla Providencia', 'Suez', 'Grand Terre',\n",
       "       'Boa Vista Island', 'Santa Catarina State', 'Altagracia Province',\n",
       "       'Grand Cayman', 'Balneário Camboriú', 'Fujairah Emirate',\n",
       "       'Grand Canary Island', 'Aruba Unidentified State',\n",
       "       'Inhambane Province', 'Alicante', 'Guanacaste',\n",
       "       'Puerto Rico Unidentified State', 'Le Port', 'Rangiroa',\n",
       "       'Saint-Gilles-Les-Bains', 'Sardinia', 'Sinaloa', 'Central Tuamotu',\n",
       "       'Atlantic Ocean Unidentified State', 'D’Étang-Salé',\n",
       "       'Greece Unidentified State', 'Japan Unidentified State', 'Granada',\n",
       "       'Cargados Carajos Shoals', 'Catalonia', 'West End',\n",
       "       'St. Martin Unidentified State', 'Brazil Unidentified State',\n",
       "       'Atsumi Peninsula', 'Palmyra Atoll', 'Wallis And Futuna',\n",
       "       'South Africa Unidentified State', 'Baie De Sainte-Marie',\n",
       "       'Cayman Islands Unidentified State', 'Society Islands',\n",
       "       'Papua New Guinea Unidentified State', 'Trinidad',\n",
       "       'Okinawa Prefecture', 'New Zealand Unidentified State',\n",
       "       '740 Miles Se Of Tarawa Atoll', 'Southern District',\n",
       "       'Bay Of Biscay', 'Exuma Islands', 'Saint-Paul',\n",
       "       'Diego Garcia Unidentified State', 'Taitung', 'Kingston Parish',\n",
       "       'Palestinian Territories Unidentified State', 'Santa Cruz Island',\n",
       "       'Guam Unidentified State', 'Tuamotus',\n",
       "       'Seychelles Unidentified State', 'Belize Unidentified State',\n",
       "       'Eleuthera', 'St. Catherine', 'Palawan', 'Mercury Islands',\n",
       "       'Delta', \"Vava'U\", 'Inner Hebrides', 'Saint Leu', 'Trois-Bassins',\n",
       "       'British Colombia', 'Croatia Unidentified State', 'Saint-Benoit',\n",
       "       'Tabuk Province', 'Antofagasta Province', \"St John'S\",\n",
       "       'Santa Elena', 'East New Britain', 'Bois-Blanc', 'Moray',\n",
       "       'Puerto Rico', 'Samaná Province', 'Coast Province',\n",
       "       'Primorsky Krai', 'Peter The Great Bay, Khasan, Primorsky Krai',\n",
       "       'Telyakovsky Bay, Khasan,  Primorsky Krai',\n",
       "       'Philippines Unidentified State', 'Sucre', 'Middle Caicos',\n",
       "       'Caicos Bank', 'San Andrés Archipelago', 'Kedah',\n",
       "       'Umm Al Qaywayan Province', 'Vitu Levu', 'South Sinai Peninsula',\n",
       "       'Saint Gilles', 'Samoa Unidentified State',\n",
       "       'Dominican Republic Unidentified State',\n",
       "       'Azores Unidentified State', 'Virginia', \"Ha'Api\",\n",
       "       'Western Province', 'Jeju Province', 'Malta Unidentified State',\n",
       "       'Binh Dinh Province', 'Antsiranana Province', 'Sinai Peninsula',\n",
       "       'Off Vanua Levu', 'Merizo', 'Rio Grande Do Sul', 'Dubai',\n",
       "       'Torres Strait', 'Eastern Province', 'Eastern Cape  Province',\n",
       "       'Maputo Province', 'Bocas', 'Fife', 'Devon',\n",
       "       'Vietnam Unidentified State', 'Somalia Unidentified State',\n",
       "       'Nevis Unidentified State', 'Makira-Ulawa Province', 'Mombasa',\n",
       "       'Catalunya', 'St. Johns Reef', 'Off Green Island', 'North Region',\n",
       "       'Batangas Province', 'Strait Of Malacca', 'Guantanamo Province',\n",
       "       'Maranhão', 'Red Sea', 'Batanes Provine',\n",
       "       'Taiwan Unidentified State', 'Luzon', 'Split-Dalmatia Count,',\n",
       "       'North Devon', 'Us Virgin Islands', 'San Carlos', 'Cabo San Lucas',\n",
       "       'Sussex', 'Bahia', 'Easter Ross', 'Guerro', 'Yasawa Islands',\n",
       "       'Northern Bahamas', 'Tokyo Bay', 'Baja California', 'Green Bay',\n",
       "       'Marovo Lagoon', 'Territory Of Cocos', 'Oslo Fjord',\n",
       "       'Senegal Unidentified State', 'Kent', 'Bird Island',\n",
       "       'Providenciales', 'Bimini Islands', 'Muhafazat Hadramawt',\n",
       "       'Cook Islans', 'Costa Rica Unidentified State',\n",
       "       'Surigao Del Norte', 'Somalia', 'Ambergris Caye',\n",
       "       'Italy Unidentified State', 'Saint-Pierre', 'Kentucky',\n",
       "       'Andros Islands', 'Western Area', '300 Miles From Antigua',\n",
       "       '800 Miles From Land', '600 Nm West Of The Canary Islands',\n",
       "       'Simpson Bay', 'East Wall', 'Thailand Unidentified State',\n",
       "       'Inner Islands', 'Liberia Unidentified State', 'Shanghai',\n",
       "       'Malampa Province', \"South Ch'Ungch'Ong Province\",\n",
       "       'Madagascar Unidentified State', 'Bay Islands',\n",
       "       'Venezuela Unidentified State', 'New Mexico',\n",
       "       'Santa Isabel Province', 'Santiago De Cuba Province',\n",
       "       'Camaguey Province', 'Conservatória District',\n",
       "       'Kuril Islands In The Pacific', 'Wakayama Prefecture',\n",
       "       \"Nuku'Alofa\", 'Saint-Benoît',\n",
       "       'South Island, Near Karitane North Of Dunedin', 'Rocha',\n",
       "       'Northlands', 'Anzoategui', 'Cook Islands', 'Tamil Nadu',\n",
       "       'Pearl Islands', 'Taveuni', 'Johnston Atoll', 'Baatan',\n",
       "       'Rio De Janeiro', 'Nueva Esparta', 'North Pacific Coast',\n",
       "       'Caroline Islands', 'Cheshire', 'Indonesia Unidentified State',\n",
       "       'Louisiade Archipelago',\n",
       "       'Kwazulu-Natal Between Port Edward And Port St Johns',\n",
       "       'Milne Bay Province', 'Turks', 'Cikobia Island', 'Rayong Province',\n",
       "       'Zamboanga Del Sur Province', 'Rio Grande De Norte',\n",
       "       'Caribbean Sea Unidentified State',\n",
       "       'Off The Western Coast Of Peninsular Malaysia', 'New Brunswick',\n",
       "       'Miyako Island', 'Tanzania Unidentified State', 'Alaska',\n",
       "       'Minerva Reef', 'Madang Province', 'Worcestershire',\n",
       "       'Alinglaplap Atoll', 'Adriatic Sea', 'Ralik Chain', 'Grand Baie',\n",
       "       \"L' Etang Salé-Les-Bains\", 'Mauritius Unidentified State',\n",
       "       'Southern Japan', 'Cap Vert Peninsula', 'Marches Region',\n",
       "       'Berry Islands', 'Transvaal', 'Gaza', \"Grand'Anse\", 'Beaufonds',\n",
       "       'Miyako', \"L'Etang-Sale\", 'South Sinai, Gulf Of Aqaba', 'Cat Cay',\n",
       "       'South Korea Unidentified State', 'Missouri',\n",
       "       '12 Miles Off The North Coast',\n",
       "       'Chatham Islands, East Of New  Zealand',\n",
       "       'Northern Arabian Sea Unidentified State', 'Saint-Denis', 'Vava’U',\n",
       "       'Clearwater Bay', 'New Territories', 'Aichi Prefecture',\n",
       "       'Tafea Province', 'Usa Unidentified State', 'Kagoshima Prefecture',\n",
       "       'Saint-Joseph', 'Chile Unidentified State',\n",
       "       'Hong Kong Unidentified State', 'Banaadir Region', 'La Libertad',\n",
       "       'Costa Blanca', 'Walkers Cay',\n",
       "       'On The Kowloon Penisula, South Of Sai Kung', 'Ehime Prefecture',\n",
       "       'Tongapatu Group', 'West Africa', 'Wakaya Island', 'Mexico',\n",
       "       'Antarctic Ocean', 'La Saline-Les-Bains', 'Sea Of Japan',\n",
       "       'Tavenui', 'Ligurian Sea', \"L'Etang-Salé\", 'Kowloon Peninsula',\n",
       "       'Port Shelter', 'Laucala Island', 'Sainte-Marie',\n",
       "       'Great Exuma Island', 'Bermuda Unidentified State',\n",
       "       'Sainte-Suzanne', 'Tuscany', 'Tyrrhenian Sea', 'New Ireland',\n",
       "       'Valpariso Province', 'Viscayan Sea', 'Manfredonia',\n",
       "       'Tokyo Prefecture', 'Saint-Louis', 'Mindoro', 'Dr', 'Honiara',\n",
       "       'Florida Straits', 'Gulf Of Lyons', 'Cádiz', 'Sicily',\n",
       "       'Iran Unidentified State', 'Andikira Fokithes',\n",
       "       'Central Philippines', 'Northwest Italy', 'English Channel',\n",
       "       'North', 'Carolina Coast', 'Kumamoto Prefecture',\n",
       "       'Tunisia Unidentified State', 'Biserta', 'Saint-Philippe',\n",
       "       'England Unidentified State', 'Chungnam', 'Eronogo Region',\n",
       "       'Coquimbo', 'Pagasitikos Gulf', \"St. Mary'S Parish\",\n",
       "       'Romblon Province', 'Lamu Archipelago', 'Los Vilos',\n",
       "       'North Atlantic Ocean Unidentified State', 'Island Of Kos',\n",
       "       'Madeira Islands', 'South China Sea Unidentified State',\n",
       "       'Ho Ha Wan Marine Park', 'Southern Thailand', 'Golfo De Venezia',\n",
       "       'Ralik Archipelago', 'South China Sea 200 Miles From Hong Kong',\n",
       "       'Reggio Calabria Province', 'Mirs Bay', 'Genoa Province',\n",
       "       'Ganges-Brahmaputra Delta', 'Split-Dalmatia County',\n",
       "       'Primorje-Gorski Kotar County', 'Aulong Island',\n",
       "       'Western Caroline Islands', 'Pacific Ocean  Unidentified State',\n",
       "       'Antibes', 'Illeginni Atoll', 'Istria County', 'Beira', 'Istria',\n",
       "       'Khuzestan Province', 'Inhambe Province', 'Namonuito Atoll',\n",
       "       'Eastern Caroline Islands', 'Caribbean Sea', 'St. Andrew Parish',\n",
       "       '200 Nm Southeast Of Manila', 'Limpopo River',\n",
       "       'New Ireland Province', 'Zadar County', 'Basrah', 'Clarendon',\n",
       "       'Moro Gulf', 'Johor', 'Magdalena Department', 'Mafia Island',\n",
       "       'Gulf Province', 'Mozambique Unidentified State',\n",
       "       'Morobe Province', 'Limón Province', 'Rombion Province',\n",
       "       'Veracruz', 'Tonga Unidentified State', 'Brindisi Province',\n",
       "       'Kagawa Prefecture', 'Liguria', 'Hamilton',\n",
       "       'Columbia Unidentified State', 'Out Islands', 'Mugla Province',\n",
       "       'Gibraltar', 'New Britain', 'Bay Of Maputo',\n",
       "       'Singapore Unidentified State', 'Duke Of York Islands',\n",
       "       'Taranto Province', 'Northern Taiwan',\n",
       "       'Admiralty Islands, Manus Province', 'North Sumatra',\n",
       "       'Johnston Island Unidentified State',\n",
       "       \"250 Miles Southwest Of O'Ahu, Hawaii\", 'West Coast', 'East Sepik',\n",
       "       'Near Bougainville', 'South Pacific Ocean Unidentified State',\n",
       "       'East Of The Gulf Of Aqaba', 'Bougainville', 'Okayama Prefecture',\n",
       "       'San Blas', 'Connecticut', 'Lau Group', 'Caribbean Coast',\n",
       "       'Vita Levu', 'San Blas Islands', 'Puntarenas Province',\n",
       "       'Lomaloma, Lau', 'Southampton', 'South Coast, East New Britain',\n",
       "       'Lau Province', 'North Pacific Ocean Unidentified State',\n",
       "       'Ysabel Island', 'Santo Domingo', 'San Blas Coast', 'Thessaly',\n",
       "       'Lomaiviti  Island Group', 'Rodrigues',\n",
       "       'Mid Atlantic Ocean Unidentified State', 'Manus Island',\n",
       "       'Pinas Bay', 'Grand Turk Island', 'Off Coast Of West Africa',\n",
       "       'Sharon', 'Antalya Province', 'Northern District',\n",
       "       'New Ireland Province, Bismarck Archipelago', 'Cyclades',\n",
       "       'Viti Levu', 'Off The Coromandel Peninsula, North Island',\n",
       "       'Madang', 'Guadalcanal Province', '10ºs, 142ºe', 'Kwajalein Atoll',\n",
       "       'East Flores', 'Guerrrero', 'Western Luzon Island',\n",
       "       'Shefa Province', '165  Miles From Bermuda',\n",
       "       '25 Km Off The Coast Of Iran', 'Venice Province',\n",
       "       'Sandaun Province', 'Anatolia', 'Panama Unidentified State',\n",
       "       'East New Britain Province', 'United Arab Emirates', 'Wake Island',\n",
       "       '19S, 178', 'Pennsylvania', '9.35N 79.35W', 'Roncador Bank',\n",
       "       'Western District', 'Enroute From Suez To Aden',\n",
       "       '180 Miles Southeast Of Okinawa', 'Eniwetok Atoll',\n",
       "       'Cap-Vert Peninsula', 'Delagoa Bay', 'In The English Channel',\n",
       "       'Cook Strait', 'Unknown, Treated At Wick, Scotland',\n",
       "       'Corregidor Island', 'Paget', '33N, 68W', 'Casamance', 'Timor',\n",
       "       'Pacific Coast', 'St. Georges', 'Eastern  Province',\n",
       "       'Northwest Of Viti Levu', 'West New Britain Province',\n",
       "       'Rigo Subdistrict', 'Masbate', '400 Miles Southeast Of Sri Lanka',\n",
       "       'Lomaiviti Province', 'Kadavu', 'Leyte Island', 'Orissa',\n",
       "       'Hokkaido Prefecture', 'North Palawan', 'Queaon', 'Panama',\n",
       "       'In The Gulf Stream', 'Mersin Province', 'Guyamas', 'England',\n",
       "       'Mindanao', 'Kikori River Mouth', 'South Chungcheong Province',\n",
       "       'Ahirkapi Coast', 'Tutuila Island', 'Andaman', 'Taipei Hsien',\n",
       "       'Ibaraki Prefecture', 'South Pacific Ocean', 'Canal Zone',\n",
       "       '1,000 Miles East Of Hawaii', 'Yucatan Channel', 'Havana Province',\n",
       "       'Karun River', 'Abau Subdistrict,Central Province',\n",
       "       'New Britain, Bismarck Archipelago', 'Estuaire Province',\n",
       "       'Near Dakar, Cap Vert Peninsula', 'Near The Andaman',\n",
       "       'Mozambique Channel', 'Tyrrenian Sea', 'Congreve Channel',\n",
       "       'St. Thomas Bay', 'Madeira', 'Cuba Unidentified State', 'Comores',\n",
       "       'Corfu Island', '1000 Miles West Of Hawaii', 'Izo Islands',\n",
       "       'Open Sea', 'Aden', 'New Ireland, Bismarck Archipelago', '18S',\n",
       "       'Illinois', 'Isles Del Rosario', 'Isle Of Man',\n",
       "       'Nagasaki Prefecture', 'Liguaria', 'Slovenia', 'South Shore',\n",
       "       'Buenos Aires Province', 'Martinique Unidentified State',\n",
       "       '330 To 350 Miles East Of Wake Island', 'Gulf Of Panama',\n",
       "       'Indian Ocean Unidentified State', 'Guatemala Unidentified State',\n",
       "       'Genoa  Province', 'Abau Sub District, Central Province', 'Teramo',\n",
       "       'India Unidentified State', 'Red Sea State', 'Curacao',\n",
       "       'Port Louis Province', 'Montserrado', 'Bay Of Maputu',\n",
       "       'Sofala Province', 'Salerno', 'Salerno Province', 'Taranto',\n",
       "       'Pacific Ocean Unidentified State', 'Naples Province',\n",
       "       'Sago Prefecture', 'Savona', 'Southern Province',\n",
       "       'Jakarta Harbour', 'Singapore Harbor', 'Calabria',\n",
       "       'Shatt-El-Arab River', 'Shatt-Al-Arab River',\n",
       "       'China Unidentified State', 'Calvados Archipelago',\n",
       "       'Shat-Al-Arab River', 'Kwajalein', 'Attica', 'Adana Province',\n",
       "       'Bandar Ma’Shur Sea Inlet', 'Saipan', 'Carpathian Sea',\n",
       "       'Dar-Es-Salaam', '\"Head Of The Gulf\"',\n",
       "       'Okinawa Unidentified State', 'Ryukyu',\n",
       "       'In Transit Between Tinian And Leyte', 'Northern Java', 'Tel Aviv',\n",
       "       'Colon Province', '300 Miles East Of Luzon',\n",
       "       'Bernardino Strait Near Gulf Of Leyte',\n",
       "       'Off Samar Island In The Gulf Of Leyte', 'Lake Nicaragua',\n",
       "       'Pacific Ocean', 'Near The Fiji Islands',\n",
       "       '40 Miles South Of Naples', 'Portugal Unidentified State',\n",
       "       'Central Pacific Unidentified State',\n",
       "       'Sierra Leone Unidentified State', 'Northwest Of Papua New Guinea',\n",
       "       'Iraq Unidentified State', 'Solomon Islands',\n",
       "       'Off South American Coast', 'Makora-Ulawa Province',\n",
       "       '04.05N-13.23W', 'Southwest Pacific Ocean Unidentified State',\n",
       "       'Bay Of Bengal Unidentified State', 'Midway Atoll',\n",
       "       '300 Miles East Of St. Thomas', 'West Of Ceylon', 'East Java',\n",
       "       'Camiguin Island', 'Cay Sal Bank', '', 'Panama City',\n",
       "       'South Atlantic Ocean Unidentified State', 'Off Libya',\n",
       "       'North Of Pernambuco, Brazil', 'Off Coast Of Ecuador',\n",
       "       'Trelawney Province', 'In Convoy Ob 274', 'New Georgia',\n",
       "       'Panama Bay', 'Bwagaoia', 'Western Papuan Gulf',\n",
       "       'Sri Lanka Unidentified State', 'Carabobo', 'Ascension Bay',\n",
       "       'North China', 'Turkey Unidentified State', 'Lower San Juan River',\n",
       "       'Nicoya Peninsula', 'Basrah City', 'West Bengal', 'Argyllshire',\n",
       "       'Arran', 'Argyll', 'Fishing Grounds', 'Newfoundland',\n",
       "       'Isle Of Wight', 'Makira-Uluwa Province', 'Northern', 'Herzliyah',\n",
       "       'Italy', 'Elqui Province', 'Istanbul', 'St Michael Parish',\n",
       "       'Barlavento Islands', 'Viti Levu Island', 'Bay Of Fundy', 'Manila',\n",
       "       'French Southern Territories', 'Niua', 'Black River',\n",
       "       'Phoenix Islands', 'Cienfuegos Province', 'Santiago Island',\n",
       "       'Near Puntarenas', 'Porto Seguro', 'Salinas Bay',\n",
       "       'Golfo Di Genova In The Ligurian Sea', 'Sants-Montjic',\n",
       "       'South Of The Equator', 'Bay Of Monaco', 'Vancouver',\n",
       "       '2 To 3 Miles Off Taboguilla Island, Pacific Ocean', 'Dorset',\n",
       "       '150 Miles Offshore', 'Galica', 'Demerara County', 'Vera Cruz',\n",
       "       'Manila Bay', 'Lucy', 'East Yorkshire', 'Cavite Province, Luzon',\n",
       "       'Cape Haitien', 'Leyte', 'Halifax', 'Turtle Bogue',\n",
       "       '60 Miles North Of San Domingo In The West Indies', 'Colon',\n",
       "       'Off Ireland', 'Kuwait Unidentified State', 'Mediterranean Sea',\n",
       "       'Gran Canaria', 'Apolima Strait', 'Essequibo', 'Lagos', 'Trieste',\n",
       "       '5Aint-Denis', 'Viti Levu Group', 'Balearics', 'Málaga',\n",
       "       'Georges Bank', 'Zambesi River', 'Colón Province',\n",
       "       '30 Nm From Singapore', 'Andalucia', 'Sfax',\n",
       "       'South Atlantic Ocean', 'Galicia', 'Gulf Of Suez', 'Java',\n",
       "       'Tiburon Peninsula', 'Oaxaca', 'Harare Province',\n",
       "       'Khánh Hòa Province', 'Maluku Province', 'Suez Canal',\n",
       "       'Nusa Tenggara', 'Villa Clara Province', 'Ancona Province',\n",
       "       'Quezon', 'Falkland Islands Unidentified State',\n",
       "       'Crete Unidentified State', 'Rio San Juan', 'Southern Cyprus',\n",
       "       'Syracuse', 'Western Viscayas', 'Mindoro Occidental', 'Negros',\n",
       "       'Imperia Province', 'West Indies Unidentified State', 'Muala',\n",
       "       'East Coast', 'Ratak', 'Socotra Islands', 'Off Cape Haitien',\n",
       "       'Moluccas', 'Bocas Del Toro', 'Provence', 'Bay Of Campeche',\n",
       "       'Rangoon', 'Bay Of Bengal', 'Bayelsa State',\n",
       "       'Lebanon Unidentified State', 'Norfolk Island', 'Brittany',\n",
       "       'Line Islands', 'Paraguay Unidentified State', 'Woodlark Islands',\n",
       "       'Persian Gulf Unidentified State', 'Ceylon Unidentified State',\n",
       "       'Munxar Reef', 'Northern Peloponnese', 'Perth', 'Gujarat',\n",
       "       'Lukovo', 'Cortés',\n",
       "       'Somewhere Between Philadelphia And Hiogo, Japan', \"Côte D'Azur\",\n",
       "       'Maldonado Coast', 'Georgia Unidentified State', 'Western Banks',\n",
       "       'Syria Unidentified State', 'Andaman Islands',\n",
       "       'Off The Coast Of West Africa', 'Misamis Oriental',\n",
       "       'New Guinea Unidentified State', 'Strait Of Messina',\n",
       "       'Hoogly River', 'Cyclades Archipelago', 'Mount Lebanon',\n",
       "       'Hastings', 'France Unidentified State', 'Gilbert Islands',\n",
       "       'Honduras Unidentified State', 'Tuvalu Unidentified State',\n",
       "       'Indian Ocean', 'Lomaiviti Provine',\n",
       "       'Off The Coast Of South America', 'Guyana Unidentified State',\n",
       "       '22ºn, 88ºe', 'Matanzas Province', 'Alpes Maritime', 'Edinburgh',\n",
       "       'Eastern Catalona', '300 Miles East Of Mauritius',\n",
       "       'Foveaux Strait', 'Sumatra', 'Conakry Region',\n",
       "       'Andaman Islands Unidentified State', 'Corfu',\n",
       "       'Spain Unidentified State', 'Malaga', 'Bonin Islands',\n",
       "       'Fernando Po Island', 'Mangaia Island',\n",
       "       'Tobago Unidentified State', 'Australia', 'Tongatapu',\n",
       "       'Peru Unidentified State', 'Norfolk', 'Africa Unidentified State',\n",
       "       'Namibia Unidentified State', 'Algeria Unidentified State',\n",
       "       'Island Of St. Thomas', 'Cumberland', 'Sanma Province',\n",
       "       \"35º39 : 165º8'\", 'Cuba', 'Paraiba', 'Cape Coast', 'Rivers State',\n",
       "       'Norway Unidentified State', 'Antigua Unidentified State',\n",
       "       'St. Anne', 'St Helena', 'Barbados Unidentified State',\n",
       "       'Guinea Unidentified State', 'Greenland Unidentified State',\n",
       "       'Mediterranean Sea Unidentified State',\n",
       "       'Skagerrak Arm Of The North Sea', 'Las Perlas Archipelago',\n",
       "       'Bardestrand', 'Roatan Unidentified State', 'Southwest Coast',\n",
       "       'Quebec', 'Kerala', 'Portugal', 'Nice',\n",
       "       'Magarita Or Cubagua Islands', 'Yucatan', 'Ionian Sea', 'Piraeus',\n",
       "       'Off Thessaly', 'Paloma', 'Canada Unidentified State',\n",
       "       'Bocas Del Toro Province', 'Gulf Of Tadjoura', 'Cyrenaica',\n",
       "       'Northern Province', 'Los Roques  Islands', 'Dodecanese Islands',\n",
       "       'Bahrein Unidentified State', 'Malaita Province', 'South Korea',\n",
       "       'Milne Bay  Province', 'Island Of Volos', 'Amirante Islands',\n",
       "       'Kadavu Island Group', 'Toamasina Province', 'Riau Province',\n",
       "       'Bikini Atoll', 'Burma Unidentified State', 'New',\n",
       "       'Ba Ria-Vung Tau  Province', 'Moala Island', 'Asia'], dtype=object)"
      ]
     },
     "execution_count": 69,
     "metadata": {},
     "output_type": "execute_result"
    }
   ],
   "source": [
    "# 3.5.4. Format spelling in col 'state':\n",
    "def clean_and_capitalize_column(df, column):\n",
    "    def clean_and_capitalize(text):\n",
    "        if pd.isna(text):\n",
    "            return text  # If the value is NaN, return as is\n",
    "\n",
    "        # Remove text after '/', '?', and '('\n",
    "        text = re.split(r'[/?(]', text)[0]\n",
    "\n",
    "        # Handle cases with 'Between' and '&'\n",
    "        if 'Between' in text:\n",
    "            text = text.split('Between')[-1].strip().split()[0]\n",
    "        if '&' in text:\n",
    "            text = text.split('&')[0].strip()\n",
    "\n",
    "        # Remove trailing characters like ')', and trim whitespace\n",
    "        text = text.strip().rstrip(')')\n",
    "\n",
    "        # Capitalize every word in the string\n",
    "        text = text.title()\n",
    "\n",
    "        return text\n",
    "\n",
    "    # Apply the cleaning and capitalization logic to the specified column\n",
    "    df[column] = df[column].apply(clean_and_capitalize)\n",
    "    return df\n",
    "\n",
    "\n",
    "df = clean_and_capitalize_column(df, 'state')\n",
    "df['state'].unique()"
   ]
  },
  {
   "cell_type": "code",
   "execution_count": 70,
   "metadata": {},
   "outputs": [
    {
     "data": {
      "text/plain": [
       "array(['Female', 'Male', 'Unidentified'], dtype=object)"
      ]
     },
     "execution_count": 70,
     "metadata": {},
     "output_type": "execute_result"
    }
   ],
   "source": [
    "# 3.5.5. Values correction in the col 'sex'\n",
    "def clean_sex_column(df, column):\n",
    "    # Remove trailing and leading spaces\n",
    "    df[column] = df[column].str.strip()\n",
    "\n",
    "    # Standardize the values\n",
    "    replacements = {\n",
    "        'F': 'Female',\n",
    "        'M': 'Male',\n",
    "        'M x 2': 'Male',\n",
    "        'N': 'Unidentified',\n",
    "        '.': 'Unidentified',\n",
    "        'lli': 'Unidentified',\n",
    "        'Unidentified': 'Unidentified',  # Keep this for completeness\n",
    "        'Male': 'Male',  # Handle any previously cleaned values\n",
    "        'Female': 'Female'  # Handle any previously cleaned values\n",
    "    }\n",
    "\n",
    "    # Replace values based on the dictionary\n",
    "    df[column] = df[column].replace(replacements)\n",
    "\n",
    "    return df\n",
    "\n",
    "\n",
    "df = clean_sex_column(df, 'sex')\n",
    "df['sex'].unique()"
   ]
  },
  {
   "cell_type": "code",
   "execution_count": 71,
   "metadata": {},
   "outputs": [
    {
     "data": {
      "text/plain": [
       "array(['survived', 'non-survived'], dtype=object)"
      ]
     },
     "execution_count": 71,
     "metadata": {},
     "output_type": "execute_result"
    }
   ],
   "source": [
    "# 3.5.6. Insert col 'Fatal_status' with extracted data from col 'injury':\n",
    "def classify_injury_status(df, column_name):\n",
    "    \"\"\"\n",
    "    This function will examine the 'injury' column, checking for the presence of the word \"fatal\" in a case-sensitive manner, and will handle the cases where the status is 'unknown' or 'unidentified' :\n",
    "    \"\"\"\n",
    "    # Initialize the 'status' column with a default value 'status unknown'\n",
    "    df['fatality_status'] = 'status unknown'\n",
    "\n",
    "    # Check for 'survived' indicators (alive, survived)\n",
    "    survived_mask = df[column_name].str.contains(\n",
    "        'alive|survived', case=False, na=False)\n",
    "    df.loc[survived_mask, 'fatality_status'] = 'survived'\n",
    "\n",
    "    # Check for 'no-survived' indicators (fatal, dead)\n",
    "    no_survived_mask = df[column_name].str.contains(\n",
    "        'fatal|dead', case=False, na=False)\n",
    "    df.loc[no_survived_mask, 'fatality_status'] = 'non-survived'\n",
    "\n",
    "    # Check for entries where 'fatal' is not found, assign 'potentially survived'\n",
    "    potentially_survived_mask = ~no_survived_mask & ~survived_mask\n",
    "    df.loc[potentially_survived_mask, 'fatality_status'] = 'survived'\n",
    "\n",
    "    return df\n",
    "\n",
    "\n",
    "df = classify_injury_status(df, 'injury')\n",
    "df['fatality_status'].unique()"
   ]
  },
  {
   "cell_type": "code",
   "execution_count": 72,
   "metadata": {},
   "outputs": [
    {
     "data": {
      "text/plain": [
       "array(['back', 'Unknown', 'foot', 'leg', 'shoulder', 'hand', 'thigh',\n",
       "       'ankle', 'arm', 'face', 'head', 'knee', 'toe', 'chest', 'wrist',\n",
       "       'finger', 'ear', 'elbow', 'abdomen', 'hip', 'eye', 'neck',\n",
       "       'pelvis'], dtype=object)"
      ]
     },
     "execution_count": 72,
     "metadata": {},
     "output_type": "execute_result"
    }
   ],
   "source": [
    "# 3.5.7. Values correction in the col 'injury', insert col 'injury_type':\n",
    "import pandas as pd\n",
    "import re\n",
    "\n",
    "\n",
    "def extract_injury_type(df, column_name):\n",
    "    # Define a list of body parts to search for\n",
    "    body_parts = [\n",
    "        'head', 'face', 'neck', 'shoulder', 'arm', 'elbow', 'hand', 'finger',\n",
    "        'chest', 'back', 'abdomen', 'leg', 'knee', 'foot', 'toe', 'thigh',\n",
    "        'wrist', 'ankle', 'hip', 'spine', 'pelvis', 'eye', 'ear'\n",
    "    ]\n",
    "\n",
    "    # Create a new column for injury type\n",
    "    injury_types = []\n",
    "\n",
    "    # Go through each row in the specified column\n",
    "    for injury_description in df[column_name]:\n",
    "        # Check if the injury description is a string\n",
    "        if isinstance(injury_description, str):\n",
    "            # Convert the description to lowercase\n",
    "            injury_description = injury_description.lower()\n",
    "\n",
    "            # Check if any body part is mentioned in the description\n",
    "            found = False\n",
    "            for part in body_parts:\n",
    "                if part in injury_description:\n",
    "                    injury_types.append(part)\n",
    "                    found = True\n",
    "                    break\n",
    "\n",
    "            # If no body part is found, append 'Unknown'\n",
    "            if not found:\n",
    "                injury_types.append('Unknown')\n",
    "        else:\n",
    "            # If it's not a string, assume it's unknown\n",
    "            injury_types.append('Unknown')\n",
    "\n",
    "    # Add the new column to the DataFrame\n",
    "    df['injury_type'] = injury_types\n",
    "\n",
    "    # Remove the original column if needed\n",
    "    df = df.drop(columns=[column_name])\n",
    "\n",
    "    return df\n",
    "\n",
    "\n",
    "df = extract_injury_type(df, 'injury')\n",
    "df['injury_type'].unique()"
   ]
  },
  {
   "cell_type": "code",
   "execution_count": 73,
   "metadata": {},
   "outputs": [
    {
     "data": {
      "text/plain": [
       "array(['tiger', 'Unknown', 'bull', 'blacktip', 'white shark', 'lemon',\n",
       "       'oceanic whitetip', 'bronze whaler', 'nurse', 'galapagos',\n",
       "       'cookiecutter', 'blue', 'wobbegong', 'sand tiger', 'reef', 'mako',\n",
       "       'epaulette', 'spinner', 'angel', 'grey nurse', 'sicklefin lemon',\n",
       "       'porbeagle', 'silky', 'hammerhead', 'goblin', 'sandbar',\n",
       "       'whitetip reef', 'port jackson', 'thresher', 'whale', 'dusky',\n",
       "       'basking', 'gray reef', 'silvertip', 'copper shark',\n",
       "       'longfin mako', 'shortfin mako', 'carpet', 'saw'], dtype=object)"
      ]
     },
     "execution_count": 73,
     "metadata": {},
     "output_type": "execute_result"
    }
   ],
   "source": [
    "# 3.5.8. Values correction in the col 'Species':\n",
    "def extract_shark_species(df, column_name):\n",
    "    # Expanded list of common shark species including those with color descriptors\n",
    "    shark_species = [\n",
    "        'great white', 'tiger', 'bull', 'whale', 'hammerhead', 'mako',\n",
    "        'sand tiger', 'nurse', 'lemon', 'blacktip', 'blue', 'goblin',\n",
    "        'thresher', 'reef', 'basking', 'spinner', 'zebra', 'dusky',\n",
    "        'silky', 'carpet', 'shortfin mako', 'longfin mako', 'cookiecutter',\n",
    "        'wobbegong', 'saw', 'angel', 'grey nurse', 'bronze whaler',\n",
    "        'copper shark', 'white shark', 'blacktip reef', 'oceanic whitetip',\n",
    "        'silvertip', 'galapagos', 'porbeagle', 'pyjama shark',\n",
    "        'speartooth shark', 'whitetip reef', 'blacknose', 'gray reef',\n",
    "        'finetooth shark', 'megamouth', 'bigeye', 'whale', 'epaulette',\n",
    "        'port jackson', 'sicklefin lemon', 'sandbar', 'bullhead'\n",
    "    ]\n",
    "\n",
    "    # Create a regex pattern from the shark_species list\n",
    "    pattern = r'\\b(' + '|'.join(shark_species) + r')\\b'\n",
    "\n",
    "    # Define a function to extract and clean the shark species from the species description\n",
    "    def find_shark_species(species_description):\n",
    "        if isinstance(species_description, str):\n",
    "            match = re.search(pattern, species_description.lower())\n",
    "            if match:\n",
    "                # Return the matched species, clean of extra spaces\n",
    "                return match.group(0).strip()\n",
    "        return 'Unknown'\n",
    "\n",
    "    # Apply the function to the specified column and create a new column\n",
    "    df['species_types'] = df[column_name].apply(find_shark_species)\n",
    "    return df\n",
    "\n",
    "\n",
    "df = extract_shark_species(df, 'species')\n",
    "df['species_types'].unique()"
   ]
  },
  {
   "cell_type": "code",
   "execution_count": 74,
   "metadata": {},
   "outputs": [
    {
     "data": {
      "text/plain": [
       "39"
      ]
     },
     "execution_count": 74,
     "metadata": {},
     "output_type": "execute_result"
    }
   ],
   "source": [
    "df['species_types'].nunique()"
   ]
  },
  {
   "cell_type": "markdown",
   "metadata": {},
   "source": [
    "### 3.6. Handling Outliers\n",
    "\n",
    "- 3.6.1. Identify outliers using methods like box plots\n",
    "- 3.6.2. Cap outliers by replacing them with a cap value(95th or 99th percentile)\n",
    "- 3.6.3. Remove outliers if they are errors or irrelevant.\n"
   ]
  },
  {
   "cell_type": "markdown",
   "metadata": {},
   "source": [
    "#### 3.6.1. Identify outliers using methods like box plots in year col (keep only data from 1960)\n"
   ]
  },
  {
   "cell_type": "code",
   "execution_count": 75,
   "metadata": {},
   "outputs": [
    {
     "data": {
      "image/png": "[encoded data removed]",
      "text/plain": [
       "<Figure size 1000x600 with 1 Axes>"
      ]
     },
     "metadata": {},
     "output_type": "display_data"
    }
   ],
   "source": [
    "# 3.6.1. Identify outliers using method box plots in 'year' col (keep only data from 1960)\n",
    "def identify_outliers(df, column):\n",
    "    \"\"\"\n",
    "    Identifies outliers in a specified column of a DataFrame using the IQR method and visualizes them with a box plot.\n",
    "\n",
    "    :param df: pandas DataFrame\n",
    "    :param column: The name of the column to analyze for outliers\n",
    "    :return: A DataFrame containing the outliers and a box plot of the column\n",
    "    \"\"\"\n",
    "    # Calculate Q1 (25th percentile) and Q3 (75th percentile)\n",
    "    Q1 = df[column].quantile(0.25)\n",
    "    Q3 = df[column].quantile(0.75)\n",
    "\n",
    "    # Calculate the IQR (Interquartile Range)\n",
    "    IQR = Q3 - Q1\n",
    "\n",
    "    # Define the lower and upper bounds for outliers\n",
    "    lower_bound = Q1 - 1.5 * IQR\n",
    "    upper_bound = Q3 + 1.5 * IQR\n",
    "\n",
    "    # Identify outliers\n",
    "    outliers = df[(df[column] < lower_bound) | (df[column] > upper_bound)]\n",
    "\n",
    "    # Plotting the box plot to visualize outliers\n",
    "    plt.figure(figsize=(10, 6))\n",
    "    plt.boxplot(df[column], vert=False)\n",
    "    plt.title(f'Box Plot of {column} Column')\n",
    "    plt.xlabel(column)\n",
    "\n",
    "    # Return the DataFrame containing outliers\n",
    "    return plt.show()\n",
    "\n",
    "\n",
    "identify_outliers(df, 'year')"
   ]
  },
  {
   "cell_type": "code",
   "execution_count": 76,
   "metadata": {},
   "outputs": [
    {
     "data": {
      "text/html": [
       "<div>\n",
       "<style scoped>\n",
       "    .dataframe tbody tr th:only-of-type {\n",
       "        vertical-align: middle;\n",
       "    }\n",
       "\n",
       "    .dataframe tbody tr th {\n",
       "        vertical-align: top;\n",
       "    }\n",
       "\n",
       "    .dataframe thead th {\n",
       "        text-align: right;\n",
       "    }\n",
       "</style>\n",
       "<table border=\"1\" class=\"dataframe\">\n",
       "  <thead>\n",
       "    <tr style=\"text-align: right;\">\n",
       "      <th></th>\n",
       "      <th>year</th>\n",
       "      <th>type</th>\n",
       "      <th>country</th>\n",
       "      <th>state</th>\n",
       "      <th>location</th>\n",
       "      <th>activity</th>\n",
       "      <th>name</th>\n",
       "      <th>sex</th>\n",
       "      <th>age</th>\n",
       "      <th>time</th>\n",
       "      <th>species</th>\n",
       "      <th>source</th>\n",
       "      <th>correct_date</th>\n",
       "      <th>time_of_day</th>\n",
       "      <th>age_group</th>\n",
       "      <th>fatality_status</th>\n",
       "      <th>injury_type</th>\n",
       "      <th>species_types</th>\n",
       "    </tr>\n",
       "  </thead>\n",
       "  <tbody>\n",
       "    <tr>\n",
       "      <th>0</th>\n",
       "      <td>2024</td>\n",
       "      <td>Unprovoked</td>\n",
       "      <td>Australia</td>\n",
       "      <td>Queensland</td>\n",
       "      <td>Bargara Beach</td>\n",
       "      <td>Swimming</td>\n",
       "      <td>Brooklyn Sauer</td>\n",
       "      <td>Female</td>\n",
       "      <td>13</td>\n",
       "      <td>16h00</td>\n",
       "      <td>Tiger shark</td>\n",
       "      <td>Yahoo News, 3/15/2024</td>\n",
       "      <td>2024-03-15</td>\n",
       "      <td>Day</td>\n",
       "      <td>13-18</td>\n",
       "      <td>survived</td>\n",
       "      <td>back</td>\n",
       "      <td>tiger</td>\n",
       "    </tr>\n",
       "    <tr>\n",
       "      <th>1</th>\n",
       "      <td>2024</td>\n",
       "      <td>Unprovoked</td>\n",
       "      <td>Usa</td>\n",
       "      <td>Hawaii</td>\n",
       "      <td>Old Man's, Waikiki</td>\n",
       "      <td>Surfing</td>\n",
       "      <td>Matthew White</td>\n",
       "      <td>Male</td>\n",
       "      <td>28</td>\n",
       "      <td>NaN</td>\n",
       "      <td>Tiger shark 8'</td>\n",
       "      <td>Surfer, 3/6/2024F</td>\n",
       "      <td>2024-03-06</td>\n",
       "      <td>Unknown</td>\n",
       "      <td>26-35</td>\n",
       "      <td>survived</td>\n",
       "      <td>Unknown</td>\n",
       "      <td>tiger</td>\n",
       "    </tr>\n",
       "    <tr>\n",
       "      <th>2</th>\n",
       "      <td>2024</td>\n",
       "      <td>Unprovoked</td>\n",
       "      <td>Usa</td>\n",
       "      <td>Hawaii</td>\n",
       "      <td>Rainbows, Oahu</td>\n",
       "      <td>Swimming</td>\n",
       "      <td>NaN</td>\n",
       "      <td>Female</td>\n",
       "      <td>11</td>\n",
       "      <td>13h30</td>\n",
       "      <td>3' to 4' shark</td>\n",
       "      <td>Hawaii News Now, 3/4/2024</td>\n",
       "      <td>2024-03-04</td>\n",
       "      <td>Day</td>\n",
       "      <td>0-12</td>\n",
       "      <td>survived</td>\n",
       "      <td>foot</td>\n",
       "      <td>Unknown</td>\n",
       "    </tr>\n",
       "    <tr>\n",
       "      <th>3</th>\n",
       "      <td>2024</td>\n",
       "      <td>Unprovoked</td>\n",
       "      <td>Australia</td>\n",
       "      <td>Western Australia</td>\n",
       "      <td>Sandlnd Island, Jurian Bay</td>\n",
       "      <td>Unidentified</td>\n",
       "      <td>female</td>\n",
       "      <td>Female</td>\n",
       "      <td>46</td>\n",
       "      <td>11h30</td>\n",
       "      <td>Tiger shark</td>\n",
       "      <td>WA Today, 2/26/2024</td>\n",
       "      <td>2024-02-26</td>\n",
       "      <td>Morning</td>\n",
       "      <td>46-55</td>\n",
       "      <td>survived</td>\n",
       "      <td>leg</td>\n",
       "      <td>tiger</td>\n",
       "    </tr>\n",
       "    <tr>\n",
       "      <th>4</th>\n",
       "      <td>2024</td>\n",
       "      <td>Unprovoked</td>\n",
       "      <td>India</td>\n",
       "      <td>Maharashtra</td>\n",
       "      <td>Vaitarna River, Palghar District</td>\n",
       "      <td>Fishing</td>\n",
       "      <td>Vicky Suresh Govari</td>\n",
       "      <td>Male</td>\n",
       "      <td>32</td>\n",
       "      <td>NaN</td>\n",
       "      <td>Bull shark, 7'</td>\n",
       "      <td>Times of India, 2/14/2024</td>\n",
       "      <td>2024-02-14</td>\n",
       "      <td>Unknown</td>\n",
       "      <td>26-35</td>\n",
       "      <td>survived</td>\n",
       "      <td>leg</td>\n",
       "      <td>bull</td>\n",
       "    </tr>\n",
       "  </tbody>\n",
       "</table>\n",
       "</div>"
      ],
      "text/plain": [
       "   year        type    country              state  \\\n",
       "0  2024  Unprovoked  Australia         Queensland   \n",
       "1  2024  Unprovoked        Usa             Hawaii   \n",
       "2  2024  Unprovoked        Usa             Hawaii   \n",
       "3  2024  Unprovoked  Australia  Western Australia   \n",
       "4  2024  Unprovoked      India        Maharashtra   \n",
       "\n",
       "                           location      activity                 name  \\\n",
       "0                     Bargara Beach      Swimming       Brooklyn Sauer   \n",
       "1                Old Man's, Waikiki       Surfing        Matthew White   \n",
       "2                    Rainbows, Oahu      Swimming                  NaN   \n",
       "3        Sandlnd Island, Jurian Bay  Unidentified               female   \n",
       "4  Vaitarna River, Palghar District       Fishing  Vicky Suresh Govari   \n",
       "\n",
       "      sex  age   time         species                     source correct_date  \\\n",
       "0  Female   13  16h00     Tiger shark      Yahoo News, 3/15/2024   2024-03-15   \n",
       "1    Male   28    NaN  Tiger shark 8'          Surfer, 3/6/2024F   2024-03-06   \n",
       "2  Female   11  13h30  3' to 4' shark  Hawaii News Now, 3/4/2024   2024-03-04   \n",
       "3  Female   46  11h30     Tiger shark        WA Today, 2/26/2024   2024-02-26   \n",
       "4    Male   32    NaN  Bull shark, 7'  Times of India, 2/14/2024   2024-02-14   \n",
       "\n",
       "  time_of_day age_group fatality_status injury_type species_types  \n",
       "0         Day     13-18        survived        back         tiger  \n",
       "1     Unknown     26-35        survived     Unknown         tiger  \n",
       "2         Day      0-12        survived        foot       Unknown  \n",
       "3     Morning     46-55        survived         leg         tiger  \n",
       "4     Unknown     26-35        survived         leg          bull  "
      ]
     },
     "execution_count": 76,
     "metadata": {},
     "output_type": "execute_result"
    }
   ],
   "source": [
    "def handle_year_outliers(df):\n",
    "    df = df[df['year'] >= 1954]\n",
    "    return df\n",
    "\n",
    "\n",
    "df = handle_year_outliers(df)\n",
    "df.head()"
   ]
  },
  {
   "cell_type": "code",
   "execution_count": 77,
   "metadata": {},
   "outputs": [
    {
     "data": {
      "image/png": "[encoded data removed]",
      "text/plain": [
       "<Figure size 1000x600 with 1 Axes>"
      ]
     },
     "metadata": {},
     "output_type": "display_data"
    }
   ],
   "source": [
    "# identify outliers in col 'year'\n",
    "import matplotlib.pyplot as plt\n",
    "import pandas as pd\n",
    "\n",
    "\n",
    "def identify_outliers(df, column):\n",
    "    \"\"\"\n",
    "    Identifies outliers in a specified column of a DataFrame using the IQR method and visualizes them with a box plot.\n",
    "\n",
    "    :param df: pandas DataFrame\n",
    "    :param column: The name of the column to analyze for outliers\n",
    "    :return: A DataFrame containing the outliers and a box plot of the column\n",
    "    \"\"\"\n",
    "    # Calculate Q1 (25th percentile) and Q3 (75th percentile)\n",
    "    Q1 = df[column].quantile(0.25)\n",
    "    Q3 = df[column].quantile(0.75)\n",
    "\n",
    "    # Calculate the IQR (Interquartile Range)\n",
    "    IQR = Q3 - Q1\n",
    "\n",
    "    # Define the lower and upper bounds for outliers\n",
    "    lower_bound = Q1 - 1.5 * IQR\n",
    "    upper_bound = Q3 + 1.5 * IQR\n",
    "\n",
    "    # Identify outliers\n",
    "    outliers = df[(df[column] < lower_bound) | (df[column] > upper_bound)]\n",
    "\n",
    "    # Plotting the box plot to visualize outliers\n",
    "    plt.figure(figsize=(10, 6))\n",
    "    plt.boxplot(df[column], vert=False)\n",
    "    plt.title(f'Box Plot of {column} Column')\n",
    "    plt.xlabel(column)\n",
    "\n",
    "    # Return the DataFrame containing outliers\n",
    "    return plt.show()\n",
    "\n",
    "\n",
    "# Example usage:\n",
    "identify_outliers(df, 'year')"
   ]
  },
  {
   "cell_type": "markdown",
   "metadata": {},
   "source": [
    "#### Handle outliers in correct_date col :\n",
    "\n",
    "- check outliers\n"
   ]
  },
  {
   "cell_type": "code",
   "execution_count": 78,
   "metadata": {},
   "outputs": [
    {
     "data": {
      "text/plain": [
       "count                             4988\n",
       "mean     1996-07-05 01:04:22.710505216\n",
       "min                1954-01-21 00:00:00\n",
       "25%                1980-12-29 00:00:00\n",
       "50%                2002-06-12 00:00:00\n",
       "75%                2013-09-05 12:00:00\n",
       "max                2103-12-10 00:00:00\n",
       "Name: correct_date, dtype: object"
      ]
     },
     "execution_count": 78,
     "metadata": {},
     "output_type": "execute_result"
    }
   ],
   "source": [
    "df['correct_date'].describe()"
   ]
  },
  {
   "cell_type": "markdown",
   "metadata": {},
   "source": [
    "#### Handle outliers in age col :\n",
    "\n",
    "- check outliers\n"
   ]
  },
  {
   "cell_type": "code",
   "execution_count": 79,
   "metadata": {},
   "outputs": [
    {
     "data": {
      "text/plain": [
       "count    4988.000000\n",
       "mean       28.492983\n",
       "std        12.080446\n",
       "min         1.000000\n",
       "25%        21.000000\n",
       "50%        28.000000\n",
       "75%        30.000000\n",
       "max        87.000000\n",
       "Name: age, dtype: float64"
      ]
     },
     "execution_count": 79,
     "metadata": {},
     "output_type": "execute_result"
    }
   ],
   "source": [
    "df['age'].describe()"
   ]
  },
  {
   "cell_type": "code",
   "execution_count": 103,
   "metadata": {},
   "outputs": [
    {
     "data": {
      "image/png": "[encoded data removed]",
      "text/plain": [
       "<Figure size 1000x300 with 1 Axes>"
      ]
     },
     "metadata": {},
     "output_type": "display_data"
    }
   ],
   "source": [
    "def identify_outliers(df, column):\n",
    "    \"\"\"\n",
    "    Identifies outliers in a specified column of a DataFrame using the IQR method and visualizes them with a box plot.\n",
    "\n",
    "    :param df: pandas DataFrame\n",
    "    :param column: The name of the column to analyze for outliers\n",
    "    :return: A DataFrame containing the outliers and a box plot of the column\n",
    "    \"\"\"\n",
    "    # Calculate Q1 (25th percentile) and Q3 (75th percentile)\n",
    "    Q1 = df[column].quantile(0.25)\n",
    "    Q3 = df[column].quantile(0.75)\n",
    "\n",
    "    # Calculate the IQR (Interquartile Range)\n",
    "    IQR = Q3 - Q1\n",
    "\n",
    "    # Define the lower and upper bounds for outliers\n",
    "    lower_bound = Q1 - 1.5 * IQR\n",
    "    upper_bound = Q3 + 1.5 * IQR\n",
    "\n",
    "    # Identify outliers\n",
    "    outliers = df[(df[column] < lower_bound) | (df[column] > upper_bound)]\n",
    "\n",
    "    # Plotting the box plot to visualize outliers\n",
    "    plt.figure(figsize=(10, 3))\n",
    "    plt.boxplot(df[column], vert=False)\n",
    "    plt.title(f'Box Plot of {column} Column')\n",
    "    plt.xlabel(column)\n",
    "\n",
    "    # Return the DataFrame containing outliers\n",
    "    return plt.show()\n",
    "\n",
    "\n",
    "# Example usage:\n",
    "identify_outliers(df, 'age')"
   ]
  },
  {
   "cell_type": "markdown",
   "metadata": {},
   "source": [
    "#### Extract final cleaned df to csv file\n"
   ]
  },
  {
   "cell_type": "code",
   "execution_count": 81,
   "metadata": {},
   "outputs": [],
   "source": [
    "df_final = df.to_csv(\n",
    "    '../eda_sharks_project/data/cleaned_data/final_cleaned_df.csv')"
   ]
  },
  {
   "cell_type": "markdown",
   "metadata": {},
   "source": [
    "## 4. Visualizations\n",
    "\n",
    "- 4.1. Attacks number by year (line graph)\n",
    "- 4.2. Attacks number per Activity (bar chart)\n",
    "- 4.3. Attacks number per Countries/States (bar chart)\n",
    "- 4.4. Attacks counts by Months (bar chart)\n",
    "- 4.5. Attacks by time of the day (pie chart)\n",
    "- 4.6. Victimes by 'age' (make bins, bar chart)\n",
    "- 4.7. Victimes by 'sex' (staked bar chart)\n",
    "- 4.8. Fatality status (pie chart)\n"
   ]
  },
  {
   "cell_type": "markdown",
   "metadata": {},
   "source": [
    "#### 4.1. Attacks number by year (line graph)\n"
   ]
  },
  {
   "cell_type": "code",
   "execution_count": 82,
   "metadata": {},
   "outputs": [
    {
     "data": {
      "application/vnd.plotly.v1+json": {
       "config": {
        "plotlyServerURL": "https://plot.ly"
       },
       "data": [
        {
         "hovertemplate": "Year=%{x}<br>Number of Attacks=%{y}<extra></extra>",
         "legendgroup": "",
         "line": {
          "color": "#636efa",
          "dash": "solid"
         },
         "marker": {
          "symbol": "circle"
         },
         "mode": "lines",
         "name": "",
         "orientation": "v",
         "showlegend": false,
         "type": "scatter",
         "x": [
          1954,
          1955,
          1956,
          1957,
          1958,
          1959,
          1960,
          1961,
          1962,
          1963,
          1964,
          1965,
          1966,
          1967,
          1968,
          1969,
          1970,
          1971,
          1972,
          1973,
          1974,
          1975,
          1976,
          1977,
          1978,
          1979,
          1980,
          1981,
          1982,
          1983,
          1984,
          1985,
          1986,
          1987,
          1988,
          1989,
          1990,
          1991,
          1992,
          1993,
          1994,
          1995,
          1996,
          1997,
          1998,
          1999,
          2000,
          2001,
          2002,
          2003,
          2004,
          2005,
          2006,
          2007,
          2008,
          2009,
          2010,
          2011,
          2012,
          2013,
          2014,
          2015,
          2016,
          2017,
          2018,
          2019,
          2020,
          2021,
          2022,
          2023,
          2024
         ],
         "xaxis": "x",
         "y": [
          45,
          43,
          51,
          41,
          54,
          93,
          93,
          78,
          86,
          61,
          66,
          51,
          58,
          48,
          47,
          30,
          42,
          30,
          36,
          27,
          39,
          49,
          39,
          26,
          26,
          25,
          36,
          49,
          42,
          50,
          41,
          37,
          39,
          35,
          56,
          53,
          39,
          39,
          56,
          56,
          57,
          76,
          61,
          57,
          65,
          66,
          97,
          92,
          88,
          92,
          92,
          103,
          103,
          113,
          122,
          120,
          101,
          128,
          117,
          122,
          126,
          143,
          131,
          140,
          124,
          114,
          101,
          109,
          98,
          108,
          10
         ],
         "yaxis": "y"
        }
       ],
       "layout": {
        "legend": {
         "tracegroupgap": 0
        },
        "template": {
         "data": {
          "bar": [
           {
            "error_x": {
             "color": "#2a3f5f"
            },
            "error_y": {
             "color": "#2a3f5f"
            },
            "marker": {
             "line": {
              "color": "#E5ECF6",
              "width": 0.5
             },
             "pattern": {
              "fillmode": "overlay",
              "size": 10,
              "solidity": 0.2
             }
            },
            "type": "bar"
           }
          ],
          "barpolar": [
           {
            "marker": {
             "line": {
              "color": "#E5ECF6",
              "width": 0.5
             },
             "pattern": {
              "fillmode": "overlay",
              "size": 10,
              "solidity": 0.2
             }
            },
            "type": "barpolar"
           }
          ],
          "carpet": [
           {
            "aaxis": {
             "endlinecolor": "#2a3f5f",
             "gridcolor": "white",
             "linecolor": "white",
             "minorgridcolor": "white",
             "startlinecolor": "#2a3f5f"
            },
            "baxis": {
             "endlinecolor": "#2a3f5f",
             "gridcolor": "white",
             "linecolor": "white",
             "minorgridcolor": "white",
             "startlinecolor": "#2a3f5f"
            },
            "type": "carpet"
           }
          ],
          "choropleth": [
           {
            "colorbar": {
             "outlinewidth": 0,
             "ticks": ""
            },
            "type": "choropleth"
           }
          ],
          "contour": [
           {
            "colorbar": {
             "outlinewidth": 0,
             "ticks": ""
            },
            "colorscale": [
             [
              0,
              "#0d0887"
             ],
             [
              0.1111111111111111,
              "#46039f"
             ],
             [
              0.2222222222222222,
              "#7201a8"
             ],
             [
              0.3333333333333333,
              "#9c179e"
             ],
             [
              0.4444444444444444,
              "#bd3786"
             ],
             [
              0.5555555555555556,
              "#d8576b"
             ],
             [
              0.6666666666666666,
              "#ed7953"
             ],
             [
              0.7777777777777778,
              "#fb9f3a"
             ],
             [
              0.8888888888888888,
              "#fdca26"
             ],
             [
              1,
              "#f0f921"
             ]
            ],
            "type": "contour"
           }
          ],
          "contourcarpet": [
           {
            "colorbar": {
             "outlinewidth": 0,
             "ticks": ""
            },
            "type": "contourcarpet"
           }
          ],
          "heatmap": [
           {
            "colorbar": {
             "outlinewidth": 0,
             "ticks": ""
            },
            "colorscale": [
             [
              0,
              "#0d0887"
             ],
             [
              0.1111111111111111,
              "#46039f"
             ],
             [
              0.2222222222222222,
              "#7201a8"
             ],
             [
              0.3333333333333333,
              "#9c179e"
             ],
             [
              0.4444444444444444,
              "#bd3786"
             ],
             [
              0.5555555555555556,
              "#d8576b"
             ],
             [
              0.6666666666666666,
              "#ed7953"
             ],
             [
              0.7777777777777778,
              "#fb9f3a"
             ],
             [
              0.8888888888888888,
              "#fdca26"
             ],
             [
              1,
              "#f0f921"
             ]
            ],
            "type": "heatmap"
           }
          ],
          "heatmapgl": [
           {
            "colorbar": {
             "outlinewidth": 0,
             "ticks": ""
            },
            "colorscale": [
             [
              0,
              "#0d0887"
             ],
             [
              0.1111111111111111,
              "#46039f"
             ],
             [
              0.2222222222222222,
              "#7201a8"
             ],
             [
              0.3333333333333333,
              "#9c179e"
             ],
             [
              0.4444444444444444,
              "#bd3786"
             ],
             [
              0.5555555555555556,
              "#d8576b"
             ],
             [
              0.6666666666666666,
              "#ed7953"
             ],
             [
              0.7777777777777778,
              "#fb9f3a"
             ],
             [
              0.8888888888888888,
              "#fdca26"
             ],
             [
              1,
              "#f0f921"
             ]
            ],
            "type": "heatmapgl"
           }
          ],
          "histogram": [
           {
            "marker": {
             "pattern": {
              "fillmode": "overlay",
              "size": 10,
              "solidity": 0.2
             }
            },
            "type": "histogram"
           }
          ],
          "histogram2d": [
           {
            "colorbar": {
             "outlinewidth": 0,
             "ticks": ""
            },
            "colorscale": [
             [
              0,
              "#0d0887"
             ],
             [
              0.1111111111111111,
              "#46039f"
             ],
             [
              0.2222222222222222,
              "#7201a8"
             ],
             [
              0.3333333333333333,
              "#9c179e"
             ],
             [
              0.4444444444444444,
              "#bd3786"
             ],
             [
              0.5555555555555556,
              "#d8576b"
             ],
             [
              0.6666666666666666,
              "#ed7953"
             ],
             [
              0.7777777777777778,
              "#fb9f3a"
             ],
             [
              0.8888888888888888,
              "#fdca26"
             ],
             [
              1,
              "#f0f921"
             ]
            ],
            "type": "histogram2d"
           }
          ],
          "histogram2dcontour": [
           {
            "colorbar": {
             "outlinewidth": 0,
             "ticks": ""
            },
            "colorscale": [
             [
              0,
              "#0d0887"
             ],
             [
              0.1111111111111111,
              "#46039f"
             ],
             [
              0.2222222222222222,
              "#7201a8"
             ],
             [
              0.3333333333333333,
              "#9c179e"
             ],
             [
              0.4444444444444444,
              "#bd3786"
             ],
             [
              0.5555555555555556,
              "#d8576b"
             ],
             [
              0.6666666666666666,
              "#ed7953"
             ],
             [
              0.7777777777777778,
              "#fb9f3a"
             ],
             [
              0.8888888888888888,
              "#fdca26"
             ],
             [
              1,
              "#f0f921"
             ]
            ],
            "type": "histogram2dcontour"
           }
          ],
          "mesh3d": [
           {
            "colorbar": {
             "outlinewidth": 0,
             "ticks": ""
            },
            "type": "mesh3d"
           }
          ],
          "parcoords": [
           {
            "line": {
             "colorbar": {
              "outlinewidth": 0,
              "ticks": ""
             }
            },
            "type": "parcoords"
           }
          ],
          "pie": [
           {
            "automargin": true,
            "type": "pie"
           }
          ],
          "scatter": [
           {
            "fillpattern": {
             "fillmode": "overlay",
             "size": 10,
             "solidity": 0.2
            },
            "type": "scatter"
           }
          ],
          "scatter3d": [
           {
            "line": {
             "colorbar": {
              "outlinewidth": 0,
              "ticks": ""
             }
            },
            "marker": {
             "colorbar": {
              "outlinewidth": 0,
              "ticks": ""
             }
            },
            "type": "scatter3d"
           }
          ],
          "scattercarpet": [
           {
            "marker": {
             "colorbar": {
              "outlinewidth": 0,
              "ticks": ""
             }
            },
            "type": "scattercarpet"
           }
          ],
          "scattergeo": [
           {
            "marker": {
             "colorbar": {
              "outlinewidth": 0,
              "ticks": ""
             }
            },
            "type": "scattergeo"
           }
          ],
          "scattergl": [
           {
            "marker": {
             "colorbar": {
              "outlinewidth": 0,
              "ticks": ""
             }
            },
            "type": "scattergl"
           }
          ],
          "scattermapbox": [
           {
            "marker": {
             "colorbar": {
              "outlinewidth": 0,
              "ticks": ""
             }
            },
            "type": "scattermapbox"
           }
          ],
          "scatterpolar": [
           {
            "marker": {
             "colorbar": {
              "outlinewidth": 0,
              "ticks": ""
             }
            },
            "type": "scatterpolar"
           }
          ],
          "scatterpolargl": [
           {
            "marker": {
             "colorbar": {
              "outlinewidth": 0,
              "ticks": ""
             }
            },
            "type": "scatterpolargl"
           }
          ],
          "scatterternary": [
           {
            "marker": {
             "colorbar": {
              "outlinewidth": 0,
              "ticks": ""
             }
            },
            "type": "scatterternary"
           }
          ],
          "surface": [
           {
            "colorbar": {
             "outlinewidth": 0,
             "ticks": ""
            },
            "colorscale": [
             [
              0,
              "#0d0887"
             ],
             [
              0.1111111111111111,
              "#46039f"
             ],
             [
              0.2222222222222222,
              "#7201a8"
             ],
             [
              0.3333333333333333,
              "#9c179e"
             ],
             [
              0.4444444444444444,
              "#bd3786"
             ],
             [
              0.5555555555555556,
              "#d8576b"
             ],
             [
              0.6666666666666666,
              "#ed7953"
             ],
             [
              0.7777777777777778,
              "#fb9f3a"
             ],
             [
              0.8888888888888888,
              "#fdca26"
             ],
             [
              1,
              "#f0f921"
             ]
            ],
            "type": "surface"
           }
          ],
          "table": [
           {
            "cells": {
             "fill": {
              "color": "#EBF0F8"
             },
             "line": {
              "color": "white"
             }
            },
            "header": {
             "fill": {
              "color": "#C8D4E3"
             },
             "line": {
              "color": "white"
             }
            },
            "type": "table"
           }
          ]
         },
         "layout": {
          "annotationdefaults": {
           "arrowcolor": "#2a3f5f",
           "arrowhead": 0,
           "arrowwidth": 1
          },
          "autotypenumbers": "strict",
          "coloraxis": {
           "colorbar": {
            "outlinewidth": 0,
            "ticks": ""
           }
          },
          "colorscale": {
           "diverging": [
            [
             0,
             "#8e0152"
            ],
            [
             0.1,
             "#c51b7d"
            ],
            [
             0.2,
             "#de77ae"
            ],
            [
             0.3,
             "#f1b6da"
            ],
            [
             0.4,
             "#fde0ef"
            ],
            [
             0.5,
             "#f7f7f7"
            ],
            [
             0.6,
             "#e6f5d0"
            ],
            [
             0.7,
             "#b8e186"
            ],
            [
             0.8,
             "#7fbc41"
            ],
            [
             0.9,
             "#4d9221"
            ],
            [
             1,
             "#276419"
            ]
           ],
           "sequential": [
            [
             0,
             "#0d0887"
            ],
            [
             0.1111111111111111,
             "#46039f"
            ],
            [
             0.2222222222222222,
             "#7201a8"
            ],
            [
             0.3333333333333333,
             "#9c179e"
            ],
            [
             0.4444444444444444,
             "#bd3786"
            ],
            [
             0.5555555555555556,
             "#d8576b"
            ],
            [
             0.6666666666666666,
             "#ed7953"
            ],
            [
             0.7777777777777778,
             "#fb9f3a"
            ],
            [
             0.8888888888888888,
             "#fdca26"
            ],
            [
             1,
             "#f0f921"
            ]
           ],
           "sequentialminus": [
            [
             0,
             "#0d0887"
            ],
            [
             0.1111111111111111,
             "#46039f"
            ],
            [
             0.2222222222222222,
             "#7201a8"
            ],
            [
             0.3333333333333333,
             "#9c179e"
            ],
            [
             0.4444444444444444,
             "#bd3786"
            ],
            [
             0.5555555555555556,
             "#d8576b"
            ],
            [
             0.6666666666666666,
             "#ed7953"
            ],
            [
             0.7777777777777778,
             "#fb9f3a"
            ],
            [
             0.8888888888888888,
             "#fdca26"
            ],
            [
             1,
             "#f0f921"
            ]
           ]
          },
          "colorway": [
           "#636efa",
           "#EF553B",
           "#00cc96",
           "#ab63fa",
           "#FFA15A",
           "#19d3f3",
           "#FF6692",
           "#B6E880",
           "#FF97FF",
           "#FECB52"
          ],
          "font": {
           "color": "#2a3f5f"
          },
          "geo": {
           "bgcolor": "white",
           "lakecolor": "white",
           "landcolor": "#E5ECF6",
           "showlakes": true,
           "showland": true,
           "subunitcolor": "white"
          },
          "hoverlabel": {
           "align": "left"
          },
          "hovermode": "closest",
          "mapbox": {
           "style": "light"
          },
          "paper_bgcolor": "white",
          "plot_bgcolor": "#E5ECF6",
          "polar": {
           "angularaxis": {
            "gridcolor": "white",
            "linecolor": "white",
            "ticks": ""
           },
           "bgcolor": "#E5ECF6",
           "radialaxis": {
            "gridcolor": "white",
            "linecolor": "white",
            "ticks": ""
           }
          },
          "scene": {
           "xaxis": {
            "backgroundcolor": "#E5ECF6",
            "gridcolor": "white",
            "gridwidth": 2,
            "linecolor": "white",
            "showbackground": true,
            "ticks": "",
            "zerolinecolor": "white"
           },
           "yaxis": {
            "backgroundcolor": "#E5ECF6",
            "gridcolor": "white",
            "gridwidth": 2,
            "linecolor": "white",
            "showbackground": true,
            "ticks": "",
            "zerolinecolor": "white"
           },
           "zaxis": {
            "backgroundcolor": "#E5ECF6",
            "gridcolor": "white",
            "gridwidth": 2,
            "linecolor": "white",
            "showbackground": true,
            "ticks": "",
            "zerolinecolor": "white"
           }
          },
          "shapedefaults": {
           "line": {
            "color": "#2a3f5f"
           }
          },
          "ternary": {
           "aaxis": {
            "gridcolor": "white",
            "linecolor": "white",
            "ticks": ""
           },
           "baxis": {
            "gridcolor": "white",
            "linecolor": "white",
            "ticks": ""
           },
           "bgcolor": "#E5ECF6",
           "caxis": {
            "gridcolor": "white",
            "linecolor": "white",
            "ticks": ""
           }
          },
          "title": {
           "x": 0.05
          },
          "xaxis": {
           "automargin": true,
           "gridcolor": "white",
           "linecolor": "white",
           "ticks": "",
           "title": {
            "standoff": 15
           },
           "zerolinecolor": "white",
           "zerolinewidth": 2
          },
          "yaxis": {
           "automargin": true,
           "gridcolor": "white",
           "linecolor": "white",
           "ticks": "",
           "title": {
            "standoff": 15
           },
           "zerolinecolor": "white",
           "zerolinewidth": 2
          }
         }
        },
        "title": {
         "text": "Attacks by Year"
        },
        "xaxis": {
         "anchor": "y",
         "domain": [
          0,
          1
         ],
         "title": {
          "text": "Year"
         }
        },
        "yaxis": {
         "anchor": "x",
         "domain": [
          0,
          1
         ],
         "title": {
          "text": "Number of Attacks"
         }
        }
       }
      }
     },
     "metadata": {},
     "output_type": "display_data"
    }
   ],
   "source": [
    "# Counting the number of rows per year (number of attacks). final_cleaned_df['year'] for the X-axis and the count of rows for each year (representing the number of attacks) for the Y-axis\n",
    "yearly_attacks = df.groupby('year').size().reset_index(name='attacks')\n",
    "\n",
    "# Creating the line graph using Plotly Express\n",
    "fig = px.line(yearly_attacks, x='year', y='attacks', title='Attacks by Year',\n",
    "              labels={'year': 'Year', 'attacks': 'Number of Attacks'})\n",
    "\n",
    "# Show the plot\n",
    "fig.show()"
   ]
  },
  {
   "cell_type": "markdown",
   "metadata": {},
   "source": [
    "#### 4.2. Attacks number per Activity\n"
   ]
  },
  {
   "cell_type": "code",
   "execution_count": 83,
   "metadata": {},
   "outputs": [
    {
     "data": {
      "application/vnd.plotly.v1+json": {
       "config": {
        "plotlyServerURL": "https://plot.ly"
       },
       "data": [
        {
         "alignmentgroup": "True",
         "hovertemplate": "Activity=%{x}<br>Number of Counts=%{text}<extra></extra>",
         "legendgroup": "",
         "marker": {
          "color": "#636efa",
          "pattern": {
           "shape": ""
          }
         },
         "name": "",
         "offsetgroup": "",
         "orientation": "v",
         "showlegend": false,
         "text": [
          1151,
          746,
          425,
          422,
          345,
          165,
          150,
          134,
          128,
          117
         ],
         "textposition": "auto",
         "type": "bar",
         "x": [
          "Surfing",
          "Swimming",
          "Spearfishing",
          "Fishing",
          "Unidentified",
          "Wading",
          "Diving",
          "Snorkeling",
          "Scuba",
          "Body"
         ],
         "xaxis": "x",
         "y": [
          1151,
          746,
          425,
          422,
          345,
          165,
          150,
          134,
          128,
          117
         ],
         "yaxis": "y"
        }
       ],
       "layout": {
        "barmode": "relative",
        "legend": {
         "tracegroupgap": 0
        },
        "template": {
         "data": {
          "bar": [
           {
            "error_x": {
             "color": "#2a3f5f"
            },
            "error_y": {
             "color": "#2a3f5f"
            },
            "marker": {
             "line": {
              "color": "#E5ECF6",
              "width": 0.5
             },
             "pattern": {
              "fillmode": "overlay",
              "size": 10,
              "solidity": 0.2
             }
            },
            "type": "bar"
           }
          ],
          "barpolar": [
           {
            "marker": {
             "line": {
              "color": "#E5ECF6",
              "width": 0.5
             },
             "pattern": {
              "fillmode": "overlay",
              "size": 10,
              "solidity": 0.2
             }
            },
            "type": "barpolar"
           }
          ],
          "carpet": [
           {
            "aaxis": {
             "endlinecolor": "#2a3f5f",
             "gridcolor": "white",
             "linecolor": "white",
             "minorgridcolor": "white",
             "startlinecolor": "#2a3f5f"
            },
            "baxis": {
             "endlinecolor": "#2a3f5f",
             "gridcolor": "white",
             "linecolor": "white",
             "minorgridcolor": "white",
             "startlinecolor": "#2a3f5f"
            },
            "type": "carpet"
           }
          ],
          "choropleth": [
           {
            "colorbar": {
             "outlinewidth": 0,
             "ticks": ""
            },
            "type": "choropleth"
           }
          ],
          "contour": [
           {
            "colorbar": {
             "outlinewidth": 0,
             "ticks": ""
            },
            "colorscale": [
             [
              0,
              "#0d0887"
             ],
             [
              0.1111111111111111,
              "#46039f"
             ],
             [
              0.2222222222222222,
              "#7201a8"
             ],
             [
              0.3333333333333333,
              "#9c179e"
             ],
             [
              0.4444444444444444,
              "#bd3786"
             ],
             [
              0.5555555555555556,
              "#d8576b"
             ],
             [
              0.6666666666666666,
              "#ed7953"
             ],
             [
              0.7777777777777778,
              "#fb9f3a"
             ],
             [
              0.8888888888888888,
              "#fdca26"
             ],
             [
              1,
              "#f0f921"
             ]
            ],
            "type": "contour"
           }
          ],
          "contourcarpet": [
           {
            "colorbar": {
             "outlinewidth": 0,
             "ticks": ""
            },
            "type": "contourcarpet"
           }
          ],
          "heatmap": [
           {
            "colorbar": {
             "outlinewidth": 0,
             "ticks": ""
            },
            "colorscale": [
             [
              0,
              "#0d0887"
             ],
             [
              0.1111111111111111,
              "#46039f"
             ],
             [
              0.2222222222222222,
              "#7201a8"
             ],
             [
              0.3333333333333333,
              "#9c179e"
             ],
             [
              0.4444444444444444,
              "#bd3786"
             ],
             [
              0.5555555555555556,
              "#d8576b"
             ],
             [
              0.6666666666666666,
              "#ed7953"
             ],
             [
              0.7777777777777778,
              "#fb9f3a"
             ],
             [
              0.8888888888888888,
              "#fdca26"
             ],
             [
              1,
              "#f0f921"
             ]
            ],
            "type": "heatmap"
           }
          ],
          "heatmapgl": [
           {
            "colorbar": {
             "outlinewidth": 0,
             "ticks": ""
            },
            "colorscale": [
             [
              0,
              "#0d0887"
             ],
             [
              0.1111111111111111,
              "#46039f"
             ],
             [
              0.2222222222222222,
              "#7201a8"
             ],
             [
              0.3333333333333333,
              "#9c179e"
             ],
             [
              0.4444444444444444,
              "#bd3786"
             ],
             [
              0.5555555555555556,
              "#d8576b"
             ],
             [
              0.6666666666666666,
              "#ed7953"
             ],
             [
              0.7777777777777778,
              "#fb9f3a"
             ],
             [
              0.8888888888888888,
              "#fdca26"
             ],
             [
              1,
              "#f0f921"
             ]
            ],
            "type": "heatmapgl"
           }
          ],
          "histogram": [
           {
            "marker": {
             "pattern": {
              "fillmode": "overlay",
              "size": 10,
              "solidity": 0.2
             }
            },
            "type": "histogram"
           }
          ],
          "histogram2d": [
           {
            "colorbar": {
             "outlinewidth": 0,
             "ticks": ""
            },
            "colorscale": [
             [
              0,
              "#0d0887"
             ],
             [
              0.1111111111111111,
              "#46039f"
             ],
             [
              0.2222222222222222,
              "#7201a8"
             ],
             [
              0.3333333333333333,
              "#9c179e"
             ],
             [
              0.4444444444444444,
              "#bd3786"
             ],
             [
              0.5555555555555556,
              "#d8576b"
             ],
             [
              0.6666666666666666,
              "#ed7953"
             ],
             [
              0.7777777777777778,
              "#fb9f3a"
             ],
             [
              0.8888888888888888,
              "#fdca26"
             ],
             [
              1,
              "#f0f921"
             ]
            ],
            "type": "histogram2d"
           }
          ],
          "histogram2dcontour": [
           {
            "colorbar": {
             "outlinewidth": 0,
             "ticks": ""
            },
            "colorscale": [
             [
              0,
              "#0d0887"
             ],
             [
              0.1111111111111111,
              "#46039f"
             ],
             [
              0.2222222222222222,
              "#7201a8"
             ],
             [
              0.3333333333333333,
              "#9c179e"
             ],
             [
              0.4444444444444444,
              "#bd3786"
             ],
             [
              0.5555555555555556,
              "#d8576b"
             ],
             [
              0.6666666666666666,
              "#ed7953"
             ],
             [
              0.7777777777777778,
              "#fb9f3a"
             ],
             [
              0.8888888888888888,
              "#fdca26"
             ],
             [
              1,
              "#f0f921"
             ]
            ],
            "type": "histogram2dcontour"
           }
          ],
          "mesh3d": [
           {
            "colorbar": {
             "outlinewidth": 0,
             "ticks": ""
            },
            "type": "mesh3d"
           }
          ],
          "parcoords": [
           {
            "line": {
             "colorbar": {
              "outlinewidth": 0,
              "ticks": ""
             }
            },
            "type": "parcoords"
           }
          ],
          "pie": [
           {
            "automargin": true,
            "type": "pie"
           }
          ],
          "scatter": [
           {
            "fillpattern": {
             "fillmode": "overlay",
             "size": 10,
             "solidity": 0.2
            },
            "type": "scatter"
           }
          ],
          "scatter3d": [
           {
            "line": {
             "colorbar": {
              "outlinewidth": 0,
              "ticks": ""
             }
            },
            "marker": {
             "colorbar": {
              "outlinewidth": 0,
              "ticks": ""
             }
            },
            "type": "scatter3d"
           }
          ],
          "scattercarpet": [
           {
            "marker": {
             "colorbar": {
              "outlinewidth": 0,
              "ticks": ""
             }
            },
            "type": "scattercarpet"
           }
          ],
          "scattergeo": [
           {
            "marker": {
             "colorbar": {
              "outlinewidth": 0,
              "ticks": ""
             }
            },
            "type": "scattergeo"
           }
          ],
          "scattergl": [
           {
            "marker": {
             "colorbar": {
              "outlinewidth": 0,
              "ticks": ""
             }
            },
            "type": "scattergl"
           }
          ],
          "scattermapbox": [
           {
            "marker": {
             "colorbar": {
              "outlinewidth": 0,
              "ticks": ""
             }
            },
            "type": "scattermapbox"
           }
          ],
          "scatterpolar": [
           {
            "marker": {
             "colorbar": {
              "outlinewidth": 0,
              "ticks": ""
             }
            },
            "type": "scatterpolar"
           }
          ],
          "scatterpolargl": [
           {
            "marker": {
             "colorbar": {
              "outlinewidth": 0,
              "ticks": ""
             }
            },
            "type": "scatterpolargl"
           }
          ],
          "scatterternary": [
           {
            "marker": {
             "colorbar": {
              "outlinewidth": 0,
              "ticks": ""
             }
            },
            "type": "scatterternary"
           }
          ],
          "surface": [
           {
            "colorbar": {
             "outlinewidth": 0,
             "ticks": ""
            },
            "colorscale": [
             [
              0,
              "#0d0887"
             ],
             [
              0.1111111111111111,
              "#46039f"
             ],
             [
              0.2222222222222222,
              "#7201a8"
             ],
             [
              0.3333333333333333,
              "#9c179e"
             ],
             [
              0.4444444444444444,
              "#bd3786"
             ],
             [
              0.5555555555555556,
              "#d8576b"
             ],
             [
              0.6666666666666666,
              "#ed7953"
             ],
             [
              0.7777777777777778,
              "#fb9f3a"
             ],
             [
              0.8888888888888888,
              "#fdca26"
             ],
             [
              1,
              "#f0f921"
             ]
            ],
            "type": "surface"
           }
          ],
          "table": [
           {
            "cells": {
             "fill": {
              "color": "#EBF0F8"
             },
             "line": {
              "color": "white"
             }
            },
            "header": {
             "fill": {
              "color": "#C8D4E3"
             },
             "line": {
              "color": "white"
             }
            },
            "type": "table"
           }
          ]
         },
         "layout": {
          "annotationdefaults": {
           "arrowcolor": "#2a3f5f",
           "arrowhead": 0,
           "arrowwidth": 1
          },
          "autotypenumbers": "strict",
          "coloraxis": {
           "colorbar": {
            "outlinewidth": 0,
            "ticks": ""
           }
          },
          "colorscale": {
           "diverging": [
            [
             0,
             "#8e0152"
            ],
            [
             0.1,
             "#c51b7d"
            ],
            [
             0.2,
             "#de77ae"
            ],
            [
             0.3,
             "#f1b6da"
            ],
            [
             0.4,
             "#fde0ef"
            ],
            [
             0.5,
             "#f7f7f7"
            ],
            [
             0.6,
             "#e6f5d0"
            ],
            [
             0.7,
             "#b8e186"
            ],
            [
             0.8,
             "#7fbc41"
            ],
            [
             0.9,
             "#4d9221"
            ],
            [
             1,
             "#276419"
            ]
           ],
           "sequential": [
            [
             0,
             "#0d0887"
            ],
            [
             0.1111111111111111,
             "#46039f"
            ],
            [
             0.2222222222222222,
             "#7201a8"
            ],
            [
             0.3333333333333333,
             "#9c179e"
            ],
            [
             0.4444444444444444,
             "#bd3786"
            ],
            [
             0.5555555555555556,
             "#d8576b"
            ],
            [
             0.6666666666666666,
             "#ed7953"
            ],
            [
             0.7777777777777778,
             "#fb9f3a"
            ],
            [
             0.8888888888888888,
             "#fdca26"
            ],
            [
             1,
             "#f0f921"
            ]
           ],
           "sequentialminus": [
            [
             0,
             "#0d0887"
            ],
            [
             0.1111111111111111,
             "#46039f"
            ],
            [
             0.2222222222222222,
             "#7201a8"
            ],
            [
             0.3333333333333333,
             "#9c179e"
            ],
            [
             0.4444444444444444,
             "#bd3786"
            ],
            [
             0.5555555555555556,
             "#d8576b"
            ],
            [
             0.6666666666666666,
             "#ed7953"
            ],
            [
             0.7777777777777778,
             "#fb9f3a"
            ],
            [
             0.8888888888888888,
             "#fdca26"
            ],
            [
             1,
             "#f0f921"
            ]
           ]
          },
          "colorway": [
           "#636efa",
           "#EF553B",
           "#00cc96",
           "#ab63fa",
           "#FFA15A",
           "#19d3f3",
           "#FF6692",
           "#B6E880",
           "#FF97FF",
           "#FECB52"
          ],
          "font": {
           "color": "#2a3f5f"
          },
          "geo": {
           "bgcolor": "white",
           "lakecolor": "white",
           "landcolor": "#E5ECF6",
           "showlakes": true,
           "showland": true,
           "subunitcolor": "white"
          },
          "hoverlabel": {
           "align": "left"
          },
          "hovermode": "closest",
          "mapbox": {
           "style": "light"
          },
          "paper_bgcolor": "white",
          "plot_bgcolor": "#E5ECF6",
          "polar": {
           "angularaxis": {
            "gridcolor": "white",
            "linecolor": "white",
            "ticks": ""
           },
           "bgcolor": "#E5ECF6",
           "radialaxis": {
            "gridcolor": "white",
            "linecolor": "white",
            "ticks": ""
           }
          },
          "scene": {
           "xaxis": {
            "backgroundcolor": "#E5ECF6",
            "gridcolor": "white",
            "gridwidth": 2,
            "linecolor": "white",
            "showbackground": true,
            "ticks": "",
            "zerolinecolor": "white"
           },
           "yaxis": {
            "backgroundcolor": "#E5ECF6",
            "gridcolor": "white",
            "gridwidth": 2,
            "linecolor": "white",
            "showbackground": true,
            "ticks": "",
            "zerolinecolor": "white"
           },
           "zaxis": {
            "backgroundcolor": "#E5ECF6",
            "gridcolor": "white",
            "gridwidth": 2,
            "linecolor": "white",
            "showbackground": true,
            "ticks": "",
            "zerolinecolor": "white"
           }
          },
          "shapedefaults": {
           "line": {
            "color": "#2a3f5f"
           }
          },
          "ternary": {
           "aaxis": {
            "gridcolor": "white",
            "linecolor": "white",
            "ticks": ""
           },
           "baxis": {
            "gridcolor": "white",
            "linecolor": "white",
            "ticks": ""
           },
           "bgcolor": "#E5ECF6",
           "caxis": {
            "gridcolor": "white",
            "linecolor": "white",
            "ticks": ""
           }
          },
          "title": {
           "x": 0.05
          },
          "xaxis": {
           "automargin": true,
           "gridcolor": "white",
           "linecolor": "white",
           "ticks": "",
           "title": {
            "standoff": 15
           },
           "zerolinecolor": "white",
           "zerolinewidth": 2
          },
          "yaxis": {
           "automargin": true,
           "gridcolor": "white",
           "linecolor": "white",
           "ticks": "",
           "title": {
            "standoff": 15
           },
           "zerolinecolor": "white",
           "zerolinewidth": 2
          }
         }
        },
        "title": {
         "text": "Attacks by Activity"
        },
        "xaxis": {
         "anchor": "y",
         "domain": [
          0,
          1
         ],
         "title": {
          "text": "Activity"
         }
        },
        "yaxis": {
         "anchor": "x",
         "domain": [
          0,
          1
         ],
         "title": {
          "text": "Number of Counts"
         }
        }
       }
      }
     },
     "metadata": {},
     "output_type": "display_data"
    }
   ],
   "source": [
    "# visualize attacks per activity\n",
    "def plot_top_10_activities(df):\n",
    "    # Directly convert the top 10 activities Series to a DataFrame\n",
    "    top_activities_df = df['activity'].value_counts().nlargest(\n",
    "        10).reset_index()\n",
    "    # Renaming columns for clarity\n",
    "    top_activities_df.columns = ['activity', 'counts']\n",
    "\n",
    "    # Create and display the bar chart using Plotly Express\n",
    "    fig = px.bar(top_activities_df, x='activity', y='counts',\n",
    "                 title=\"Attacks by Activity\",\n",
    "                 labels={'activity': 'Activity', 'counts': 'Number of Counts'},\n",
    "                 text='counts')  # Adding text to display counts on the bars\n",
    "    fig.show()\n",
    "\n",
    "\n",
    "plot_top_10_activities(df)"
   ]
  },
  {
   "cell_type": "markdown",
   "metadata": {},
   "source": [
    "#### 4.3. Attacks number per Country\n"
   ]
  },
  {
   "cell_type": "code",
   "execution_count": 84,
   "metadata": {},
   "outputs": [
    {
     "data": {
      "application/vnd.plotly.v1+json": {
       "config": {
        "plotlyServerURL": "https://plot.ly"
       },
       "data": [
        {
         "alignmentgroup": "True",
         "hovertemplate": "Country=%{x}<br>Number of Rows=%{text}<extra></extra>",
         "legendgroup": "",
         "marker": {
          "color": "#636efa",
          "pattern": {
           "shape": ""
          }
         },
         "name": "",
         "offsetgroup": "",
         "orientation": "v",
         "showlegend": false,
         "text": [
          2141,
          903,
          475,
          120,
          113,
          107,
          98,
          76,
          58,
          56,
          47,
          39,
          38,
          36,
          32,
          31,
          30,
          24,
          23,
          17
         ],
         "textposition": "auto",
         "type": "bar",
         "x": [
          "Usa",
          "Australia",
          "South Africa",
          "Bahamas",
          "Brazil",
          "Papua New Guinea",
          "New Zealand",
          "Mexico",
          "New Caledonia",
          "Reunion",
          "Fiji",
          "Egypt",
          "Mozambique",
          "Italy",
          "French Polynesia",
          "Philippines",
          "Japan",
          "Spain",
          "Hong Kong",
          "Cuba"
         ],
         "xaxis": "x",
         "y": [
          2141,
          903,
          475,
          120,
          113,
          107,
          98,
          76,
          58,
          56,
          47,
          39,
          38,
          36,
          32,
          31,
          30,
          24,
          23,
          17
         ],
         "yaxis": "y"
        }
       ],
       "layout": {
        "barmode": "relative",
        "legend": {
         "tracegroupgap": 0
        },
        "template": {
         "data": {
          "bar": [
           {
            "error_x": {
             "color": "#2a3f5f"
            },
            "error_y": {
             "color": "#2a3f5f"
            },
            "marker": {
             "line": {
              "color": "#E5ECF6",
              "width": 0.5
             },
             "pattern": {
              "fillmode": "overlay",
              "size": 10,
              "solidity": 0.2
             }
            },
            "type": "bar"
           }
          ],
          "barpolar": [
           {
            "marker": {
             "line": {
              "color": "#E5ECF6",
              "width": 0.5
             },
             "pattern": {
              "fillmode": "overlay",
              "size": 10,
              "solidity": 0.2
             }
            },
            "type": "barpolar"
           }
          ],
          "carpet": [
           {
            "aaxis": {
             "endlinecolor": "#2a3f5f",
             "gridcolor": "white",
             "linecolor": "white",
             "minorgridcolor": "white",
             "startlinecolor": "#2a3f5f"
            },
            "baxis": {
             "endlinecolor": "#2a3f5f",
             "gridcolor": "white",
             "linecolor": "white",
             "minorgridcolor": "white",
             "startlinecolor": "#2a3f5f"
            },
            "type": "carpet"
           }
          ],
          "choropleth": [
           {
            "colorbar": {
             "outlinewidth": 0,
             "ticks": ""
            },
            "type": "choropleth"
           }
          ],
          "contour": [
           {
            "colorbar": {
             "outlinewidth": 0,
             "ticks": ""
            },
            "colorscale": [
             [
              0,
              "#0d0887"
             ],
             [
              0.1111111111111111,
              "#46039f"
             ],
             [
              0.2222222222222222,
              "#7201a8"
             ],
             [
              0.3333333333333333,
              "#9c179e"
             ],
             [
              0.4444444444444444,
              "#bd3786"
             ],
             [
              0.5555555555555556,
              "#d8576b"
             ],
             [
              0.6666666666666666,
              "#ed7953"
             ],
             [
              0.7777777777777778,
              "#fb9f3a"
             ],
             [
              0.8888888888888888,
              "#fdca26"
             ],
             [
              1,
              "#f0f921"
             ]
            ],
            "type": "contour"
           }
          ],
          "contourcarpet": [
           {
            "colorbar": {
             "outlinewidth": 0,
             "ticks": ""
            },
            "type": "contourcarpet"
           }
          ],
          "heatmap": [
           {
            "colorbar": {
             "outlinewidth": 0,
             "ticks": ""
            },
            "colorscale": [
             [
              0,
              "#0d0887"
             ],
             [
              0.1111111111111111,
              "#46039f"
             ],
             [
              0.2222222222222222,
              "#7201a8"
             ],
             [
              0.3333333333333333,
              "#9c179e"
             ],
             [
              0.4444444444444444,
              "#bd3786"
             ],
             [
              0.5555555555555556,
              "#d8576b"
             ],
             [
              0.6666666666666666,
              "#ed7953"
             ],
             [
              0.7777777777777778,
              "#fb9f3a"
             ],
             [
              0.8888888888888888,
              "#fdca26"
             ],
             [
              1,
              "#f0f921"
             ]
            ],
            "type": "heatmap"
           }
          ],
          "heatmapgl": [
           {
            "colorbar": {
             "outlinewidth": 0,
             "ticks": ""
            },
            "colorscale": [
             [
              0,
              "#0d0887"
             ],
             [
              0.1111111111111111,
              "#46039f"
             ],
             [
              0.2222222222222222,
              "#7201a8"
             ],
             [
              0.3333333333333333,
              "#9c179e"
             ],
             [
              0.4444444444444444,
              "#bd3786"
             ],
             [
              0.5555555555555556,
              "#d8576b"
             ],
             [
              0.6666666666666666,
              "#ed7953"
             ],
             [
              0.7777777777777778,
              "#fb9f3a"
             ],
             [
              0.8888888888888888,
              "#fdca26"
             ],
             [
              1,
              "#f0f921"
             ]
            ],
            "type": "heatmapgl"
           }
          ],
          "histogram": [
           {
            "marker": {
             "pattern": {
              "fillmode": "overlay",
              "size": 10,
              "solidity": 0.2
             }
            },
            "type": "histogram"
           }
          ],
          "histogram2d": [
           {
            "colorbar": {
             "outlinewidth": 0,
             "ticks": ""
            },
            "colorscale": [
             [
              0,
              "#0d0887"
             ],
             [
              0.1111111111111111,
              "#46039f"
             ],
             [
              0.2222222222222222,
              "#7201a8"
             ],
             [
              0.3333333333333333,
              "#9c179e"
             ],
             [
              0.4444444444444444,
              "#bd3786"
             ],
             [
              0.5555555555555556,
              "#d8576b"
             ],
             [
              0.6666666666666666,
              "#ed7953"
             ],
             [
              0.7777777777777778,
              "#fb9f3a"
             ],
             [
              0.8888888888888888,
              "#fdca26"
             ],
             [
              1,
              "#f0f921"
             ]
            ],
            "type": "histogram2d"
           }
          ],
          "histogram2dcontour": [
           {
            "colorbar": {
             "outlinewidth": 0,
             "ticks": ""
            },
            "colorscale": [
             [
              0,
              "#0d0887"
             ],
             [
              0.1111111111111111,
              "#46039f"
             ],
             [
              0.2222222222222222,
              "#7201a8"
             ],
             [
              0.3333333333333333,
              "#9c179e"
             ],
             [
              0.4444444444444444,
              "#bd3786"
             ],
             [
              0.5555555555555556,
              "#d8576b"
             ],
             [
              0.6666666666666666,
              "#ed7953"
             ],
             [
              0.7777777777777778,
              "#fb9f3a"
             ],
             [
              0.8888888888888888,
              "#fdca26"
             ],
             [
              1,
              "#f0f921"
             ]
            ],
            "type": "histogram2dcontour"
           }
          ],
          "mesh3d": [
           {
            "colorbar": {
             "outlinewidth": 0,
             "ticks": ""
            },
            "type": "mesh3d"
           }
          ],
          "parcoords": [
           {
            "line": {
             "colorbar": {
              "outlinewidth": 0,
              "ticks": ""
             }
            },
            "type": "parcoords"
           }
          ],
          "pie": [
           {
            "automargin": true,
            "type": "pie"
           }
          ],
          "scatter": [
           {
            "fillpattern": {
             "fillmode": "overlay",
             "size": 10,
             "solidity": 0.2
            },
            "type": "scatter"
           }
          ],
          "scatter3d": [
           {
            "line": {
             "colorbar": {
              "outlinewidth": 0,
              "ticks": ""
             }
            },
            "marker": {
             "colorbar": {
              "outlinewidth": 0,
              "ticks": ""
             }
            },
            "type": "scatter3d"
           }
          ],
          "scattercarpet": [
           {
            "marker": {
             "colorbar": {
              "outlinewidth": 0,
              "ticks": ""
             }
            },
            "type": "scattercarpet"
           }
          ],
          "scattergeo": [
           {
            "marker": {
             "colorbar": {
              "outlinewidth": 0,
              "ticks": ""
             }
            },
            "type": "scattergeo"
           }
          ],
          "scattergl": [
           {
            "marker": {
             "colorbar": {
              "outlinewidth": 0,
              "ticks": ""
             }
            },
            "type": "scattergl"
           }
          ],
          "scattermapbox": [
           {
            "marker": {
             "colorbar": {
              "outlinewidth": 0,
              "ticks": ""
             }
            },
            "type": "scattermapbox"
           }
          ],
          "scatterpolar": [
           {
            "marker": {
             "colorbar": {
              "outlinewidth": 0,
              "ticks": ""
             }
            },
            "type": "scatterpolar"
           }
          ],
          "scatterpolargl": [
           {
            "marker": {
             "colorbar": {
              "outlinewidth": 0,
              "ticks": ""
             }
            },
            "type": "scatterpolargl"
           }
          ],
          "scatterternary": [
           {
            "marker": {
             "colorbar": {
              "outlinewidth": 0,
              "ticks": ""
             }
            },
            "type": "scatterternary"
           }
          ],
          "surface": [
           {
            "colorbar": {
             "outlinewidth": 0,
             "ticks": ""
            },
            "colorscale": [
             [
              0,
              "#0d0887"
             ],
             [
              0.1111111111111111,
              "#46039f"
             ],
             [
              0.2222222222222222,
              "#7201a8"
             ],
             [
              0.3333333333333333,
              "#9c179e"
             ],
             [
              0.4444444444444444,
              "#bd3786"
             ],
             [
              0.5555555555555556,
              "#d8576b"
             ],
             [
              0.6666666666666666,
              "#ed7953"
             ],
             [
              0.7777777777777778,
              "#fb9f3a"
             ],
             [
              0.8888888888888888,
              "#fdca26"
             ],
             [
              1,
              "#f0f921"
             ]
            ],
            "type": "surface"
           }
          ],
          "table": [
           {
            "cells": {
             "fill": {
              "color": "#EBF0F8"
             },
             "line": {
              "color": "white"
             }
            },
            "header": {
             "fill": {
              "color": "#C8D4E3"
             },
             "line": {
              "color": "white"
             }
            },
            "type": "table"
           }
          ]
         },
         "layout": {
          "annotationdefaults": {
           "arrowcolor": "#2a3f5f",
           "arrowhead": 0,
           "arrowwidth": 1
          },
          "autotypenumbers": "strict",
          "coloraxis": {
           "colorbar": {
            "outlinewidth": 0,
            "ticks": ""
           }
          },
          "colorscale": {
           "diverging": [
            [
             0,
             "#8e0152"
            ],
            [
             0.1,
             "#c51b7d"
            ],
            [
             0.2,
             "#de77ae"
            ],
            [
             0.3,
             "#f1b6da"
            ],
            [
             0.4,
             "#fde0ef"
            ],
            [
             0.5,
             "#f7f7f7"
            ],
            [
             0.6,
             "#e6f5d0"
            ],
            [
             0.7,
             "#b8e186"
            ],
            [
             0.8,
             "#7fbc41"
            ],
            [
             0.9,
             "#4d9221"
            ],
            [
             1,
             "#276419"
            ]
           ],
           "sequential": [
            [
             0,
             "#0d0887"
            ],
            [
             0.1111111111111111,
             "#46039f"
            ],
            [
             0.2222222222222222,
             "#7201a8"
            ],
            [
             0.3333333333333333,
             "#9c179e"
            ],
            [
             0.4444444444444444,
             "#bd3786"
            ],
            [
             0.5555555555555556,
             "#d8576b"
            ],
            [
             0.6666666666666666,
             "#ed7953"
            ],
            [
             0.7777777777777778,
             "#fb9f3a"
            ],
            [
             0.8888888888888888,
             "#fdca26"
            ],
            [
             1,
             "#f0f921"
            ]
           ],
           "sequentialminus": [
            [
             0,
             "#0d0887"
            ],
            [
             0.1111111111111111,
             "#46039f"
            ],
            [
             0.2222222222222222,
             "#7201a8"
            ],
            [
             0.3333333333333333,
             "#9c179e"
            ],
            [
             0.4444444444444444,
             "#bd3786"
            ],
            [
             0.5555555555555556,
             "#d8576b"
            ],
            [
             0.6666666666666666,
             "#ed7953"
            ],
            [
             0.7777777777777778,
             "#fb9f3a"
            ],
            [
             0.8888888888888888,
             "#fdca26"
            ],
            [
             1,
             "#f0f921"
            ]
           ]
          },
          "colorway": [
           "#636efa",
           "#EF553B",
           "#00cc96",
           "#ab63fa",
           "#FFA15A",
           "#19d3f3",
           "#FF6692",
           "#B6E880",
           "#FF97FF",
           "#FECB52"
          ],
          "font": {
           "color": "#2a3f5f"
          },
          "geo": {
           "bgcolor": "white",
           "lakecolor": "white",
           "landcolor": "#E5ECF6",
           "showlakes": true,
           "showland": true,
           "subunitcolor": "white"
          },
          "hoverlabel": {
           "align": "left"
          },
          "hovermode": "closest",
          "mapbox": {
           "style": "light"
          },
          "paper_bgcolor": "white",
          "plot_bgcolor": "#E5ECF6",
          "polar": {
           "angularaxis": {
            "gridcolor": "white",
            "linecolor": "white",
            "ticks": ""
           },
           "bgcolor": "#E5ECF6",
           "radialaxis": {
            "gridcolor": "white",
            "linecolor": "white",
            "ticks": ""
           }
          },
          "scene": {
           "xaxis": {
            "backgroundcolor": "#E5ECF6",
            "gridcolor": "white",
            "gridwidth": 2,
            "linecolor": "white",
            "showbackground": true,
            "ticks": "",
            "zerolinecolor": "white"
           },
           "yaxis": {
            "backgroundcolor": "#E5ECF6",
            "gridcolor": "white",
            "gridwidth": 2,
            "linecolor": "white",
            "showbackground": true,
            "ticks": "",
            "zerolinecolor": "white"
           },
           "zaxis": {
            "backgroundcolor": "#E5ECF6",
            "gridcolor": "white",
            "gridwidth": 2,
            "linecolor": "white",
            "showbackground": true,
            "ticks": "",
            "zerolinecolor": "white"
           }
          },
          "shapedefaults": {
           "line": {
            "color": "#2a3f5f"
           }
          },
          "ternary": {
           "aaxis": {
            "gridcolor": "white",
            "linecolor": "white",
            "ticks": ""
           },
           "baxis": {
            "gridcolor": "white",
            "linecolor": "white",
            "ticks": ""
           },
           "bgcolor": "#E5ECF6",
           "caxis": {
            "gridcolor": "white",
            "linecolor": "white",
            "ticks": ""
           }
          },
          "title": {
           "x": 0.05
          },
          "xaxis": {
           "automargin": true,
           "gridcolor": "white",
           "linecolor": "white",
           "ticks": "",
           "title": {
            "standoff": 15
           },
           "zerolinecolor": "white",
           "zerolinewidth": 2
          },
          "yaxis": {
           "automargin": true,
           "gridcolor": "white",
           "linecolor": "white",
           "ticks": "",
           "title": {
            "standoff": 15
           },
           "zerolinecolor": "white",
           "zerolinewidth": 2
          }
         }
        },
        "title": {
         "text": "Attacks per Country"
        },
        "xaxis": {
         "anchor": "y",
         "domain": [
          0,
          1
         ],
         "title": {
          "text": "Country"
         }
        },
        "yaxis": {
         "anchor": "x",
         "domain": [
          0,
          1
         ],
         "title": {
          "text": "Number of Rows"
         }
        }
       }
      }
     },
     "metadata": {},
     "output_type": "display_data"
    }
   ],
   "source": [
    "# visualize attacks per country\n",
    "def plot_country_counts(df):\n",
    "    # Count the occurrences of each country\n",
    "    country_counts = df['country'].value_counts().nlargest(20).reset_index()\n",
    "    # Rename columns for clarity\n",
    "    country_counts.columns = ['country', 'counts']\n",
    "\n",
    "    # Create the bar chart using Plotly Express\n",
    "    fig = px.bar(country_counts, x='country', y='counts',\n",
    "                 title=\"Attacks per Country\",\n",
    "                 labels={'country': 'Country', 'counts': 'Number of Rows'},\n",
    "                 text='counts')  # Display counts on the bars\n",
    "    fig.show()\n",
    "\n",
    "\n",
    "plot_country_counts(df)"
   ]
  },
  {
   "cell_type": "markdown",
   "metadata": {},
   "source": [
    "#### 4.4. Attacks by Months\n"
   ]
  },
  {
   "cell_type": "code",
   "execution_count": 85,
   "metadata": {},
   "outputs": [
    {
     "data": {
      "application/vnd.plotly.v1+json": {
       "config": {
        "plotlyServerURL": "https://plot.ly"
       },
       "data": [
        {
         "alignmentgroup": "True",
         "hovertemplate": "Month=%{x}<br>Number of Rows=%{text}<extra></extra>",
         "legendgroup": "",
         "marker": {
          "color": "#636efa",
          "pattern": {
           "shape": ""
          }
         },
         "name": "",
         "offsetgroup": "",
         "orientation": "v",
         "showlegend": false,
         "text": [
          449,
          347,
          360,
          391,
          301,
          438,
          571,
          498,
          605,
          401,
          266,
          361
         ],
         "textposition": "auto",
         "type": "bar",
         "x": [
          "January",
          "February",
          "March",
          "April",
          "May",
          "June",
          "July",
          "August",
          "September",
          "October",
          "November",
          "December"
         ],
         "xaxis": "x",
         "y": [
          449,
          347,
          360,
          391,
          301,
          438,
          571,
          498,
          605,
          401,
          266,
          361
         ],
         "yaxis": "y"
        }
       ],
       "layout": {
        "barmode": "relative",
        "legend": {
         "tracegroupgap": 0
        },
        "template": {
         "data": {
          "bar": [
           {
            "error_x": {
             "color": "#2a3f5f"
            },
            "error_y": {
             "color": "#2a3f5f"
            },
            "marker": {
             "line": {
              "color": "#E5ECF6",
              "width": 0.5
             },
             "pattern": {
              "fillmode": "overlay",
              "size": 10,
              "solidity": 0.2
             }
            },
            "type": "bar"
           }
          ],
          "barpolar": [
           {
            "marker": {
             "line": {
              "color": "#E5ECF6",
              "width": 0.5
             },
             "pattern": {
              "fillmode": "overlay",
              "size": 10,
              "solidity": 0.2
             }
            },
            "type": "barpolar"
           }
          ],
          "carpet": [
           {
            "aaxis": {
             "endlinecolor": "#2a3f5f",
             "gridcolor": "white",
             "linecolor": "white",
             "minorgridcolor": "white",
             "startlinecolor": "#2a3f5f"
            },
            "baxis": {
             "endlinecolor": "#2a3f5f",
             "gridcolor": "white",
             "linecolor": "white",
             "minorgridcolor": "white",
             "startlinecolor": "#2a3f5f"
            },
            "type": "carpet"
           }
          ],
          "choropleth": [
           {
            "colorbar": {
             "outlinewidth": 0,
             "ticks": ""
            },
            "type": "choropleth"
           }
          ],
          "contour": [
           {
            "colorbar": {
             "outlinewidth": 0,
             "ticks": ""
            },
            "colorscale": [
             [
              0,
              "#0d0887"
             ],
             [
              0.1111111111111111,
              "#46039f"
             ],
             [
              0.2222222222222222,
              "#7201a8"
             ],
             [
              0.3333333333333333,
              "#9c179e"
             ],
             [
              0.4444444444444444,
              "#bd3786"
             ],
             [
              0.5555555555555556,
              "#d8576b"
             ],
             [
              0.6666666666666666,
              "#ed7953"
             ],
             [
              0.7777777777777778,
              "#fb9f3a"
             ],
             [
              0.8888888888888888,
              "#fdca26"
             ],
             [
              1,
              "#f0f921"
             ]
            ],
            "type": "contour"
           }
          ],
          "contourcarpet": [
           {
            "colorbar": {
             "outlinewidth": 0,
             "ticks": ""
            },
            "type": "contourcarpet"
           }
          ],
          "heatmap": [
           {
            "colorbar": {
             "outlinewidth": 0,
             "ticks": ""
            },
            "colorscale": [
             [
              0,
              "#0d0887"
             ],
             [
              0.1111111111111111,
              "#46039f"
             ],
             [
              0.2222222222222222,
              "#7201a8"
             ],
             [
              0.3333333333333333,
              "#9c179e"
             ],
             [
              0.4444444444444444,
              "#bd3786"
             ],
             [
              0.5555555555555556,
              "#d8576b"
             ],
             [
              0.6666666666666666,
              "#ed7953"
             ],
             [
              0.7777777777777778,
              "#fb9f3a"
             ],
             [
              0.8888888888888888,
              "#fdca26"
             ],
             [
              1,
              "#f0f921"
             ]
            ],
            "type": "heatmap"
           }
          ],
          "heatmapgl": [
           {
            "colorbar": {
             "outlinewidth": 0,
             "ticks": ""
            },
            "colorscale": [
             [
              0,
              "#0d0887"
             ],
             [
              0.1111111111111111,
              "#46039f"
             ],
             [
              0.2222222222222222,
              "#7201a8"
             ],
             [
              0.3333333333333333,
              "#9c179e"
             ],
             [
              0.4444444444444444,
              "#bd3786"
             ],
             [
              0.5555555555555556,
              "#d8576b"
             ],
             [
              0.6666666666666666,
              "#ed7953"
             ],
             [
              0.7777777777777778,
              "#fb9f3a"
             ],
             [
              0.8888888888888888,
              "#fdca26"
             ],
             [
              1,
              "#f0f921"
             ]
            ],
            "type": "heatmapgl"
           }
          ],
          "histogram": [
           {
            "marker": {
             "pattern": {
              "fillmode": "overlay",
              "size": 10,
              "solidity": 0.2
             }
            },
            "type": "histogram"
           }
          ],
          "histogram2d": [
           {
            "colorbar": {
             "outlinewidth": 0,
             "ticks": ""
            },
            "colorscale": [
             [
              0,
              "#0d0887"
             ],
             [
              0.1111111111111111,
              "#46039f"
             ],
             [
              0.2222222222222222,
              "#7201a8"
             ],
             [
              0.3333333333333333,
              "#9c179e"
             ],
             [
              0.4444444444444444,
              "#bd3786"
             ],
             [
              0.5555555555555556,
              "#d8576b"
             ],
             [
              0.6666666666666666,
              "#ed7953"
             ],
             [
              0.7777777777777778,
              "#fb9f3a"
             ],
             [
              0.8888888888888888,
              "#fdca26"
             ],
             [
              1,
              "#f0f921"
             ]
            ],
            "type": "histogram2d"
           }
          ],
          "histogram2dcontour": [
           {
            "colorbar": {
             "outlinewidth": 0,
             "ticks": ""
            },
            "colorscale": [
             [
              0,
              "#0d0887"
             ],
             [
              0.1111111111111111,
              "#46039f"
             ],
             [
              0.2222222222222222,
              "#7201a8"
             ],
             [
              0.3333333333333333,
              "#9c179e"
             ],
             [
              0.4444444444444444,
              "#bd3786"
             ],
             [
              0.5555555555555556,
              "#d8576b"
             ],
             [
              0.6666666666666666,
              "#ed7953"
             ],
             [
              0.7777777777777778,
              "#fb9f3a"
             ],
             [
              0.8888888888888888,
              "#fdca26"
             ],
             [
              1,
              "#f0f921"
             ]
            ],
            "type": "histogram2dcontour"
           }
          ],
          "mesh3d": [
           {
            "colorbar": {
             "outlinewidth": 0,
             "ticks": ""
            },
            "type": "mesh3d"
           }
          ],
          "parcoords": [
           {
            "line": {
             "colorbar": {
              "outlinewidth": 0,
              "ticks": ""
             }
            },
            "type": "parcoords"
           }
          ],
          "pie": [
           {
            "automargin": true,
            "type": "pie"
           }
          ],
          "scatter": [
           {
            "fillpattern": {
             "fillmode": "overlay",
             "size": 10,
             "solidity": 0.2
            },
            "type": "scatter"
           }
          ],
          "scatter3d": [
           {
            "line": {
             "colorbar": {
              "outlinewidth": 0,
              "ticks": ""
             }
            },
            "marker": {
             "colorbar": {
              "outlinewidth": 0,
              "ticks": ""
             }
            },
            "type": "scatter3d"
           }
          ],
          "scattercarpet": [
           {
            "marker": {
             "colorbar": {
              "outlinewidth": 0,
              "ticks": ""
             }
            },
            "type": "scattercarpet"
           }
          ],
          "scattergeo": [
           {
            "marker": {
             "colorbar": {
              "outlinewidth": 0,
              "ticks": ""
             }
            },
            "type": "scattergeo"
           }
          ],
          "scattergl": [
           {
            "marker": {
             "colorbar": {
              "outlinewidth": 0,
              "ticks": ""
             }
            },
            "type": "scattergl"
           }
          ],
          "scattermapbox": [
           {
            "marker": {
             "colorbar": {
              "outlinewidth": 0,
              "ticks": ""
             }
            },
            "type": "scattermapbox"
           }
          ],
          "scatterpolar": [
           {
            "marker": {
             "colorbar": {
              "outlinewidth": 0,
              "ticks": ""
             }
            },
            "type": "scatterpolar"
           }
          ],
          "scatterpolargl": [
           {
            "marker": {
             "colorbar": {
              "outlinewidth": 0,
              "ticks": ""
             }
            },
            "type": "scatterpolargl"
           }
          ],
          "scatterternary": [
           {
            "marker": {
             "colorbar": {
              "outlinewidth": 0,
              "ticks": ""
             }
            },
            "type": "scatterternary"
           }
          ],
          "surface": [
           {
            "colorbar": {
             "outlinewidth": 0,
             "ticks": ""
            },
            "colorscale": [
             [
              0,
              "#0d0887"
             ],
             [
              0.1111111111111111,
              "#46039f"
             ],
             [
              0.2222222222222222,
              "#7201a8"
             ],
             [
              0.3333333333333333,
              "#9c179e"
             ],
             [
              0.4444444444444444,
              "#bd3786"
             ],
             [
              0.5555555555555556,
              "#d8576b"
             ],
             [
              0.6666666666666666,
              "#ed7953"
             ],
             [
              0.7777777777777778,
              "#fb9f3a"
             ],
             [
              0.8888888888888888,
              "#fdca26"
             ],
             [
              1,
              "#f0f921"
             ]
            ],
            "type": "surface"
           }
          ],
          "table": [
           {
            "cells": {
             "fill": {
              "color": "#EBF0F8"
             },
             "line": {
              "color": "white"
             }
            },
            "header": {
             "fill": {
              "color": "#C8D4E3"
             },
             "line": {
              "color": "white"
             }
            },
            "type": "table"
           }
          ]
         },
         "layout": {
          "annotationdefaults": {
           "arrowcolor": "#2a3f5f",
           "arrowhead": 0,
           "arrowwidth": 1
          },
          "autotypenumbers": "strict",
          "coloraxis": {
           "colorbar": {
            "outlinewidth": 0,
            "ticks": ""
           }
          },
          "colorscale": {
           "diverging": [
            [
             0,
             "#8e0152"
            ],
            [
             0.1,
             "#c51b7d"
            ],
            [
             0.2,
             "#de77ae"
            ],
            [
             0.3,
             "#f1b6da"
            ],
            [
             0.4,
             "#fde0ef"
            ],
            [
             0.5,
             "#f7f7f7"
            ],
            [
             0.6,
             "#e6f5d0"
            ],
            [
             0.7,
             "#b8e186"
            ],
            [
             0.8,
             "#7fbc41"
            ],
            [
             0.9,
             "#4d9221"
            ],
            [
             1,
             "#276419"
            ]
           ],
           "sequential": [
            [
             0,
             "#0d0887"
            ],
            [
             0.1111111111111111,
             "#46039f"
            ],
            [
             0.2222222222222222,
             "#7201a8"
            ],
            [
             0.3333333333333333,
             "#9c179e"
            ],
            [
             0.4444444444444444,
             "#bd3786"
            ],
            [
             0.5555555555555556,
             "#d8576b"
            ],
            [
             0.6666666666666666,
             "#ed7953"
            ],
            [
             0.7777777777777778,
             "#fb9f3a"
            ],
            [
             0.8888888888888888,
             "#fdca26"
            ],
            [
             1,
             "#f0f921"
            ]
           ],
           "sequentialminus": [
            [
             0,
             "#0d0887"
            ],
            [
             0.1111111111111111,
             "#46039f"
            ],
            [
             0.2222222222222222,
             "#7201a8"
            ],
            [
             0.3333333333333333,
             "#9c179e"
            ],
            [
             0.4444444444444444,
             "#bd3786"
            ],
            [
             0.5555555555555556,
             "#d8576b"
            ],
            [
             0.6666666666666666,
             "#ed7953"
            ],
            [
             0.7777777777777778,
             "#fb9f3a"
            ],
            [
             0.8888888888888888,
             "#fdca26"
            ],
            [
             1,
             "#f0f921"
            ]
           ]
          },
          "colorway": [
           "#636efa",
           "#EF553B",
           "#00cc96",
           "#ab63fa",
           "#FFA15A",
           "#19d3f3",
           "#FF6692",
           "#B6E880",
           "#FF97FF",
           "#FECB52"
          ],
          "font": {
           "color": "#2a3f5f"
          },
          "geo": {
           "bgcolor": "white",
           "lakecolor": "white",
           "landcolor": "#E5ECF6",
           "showlakes": true,
           "showland": true,
           "subunitcolor": "white"
          },
          "hoverlabel": {
           "align": "left"
          },
          "hovermode": "closest",
          "mapbox": {
           "style": "light"
          },
          "paper_bgcolor": "white",
          "plot_bgcolor": "#E5ECF6",
          "polar": {
           "angularaxis": {
            "gridcolor": "white",
            "linecolor": "white",
            "ticks": ""
           },
           "bgcolor": "#E5ECF6",
           "radialaxis": {
            "gridcolor": "white",
            "linecolor": "white",
            "ticks": ""
           }
          },
          "scene": {
           "xaxis": {
            "backgroundcolor": "#E5ECF6",
            "gridcolor": "white",
            "gridwidth": 2,
            "linecolor": "white",
            "showbackground": true,
            "ticks": "",
            "zerolinecolor": "white"
           },
           "yaxis": {
            "backgroundcolor": "#E5ECF6",
            "gridcolor": "white",
            "gridwidth": 2,
            "linecolor": "white",
            "showbackground": true,
            "ticks": "",
            "zerolinecolor": "white"
           },
           "zaxis": {
            "backgroundcolor": "#E5ECF6",
            "gridcolor": "white",
            "gridwidth": 2,
            "linecolor": "white",
            "showbackground": true,
            "ticks": "",
            "zerolinecolor": "white"
           }
          },
          "shapedefaults": {
           "line": {
            "color": "#2a3f5f"
           }
          },
          "ternary": {
           "aaxis": {
            "gridcolor": "white",
            "linecolor": "white",
            "ticks": ""
           },
           "baxis": {
            "gridcolor": "white",
            "linecolor": "white",
            "ticks": ""
           },
           "bgcolor": "#E5ECF6",
           "caxis": {
            "gridcolor": "white",
            "linecolor": "white",
            "ticks": ""
           }
          },
          "title": {
           "x": 0.05
          },
          "xaxis": {
           "automargin": true,
           "gridcolor": "white",
           "linecolor": "white",
           "ticks": "",
           "title": {
            "standoff": 15
           },
           "zerolinecolor": "white",
           "zerolinewidth": 2
          },
          "yaxis": {
           "automargin": true,
           "gridcolor": "white",
           "linecolor": "white",
           "ticks": "",
           "title": {
            "standoff": 15
           },
           "zerolinecolor": "white",
           "zerolinewidth": 2
          }
         }
        },
        "title": {
         "text": "Attacks by Months"
        },
        "xaxis": {
         "anchor": "y",
         "domain": [
          0,
          1
         ],
         "title": {
          "text": "Month"
         }
        },
        "yaxis": {
         "anchor": "x",
         "domain": [
          0,
          1
         ],
         "title": {
          "text": "Number of Rows"
         }
        }
       }
      }
     },
     "metadata": {},
     "output_type": "display_data"
    }
   ],
   "source": [
    "# Attacks per month. Total counts of attacks per month, combining data from all years present in the dataset\n",
    "def plot_monthly_trends(df):\n",
    "    # Ensure 'correct_date' is in datetime format\n",
    "    df['correct_date'] = pd.to_datetime(df['correct_date'], errors='coerce')\n",
    "\n",
    "    # Extract the month from the 'correct_date' and count occurrences\n",
    "    df['month'] = df['correct_date'].dt.month\n",
    "    month_counts = df['month'].value_counts().sort_index().reset_index()\n",
    "    month_counts.columns = ['month', 'counts']  # Rename columns for clarity\n",
    "\n",
    "    # Map numeric months to month names for better readability\n",
    "    month_names = {1: 'January', 2: 'February', 3: 'March', 4: 'April',\n",
    "                   5: 'May', 6: 'June', 7: 'July', 8: 'August',\n",
    "                   9: 'September', 10: 'October', 11: 'November', 12: 'December'}\n",
    "    month_counts['month'] = month_counts['month'].map(month_names)\n",
    "\n",
    "    # Create the bar chart using Plotly Express\n",
    "    fig = px.bar(month_counts, x='month', y='counts',\n",
    "                 title=\"Attacks by Months\",\n",
    "                 labels={'month': 'Month', 'counts': 'Number of Rows'},\n",
    "                 text='counts')  # Display counts on the bars\n",
    "    fig.show()\n",
    "\n",
    "\n",
    "plot_monthly_trends(df)"
   ]
  },
  {
   "cell_type": "code",
   "execution_count": 86,
   "metadata": {},
   "outputs": [
    {
     "data": {
      "text/html": [
       "<div>\n",
       "<style scoped>\n",
       "    .dataframe tbody tr th:only-of-type {\n",
       "        vertical-align: middle;\n",
       "    }\n",
       "\n",
       "    .dataframe tbody tr th {\n",
       "        vertical-align: top;\n",
       "    }\n",
       "\n",
       "    .dataframe thead th {\n",
       "        text-align: right;\n",
       "    }\n",
       "</style>\n",
       "<table border=\"1\" class=\"dataframe\">\n",
       "  <thead>\n",
       "    <tr style=\"text-align: right;\">\n",
       "      <th></th>\n",
       "      <th>year</th>\n",
       "      <th>type</th>\n",
       "      <th>country</th>\n",
       "      <th>state</th>\n",
       "      <th>location</th>\n",
       "      <th>activity</th>\n",
       "      <th>name</th>\n",
       "      <th>sex</th>\n",
       "      <th>age</th>\n",
       "      <th>time</th>\n",
       "      <th>species</th>\n",
       "      <th>source</th>\n",
       "      <th>correct_date</th>\n",
       "      <th>time_of_day</th>\n",
       "      <th>age_group</th>\n",
       "      <th>fatality_status</th>\n",
       "      <th>injury_type</th>\n",
       "      <th>species_types</th>\n",
       "      <th>month</th>\n",
       "    </tr>\n",
       "  </thead>\n",
       "  <tbody>\n",
       "    <tr>\n",
       "      <th>0</th>\n",
       "      <td>2024</td>\n",
       "      <td>Unprovoked</td>\n",
       "      <td>Australia</td>\n",
       "      <td>Queensland</td>\n",
       "      <td>Bargara Beach</td>\n",
       "      <td>Swimming</td>\n",
       "      <td>Brooklyn Sauer</td>\n",
       "      <td>Female</td>\n",
       "      <td>13</td>\n",
       "      <td>16h00</td>\n",
       "      <td>Tiger shark</td>\n",
       "      <td>Yahoo News, 3/15/2024</td>\n",
       "      <td>2024-03-15</td>\n",
       "      <td>Day</td>\n",
       "      <td>13-18</td>\n",
       "      <td>survived</td>\n",
       "      <td>back</td>\n",
       "      <td>tiger</td>\n",
       "      <td>3</td>\n",
       "    </tr>\n",
       "    <tr>\n",
       "      <th>1</th>\n",
       "      <td>2024</td>\n",
       "      <td>Unprovoked</td>\n",
       "      <td>Usa</td>\n",
       "      <td>Hawaii</td>\n",
       "      <td>Old Man's, Waikiki</td>\n",
       "      <td>Surfing</td>\n",
       "      <td>Matthew White</td>\n",
       "      <td>Male</td>\n",
       "      <td>28</td>\n",
       "      <td>NaN</td>\n",
       "      <td>Tiger shark 8'</td>\n",
       "      <td>Surfer, 3/6/2024F</td>\n",
       "      <td>2024-03-06</td>\n",
       "      <td>Unknown</td>\n",
       "      <td>26-35</td>\n",
       "      <td>survived</td>\n",
       "      <td>Unknown</td>\n",
       "      <td>tiger</td>\n",
       "      <td>3</td>\n",
       "    </tr>\n",
       "    <tr>\n",
       "      <th>2</th>\n",
       "      <td>2024</td>\n",
       "      <td>Unprovoked</td>\n",
       "      <td>Usa</td>\n",
       "      <td>Hawaii</td>\n",
       "      <td>Rainbows, Oahu</td>\n",
       "      <td>Swimming</td>\n",
       "      <td>NaN</td>\n",
       "      <td>Female</td>\n",
       "      <td>11</td>\n",
       "      <td>13h30</td>\n",
       "      <td>3' to 4' shark</td>\n",
       "      <td>Hawaii News Now, 3/4/2024</td>\n",
       "      <td>2024-03-04</td>\n",
       "      <td>Day</td>\n",
       "      <td>0-12</td>\n",
       "      <td>survived</td>\n",
       "      <td>foot</td>\n",
       "      <td>Unknown</td>\n",
       "      <td>3</td>\n",
       "    </tr>\n",
       "    <tr>\n",
       "      <th>3</th>\n",
       "      <td>2024</td>\n",
       "      <td>Unprovoked</td>\n",
       "      <td>Australia</td>\n",
       "      <td>Western Australia</td>\n",
       "      <td>Sandlnd Island, Jurian Bay</td>\n",
       "      <td>Unidentified</td>\n",
       "      <td>female</td>\n",
       "      <td>Female</td>\n",
       "      <td>46</td>\n",
       "      <td>11h30</td>\n",
       "      <td>Tiger shark</td>\n",
       "      <td>WA Today, 2/26/2024</td>\n",
       "      <td>2024-02-26</td>\n",
       "      <td>Morning</td>\n",
       "      <td>46-55</td>\n",
       "      <td>survived</td>\n",
       "      <td>leg</td>\n",
       "      <td>tiger</td>\n",
       "      <td>2</td>\n",
       "    </tr>\n",
       "    <tr>\n",
       "      <th>4</th>\n",
       "      <td>2024</td>\n",
       "      <td>Unprovoked</td>\n",
       "      <td>India</td>\n",
       "      <td>Maharashtra</td>\n",
       "      <td>Vaitarna River, Palghar District</td>\n",
       "      <td>Fishing</td>\n",
       "      <td>Vicky Suresh Govari</td>\n",
       "      <td>Male</td>\n",
       "      <td>32</td>\n",
       "      <td>NaN</td>\n",
       "      <td>Bull shark, 7'</td>\n",
       "      <td>Times of India, 2/14/2024</td>\n",
       "      <td>2024-02-14</td>\n",
       "      <td>Unknown</td>\n",
       "      <td>26-35</td>\n",
       "      <td>survived</td>\n",
       "      <td>leg</td>\n",
       "      <td>bull</td>\n",
       "      <td>2</td>\n",
       "    </tr>\n",
       "  </tbody>\n",
       "</table>\n",
       "</div>"
      ],
      "text/plain": [
       "   year        type    country              state  \\\n",
       "0  2024  Unprovoked  Australia         Queensland   \n",
       "1  2024  Unprovoked        Usa             Hawaii   \n",
       "2  2024  Unprovoked        Usa             Hawaii   \n",
       "3  2024  Unprovoked  Australia  Western Australia   \n",
       "4  2024  Unprovoked      India        Maharashtra   \n",
       "\n",
       "                           location      activity                 name  \\\n",
       "0                     Bargara Beach      Swimming       Brooklyn Sauer   \n",
       "1                Old Man's, Waikiki       Surfing        Matthew White   \n",
       "2                    Rainbows, Oahu      Swimming                  NaN   \n",
       "3        Sandlnd Island, Jurian Bay  Unidentified               female   \n",
       "4  Vaitarna River, Palghar District       Fishing  Vicky Suresh Govari   \n",
       "\n",
       "      sex  age   time         species                     source correct_date  \\\n",
       "0  Female   13  16h00     Tiger shark      Yahoo News, 3/15/2024   2024-03-15   \n",
       "1    Male   28    NaN  Tiger shark 8'          Surfer, 3/6/2024F   2024-03-06   \n",
       "2  Female   11  13h30  3' to 4' shark  Hawaii News Now, 3/4/2024   2024-03-04   \n",
       "3  Female   46  11h30     Tiger shark        WA Today, 2/26/2024   2024-02-26   \n",
       "4    Male   32    NaN  Bull shark, 7'  Times of India, 2/14/2024   2024-02-14   \n",
       "\n",
       "  time_of_day age_group fatality_status injury_type species_types  month  \n",
       "0         Day     13-18        survived        back         tiger      3  \n",
       "1     Unknown     26-35        survived     Unknown         tiger      3  \n",
       "2         Day      0-12        survived        foot       Unknown      3  \n",
       "3     Morning     46-55        survived         leg         tiger      2  \n",
       "4     Unknown     26-35        survived         leg          bull      2  "
      ]
     },
     "execution_count": 86,
     "metadata": {},
     "output_type": "execute_result"
    }
   ],
   "source": [
    "df.head()"
   ]
  },
  {
   "cell_type": "markdown",
   "metadata": {},
   "source": [
    "#### 4.5. Victimes by 'age_group' (make bins, bar chart)\n"
   ]
  },
  {
   "cell_type": "code",
   "execution_count": 90,
   "metadata": {},
   "outputs": [
    {
     "name": "stderr",
     "output_type": "stream",
     "text": [
      "/var/folders/76/0pntsdld7bg_p5gzgms4gghw0000gn/T/ipykernel_48565/689196743.py:7: FutureWarning:\n",
      "\n",
      "The default of observed=False is deprecated and will be changed to True in a future version of pandas. Pass observed=False to retain current behavior or observed=True to adopt the future default and silence this warning.\n",
      "\n"
     ]
    },
    {
     "data": {
      "application/vnd.plotly.v1+json": {
       "config": {
        "plotlyServerURL": "https://plot.ly"
       },
       "data": [
        {
         "alignmentgroup": "True",
         "hovertemplate": "Age Group=%{x}<br>Number of Victims=%{text}<extra></extra>",
         "legendgroup": "",
         "marker": {
          "color": "#636efa",
          "pattern": {
           "shape": ""
          }
         },
         "name": "",
         "offsetgroup": "",
         "orientation": "v",
         "showlegend": false,
         "text": [
          220,
          633,
          751,
          2377,
          465,
          303,
          168,
          59,
          10,
          2
         ],
         "textposition": "auto",
         "type": "bar",
         "x": [
          "0-12",
          "13-18",
          "19-25",
          "26-35",
          "36-45",
          "46-55",
          "56-65",
          "66-75",
          "76-85",
          "86-100"
         ],
         "xaxis": "x",
         "y": [
          220,
          633,
          751,
          2377,
          465,
          303,
          168,
          59,
          10,
          2
         ],
         "yaxis": "y"
        }
       ],
       "layout": {
        "barmode": "relative",
        "legend": {
         "tracegroupgap": 0
        },
        "template": {
         "data": {
          "bar": [
           {
            "error_x": {
             "color": "#2a3f5f"
            },
            "error_y": {
             "color": "#2a3f5f"
            },
            "marker": {
             "line": {
              "color": "#E5ECF6",
              "width": 0.5
             },
             "pattern": {
              "fillmode": "overlay",
              "size": 10,
              "solidity": 0.2
             }
            },
            "type": "bar"
           }
          ],
          "barpolar": [
           {
            "marker": {
             "line": {
              "color": "#E5ECF6",
              "width": 0.5
             },
             "pattern": {
              "fillmode": "overlay",
              "size": 10,
              "solidity": 0.2
             }
            },
            "type": "barpolar"
           }
          ],
          "carpet": [
           {
            "aaxis": {
             "endlinecolor": "#2a3f5f",
             "gridcolor": "white",
             "linecolor": "white",
             "minorgridcolor": "white",
             "startlinecolor": "#2a3f5f"
            },
            "baxis": {
             "endlinecolor": "#2a3f5f",
             "gridcolor": "white",
             "linecolor": "white",
             "minorgridcolor": "white",
             "startlinecolor": "#2a3f5f"
            },
            "type": "carpet"
           }
          ],
          "choropleth": [
           {
            "colorbar": {
             "outlinewidth": 0,
             "ticks": ""
            },
            "type": "choropleth"
           }
          ],
          "contour": [
           {
            "colorbar": {
             "outlinewidth": 0,
             "ticks": ""
            },
            "colorscale": [
             [
              0,
              "#0d0887"
             ],
             [
              0.1111111111111111,
              "#46039f"
             ],
             [
              0.2222222222222222,
              "#7201a8"
             ],
             [
              0.3333333333333333,
              "#9c179e"
             ],
             [
              0.4444444444444444,
              "#bd3786"
             ],
             [
              0.5555555555555556,
              "#d8576b"
             ],
             [
              0.6666666666666666,
              "#ed7953"
             ],
             [
              0.7777777777777778,
              "#fb9f3a"
             ],
             [
              0.8888888888888888,
              "#fdca26"
             ],
             [
              1,
              "#f0f921"
             ]
            ],
            "type": "contour"
           }
          ],
          "contourcarpet": [
           {
            "colorbar": {
             "outlinewidth": 0,
             "ticks": ""
            },
            "type": "contourcarpet"
           }
          ],
          "heatmap": [
           {
            "colorbar": {
             "outlinewidth": 0,
             "ticks": ""
            },
            "colorscale": [
             [
              0,
              "#0d0887"
             ],
             [
              0.1111111111111111,
              "#46039f"
             ],
             [
              0.2222222222222222,
              "#7201a8"
             ],
             [
              0.3333333333333333,
              "#9c179e"
             ],
             [
              0.4444444444444444,
              "#bd3786"
             ],
             [
              0.5555555555555556,
              "#d8576b"
             ],
             [
              0.6666666666666666,
              "#ed7953"
             ],
             [
              0.7777777777777778,
              "#fb9f3a"
             ],
             [
              0.8888888888888888,
              "#fdca26"
             ],
             [
              1,
              "#f0f921"
             ]
            ],
            "type": "heatmap"
           }
          ],
          "heatmapgl": [
           {
            "colorbar": {
             "outlinewidth": 0,
             "ticks": ""
            },
            "colorscale": [
             [
              0,
              "#0d0887"
             ],
             [
              0.1111111111111111,
              "#46039f"
             ],
             [
              0.2222222222222222,
              "#7201a8"
             ],
             [
              0.3333333333333333,
              "#9c179e"
             ],
             [
              0.4444444444444444,
              "#bd3786"
             ],
             [
              0.5555555555555556,
              "#d8576b"
             ],
             [
              0.6666666666666666,
              "#ed7953"
             ],
             [
              0.7777777777777778,
              "#fb9f3a"
             ],
             [
              0.8888888888888888,
              "#fdca26"
             ],
             [
              1,
              "#f0f921"
             ]
            ],
            "type": "heatmapgl"
           }
          ],
          "histogram": [
           {
            "marker": {
             "pattern": {
              "fillmode": "overlay",
              "size": 10,
              "solidity": 0.2
             }
            },
            "type": "histogram"
           }
          ],
          "histogram2d": [
           {
            "colorbar": {
             "outlinewidth": 0,
             "ticks": ""
            },
            "colorscale": [
             [
              0,
              "#0d0887"
             ],
             [
              0.1111111111111111,
              "#46039f"
             ],
             [
              0.2222222222222222,
              "#7201a8"
             ],
             [
              0.3333333333333333,
              "#9c179e"
             ],
             [
              0.4444444444444444,
              "#bd3786"
             ],
             [
              0.5555555555555556,
              "#d8576b"
             ],
             [
              0.6666666666666666,
              "#ed7953"
             ],
             [
              0.7777777777777778,
              "#fb9f3a"
             ],
             [
              0.8888888888888888,
              "#fdca26"
             ],
             [
              1,
              "#f0f921"
             ]
            ],
            "type": "histogram2d"
           }
          ],
          "histogram2dcontour": [
           {
            "colorbar": {
             "outlinewidth": 0,
             "ticks": ""
            },
            "colorscale": [
             [
              0,
              "#0d0887"
             ],
             [
              0.1111111111111111,
              "#46039f"
             ],
             [
              0.2222222222222222,
              "#7201a8"
             ],
             [
              0.3333333333333333,
              "#9c179e"
             ],
             [
              0.4444444444444444,
              "#bd3786"
             ],
             [
              0.5555555555555556,
              "#d8576b"
             ],
             [
              0.6666666666666666,
              "#ed7953"
             ],
             [
              0.7777777777777778,
              "#fb9f3a"
             ],
             [
              0.8888888888888888,
              "#fdca26"
             ],
             [
              1,
              "#f0f921"
             ]
            ],
            "type": "histogram2dcontour"
           }
          ],
          "mesh3d": [
           {
            "colorbar": {
             "outlinewidth": 0,
             "ticks": ""
            },
            "type": "mesh3d"
           }
          ],
          "parcoords": [
           {
            "line": {
             "colorbar": {
              "outlinewidth": 0,
              "ticks": ""
             }
            },
            "type": "parcoords"
           }
          ],
          "pie": [
           {
            "automargin": true,
            "type": "pie"
           }
          ],
          "scatter": [
           {
            "fillpattern": {
             "fillmode": "overlay",
             "size": 10,
             "solidity": 0.2
            },
            "type": "scatter"
           }
          ],
          "scatter3d": [
           {
            "line": {
             "colorbar": {
              "outlinewidth": 0,
              "ticks": ""
             }
            },
            "marker": {
             "colorbar": {
              "outlinewidth": 0,
              "ticks": ""
             }
            },
            "type": "scatter3d"
           }
          ],
          "scattercarpet": [
           {
            "marker": {
             "colorbar": {
              "outlinewidth": 0,
              "ticks": ""
             }
            },
            "type": "scattercarpet"
           }
          ],
          "scattergeo": [
           {
            "marker": {
             "colorbar": {
              "outlinewidth": 0,
              "ticks": ""
             }
            },
            "type": "scattergeo"
           }
          ],
          "scattergl": [
           {
            "marker": {
             "colorbar": {
              "outlinewidth": 0,
              "ticks": ""
             }
            },
            "type": "scattergl"
           }
          ],
          "scattermapbox": [
           {
            "marker": {
             "colorbar": {
              "outlinewidth": 0,
              "ticks": ""
             }
            },
            "type": "scattermapbox"
           }
          ],
          "scatterpolar": [
           {
            "marker": {
             "colorbar": {
              "outlinewidth": 0,
              "ticks": ""
             }
            },
            "type": "scatterpolar"
           }
          ],
          "scatterpolargl": [
           {
            "marker": {
             "colorbar": {
              "outlinewidth": 0,
              "ticks": ""
             }
            },
            "type": "scatterpolargl"
           }
          ],
          "scatterternary": [
           {
            "marker": {
             "colorbar": {
              "outlinewidth": 0,
              "ticks": ""
             }
            },
            "type": "scatterternary"
           }
          ],
          "surface": [
           {
            "colorbar": {
             "outlinewidth": 0,
             "ticks": ""
            },
            "colorscale": [
             [
              0,
              "#0d0887"
             ],
             [
              0.1111111111111111,
              "#46039f"
             ],
             [
              0.2222222222222222,
              "#7201a8"
             ],
             [
              0.3333333333333333,
              "#9c179e"
             ],
             [
              0.4444444444444444,
              "#bd3786"
             ],
             [
              0.5555555555555556,
              "#d8576b"
             ],
             [
              0.6666666666666666,
              "#ed7953"
             ],
             [
              0.7777777777777778,
              "#fb9f3a"
             ],
             [
              0.8888888888888888,
              "#fdca26"
             ],
             [
              1,
              "#f0f921"
             ]
            ],
            "type": "surface"
           }
          ],
          "table": [
           {
            "cells": {
             "fill": {
              "color": "#EBF0F8"
             },
             "line": {
              "color": "white"
             }
            },
            "header": {
             "fill": {
              "color": "#C8D4E3"
             },
             "line": {
              "color": "white"
             }
            },
            "type": "table"
           }
          ]
         },
         "layout": {
          "annotationdefaults": {
           "arrowcolor": "#2a3f5f",
           "arrowhead": 0,
           "arrowwidth": 1
          },
          "autotypenumbers": "strict",
          "coloraxis": {
           "colorbar": {
            "outlinewidth": 0,
            "ticks": ""
           }
          },
          "colorscale": {
           "diverging": [
            [
             0,
             "#8e0152"
            ],
            [
             0.1,
             "#c51b7d"
            ],
            [
             0.2,
             "#de77ae"
            ],
            [
             0.3,
             "#f1b6da"
            ],
            [
             0.4,
             "#fde0ef"
            ],
            [
             0.5,
             "#f7f7f7"
            ],
            [
             0.6,
             "#e6f5d0"
            ],
            [
             0.7,
             "#b8e186"
            ],
            [
             0.8,
             "#7fbc41"
            ],
            [
             0.9,
             "#4d9221"
            ],
            [
             1,
             "#276419"
            ]
           ],
           "sequential": [
            [
             0,
             "#0d0887"
            ],
            [
             0.1111111111111111,
             "#46039f"
            ],
            [
             0.2222222222222222,
             "#7201a8"
            ],
            [
             0.3333333333333333,
             "#9c179e"
            ],
            [
             0.4444444444444444,
             "#bd3786"
            ],
            [
             0.5555555555555556,
             "#d8576b"
            ],
            [
             0.6666666666666666,
             "#ed7953"
            ],
            [
             0.7777777777777778,
             "#fb9f3a"
            ],
            [
             0.8888888888888888,
             "#fdca26"
            ],
            [
             1,
             "#f0f921"
            ]
           ],
           "sequentialminus": [
            [
             0,
             "#0d0887"
            ],
            [
             0.1111111111111111,
             "#46039f"
            ],
            [
             0.2222222222222222,
             "#7201a8"
            ],
            [
             0.3333333333333333,
             "#9c179e"
            ],
            [
             0.4444444444444444,
             "#bd3786"
            ],
            [
             0.5555555555555556,
             "#d8576b"
            ],
            [
             0.6666666666666666,
             "#ed7953"
            ],
            [
             0.7777777777777778,
             "#fb9f3a"
            ],
            [
             0.8888888888888888,
             "#fdca26"
            ],
            [
             1,
             "#f0f921"
            ]
           ]
          },
          "colorway": [
           "#636efa",
           "#EF553B",
           "#00cc96",
           "#ab63fa",
           "#FFA15A",
           "#19d3f3",
           "#FF6692",
           "#B6E880",
           "#FF97FF",
           "#FECB52"
          ],
          "font": {
           "color": "#2a3f5f"
          },
          "geo": {
           "bgcolor": "white",
           "lakecolor": "white",
           "landcolor": "#E5ECF6",
           "showlakes": true,
           "showland": true,
           "subunitcolor": "white"
          },
          "hoverlabel": {
           "align": "left"
          },
          "hovermode": "closest",
          "mapbox": {
           "style": "light"
          },
          "paper_bgcolor": "white",
          "plot_bgcolor": "#E5ECF6",
          "polar": {
           "angularaxis": {
            "gridcolor": "white",
            "linecolor": "white",
            "ticks": ""
           },
           "bgcolor": "#E5ECF6",
           "radialaxis": {
            "gridcolor": "white",
            "linecolor": "white",
            "ticks": ""
           }
          },
          "scene": {
           "xaxis": {
            "backgroundcolor": "#E5ECF6",
            "gridcolor": "white",
            "gridwidth": 2,
            "linecolor": "white",
            "showbackground": true,
            "ticks": "",
            "zerolinecolor": "white"
           },
           "yaxis": {
            "backgroundcolor": "#E5ECF6",
            "gridcolor": "white",
            "gridwidth": 2,
            "linecolor": "white",
            "showbackground": true,
            "ticks": "",
            "zerolinecolor": "white"
           },
           "zaxis": {
            "backgroundcolor": "#E5ECF6",
            "gridcolor": "white",
            "gridwidth": 2,
            "linecolor": "white",
            "showbackground": true,
            "ticks": "",
            "zerolinecolor": "white"
           }
          },
          "shapedefaults": {
           "line": {
            "color": "#2a3f5f"
           }
          },
          "ternary": {
           "aaxis": {
            "gridcolor": "white",
            "linecolor": "white",
            "ticks": ""
           },
           "baxis": {
            "gridcolor": "white",
            "linecolor": "white",
            "ticks": ""
           },
           "bgcolor": "#E5ECF6",
           "caxis": {
            "gridcolor": "white",
            "linecolor": "white",
            "ticks": ""
           }
          },
          "title": {
           "x": 0.05
          },
          "xaxis": {
           "automargin": true,
           "gridcolor": "white",
           "linecolor": "white",
           "ticks": "",
           "title": {
            "standoff": 15
           },
           "zerolinecolor": "white",
           "zerolinewidth": 2
          },
          "yaxis": {
           "automargin": true,
           "gridcolor": "white",
           "linecolor": "white",
           "ticks": "",
           "title": {
            "standoff": 15
           },
           "zerolinecolor": "white",
           "zerolinewidth": 2
          }
         }
        },
        "title": {
         "text": "Victims by Age Group"
        },
        "xaxis": {
         "anchor": "y",
         "domain": [
          0,
          1
         ],
         "title": {
          "text": "Age Group"
         }
        },
        "yaxis": {
         "anchor": "x",
         "domain": [
          0,
          1
         ],
         "title": {
          "text": "Number of Victims"
         }
        }
       }
      }
     },
     "metadata": {},
     "output_type": "display_data"
    }
   ],
   "source": [
    "# 4.5. Plot Victimes by 'age_group' (make bins, bar chart)\n",
    "def plot_victims_by_age_group(df, column):\n",
    "    # Remove rows where the specified column has 0 values\n",
    "    df = df[df[column] != 0]\n",
    "\n",
    "    # Group by the specified column and count the number of victims in each category\n",
    "    age_group_counts = df.groupby(column).size().reset_index(name='counts')\n",
    "\n",
    "    # Create a bar chart using Plotly Express\n",
    "    fig = px.bar(age_group_counts, x=column, y='counts',\n",
    "                 title=\"Victims by Age Group\",\n",
    "                 labels={column: 'Age Group', 'counts': 'Number of Victims'},\n",
    "                 text='counts')  # Display counts on the bars\n",
    "\n",
    "    # Show the plot\n",
    "    fig.show()\n",
    "\n",
    "\n",
    "plot_victims_by_age_group(df, 'age_group')"
   ]
  },
  {
   "cell_type": "markdown",
   "metadata": {},
   "source": [
    "#### 4.6. Attacks by time of the day, 'sex', Fatality status (pie charts)\n"
   ]
  },
  {
   "cell_type": "code",
   "execution_count": 88,
   "metadata": {},
   "outputs": [
    {
     "data": {
      "application/vnd.plotly.v1+json": {
       "config": {
        "plotlyServerURL": "https://plot.ly"
       },
       "data": [
        {
         "customdata": [
          [
           "Unknown"
          ],
          [
           "Day"
          ],
          [
           "Morning"
          ],
          [
           "Evening"
          ],
          [
           "Night"
          ]
         ],
         "domain": {
          "x": [
           0,
           1
          ],
          "y": [
           0,
           1
          ]
         },
         "hole": 0.4,
         "hovertemplate": "time_of_day=%{customdata[0]}<br>Number of Occurrences=%{value}<extra></extra>",
         "labels": [
          "Unknown",
          "Day",
          "Morning",
          "Evening",
          "Night"
         ],
         "legendgroup": "",
         "marker": {
          "colors": [
           "#636efa",
           "#EF553B",
           "#00cc96",
           "#ab63fa",
           "#FFA15A"
          ]
         },
         "name": "",
         "showlegend": true,
         "textinfo": "label+percent",
         "textposition": "outside",
         "type": "pie",
         "values": [
          2289,
          1382,
          997,
          250,
          70
         ]
        }
       ],
       "layout": {
        "legend": {
         "title": {
          "text": "time_of_day"
         },
         "tracegroupgap": 0
        },
        "template": {
         "data": {
          "bar": [
           {
            "error_x": {
             "color": "#2a3f5f"
            },
            "error_y": {
             "color": "#2a3f5f"
            },
            "marker": {
             "line": {
              "color": "#E5ECF6",
              "width": 0.5
             },
             "pattern": {
              "fillmode": "overlay",
              "size": 10,
              "solidity": 0.2
             }
            },
            "type": "bar"
           }
          ],
          "barpolar": [
           {
            "marker": {
             "line": {
              "color": "#E5ECF6",
              "width": 0.5
             },
             "pattern": {
              "fillmode": "overlay",
              "size": 10,
              "solidity": 0.2
             }
            },
            "type": "barpolar"
           }
          ],
          "carpet": [
           {
            "aaxis": {
             "endlinecolor": "#2a3f5f",
             "gridcolor": "white",
             "linecolor": "white",
             "minorgridcolor": "white",
             "startlinecolor": "#2a3f5f"
            },
            "baxis": {
             "endlinecolor": "#2a3f5f",
             "gridcolor": "white",
             "linecolor": "white",
             "minorgridcolor": "white",
             "startlinecolor": "#2a3f5f"
            },
            "type": "carpet"
           }
          ],
          "choropleth": [
           {
            "colorbar": {
             "outlinewidth": 0,
             "ticks": ""
            },
            "type": "choropleth"
           }
          ],
          "contour": [
           {
            "colorbar": {
             "outlinewidth": 0,
             "ticks": ""
            },
            "colorscale": [
             [
              0,
              "#0d0887"
             ],
             [
              0.1111111111111111,
              "#46039f"
             ],
             [
              0.2222222222222222,
              "#7201a8"
             ],
             [
              0.3333333333333333,
              "#9c179e"
             ],
             [
              0.4444444444444444,
              "#bd3786"
             ],
             [
              0.5555555555555556,
              "#d8576b"
             ],
             [
              0.6666666666666666,
              "#ed7953"
             ],
             [
              0.7777777777777778,
              "#fb9f3a"
             ],
             [
              0.8888888888888888,
              "#fdca26"
             ],
             [
              1,
              "#f0f921"
             ]
            ],
            "type": "contour"
           }
          ],
          "contourcarpet": [
           {
            "colorbar": {
             "outlinewidth": 0,
             "ticks": ""
            },
            "type": "contourcarpet"
           }
          ],
          "heatmap": [
           {
            "colorbar": {
             "outlinewidth": 0,
             "ticks": ""
            },
            "colorscale": [
             [
              0,
              "#0d0887"
             ],
             [
              0.1111111111111111,
              "#46039f"
             ],
             [
              0.2222222222222222,
              "#7201a8"
             ],
             [
              0.3333333333333333,
              "#9c179e"
             ],
             [
              0.4444444444444444,
              "#bd3786"
             ],
             [
              0.5555555555555556,
              "#d8576b"
             ],
             [
              0.6666666666666666,
              "#ed7953"
             ],
             [
              0.7777777777777778,
              "#fb9f3a"
             ],
             [
              0.8888888888888888,
              "#fdca26"
             ],
             [
              1,
              "#f0f921"
             ]
            ],
            "type": "heatmap"
           }
          ],
          "heatmapgl": [
           {
            "colorbar": {
             "outlinewidth": 0,
             "ticks": ""
            },
            "colorscale": [
             [
              0,
              "#0d0887"
             ],
             [
              0.1111111111111111,
              "#46039f"
             ],
             [
              0.2222222222222222,
              "#7201a8"
             ],
             [
              0.3333333333333333,
              "#9c179e"
             ],
             [
              0.4444444444444444,
              "#bd3786"
             ],
             [
              0.5555555555555556,
              "#d8576b"
             ],
             [
              0.6666666666666666,
              "#ed7953"
             ],
             [
              0.7777777777777778,
              "#fb9f3a"
             ],
             [
              0.8888888888888888,
              "#fdca26"
             ],
             [
              1,
              "#f0f921"
             ]
            ],
            "type": "heatmapgl"
           }
          ],
          "histogram": [
           {
            "marker": {
             "pattern": {
              "fillmode": "overlay",
              "size": 10,
              "solidity": 0.2
             }
            },
            "type": "histogram"
           }
          ],
          "histogram2d": [
           {
            "colorbar": {
             "outlinewidth": 0,
             "ticks": ""
            },
            "colorscale": [
             [
              0,
              "#0d0887"
             ],
             [
              0.1111111111111111,
              "#46039f"
             ],
             [
              0.2222222222222222,
              "#7201a8"
             ],
             [
              0.3333333333333333,
              "#9c179e"
             ],
             [
              0.4444444444444444,
              "#bd3786"
             ],
             [
              0.5555555555555556,
              "#d8576b"
             ],
             [
              0.6666666666666666,
              "#ed7953"
             ],
             [
              0.7777777777777778,
              "#fb9f3a"
             ],
             [
              0.8888888888888888,
              "#fdca26"
             ],
             [
              1,
              "#f0f921"
             ]
            ],
            "type": "histogram2d"
           }
          ],
          "histogram2dcontour": [
           {
            "colorbar": {
             "outlinewidth": 0,
             "ticks": ""
            },
            "colorscale": [
             [
              0,
              "#0d0887"
             ],
             [
              0.1111111111111111,
              "#46039f"
             ],
             [
              0.2222222222222222,
              "#7201a8"
             ],
             [
              0.3333333333333333,
              "#9c179e"
             ],
             [
              0.4444444444444444,
              "#bd3786"
             ],
             [
              0.5555555555555556,
              "#d8576b"
             ],
             [
              0.6666666666666666,
              "#ed7953"
             ],
             [
              0.7777777777777778,
              "#fb9f3a"
             ],
             [
              0.8888888888888888,
              "#fdca26"
             ],
             [
              1,
              "#f0f921"
             ]
            ],
            "type": "histogram2dcontour"
           }
          ],
          "mesh3d": [
           {
            "colorbar": {
             "outlinewidth": 0,
             "ticks": ""
            },
            "type": "mesh3d"
           }
          ],
          "parcoords": [
           {
            "line": {
             "colorbar": {
              "outlinewidth": 0,
              "ticks": ""
             }
            },
            "type": "parcoords"
           }
          ],
          "pie": [
           {
            "automargin": true,
            "type": "pie"
           }
          ],
          "scatter": [
           {
            "fillpattern": {
             "fillmode": "overlay",
             "size": 10,
             "solidity": 0.2
            },
            "type": "scatter"
           }
          ],
          "scatter3d": [
           {
            "line": {
             "colorbar": {
              "outlinewidth": 0,
              "ticks": ""
             }
            },
            "marker": {
             "colorbar": {
              "outlinewidth": 0,
              "ticks": ""
             }
            },
            "type": "scatter3d"
           }
          ],
          "scattercarpet": [
           {
            "marker": {
             "colorbar": {
              "outlinewidth": 0,
              "ticks": ""
             }
            },
            "type": "scattercarpet"
           }
          ],
          "scattergeo": [
           {
            "marker": {
             "colorbar": {
              "outlinewidth": 0,
              "ticks": ""
             }
            },
            "type": "scattergeo"
           }
          ],
          "scattergl": [
           {
            "marker": {
             "colorbar": {
              "outlinewidth": 0,
              "ticks": ""
             }
            },
            "type": "scattergl"
           }
          ],
          "scattermapbox": [
           {
            "marker": {
             "colorbar": {
              "outlinewidth": 0,
              "ticks": ""
             }
            },
            "type": "scattermapbox"
           }
          ],
          "scatterpolar": [
           {
            "marker": {
             "colorbar": {
              "outlinewidth": 0,
              "ticks": ""
             }
            },
            "type": "scatterpolar"
           }
          ],
          "scatterpolargl": [
           {
            "marker": {
             "colorbar": {
              "outlinewidth": 0,
              "ticks": ""
             }
            },
            "type": "scatterpolargl"
           }
          ],
          "scatterternary": [
           {
            "marker": {
             "colorbar": {
              "outlinewidth": 0,
              "ticks": ""
             }
            },
            "type": "scatterternary"
           }
          ],
          "surface": [
           {
            "colorbar": {
             "outlinewidth": 0,
             "ticks": ""
            },
            "colorscale": [
             [
              0,
              "#0d0887"
             ],
             [
              0.1111111111111111,
              "#46039f"
             ],
             [
              0.2222222222222222,
              "#7201a8"
             ],
             [
              0.3333333333333333,
              "#9c179e"
             ],
             [
              0.4444444444444444,
              "#bd3786"
             ],
             [
              0.5555555555555556,
              "#d8576b"
             ],
             [
              0.6666666666666666,
              "#ed7953"
             ],
             [
              0.7777777777777778,
              "#fb9f3a"
             ],
             [
              0.8888888888888888,
              "#fdca26"
             ],
             [
              1,
              "#f0f921"
             ]
            ],
            "type": "surface"
           }
          ],
          "table": [
           {
            "cells": {
             "fill": {
              "color": "#EBF0F8"
             },
             "line": {
              "color": "white"
             }
            },
            "header": {
             "fill": {
              "color": "#C8D4E3"
             },
             "line": {
              "color": "white"
             }
            },
            "type": "table"
           }
          ]
         },
         "layout": {
          "annotationdefaults": {
           "arrowcolor": "#2a3f5f",
           "arrowhead": 0,
           "arrowwidth": 1
          },
          "autotypenumbers": "strict",
          "coloraxis": {
           "colorbar": {
            "outlinewidth": 0,
            "ticks": ""
           }
          },
          "colorscale": {
           "diverging": [
            [
             0,
             "#8e0152"
            ],
            [
             0.1,
             "#c51b7d"
            ],
            [
             0.2,
             "#de77ae"
            ],
            [
             0.3,
             "#f1b6da"
            ],
            [
             0.4,
             "#fde0ef"
            ],
            [
             0.5,
             "#f7f7f7"
            ],
            [
             0.6,
             "#e6f5d0"
            ],
            [
             0.7,
             "#b8e186"
            ],
            [
             0.8,
             "#7fbc41"
            ],
            [
             0.9,
             "#4d9221"
            ],
            [
             1,
             "#276419"
            ]
           ],
           "sequential": [
            [
             0,
             "#0d0887"
            ],
            [
             0.1111111111111111,
             "#46039f"
            ],
            [
             0.2222222222222222,
             "#7201a8"
            ],
            [
             0.3333333333333333,
             "#9c179e"
            ],
            [
             0.4444444444444444,
             "#bd3786"
            ],
            [
             0.5555555555555556,
             "#d8576b"
            ],
            [
             0.6666666666666666,
             "#ed7953"
            ],
            [
             0.7777777777777778,
             "#fb9f3a"
            ],
            [
             0.8888888888888888,
             "#fdca26"
            ],
            [
             1,
             "#f0f921"
            ]
           ],
           "sequentialminus": [
            [
             0,
             "#0d0887"
            ],
            [
             0.1111111111111111,
             "#46039f"
            ],
            [
             0.2222222222222222,
             "#7201a8"
            ],
            [
             0.3333333333333333,
             "#9c179e"
            ],
            [
             0.4444444444444444,
             "#bd3786"
            ],
            [
             0.5555555555555556,
             "#d8576b"
            ],
            [
             0.6666666666666666,
             "#ed7953"
            ],
            [
             0.7777777777777778,
             "#fb9f3a"
            ],
            [
             0.8888888888888888,
             "#fdca26"
            ],
            [
             1,
             "#f0f921"
            ]
           ]
          },
          "colorway": [
           "#636efa",
           "#EF553B",
           "#00cc96",
           "#ab63fa",
           "#FFA15A",
           "#19d3f3",
           "#FF6692",
           "#B6E880",
           "#FF97FF",
           "#FECB52"
          ],
          "font": {
           "color": "#2a3f5f"
          },
          "geo": {
           "bgcolor": "white",
           "lakecolor": "white",
           "landcolor": "#E5ECF6",
           "showlakes": true,
           "showland": true,
           "subunitcolor": "white"
          },
          "hoverlabel": {
           "align": "left"
          },
          "hovermode": "closest",
          "mapbox": {
           "style": "light"
          },
          "paper_bgcolor": "white",
          "plot_bgcolor": "#E5ECF6",
          "polar": {
           "angularaxis": {
            "gridcolor": "white",
            "linecolor": "white",
            "ticks": ""
           },
           "bgcolor": "#E5ECF6",
           "radialaxis": {
            "gridcolor": "white",
            "linecolor": "white",
            "ticks": ""
           }
          },
          "scene": {
           "xaxis": {
            "backgroundcolor": "#E5ECF6",
            "gridcolor": "white",
            "gridwidth": 2,
            "linecolor": "white",
            "showbackground": true,
            "ticks": "",
            "zerolinecolor": "white"
           },
           "yaxis": {
            "backgroundcolor": "#E5ECF6",
            "gridcolor": "white",
            "gridwidth": 2,
            "linecolor": "white",
            "showbackground": true,
            "ticks": "",
            "zerolinecolor": "white"
           },
           "zaxis": {
            "backgroundcolor": "#E5ECF6",
            "gridcolor": "white",
            "gridwidth": 2,
            "linecolor": "white",
            "showbackground": true,
            "ticks": "",
            "zerolinecolor": "white"
           }
          },
          "shapedefaults": {
           "line": {
            "color": "#2a3f5f"
           }
          },
          "ternary": {
           "aaxis": {
            "gridcolor": "white",
            "linecolor": "white",
            "ticks": ""
           },
           "baxis": {
            "gridcolor": "white",
            "linecolor": "white",
            "ticks": ""
           },
           "bgcolor": "#E5ECF6",
           "caxis": {
            "gridcolor": "white",
            "linecolor": "white",
            "ticks": ""
           }
          },
          "title": {
           "x": 0.05
          },
          "xaxis": {
           "automargin": true,
           "gridcolor": "white",
           "linecolor": "white",
           "ticks": "",
           "title": {
            "standoff": 15
           },
           "zerolinecolor": "white",
           "zerolinewidth": 2
          },
          "yaxis": {
           "automargin": true,
           "gridcolor": "white",
           "linecolor": "white",
           "ticks": "",
           "title": {
            "standoff": 15
           },
           "zerolinecolor": "white",
           "zerolinewidth": 2
          }
         }
        },
        "title": {
         "text": "Attacks per Time of Day"
        },
        "uniformtext": {
         "minsize": 12,
         "mode": "hide"
        }
       }
      }
     },
     "metadata": {},
     "output_type": "display_data"
    },
    {
     "data": {
      "application/vnd.plotly.v1+json": {
       "config": {
        "plotlyServerURL": "https://plot.ly"
       },
       "data": [
        {
         "customdata": [
          [
           "Male"
          ],
          [
           "Female"
          ],
          [
           "Unidentified"
          ]
         ],
         "domain": {
          "x": [
           0,
           1
          ],
          "y": [
           0,
           1
          ]
         },
         "hole": 0.4,
         "hovertemplate": "sex=%{customdata[0]}<br>Number of Occurrences=%{value}<extra></extra>",
         "labels": [
          "Male",
          "Female",
          "Unidentified"
         ],
         "legendgroup": "",
         "marker": {
          "colors": [
           "#636efa",
           "#EF553B",
           "#00cc96"
          ]
         },
         "name": "",
         "showlegend": true,
         "textinfo": "label+percent",
         "textposition": "outside",
         "type": "pie",
         "values": [
          3916,
          674,
          398
         ]
        }
       ],
       "layout": {
        "legend": {
         "title": {
          "text": "sex"
         },
         "tracegroupgap": 0
        },
        "template": {
         "data": {
          "bar": [
           {
            "error_x": {
             "color": "#2a3f5f"
            },
            "error_y": {
             "color": "#2a3f5f"
            },
            "marker": {
             "line": {
              "color": "#E5ECF6",
              "width": 0.5
             },
             "pattern": {
              "fillmode": "overlay",
              "size": 10,
              "solidity": 0.2
             }
            },
            "type": "bar"
           }
          ],
          "barpolar": [
           {
            "marker": {
             "line": {
              "color": "#E5ECF6",
              "width": 0.5
             },
             "pattern": {
              "fillmode": "overlay",
              "size": 10,
              "solidity": 0.2
             }
            },
            "type": "barpolar"
           }
          ],
          "carpet": [
           {
            "aaxis": {
             "endlinecolor": "#2a3f5f",
             "gridcolor": "white",
             "linecolor": "white",
             "minorgridcolor": "white",
             "startlinecolor": "#2a3f5f"
            },
            "baxis": {
             "endlinecolor": "#2a3f5f",
             "gridcolor": "white",
             "linecolor": "white",
             "minorgridcolor": "white",
             "startlinecolor": "#2a3f5f"
            },
            "type": "carpet"
           }
          ],
          "choropleth": [
           {
            "colorbar": {
             "outlinewidth": 0,
             "ticks": ""
            },
            "type": "choropleth"
           }
          ],
          "contour": [
           {
            "colorbar": {
             "outlinewidth": 0,
             "ticks": ""
            },
            "colorscale": [
             [
              0,
              "#0d0887"
             ],
             [
              0.1111111111111111,
              "#46039f"
             ],
             [
              0.2222222222222222,
              "#7201a8"
             ],
             [
              0.3333333333333333,
              "#9c179e"
             ],
             [
              0.4444444444444444,
              "#bd3786"
             ],
             [
              0.5555555555555556,
              "#d8576b"
             ],
             [
              0.6666666666666666,
              "#ed7953"
             ],
             [
              0.7777777777777778,
              "#fb9f3a"
             ],
             [
              0.8888888888888888,
              "#fdca26"
             ],
             [
              1,
              "#f0f921"
             ]
            ],
            "type": "contour"
           }
          ],
          "contourcarpet": [
           {
            "colorbar": {
             "outlinewidth": 0,
             "ticks": ""
            },
            "type": "contourcarpet"
           }
          ],
          "heatmap": [
           {
            "colorbar": {
             "outlinewidth": 0,
             "ticks": ""
            },
            "colorscale": [
             [
              0,
              "#0d0887"
             ],
             [
              0.1111111111111111,
              "#46039f"
             ],
             [
              0.2222222222222222,
              "#7201a8"
             ],
             [
              0.3333333333333333,
              "#9c179e"
             ],
             [
              0.4444444444444444,
              "#bd3786"
             ],
             [
              0.5555555555555556,
              "#d8576b"
             ],
             [
              0.6666666666666666,
              "#ed7953"
             ],
             [
              0.7777777777777778,
              "#fb9f3a"
             ],
             [
              0.8888888888888888,
              "#fdca26"
             ],
             [
              1,
              "#f0f921"
             ]
            ],
            "type": "heatmap"
           }
          ],
          "heatmapgl": [
           {
            "colorbar": {
             "outlinewidth": 0,
             "ticks": ""
            },
            "colorscale": [
             [
              0,
              "#0d0887"
             ],
             [
              0.1111111111111111,
              "#46039f"
             ],
             [
              0.2222222222222222,
              "#7201a8"
             ],
             [
              0.3333333333333333,
              "#9c179e"
             ],
             [
              0.4444444444444444,
              "#bd3786"
             ],
             [
              0.5555555555555556,
              "#d8576b"
             ],
             [
              0.6666666666666666,
              "#ed7953"
             ],
             [
              0.7777777777777778,
              "#fb9f3a"
             ],
             [
              0.8888888888888888,
              "#fdca26"
             ],
             [
              1,
              "#f0f921"
             ]
            ],
            "type": "heatmapgl"
           }
          ],
          "histogram": [
           {
            "marker": {
             "pattern": {
              "fillmode": "overlay",
              "size": 10,
              "solidity": 0.2
             }
            },
            "type": "histogram"
           }
          ],
          "histogram2d": [
           {
            "colorbar": {
             "outlinewidth": 0,
             "ticks": ""
            },
            "colorscale": [
             [
              0,
              "#0d0887"
             ],
             [
              0.1111111111111111,
              "#46039f"
             ],
             [
              0.2222222222222222,
              "#7201a8"
             ],
             [
              0.3333333333333333,
              "#9c179e"
             ],
             [
              0.4444444444444444,
              "#bd3786"
             ],
             [
              0.5555555555555556,
              "#d8576b"
             ],
             [
              0.6666666666666666,
              "#ed7953"
             ],
             [
              0.7777777777777778,
              "#fb9f3a"
             ],
             [
              0.8888888888888888,
              "#fdca26"
             ],
             [
              1,
              "#f0f921"
             ]
            ],
            "type": "histogram2d"
           }
          ],
          "histogram2dcontour": [
           {
            "colorbar": {
             "outlinewidth": 0,
             "ticks": ""
            },
            "colorscale": [
             [
              0,
              "#0d0887"
             ],
             [
              0.1111111111111111,
              "#46039f"
             ],
             [
              0.2222222222222222,
              "#7201a8"
             ],
             [
              0.3333333333333333,
              "#9c179e"
             ],
             [
              0.4444444444444444,
              "#bd3786"
             ],
             [
              0.5555555555555556,
              "#d8576b"
             ],
             [
              0.6666666666666666,
              "#ed7953"
             ],
             [
              0.7777777777777778,
              "#fb9f3a"
             ],
             [
              0.8888888888888888,
              "#fdca26"
             ],
             [
              1,
              "#f0f921"
             ]
            ],
            "type": "histogram2dcontour"
           }
          ],
          "mesh3d": [
           {
            "colorbar": {
             "outlinewidth": 0,
             "ticks": ""
            },
            "type": "mesh3d"
           }
          ],
          "parcoords": [
           {
            "line": {
             "colorbar": {
              "outlinewidth": 0,
              "ticks": ""
             }
            },
            "type": "parcoords"
           }
          ],
          "pie": [
           {
            "automargin": true,
            "type": "pie"
           }
          ],
          "scatter": [
           {
            "fillpattern": {
             "fillmode": "overlay",
             "size": 10,
             "solidity": 0.2
            },
            "type": "scatter"
           }
          ],
          "scatter3d": [
           {
            "line": {
             "colorbar": {
              "outlinewidth": 0,
              "ticks": ""
             }
            },
            "marker": {
             "colorbar": {
              "outlinewidth": 0,
              "ticks": ""
             }
            },
            "type": "scatter3d"
           }
          ],
          "scattercarpet": [
           {
            "marker": {
             "colorbar": {
              "outlinewidth": 0,
              "ticks": ""
             }
            },
            "type": "scattercarpet"
           }
          ],
          "scattergeo": [
           {
            "marker": {
             "colorbar": {
              "outlinewidth": 0,
              "ticks": ""
             }
            },
            "type": "scattergeo"
           }
          ],
          "scattergl": [
           {
            "marker": {
             "colorbar": {
              "outlinewidth": 0,
              "ticks": ""
             }
            },
            "type": "scattergl"
           }
          ],
          "scattermapbox": [
           {
            "marker": {
             "colorbar": {
              "outlinewidth": 0,
              "ticks": ""
             }
            },
            "type": "scattermapbox"
           }
          ],
          "scatterpolar": [
           {
            "marker": {
             "colorbar": {
              "outlinewidth": 0,
              "ticks": ""
             }
            },
            "type": "scatterpolar"
           }
          ],
          "scatterpolargl": [
           {
            "marker": {
             "colorbar": {
              "outlinewidth": 0,
              "ticks": ""
             }
            },
            "type": "scatterpolargl"
           }
          ],
          "scatterternary": [
           {
            "marker": {
             "colorbar": {
              "outlinewidth": 0,
              "ticks": ""
             }
            },
            "type": "scatterternary"
           }
          ],
          "surface": [
           {
            "colorbar": {
             "outlinewidth": 0,
             "ticks": ""
            },
            "colorscale": [
             [
              0,
              "#0d0887"
             ],
             [
              0.1111111111111111,
              "#46039f"
             ],
             [
              0.2222222222222222,
              "#7201a8"
             ],
             [
              0.3333333333333333,
              "#9c179e"
             ],
             [
              0.4444444444444444,
              "#bd3786"
             ],
             [
              0.5555555555555556,
              "#d8576b"
             ],
             [
              0.6666666666666666,
              "#ed7953"
             ],
             [
              0.7777777777777778,
              "#fb9f3a"
             ],
             [
              0.8888888888888888,
              "#fdca26"
             ],
             [
              1,
              "#f0f921"
             ]
            ],
            "type": "surface"
           }
          ],
          "table": [
           {
            "cells": {
             "fill": {
              "color": "#EBF0F8"
             },
             "line": {
              "color": "white"
             }
            },
            "header": {
             "fill": {
              "color": "#C8D4E3"
             },
             "line": {
              "color": "white"
             }
            },
            "type": "table"
           }
          ]
         },
         "layout": {
          "annotationdefaults": {
           "arrowcolor": "#2a3f5f",
           "arrowhead": 0,
           "arrowwidth": 1
          },
          "autotypenumbers": "strict",
          "coloraxis": {
           "colorbar": {
            "outlinewidth": 0,
            "ticks": ""
           }
          },
          "colorscale": {
           "diverging": [
            [
             0,
             "#8e0152"
            ],
            [
             0.1,
             "#c51b7d"
            ],
            [
             0.2,
             "#de77ae"
            ],
            [
             0.3,
             "#f1b6da"
            ],
            [
             0.4,
             "#fde0ef"
            ],
            [
             0.5,
             "#f7f7f7"
            ],
            [
             0.6,
             "#e6f5d0"
            ],
            [
             0.7,
             "#b8e186"
            ],
            [
             0.8,
             "#7fbc41"
            ],
            [
             0.9,
             "#4d9221"
            ],
            [
             1,
             "#276419"
            ]
           ],
           "sequential": [
            [
             0,
             "#0d0887"
            ],
            [
             0.1111111111111111,
             "#46039f"
            ],
            [
             0.2222222222222222,
             "#7201a8"
            ],
            [
             0.3333333333333333,
             "#9c179e"
            ],
            [
             0.4444444444444444,
             "#bd3786"
            ],
            [
             0.5555555555555556,
             "#d8576b"
            ],
            [
             0.6666666666666666,
             "#ed7953"
            ],
            [
             0.7777777777777778,
             "#fb9f3a"
            ],
            [
             0.8888888888888888,
             "#fdca26"
            ],
            [
             1,
             "#f0f921"
            ]
           ],
           "sequentialminus": [
            [
             0,
             "#0d0887"
            ],
            [
             0.1111111111111111,
             "#46039f"
            ],
            [
             0.2222222222222222,
             "#7201a8"
            ],
            [
             0.3333333333333333,
             "#9c179e"
            ],
            [
             0.4444444444444444,
             "#bd3786"
            ],
            [
             0.5555555555555556,
             "#d8576b"
            ],
            [
             0.6666666666666666,
             "#ed7953"
            ],
            [
             0.7777777777777778,
             "#fb9f3a"
            ],
            [
             0.8888888888888888,
             "#fdca26"
            ],
            [
             1,
             "#f0f921"
            ]
           ]
          },
          "colorway": [
           "#636efa",
           "#EF553B",
           "#00cc96",
           "#ab63fa",
           "#FFA15A",
           "#19d3f3",
           "#FF6692",
           "#B6E880",
           "#FF97FF",
           "#FECB52"
          ],
          "font": {
           "color": "#2a3f5f"
          },
          "geo": {
           "bgcolor": "white",
           "lakecolor": "white",
           "landcolor": "#E5ECF6",
           "showlakes": true,
           "showland": true,
           "subunitcolor": "white"
          },
          "hoverlabel": {
           "align": "left"
          },
          "hovermode": "closest",
          "mapbox": {
           "style": "light"
          },
          "paper_bgcolor": "white",
          "plot_bgcolor": "#E5ECF6",
          "polar": {
           "angularaxis": {
            "gridcolor": "white",
            "linecolor": "white",
            "ticks": ""
           },
           "bgcolor": "#E5ECF6",
           "radialaxis": {
            "gridcolor": "white",
            "linecolor": "white",
            "ticks": ""
           }
          },
          "scene": {
           "xaxis": {
            "backgroundcolor": "#E5ECF6",
            "gridcolor": "white",
            "gridwidth": 2,
            "linecolor": "white",
            "showbackground": true,
            "ticks": "",
            "zerolinecolor": "white"
           },
           "yaxis": {
            "backgroundcolor": "#E5ECF6",
            "gridcolor": "white",
            "gridwidth": 2,
            "linecolor": "white",
            "showbackground": true,
            "ticks": "",
            "zerolinecolor": "white"
           },
           "zaxis": {
            "backgroundcolor": "#E5ECF6",
            "gridcolor": "white",
            "gridwidth": 2,
            "linecolor": "white",
            "showbackground": true,
            "ticks": "",
            "zerolinecolor": "white"
           }
          },
          "shapedefaults": {
           "line": {
            "color": "#2a3f5f"
           }
          },
          "ternary": {
           "aaxis": {
            "gridcolor": "white",
            "linecolor": "white",
            "ticks": ""
           },
           "baxis": {
            "gridcolor": "white",
            "linecolor": "white",
            "ticks": ""
           },
           "bgcolor": "#E5ECF6",
           "caxis": {
            "gridcolor": "white",
            "linecolor": "white",
            "ticks": ""
           }
          },
          "title": {
           "x": 0.05
          },
          "xaxis": {
           "automargin": true,
           "gridcolor": "white",
           "linecolor": "white",
           "ticks": "",
           "title": {
            "standoff": 15
           },
           "zerolinecolor": "white",
           "zerolinewidth": 2
          },
          "yaxis": {
           "automargin": true,
           "gridcolor": "white",
           "linecolor": "white",
           "ticks": "",
           "title": {
            "standoff": 15
           },
           "zerolinecolor": "white",
           "zerolinewidth": 2
          }
         }
        },
        "title": {
         "text": "Victims by Gender"
        },
        "uniformtext": {
         "minsize": 12,
         "mode": "hide"
        }
       }
      }
     },
     "metadata": {},
     "output_type": "display_data"
    },
    {
     "data": {
      "application/vnd.plotly.v1+json": {
       "config": {
        "plotlyServerURL": "https://plot.ly"
       },
       "data": [
        {
         "customdata": [
          [
           "survived"
          ],
          [
           "non-survived"
          ]
         ],
         "domain": {
          "x": [
           0,
           1
          ],
          "y": [
           0,
           1
          ]
         },
         "hole": 0.4,
         "hovertemplate": "fatality_status=%{customdata[0]}<br>Number of Occurrences=%{value}<extra></extra>",
         "labels": [
          "survived",
          "non-survived"
         ],
         "legendgroup": "",
         "marker": {
          "colors": [
           "#636efa",
           "#EF553B"
          ]
         },
         "name": "",
         "showlegend": true,
         "textinfo": "label+percent",
         "textposition": "outside",
         "type": "pie",
         "values": [
          4333,
          655
         ]
        }
       ],
       "layout": {
        "legend": {
         "title": {
          "text": "fatality_status"
         },
         "tracegroupgap": 0
        },
        "template": {
         "data": {
          "bar": [
           {
            "error_x": {
             "color": "#2a3f5f"
            },
            "error_y": {
             "color": "#2a3f5f"
            },
            "marker": {
             "line": {
              "color": "#E5ECF6",
              "width": 0.5
             },
             "pattern": {
              "fillmode": "overlay",
              "size": 10,
              "solidity": 0.2
             }
            },
            "type": "bar"
           }
          ],
          "barpolar": [
           {
            "marker": {
             "line": {
              "color": "#E5ECF6",
              "width": 0.5
             },
             "pattern": {
              "fillmode": "overlay",
              "size": 10,
              "solidity": 0.2
             }
            },
            "type": "barpolar"
           }
          ],
          "carpet": [
           {
            "aaxis": {
             "endlinecolor": "#2a3f5f",
             "gridcolor": "white",
             "linecolor": "white",
             "minorgridcolor": "white",
             "startlinecolor": "#2a3f5f"
            },
            "baxis": {
             "endlinecolor": "#2a3f5f",
             "gridcolor": "white",
             "linecolor": "white",
             "minorgridcolor": "white",
             "startlinecolor": "#2a3f5f"
            },
            "type": "carpet"
           }
          ],
          "choropleth": [
           {
            "colorbar": {
             "outlinewidth": 0,
             "ticks": ""
            },
            "type": "choropleth"
           }
          ],
          "contour": [
           {
            "colorbar": {
             "outlinewidth": 0,
             "ticks": ""
            },
            "colorscale": [
             [
              0,
              "#0d0887"
             ],
             [
              0.1111111111111111,
              "#46039f"
             ],
             [
              0.2222222222222222,
              "#7201a8"
             ],
             [
              0.3333333333333333,
              "#9c179e"
             ],
             [
              0.4444444444444444,
              "#bd3786"
             ],
             [
              0.5555555555555556,
              "#d8576b"
             ],
             [
              0.6666666666666666,
              "#ed7953"
             ],
             [
              0.7777777777777778,
              "#fb9f3a"
             ],
             [
              0.8888888888888888,
              "#fdca26"
             ],
             [
              1,
              "#f0f921"
             ]
            ],
            "type": "contour"
           }
          ],
          "contourcarpet": [
           {
            "colorbar": {
             "outlinewidth": 0,
             "ticks": ""
            },
            "type": "contourcarpet"
           }
          ],
          "heatmap": [
           {
            "colorbar": {
             "outlinewidth": 0,
             "ticks": ""
            },
            "colorscale": [
             [
              0,
              "#0d0887"
             ],
             [
              0.1111111111111111,
              "#46039f"
             ],
             [
              0.2222222222222222,
              "#7201a8"
             ],
             [
              0.3333333333333333,
              "#9c179e"
             ],
             [
              0.4444444444444444,
              "#bd3786"
             ],
             [
              0.5555555555555556,
              "#d8576b"
             ],
             [
              0.6666666666666666,
              "#ed7953"
             ],
             [
              0.7777777777777778,
              "#fb9f3a"
             ],
             [
              0.8888888888888888,
              "#fdca26"
             ],
             [
              1,
              "#f0f921"
             ]
            ],
            "type": "heatmap"
           }
          ],
          "heatmapgl": [
           {
            "colorbar": {
             "outlinewidth": 0,
             "ticks": ""
            },
            "colorscale": [
             [
              0,
              "#0d0887"
             ],
             [
              0.1111111111111111,
              "#46039f"
             ],
             [
              0.2222222222222222,
              "#7201a8"
             ],
             [
              0.3333333333333333,
              "#9c179e"
             ],
             [
              0.4444444444444444,
              "#bd3786"
             ],
             [
              0.5555555555555556,
              "#d8576b"
             ],
             [
              0.6666666666666666,
              "#ed7953"
             ],
             [
              0.7777777777777778,
              "#fb9f3a"
             ],
             [
              0.8888888888888888,
              "#fdca26"
             ],
             [
              1,
              "#f0f921"
             ]
            ],
            "type": "heatmapgl"
           }
          ],
          "histogram": [
           {
            "marker": {
             "pattern": {
              "fillmode": "overlay",
              "size": 10,
              "solidity": 0.2
             }
            },
            "type": "histogram"
           }
          ],
          "histogram2d": [
           {
            "colorbar": {
             "outlinewidth": 0,
             "ticks": ""
            },
            "colorscale": [
             [
              0,
              "#0d0887"
             ],
             [
              0.1111111111111111,
              "#46039f"
             ],
             [
              0.2222222222222222,
              "#7201a8"
             ],
             [
              0.3333333333333333,
              "#9c179e"
             ],
             [
              0.4444444444444444,
              "#bd3786"
             ],
             [
              0.5555555555555556,
              "#d8576b"
             ],
             [
              0.6666666666666666,
              "#ed7953"
             ],
             [
              0.7777777777777778,
              "#fb9f3a"
             ],
             [
              0.8888888888888888,
              "#fdca26"
             ],
             [
              1,
              "#f0f921"
             ]
            ],
            "type": "histogram2d"
           }
          ],
          "histogram2dcontour": [
           {
            "colorbar": {
             "outlinewidth": 0,
             "ticks": ""
            },
            "colorscale": [
             [
              0,
              "#0d0887"
             ],
             [
              0.1111111111111111,
              "#46039f"
             ],
             [
              0.2222222222222222,
              "#7201a8"
             ],
             [
              0.3333333333333333,
              "#9c179e"
             ],
             [
              0.4444444444444444,
              "#bd3786"
             ],
             [
              0.5555555555555556,
              "#d8576b"
             ],
             [
              0.6666666666666666,
              "#ed7953"
             ],
             [
              0.7777777777777778,
              "#fb9f3a"
             ],
             [
              0.8888888888888888,
              "#fdca26"
             ],
             [
              1,
              "#f0f921"
             ]
            ],
            "type": "histogram2dcontour"
           }
          ],
          "mesh3d": [
           {
            "colorbar": {
             "outlinewidth": 0,
             "ticks": ""
            },
            "type": "mesh3d"
           }
          ],
          "parcoords": [
           {
            "line": {
             "colorbar": {
              "outlinewidth": 0,
              "ticks": ""
             }
            },
            "type": "parcoords"
           }
          ],
          "pie": [
           {
            "automargin": true,
            "type": "pie"
           }
          ],
          "scatter": [
           {
            "fillpattern": {
             "fillmode": "overlay",
             "size": 10,
             "solidity": 0.2
            },
            "type": "scatter"
           }
          ],
          "scatter3d": [
           {
            "line": {
             "colorbar": {
              "outlinewidth": 0,
              "ticks": ""
             }
            },
            "marker": {
             "colorbar": {
              "outlinewidth": 0,
              "ticks": ""
             }
            },
            "type": "scatter3d"
           }
          ],
          "scattercarpet": [
           {
            "marker": {
             "colorbar": {
              "outlinewidth": 0,
              "ticks": ""
             }
            },
            "type": "scattercarpet"
           }
          ],
          "scattergeo": [
           {
            "marker": {
             "colorbar": {
              "outlinewidth": 0,
              "ticks": ""
             }
            },
            "type": "scattergeo"
           }
          ],
          "scattergl": [
           {
            "marker": {
             "colorbar": {
              "outlinewidth": 0,
              "ticks": ""
             }
            },
            "type": "scattergl"
           }
          ],
          "scattermapbox": [
           {
            "marker": {
             "colorbar": {
              "outlinewidth": 0,
              "ticks": ""
             }
            },
            "type": "scattermapbox"
           }
          ],
          "scatterpolar": [
           {
            "marker": {
             "colorbar": {
              "outlinewidth": 0,
              "ticks": ""
             }
            },
            "type": "scatterpolar"
           }
          ],
          "scatterpolargl": [
           {
            "marker": {
             "colorbar": {
              "outlinewidth": 0,
              "ticks": ""
             }
            },
            "type": "scatterpolargl"
           }
          ],
          "scatterternary": [
           {
            "marker": {
             "colorbar": {
              "outlinewidth": 0,
              "ticks": ""
             }
            },
            "type": "scatterternary"
           }
          ],
          "surface": [
           {
            "colorbar": {
             "outlinewidth": 0,
             "ticks": ""
            },
            "colorscale": [
             [
              0,
              "#0d0887"
             ],
             [
              0.1111111111111111,
              "#46039f"
             ],
             [
              0.2222222222222222,
              "#7201a8"
             ],
             [
              0.3333333333333333,
              "#9c179e"
             ],
             [
              0.4444444444444444,
              "#bd3786"
             ],
             [
              0.5555555555555556,
              "#d8576b"
             ],
             [
              0.6666666666666666,
              "#ed7953"
             ],
             [
              0.7777777777777778,
              "#fb9f3a"
             ],
             [
              0.8888888888888888,
              "#fdca26"
             ],
             [
              1,
              "#f0f921"
             ]
            ],
            "type": "surface"
           }
          ],
          "table": [
           {
            "cells": {
             "fill": {
              "color": "#EBF0F8"
             },
             "line": {
              "color": "white"
             }
            },
            "header": {
             "fill": {
              "color": "#C8D4E3"
             },
             "line": {
              "color": "white"
             }
            },
            "type": "table"
           }
          ]
         },
         "layout": {
          "annotationdefaults": {
           "arrowcolor": "#2a3f5f",
           "arrowhead": 0,
           "arrowwidth": 1
          },
          "autotypenumbers": "strict",
          "coloraxis": {
           "colorbar": {
            "outlinewidth": 0,
            "ticks": ""
           }
          },
          "colorscale": {
           "diverging": [
            [
             0,
             "#8e0152"
            ],
            [
             0.1,
             "#c51b7d"
            ],
            [
             0.2,
             "#de77ae"
            ],
            [
             0.3,
             "#f1b6da"
            ],
            [
             0.4,
             "#fde0ef"
            ],
            [
             0.5,
             "#f7f7f7"
            ],
            [
             0.6,
             "#e6f5d0"
            ],
            [
             0.7,
             "#b8e186"
            ],
            [
             0.8,
             "#7fbc41"
            ],
            [
             0.9,
             "#4d9221"
            ],
            [
             1,
             "#276419"
            ]
           ],
           "sequential": [
            [
             0,
             "#0d0887"
            ],
            [
             0.1111111111111111,
             "#46039f"
            ],
            [
             0.2222222222222222,
             "#7201a8"
            ],
            [
             0.3333333333333333,
             "#9c179e"
            ],
            [
             0.4444444444444444,
             "#bd3786"
            ],
            [
             0.5555555555555556,
             "#d8576b"
            ],
            [
             0.6666666666666666,
             "#ed7953"
            ],
            [
             0.7777777777777778,
             "#fb9f3a"
            ],
            [
             0.8888888888888888,
             "#fdca26"
            ],
            [
             1,
             "#f0f921"
            ]
           ],
           "sequentialminus": [
            [
             0,
             "#0d0887"
            ],
            [
             0.1111111111111111,
             "#46039f"
            ],
            [
             0.2222222222222222,
             "#7201a8"
            ],
            [
             0.3333333333333333,
             "#9c179e"
            ],
            [
             0.4444444444444444,
             "#bd3786"
            ],
            [
             0.5555555555555556,
             "#d8576b"
            ],
            [
             0.6666666666666666,
             "#ed7953"
            ],
            [
             0.7777777777777778,
             "#fb9f3a"
            ],
            [
             0.8888888888888888,
             "#fdca26"
            ],
            [
             1,
             "#f0f921"
            ]
           ]
          },
          "colorway": [
           "#636efa",
           "#EF553B",
           "#00cc96",
           "#ab63fa",
           "#FFA15A",
           "#19d3f3",
           "#FF6692",
           "#B6E880",
           "#FF97FF",
           "#FECB52"
          ],
          "font": {
           "color": "#2a3f5f"
          },
          "geo": {
           "bgcolor": "white",
           "lakecolor": "white",
           "landcolor": "#E5ECF6",
           "showlakes": true,
           "showland": true,
           "subunitcolor": "white"
          },
          "hoverlabel": {
           "align": "left"
          },
          "hovermode": "closest",
          "mapbox": {
           "style": "light"
          },
          "paper_bgcolor": "white",
          "plot_bgcolor": "#E5ECF6",
          "polar": {
           "angularaxis": {
            "gridcolor": "white",
            "linecolor": "white",
            "ticks": ""
           },
           "bgcolor": "#E5ECF6",
           "radialaxis": {
            "gridcolor": "white",
            "linecolor": "white",
            "ticks": ""
           }
          },
          "scene": {
           "xaxis": {
            "backgroundcolor": "#E5ECF6",
            "gridcolor": "white",
            "gridwidth": 2,
            "linecolor": "white",
            "showbackground": true,
            "ticks": "",
            "zerolinecolor": "white"
           },
           "yaxis": {
            "backgroundcolor": "#E5ECF6",
            "gridcolor": "white",
            "gridwidth": 2,
            "linecolor": "white",
            "showbackground": true,
            "ticks": "",
            "zerolinecolor": "white"
           },
           "zaxis": {
            "backgroundcolor": "#E5ECF6",
            "gridcolor": "white",
            "gridwidth": 2,
            "linecolor": "white",
            "showbackground": true,
            "ticks": "",
            "zerolinecolor": "white"
           }
          },
          "shapedefaults": {
           "line": {
            "color": "#2a3f5f"
           }
          },
          "ternary": {
           "aaxis": {
            "gridcolor": "white",
            "linecolor": "white",
            "ticks": ""
           },
           "baxis": {
            "gridcolor": "white",
            "linecolor": "white",
            "ticks": ""
           },
           "bgcolor": "#E5ECF6",
           "caxis": {
            "gridcolor": "white",
            "linecolor": "white",
            "ticks": ""
           }
          },
          "title": {
           "x": 0.05
          },
          "xaxis": {
           "automargin": true,
           "gridcolor": "white",
           "linecolor": "white",
           "ticks": "",
           "title": {
            "standoff": 15
           },
           "zerolinecolor": "white",
           "zerolinewidth": 2
          },
          "yaxis": {
           "automargin": true,
           "gridcolor": "white",
           "linecolor": "white",
           "ticks": "",
           "title": {
            "standoff": 15
           },
           "zerolinecolor": "white",
           "zerolinewidth": 2
          }
         }
        },
        "title": {
         "text": "Fatality status"
        },
        "uniformtext": {
         "minsize": 12,
         "mode": "hide"
        }
       }
      }
     },
     "metadata": {},
     "output_type": "display_data"
    }
   ],
   "source": [
    "# 4.6. Attacks by time of the day (pie chart)\n",
    "# 4.7. Victims by 'sex' (staked bar chart)\n",
    "# 4.8. Fatality status (pie chart)\n",
    "def plot_category_distribution(df, column_name, chart_title):\n",
    "    # Count occurrences of each category\n",
    "    category_counts = df[column_name].value_counts().reset_index()\n",
    "    # Rename columns for clarity\n",
    "    category_counts.columns = [column_name, 'counts']\n",
    "\n",
    "    # Create the pie chart using Plotly Express\n",
    "    fig = px.pie(category_counts, names=column_name, values='counts',\n",
    "                 title=chart_title,\n",
    "                 color=column_name,  # Optional: colors each segment by category\n",
    "                 labels={column_name: column_name,\n",
    "                         'counts': 'Number of Occurrences'},\n",
    "                 hole=0.4)  # Adjust hole size for a donut-like appearance\n",
    "\n",
    "    # Update the layout to move labels outside the pie chart\n",
    "    fig.update_traces(textposition='outside', textinfo='label+percent')\n",
    "    fig.update_layout(uniformtext_minsize=12,\n",
    "                      uniformtext_mode='hide', legend_title_text=column_name)\n",
    "\n",
    "    # Show the plot\n",
    "    fig.show()\n",
    "\n",
    "\n",
    "# Usage examples:\n",
    "plot_category_distribution(df, 'time_of_day', \"Attacks per Time of Day\")\n",
    "plot_category_distribution(df, 'sex', \"Victims by Gender\")\n",
    "plot_category_distribution(df, 'fatality_status', \"Fatality status\")"
   ]
  },
  {
   "cell_type": "markdown",
   "metadata": {},
   "source": [
    "#### 4.7. Attacks by type:\n"
   ]
  },
  {
   "cell_type": "code",
   "execution_count": 101,
   "metadata": {},
   "outputs": [
    {
     "data": {
      "application/vnd.plotly.v1+json": {
       "config": {
        "plotlyServerURL": "https://plot.ly"
       },
       "data": [
        {
         "alignmentgroup": "True",
         "hovertemplate": "Type of Attack=%{x}<br>Number of Victims=%{text}<extra></extra>",
         "legendgroup": "",
         "marker": {
          "color": "#636efa",
          "pattern": {
           "shape": ""
          }
         },
         "name": "",
         "offsetgroup": "",
         "orientation": "v",
         "showlegend": false,
         "text": [
          7,
          373,
          474,
          94,
          1,
          39,
          3753,
          247
         ],
         "textposition": "auto",
         "type": "bar",
         "x": [
          "Boat",
          "Invalid",
          "Provoked",
          "Sea Disaster",
          "Under investigation",
          "Unidentified",
          "Unprovoked",
          "Watercraft"
         ],
         "xaxis": "x",
         "y": [
          7,
          373,
          474,
          94,
          1,
          39,
          3753,
          247
         ],
         "yaxis": "y"
        }
       ],
       "layout": {
        "barmode": "relative",
        "legend": {
         "tracegroupgap": 0
        },
        "template": {
         "data": {
          "bar": [
           {
            "error_x": {
             "color": "#2a3f5f"
            },
            "error_y": {
             "color": "#2a3f5f"
            },
            "marker": {
             "line": {
              "color": "#E5ECF6",
              "width": 0.5
             },
             "pattern": {
              "fillmode": "overlay",
              "size": 10,
              "solidity": 0.2
             }
            },
            "type": "bar"
           }
          ],
          "barpolar": [
           {
            "marker": {
             "line": {
              "color": "#E5ECF6",
              "width": 0.5
             },
             "pattern": {
              "fillmode": "overlay",
              "size": 10,
              "solidity": 0.2
             }
            },
            "type": "barpolar"
           }
          ],
          "carpet": [
           {
            "aaxis": {
             "endlinecolor": "#2a3f5f",
             "gridcolor": "white",
             "linecolor": "white",
             "minorgridcolor": "white",
             "startlinecolor": "#2a3f5f"
            },
            "baxis": {
             "endlinecolor": "#2a3f5f",
             "gridcolor": "white",
             "linecolor": "white",
             "minorgridcolor": "white",
             "startlinecolor": "#2a3f5f"
            },
            "type": "carpet"
           }
          ],
          "choropleth": [
           {
            "colorbar": {
             "outlinewidth": 0,
             "ticks": ""
            },
            "type": "choropleth"
           }
          ],
          "contour": [
           {
            "colorbar": {
             "outlinewidth": 0,
             "ticks": ""
            },
            "colorscale": [
             [
              0,
              "#0d0887"
             ],
             [
              0.1111111111111111,
              "#46039f"
             ],
             [
              0.2222222222222222,
              "#7201a8"
             ],
             [
              0.3333333333333333,
              "#9c179e"
             ],
             [
              0.4444444444444444,
              "#bd3786"
             ],
             [
              0.5555555555555556,
              "#d8576b"
             ],
             [
              0.6666666666666666,
              "#ed7953"
             ],
             [
              0.7777777777777778,
              "#fb9f3a"
             ],
             [
              0.8888888888888888,
              "#fdca26"
             ],
             [
              1,
              "#f0f921"
             ]
            ],
            "type": "contour"
           }
          ],
          "contourcarpet": [
           {
            "colorbar": {
             "outlinewidth": 0,
             "ticks": ""
            },
            "type": "contourcarpet"
           }
          ],
          "heatmap": [
           {
            "colorbar": {
             "outlinewidth": 0,
             "ticks": ""
            },
            "colorscale": [
             [
              0,
              "#0d0887"
             ],
             [
              0.1111111111111111,
              "#46039f"
             ],
             [
              0.2222222222222222,
              "#7201a8"
             ],
             [
              0.3333333333333333,
              "#9c179e"
             ],
             [
              0.4444444444444444,
              "#bd3786"
             ],
             [
              0.5555555555555556,
              "#d8576b"
             ],
             [
              0.6666666666666666,
              "#ed7953"
             ],
             [
              0.7777777777777778,
              "#fb9f3a"
             ],
             [
              0.8888888888888888,
              "#fdca26"
             ],
             [
              1,
              "#f0f921"
             ]
            ],
            "type": "heatmap"
           }
          ],
          "heatmapgl": [
           {
            "colorbar": {
             "outlinewidth": 0,
             "ticks": ""
            },
            "colorscale": [
             [
              0,
              "#0d0887"
             ],
             [
              0.1111111111111111,
              "#46039f"
             ],
             [
              0.2222222222222222,
              "#7201a8"
             ],
             [
              0.3333333333333333,
              "#9c179e"
             ],
             [
              0.4444444444444444,
              "#bd3786"
             ],
             [
              0.5555555555555556,
              "#d8576b"
             ],
             [
              0.6666666666666666,
              "#ed7953"
             ],
             [
              0.7777777777777778,
              "#fb9f3a"
             ],
             [
              0.8888888888888888,
              "#fdca26"
             ],
             [
              1,
              "#f0f921"
             ]
            ],
            "type": "heatmapgl"
           }
          ],
          "histogram": [
           {
            "marker": {
             "pattern": {
              "fillmode": "overlay",
              "size": 10,
              "solidity": 0.2
             }
            },
            "type": "histogram"
           }
          ],
          "histogram2d": [
           {
            "colorbar": {
             "outlinewidth": 0,
             "ticks": ""
            },
            "colorscale": [
             [
              0,
              "#0d0887"
             ],
             [
              0.1111111111111111,
              "#46039f"
             ],
             [
              0.2222222222222222,
              "#7201a8"
             ],
             [
              0.3333333333333333,
              "#9c179e"
             ],
             [
              0.4444444444444444,
              "#bd3786"
             ],
             [
              0.5555555555555556,
              "#d8576b"
             ],
             [
              0.6666666666666666,
              "#ed7953"
             ],
             [
              0.7777777777777778,
              "#fb9f3a"
             ],
             [
              0.8888888888888888,
              "#fdca26"
             ],
             [
              1,
              "#f0f921"
             ]
            ],
            "type": "histogram2d"
           }
          ],
          "histogram2dcontour": [
           {
            "colorbar": {
             "outlinewidth": 0,
             "ticks": ""
            },
            "colorscale": [
             [
              0,
              "#0d0887"
             ],
             [
              0.1111111111111111,
              "#46039f"
             ],
             [
              0.2222222222222222,
              "#7201a8"
             ],
             [
              0.3333333333333333,
              "#9c179e"
             ],
             [
              0.4444444444444444,
              "#bd3786"
             ],
             [
              0.5555555555555556,
              "#d8576b"
             ],
             [
              0.6666666666666666,
              "#ed7953"
             ],
             [
              0.7777777777777778,
              "#fb9f3a"
             ],
             [
              0.8888888888888888,
              "#fdca26"
             ],
             [
              1,
              "#f0f921"
             ]
            ],
            "type": "histogram2dcontour"
           }
          ],
          "mesh3d": [
           {
            "colorbar": {
             "outlinewidth": 0,
             "ticks": ""
            },
            "type": "mesh3d"
           }
          ],
          "parcoords": [
           {
            "line": {
             "colorbar": {
              "outlinewidth": 0,
              "ticks": ""
             }
            },
            "type": "parcoords"
           }
          ],
          "pie": [
           {
            "automargin": true,
            "type": "pie"
           }
          ],
          "scatter": [
           {
            "fillpattern": {
             "fillmode": "overlay",
             "size": 10,
             "solidity": 0.2
            },
            "type": "scatter"
           }
          ],
          "scatter3d": [
           {
            "line": {
             "colorbar": {
              "outlinewidth": 0,
              "ticks": ""
             }
            },
            "marker": {
             "colorbar": {
              "outlinewidth": 0,
              "ticks": ""
             }
            },
            "type": "scatter3d"
           }
          ],
          "scattercarpet": [
           {
            "marker": {
             "colorbar": {
              "outlinewidth": 0,
              "ticks": ""
             }
            },
            "type": "scattercarpet"
           }
          ],
          "scattergeo": [
           {
            "marker": {
             "colorbar": {
              "outlinewidth": 0,
              "ticks": ""
             }
            },
            "type": "scattergeo"
           }
          ],
          "scattergl": [
           {
            "marker": {
             "colorbar": {
              "outlinewidth": 0,
              "ticks": ""
             }
            },
            "type": "scattergl"
           }
          ],
          "scattermapbox": [
           {
            "marker": {
             "colorbar": {
              "outlinewidth": 0,
              "ticks": ""
             }
            },
            "type": "scattermapbox"
           }
          ],
          "scatterpolar": [
           {
            "marker": {
             "colorbar": {
              "outlinewidth": 0,
              "ticks": ""
             }
            },
            "type": "scatterpolar"
           }
          ],
          "scatterpolargl": [
           {
            "marker": {
             "colorbar": {
              "outlinewidth": 0,
              "ticks": ""
             }
            },
            "type": "scatterpolargl"
           }
          ],
          "scatterternary": [
           {
            "marker": {
             "colorbar": {
              "outlinewidth": 0,
              "ticks": ""
             }
            },
            "type": "scatterternary"
           }
          ],
          "surface": [
           {
            "colorbar": {
             "outlinewidth": 0,
             "ticks": ""
            },
            "colorscale": [
             [
              0,
              "#0d0887"
             ],
             [
              0.1111111111111111,
              "#46039f"
             ],
             [
              0.2222222222222222,
              "#7201a8"
             ],
             [
              0.3333333333333333,
              "#9c179e"
             ],
             [
              0.4444444444444444,
              "#bd3786"
             ],
             [
              0.5555555555555556,
              "#d8576b"
             ],
             [
              0.6666666666666666,
              "#ed7953"
             ],
             [
              0.7777777777777778,
              "#fb9f3a"
             ],
             [
              0.8888888888888888,
              "#fdca26"
             ],
             [
              1,
              "#f0f921"
             ]
            ],
            "type": "surface"
           }
          ],
          "table": [
           {
            "cells": {
             "fill": {
              "color": "#EBF0F8"
             },
             "line": {
              "color": "white"
             }
            },
            "header": {
             "fill": {
              "color": "#C8D4E3"
             },
             "line": {
              "color": "white"
             }
            },
            "type": "table"
           }
          ]
         },
         "layout": {
          "annotationdefaults": {
           "arrowcolor": "#2a3f5f",
           "arrowhead": 0,
           "arrowwidth": 1
          },
          "autotypenumbers": "strict",
          "coloraxis": {
           "colorbar": {
            "outlinewidth": 0,
            "ticks": ""
           }
          },
          "colorscale": {
           "diverging": [
            [
             0,
             "#8e0152"
            ],
            [
             0.1,
             "#c51b7d"
            ],
            [
             0.2,
             "#de77ae"
            ],
            [
             0.3,
             "#f1b6da"
            ],
            [
             0.4,
             "#fde0ef"
            ],
            [
             0.5,
             "#f7f7f7"
            ],
            [
             0.6,
             "#e6f5d0"
            ],
            [
             0.7,
             "#b8e186"
            ],
            [
             0.8,
             "#7fbc41"
            ],
            [
             0.9,
             "#4d9221"
            ],
            [
             1,
             "#276419"
            ]
           ],
           "sequential": [
            [
             0,
             "#0d0887"
            ],
            [
             0.1111111111111111,
             "#46039f"
            ],
            [
             0.2222222222222222,
             "#7201a8"
            ],
            [
             0.3333333333333333,
             "#9c179e"
            ],
            [
             0.4444444444444444,
             "#bd3786"
            ],
            [
             0.5555555555555556,
             "#d8576b"
            ],
            [
             0.6666666666666666,
             "#ed7953"
            ],
            [
             0.7777777777777778,
             "#fb9f3a"
            ],
            [
             0.8888888888888888,
             "#fdca26"
            ],
            [
             1,
             "#f0f921"
            ]
           ],
           "sequentialminus": [
            [
             0,
             "#0d0887"
            ],
            [
             0.1111111111111111,
             "#46039f"
            ],
            [
             0.2222222222222222,
             "#7201a8"
            ],
            [
             0.3333333333333333,
             "#9c179e"
            ],
            [
             0.4444444444444444,
             "#bd3786"
            ],
            [
             0.5555555555555556,
             "#d8576b"
            ],
            [
             0.6666666666666666,
             "#ed7953"
            ],
            [
             0.7777777777777778,
             "#fb9f3a"
            ],
            [
             0.8888888888888888,
             "#fdca26"
            ],
            [
             1,
             "#f0f921"
            ]
           ]
          },
          "colorway": [
           "#636efa",
           "#EF553B",
           "#00cc96",
           "#ab63fa",
           "#FFA15A",
           "#19d3f3",
           "#FF6692",
           "#B6E880",
           "#FF97FF",
           "#FECB52"
          ],
          "font": {
           "color": "#2a3f5f"
          },
          "geo": {
           "bgcolor": "white",
           "lakecolor": "white",
           "landcolor": "#E5ECF6",
           "showlakes": true,
           "showland": true,
           "subunitcolor": "white"
          },
          "hoverlabel": {
           "align": "left"
          },
          "hovermode": "closest",
          "mapbox": {
           "style": "light"
          },
          "paper_bgcolor": "white",
          "plot_bgcolor": "#E5ECF6",
          "polar": {
           "angularaxis": {
            "gridcolor": "white",
            "linecolor": "white",
            "ticks": ""
           },
           "bgcolor": "#E5ECF6",
           "radialaxis": {
            "gridcolor": "white",
            "linecolor": "white",
            "ticks": ""
           }
          },
          "scene": {
           "xaxis": {
            "backgroundcolor": "#E5ECF6",
            "gridcolor": "white",
            "gridwidth": 2,
            "linecolor": "white",
            "showbackground": true,
            "ticks": "",
            "zerolinecolor": "white"
           },
           "yaxis": {
            "backgroundcolor": "#E5ECF6",
            "gridcolor": "white",
            "gridwidth": 2,
            "linecolor": "white",
            "showbackground": true,
            "ticks": "",
            "zerolinecolor": "white"
           },
           "zaxis": {
            "backgroundcolor": "#E5ECF6",
            "gridcolor": "white",
            "gridwidth": 2,
            "linecolor": "white",
            "showbackground": true,
            "ticks": "",
            "zerolinecolor": "white"
           }
          },
          "shapedefaults": {
           "line": {
            "color": "#2a3f5f"
           }
          },
          "ternary": {
           "aaxis": {
            "gridcolor": "white",
            "linecolor": "white",
            "ticks": ""
           },
           "baxis": {
            "gridcolor": "white",
            "linecolor": "white",
            "ticks": ""
           },
           "bgcolor": "#E5ECF6",
           "caxis": {
            "gridcolor": "white",
            "linecolor": "white",
            "ticks": ""
           }
          },
          "title": {
           "x": 0.05
          },
          "xaxis": {
           "automargin": true,
           "gridcolor": "white",
           "linecolor": "white",
           "ticks": "",
           "title": {
            "standoff": 15
           },
           "zerolinecolor": "white",
           "zerolinewidth": 2
          },
          "yaxis": {
           "automargin": true,
           "gridcolor": "white",
           "linecolor": "white",
           "ticks": "",
           "title": {
            "standoff": 15
           },
           "zerolinecolor": "white",
           "zerolinewidth": 2
          }
         }
        },
        "title": {
         "text": "Victims by Type of Shark Attack"
        },
        "xaxis": {
         "anchor": "y",
         "domain": [
          0,
          1
         ],
         "title": {
          "text": "Type of Attack"
         }
        },
        "yaxis": {
         "anchor": "x",
         "domain": [
          0,
          1
         ],
         "title": {
          "text": "Number of Victims"
         }
        }
       }
      }
     },
     "metadata": {},
     "output_type": "display_data"
    }
   ],
   "source": [
    "def plot_victims_by_type(df, column):\n",
    "    # Remove rows where the specified column has missing values\n",
    "    df = df[df[column].notna()]\n",
    "\n",
    "    # Group by the specified column and count the number of victims in each category\n",
    "    type_counts = df.groupby(column).size().reset_index(name='counts')\n",
    "\n",
    "    # Create a bar chart using Plotly Express\n",
    "    fig = px.bar(type_counts, x=column, y='counts',\n",
    "                 title=\"Victims by Type of Shark Attack\",\n",
    "                 labels={column: 'Type of Attack',\n",
    "                         'counts': 'Number of Victims'},\n",
    "                 text='counts')  # Display counts on the bars\n",
    "\n",
    "    # Show the plot\n",
    "    fig.show()\n",
    "\n",
    "\n",
    "plot_victims_by_type(df, 'type')"
   ]
  },
  {
   "cell_type": "markdown",
   "metadata": {},
   "source": [
    "#### 4.8. Injury type"
   ]
  },
  {
   "cell_type": "code",
   "execution_count": 106,
   "metadata": {},
   "outputs": [
    {
     "data": {
      "application/vnd.plotly.v1+json": {
       "config": {
        "plotlyServerURL": "https://plot.ly"
       },
       "data": [
        {
         "alignmentgroup": "True",
         "hovertemplate": "Injury Type of Attack=%{x}<br>Number of Victims=%{text}<extra></extra>",
         "legendgroup": "",
         "marker": {
          "color": "#636efa",
          "pattern": {
           "shape": ""
          }
         },
         "name": "",
         "offsetgroup": "",
         "orientation": "v",
         "showlegend": false,
         "text": [
          1911,
          708,
          685,
          457,
          350,
          253,
          104,
          72,
          72,
          62,
          56,
          46,
          34,
          32,
          30,
          26,
          26,
          24,
          20,
          12,
          4,
          3,
          1
         ],
         "textposition": "auto",
         "type": "bar",
         "x": [
          "Unknown",
          "leg",
          "foot",
          "arm",
          "hand",
          "thigh",
          "ankle",
          "knee",
          "shoulder",
          "ear",
          "finger",
          "head",
          "face",
          "toe",
          "back",
          "chest",
          "abdomen",
          "wrist",
          "elbow",
          "hip",
          "neck",
          "eye",
          "pelvis"
         ],
         "xaxis": "x",
         "y": [
          1911,
          708,
          685,
          457,
          350,
          253,
          104,
          72,
          72,
          62,
          56,
          46,
          34,
          32,
          30,
          26,
          26,
          24,
          20,
          12,
          4,
          3,
          1
         ],
         "yaxis": "y"
        }
       ],
       "layout": {
        "barmode": "relative",
        "legend": {
         "tracegroupgap": 0
        },
        "template": {
         "data": {
          "bar": [
           {
            "error_x": {
             "color": "#2a3f5f"
            },
            "error_y": {
             "color": "#2a3f5f"
            },
            "marker": {
             "line": {
              "color": "#E5ECF6",
              "width": 0.5
             },
             "pattern": {
              "fillmode": "overlay",
              "size": 10,
              "solidity": 0.2
             }
            },
            "type": "bar"
           }
          ],
          "barpolar": [
           {
            "marker": {
             "line": {
              "color": "#E5ECF6",
              "width": 0.5
             },
             "pattern": {
              "fillmode": "overlay",
              "size": 10,
              "solidity": 0.2
             }
            },
            "type": "barpolar"
           }
          ],
          "carpet": [
           {
            "aaxis": {
             "endlinecolor": "#2a3f5f",
             "gridcolor": "white",
             "linecolor": "white",
             "minorgridcolor": "white",
             "startlinecolor": "#2a3f5f"
            },
            "baxis": {
             "endlinecolor": "#2a3f5f",
             "gridcolor": "white",
             "linecolor": "white",
             "minorgridcolor": "white",
             "startlinecolor": "#2a3f5f"
            },
            "type": "carpet"
           }
          ],
          "choropleth": [
           {
            "colorbar": {
             "outlinewidth": 0,
             "ticks": ""
            },
            "type": "choropleth"
           }
          ],
          "contour": [
           {
            "colorbar": {
             "outlinewidth": 0,
             "ticks": ""
            },
            "colorscale": [
             [
              0,
              "#0d0887"
             ],
             [
              0.1111111111111111,
              "#46039f"
             ],
             [
              0.2222222222222222,
              "#7201a8"
             ],
             [
              0.3333333333333333,
              "#9c179e"
             ],
             [
              0.4444444444444444,
              "#bd3786"
             ],
             [
              0.5555555555555556,
              "#d8576b"
             ],
             [
              0.6666666666666666,
              "#ed7953"
             ],
             [
              0.7777777777777778,
              "#fb9f3a"
             ],
             [
              0.8888888888888888,
              "#fdca26"
             ],
             [
              1,
              "#f0f921"
             ]
            ],
            "type": "contour"
           }
          ],
          "contourcarpet": [
           {
            "colorbar": {
             "outlinewidth": 0,
             "ticks": ""
            },
            "type": "contourcarpet"
           }
          ],
          "heatmap": [
           {
            "colorbar": {
             "outlinewidth": 0,
             "ticks": ""
            },
            "colorscale": [
             [
              0,
              "#0d0887"
             ],
             [
              0.1111111111111111,
              "#46039f"
             ],
             [
              0.2222222222222222,
              "#7201a8"
             ],
             [
              0.3333333333333333,
              "#9c179e"
             ],
             [
              0.4444444444444444,
              "#bd3786"
             ],
             [
              0.5555555555555556,
              "#d8576b"
             ],
             [
              0.6666666666666666,
              "#ed7953"
             ],
             [
              0.7777777777777778,
              "#fb9f3a"
             ],
             [
              0.8888888888888888,
              "#fdca26"
             ],
             [
              1,
              "#f0f921"
             ]
            ],
            "type": "heatmap"
           }
          ],
          "heatmapgl": [
           {
            "colorbar": {
             "outlinewidth": 0,
             "ticks": ""
            },
            "colorscale": [
             [
              0,
              "#0d0887"
             ],
             [
              0.1111111111111111,
              "#46039f"
             ],
             [
              0.2222222222222222,
              "#7201a8"
             ],
             [
              0.3333333333333333,
              "#9c179e"
             ],
             [
              0.4444444444444444,
              "#bd3786"
             ],
             [
              0.5555555555555556,
              "#d8576b"
             ],
             [
              0.6666666666666666,
              "#ed7953"
             ],
             [
              0.7777777777777778,
              "#fb9f3a"
             ],
             [
              0.8888888888888888,
              "#fdca26"
             ],
             [
              1,
              "#f0f921"
             ]
            ],
            "type": "heatmapgl"
           }
          ],
          "histogram": [
           {
            "marker": {
             "pattern": {
              "fillmode": "overlay",
              "size": 10,
              "solidity": 0.2
             }
            },
            "type": "histogram"
           }
          ],
          "histogram2d": [
           {
            "colorbar": {
             "outlinewidth": 0,
             "ticks": ""
            },
            "colorscale": [
             [
              0,
              "#0d0887"
             ],
             [
              0.1111111111111111,
              "#46039f"
             ],
             [
              0.2222222222222222,
              "#7201a8"
             ],
             [
              0.3333333333333333,
              "#9c179e"
             ],
             [
              0.4444444444444444,
              "#bd3786"
             ],
             [
              0.5555555555555556,
              "#d8576b"
             ],
             [
              0.6666666666666666,
              "#ed7953"
             ],
             [
              0.7777777777777778,
              "#fb9f3a"
             ],
             [
              0.8888888888888888,
              "#fdca26"
             ],
             [
              1,
              "#f0f921"
             ]
            ],
            "type": "histogram2d"
           }
          ],
          "histogram2dcontour": [
           {
            "colorbar": {
             "outlinewidth": 0,
             "ticks": ""
            },
            "colorscale": [
             [
              0,
              "#0d0887"
             ],
             [
              0.1111111111111111,
              "#46039f"
             ],
             [
              0.2222222222222222,
              "#7201a8"
             ],
             [
              0.3333333333333333,
              "#9c179e"
             ],
             [
              0.4444444444444444,
              "#bd3786"
             ],
             [
              0.5555555555555556,
              "#d8576b"
             ],
             [
              0.6666666666666666,
              "#ed7953"
             ],
             [
              0.7777777777777778,
              "#fb9f3a"
             ],
             [
              0.8888888888888888,
              "#fdca26"
             ],
             [
              1,
              "#f0f921"
             ]
            ],
            "type": "histogram2dcontour"
           }
          ],
          "mesh3d": [
           {
            "colorbar": {
             "outlinewidth": 0,
             "ticks": ""
            },
            "type": "mesh3d"
           }
          ],
          "parcoords": [
           {
            "line": {
             "colorbar": {
              "outlinewidth": 0,
              "ticks": ""
             }
            },
            "type": "parcoords"
           }
          ],
          "pie": [
           {
            "automargin": true,
            "type": "pie"
           }
          ],
          "scatter": [
           {
            "fillpattern": {
             "fillmode": "overlay",
             "size": 10,
             "solidity": 0.2
            },
            "type": "scatter"
           }
          ],
          "scatter3d": [
           {
            "line": {
             "colorbar": {
              "outlinewidth": 0,
              "ticks": ""
             }
            },
            "marker": {
             "colorbar": {
              "outlinewidth": 0,
              "ticks": ""
             }
            },
            "type": "scatter3d"
           }
          ],
          "scattercarpet": [
           {
            "marker": {
             "colorbar": {
              "outlinewidth": 0,
              "ticks": ""
             }
            },
            "type": "scattercarpet"
           }
          ],
          "scattergeo": [
           {
            "marker": {
             "colorbar": {
              "outlinewidth": 0,
              "ticks": ""
             }
            },
            "type": "scattergeo"
           }
          ],
          "scattergl": [
           {
            "marker": {
             "colorbar": {
              "outlinewidth": 0,
              "ticks": ""
             }
            },
            "type": "scattergl"
           }
          ],
          "scattermapbox": [
           {
            "marker": {
             "colorbar": {
              "outlinewidth": 0,
              "ticks": ""
             }
            },
            "type": "scattermapbox"
           }
          ],
          "scatterpolar": [
           {
            "marker": {
             "colorbar": {
              "outlinewidth": 0,
              "ticks": ""
             }
            },
            "type": "scatterpolar"
           }
          ],
          "scatterpolargl": [
           {
            "marker": {
             "colorbar": {
              "outlinewidth": 0,
              "ticks": ""
             }
            },
            "type": "scatterpolargl"
           }
          ],
          "scatterternary": [
           {
            "marker": {
             "colorbar": {
              "outlinewidth": 0,
              "ticks": ""
             }
            },
            "type": "scatterternary"
           }
          ],
          "surface": [
           {
            "colorbar": {
             "outlinewidth": 0,
             "ticks": ""
            },
            "colorscale": [
             [
              0,
              "#0d0887"
             ],
             [
              0.1111111111111111,
              "#46039f"
             ],
             [
              0.2222222222222222,
              "#7201a8"
             ],
             [
              0.3333333333333333,
              "#9c179e"
             ],
             [
              0.4444444444444444,
              "#bd3786"
             ],
             [
              0.5555555555555556,
              "#d8576b"
             ],
             [
              0.6666666666666666,
              "#ed7953"
             ],
             [
              0.7777777777777778,
              "#fb9f3a"
             ],
             [
              0.8888888888888888,
              "#fdca26"
             ],
             [
              1,
              "#f0f921"
             ]
            ],
            "type": "surface"
           }
          ],
          "table": [
           {
            "cells": {
             "fill": {
              "color": "#EBF0F8"
             },
             "line": {
              "color": "white"
             }
            },
            "header": {
             "fill": {
              "color": "#C8D4E3"
             },
             "line": {
              "color": "white"
             }
            },
            "type": "table"
           }
          ]
         },
         "layout": {
          "annotationdefaults": {
           "arrowcolor": "#2a3f5f",
           "arrowhead": 0,
           "arrowwidth": 1
          },
          "autotypenumbers": "strict",
          "coloraxis": {
           "colorbar": {
            "outlinewidth": 0,
            "ticks": ""
           }
          },
          "colorscale": {
           "diverging": [
            [
             0,
             "#8e0152"
            ],
            [
             0.1,
             "#c51b7d"
            ],
            [
             0.2,
             "#de77ae"
            ],
            [
             0.3,
             "#f1b6da"
            ],
            [
             0.4,
             "#fde0ef"
            ],
            [
             0.5,
             "#f7f7f7"
            ],
            [
             0.6,
             "#e6f5d0"
            ],
            [
             0.7,
             "#b8e186"
            ],
            [
             0.8,
             "#7fbc41"
            ],
            [
             0.9,
             "#4d9221"
            ],
            [
             1,
             "#276419"
            ]
           ],
           "sequential": [
            [
             0,
             "#0d0887"
            ],
            [
             0.1111111111111111,
             "#46039f"
            ],
            [
             0.2222222222222222,
             "#7201a8"
            ],
            [
             0.3333333333333333,
             "#9c179e"
            ],
            [
             0.4444444444444444,
             "#bd3786"
            ],
            [
             0.5555555555555556,
             "#d8576b"
            ],
            [
             0.6666666666666666,
             "#ed7953"
            ],
            [
             0.7777777777777778,
             "#fb9f3a"
            ],
            [
             0.8888888888888888,
             "#fdca26"
            ],
            [
             1,
             "#f0f921"
            ]
           ],
           "sequentialminus": [
            [
             0,
             "#0d0887"
            ],
            [
             0.1111111111111111,
             "#46039f"
            ],
            [
             0.2222222222222222,
             "#7201a8"
            ],
            [
             0.3333333333333333,
             "#9c179e"
            ],
            [
             0.4444444444444444,
             "#bd3786"
            ],
            [
             0.5555555555555556,
             "#d8576b"
            ],
            [
             0.6666666666666666,
             "#ed7953"
            ],
            [
             0.7777777777777778,
             "#fb9f3a"
            ],
            [
             0.8888888888888888,
             "#fdca26"
            ],
            [
             1,
             "#f0f921"
            ]
           ]
          },
          "colorway": [
           "#636efa",
           "#EF553B",
           "#00cc96",
           "#ab63fa",
           "#FFA15A",
           "#19d3f3",
           "#FF6692",
           "#B6E880",
           "#FF97FF",
           "#FECB52"
          ],
          "font": {
           "color": "#2a3f5f"
          },
          "geo": {
           "bgcolor": "white",
           "lakecolor": "white",
           "landcolor": "#E5ECF6",
           "showlakes": true,
           "showland": true,
           "subunitcolor": "white"
          },
          "hoverlabel": {
           "align": "left"
          },
          "hovermode": "closest",
          "mapbox": {
           "style": "light"
          },
          "paper_bgcolor": "white",
          "plot_bgcolor": "#E5ECF6",
          "polar": {
           "angularaxis": {
            "gridcolor": "white",
            "linecolor": "white",
            "ticks": ""
           },
           "bgcolor": "#E5ECF6",
           "radialaxis": {
            "gridcolor": "white",
            "linecolor": "white",
            "ticks": ""
           }
          },
          "scene": {
           "xaxis": {
            "backgroundcolor": "#E5ECF6",
            "gridcolor": "white",
            "gridwidth": 2,
            "linecolor": "white",
            "showbackground": true,
            "ticks": "",
            "zerolinecolor": "white"
           },
           "yaxis": {
            "backgroundcolor": "#E5ECF6",
            "gridcolor": "white",
            "gridwidth": 2,
            "linecolor": "white",
            "showbackground": true,
            "ticks": "",
            "zerolinecolor": "white"
           },
           "zaxis": {
            "backgroundcolor": "#E5ECF6",
            "gridcolor": "white",
            "gridwidth": 2,
            "linecolor": "white",
            "showbackground": true,
            "ticks": "",
            "zerolinecolor": "white"
           }
          },
          "shapedefaults": {
           "line": {
            "color": "#2a3f5f"
           }
          },
          "ternary": {
           "aaxis": {
            "gridcolor": "white",
            "linecolor": "white",
            "ticks": ""
           },
           "baxis": {
            "gridcolor": "white",
            "linecolor": "white",
            "ticks": ""
           },
           "bgcolor": "#E5ECF6",
           "caxis": {
            "gridcolor": "white",
            "linecolor": "white",
            "ticks": ""
           }
          },
          "title": {
           "x": 0.05
          },
          "xaxis": {
           "automargin": true,
           "gridcolor": "white",
           "linecolor": "white",
           "ticks": "",
           "title": {
            "standoff": 15
           },
           "zerolinecolor": "white",
           "zerolinewidth": 2
          },
          "yaxis": {
           "automargin": true,
           "gridcolor": "white",
           "linecolor": "white",
           "ticks": "",
           "title": {
            "standoff": 15
           },
           "zerolinecolor": "white",
           "zerolinewidth": 2
          }
         }
        },
        "title": {
         "text": "Victims by Injury Type of Shark Attack"
        },
        "xaxis": {
         "anchor": "y",
         "domain": [
          0,
          1
         ],
         "title": {
          "text": "Injury Type of Attack"
         }
        },
        "yaxis": {
         "anchor": "x",
         "domain": [
          0,
          1
         ],
         "title": {
          "text": "Number of Victims"
         }
        }
       }
      }
     },
     "metadata": {},
     "output_type": "display_data"
    }
   ],
   "source": [
    "def plot_victims_by_type(df, column):\n",
    "    # Remove rows where the specified column has missing values\n",
    "    df = df[df[column].notna()]\n",
    "\n",
    "    # Group by the specified column and count the number of victims in each category\n",
    "    type_counts = df.groupby(column).size().reset_index(name='counts')\n",
    "\n",
    "    # Sort the dataframe by 'counts' in descending order to display bars sorted\n",
    "    type_counts = type_counts.sort_values(by='counts', ascending=False)\n",
    "\n",
    "    # Create a bar chart using Plotly Express\n",
    "    fig = px.bar(type_counts, x=column, y='counts',\n",
    "                 title=\"Victims by Injury Type of Shark Attack\",\n",
    "                 labels={column: 'Injury Type of Attack',\n",
    "                         'counts': 'Number of Victims'},\n",
    "                 text='counts')  # Display counts on the bars\n",
    "    fig.show()\n",
    "\n",
    "plot_victims_by_type(df, 'injury_type')"
   ]
  }
 ],
 "metadata": {
  "kernelspec": {
   "display_name": "base",
   "language": "python",
   "name": "python3"
  },
  "language_info": {
   "codemirror_mode": {
    "name": "ipython",
    "version": 3
   },
   "file_extension": ".py",
   "mimetype": "text/x-python",
   "name": "python",
   "nbconvert_exporter": "python",
   "pygments_lexer": "ipython3",
   "version": "3.12.3"
  }
 },
 "nbformat": 4,
 "nbformat_minor": 2
}
